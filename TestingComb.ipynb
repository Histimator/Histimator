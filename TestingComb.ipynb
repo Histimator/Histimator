{
 "cells": [
  {
   "cell_type": "code",
   "execution_count": 1,
   "metadata": {},
   "outputs": [],
   "source": [
    "from histimator.models import HistiModel, HistiChannel, HistiSample\n",
    "from histimator.estimator import BinnedLH"
   ]
  },
  {
   "cell_type": "code",
   "execution_count": 2,
   "metadata": {},
   "outputs": [],
   "source": [
    "from iminuit import Minuit, describe\n",
    "import numpy as np"
   ]
  },
  {
   "cell_type": "code",
   "execution_count": 3,
   "metadata": {},
   "outputs": [],
   "source": [
    "hist_sig = np.asarray([1,2,3,4])\n",
    "hist_bkg = np.asarray([5,5,5,5])"
   ]
  },
  {
   "cell_type": "code",
   "execution_count": 4,
   "metadata": {},
   "outputs": [],
   "source": [
    "m = HistiModel('model')\n",
    "signal = HistiSample('signal')\n",
    "binedges = [0,1,2,3,4]\n",
    "signal.SetHisto((hist_sig,binedges))\n",
    "signal.AddNorm(\"SigXSecOverSM\",1.0,0,3)"
   ]
  },
  {
   "cell_type": "code",
   "execution_count": 5,
   "metadata": {},
   "outputs": [],
   "source": [
    "background = HistiSample('background')\n",
    "background.SetHisto((hist_bkg, binedges))\n",
    "background.AddNorm(\"BackgroundNorm\",1.,0,100)"
   ]
  },
  {
   "cell_type": "code",
   "execution_count": 6,
   "metadata": {},
   "outputs": [
    {
     "name": "stdout",
     "output_type": "stream",
     "text": [
      "['x', 'BackgroundNorm']\n"
     ]
    }
   ],
   "source": [
    "print describe(background.pdf)"
   ]
  },
  {
   "cell_type": "code",
   "execution_count": 7,
   "metadata": {},
   "outputs": [
    {
     "name": "stdout",
     "output_type": "stream",
     "text": [
      "[5 5 5 5]\n",
      "[5.0, 5.0, 5.0, 5.0, 0.0]\n"
     ]
    }
   ],
   "source": [
    "print background.bincontent\n",
    "assess = []\n",
    "for i in range(len(background.binedges)):\n",
    "    assess.append(background.pdf(i,1))\n",
    "print assess"
   ]
  },
  {
   "cell_type": "code",
   "execution_count": 8,
   "metadata": {},
   "outputs": [],
   "source": [
    "chan = HistiChannel(\"SR\")\n",
    "chan.AddSample(signal)\n",
    "chan.AddSample(background)"
   ]
  },
  {
   "cell_type": "code",
   "execution_count": 9,
   "metadata": {},
   "outputs": [],
   "source": [
    "data = hist_sig*2 +hist_bkg\n",
    "\n",
    "chan.SetData(data)\n",
    "m.AddChannel(chan)"
   ]
  },
  {
   "cell_type": "code",
   "execution_count": 10,
   "metadata": {},
   "outputs": [],
   "source": [
    "blh = BinnedLH(m, bound=(0,4))"
   ]
  },
  {
   "cell_type": "code",
   "execution_count": 11,
   "metadata": {
    "scrolled": true
   },
   "outputs": [
    {
     "name": "stdout",
     "output_type": "stream",
     "text": [
      "params are  {'BackgroundNorm': 1.0, 'limit_SigXSecOverSM': (0, 3), 'SigXSecOverSM': 1.0, 'limit_BackgroundNorm': (0, 100), 'errordef': 1}\n",
      "['x', 'SigXSecOverSM', 'BackgroundNorm']\n"
     ]
    }
   ],
   "source": [
    "params = m.Parameters()\n",
    "print \"params are \",params\n",
    "print describe(m.pdf)"
   ]
  },
  {
   "cell_type": "code",
   "execution_count": 12,
   "metadata": {},
   "outputs": [
    {
     "name": "stderr",
     "output_type": "stream",
     "text": [
      "/Users/vince/tensorflow/lib/python2.7/site-packages/ipykernel_launcher.py:1: InitialParamWarning: Parameter SigXSecOverSM is floating but does not have initial step size. Assume 1.\n",
      "  \"\"\"Entry point for launching an IPython kernel.\n",
      "/Users/vince/tensorflow/lib/python2.7/site-packages/ipykernel_launcher.py:1: InitialParamWarning: Parameter BackgroundNorm is floating but does not have initial step size. Assume 1.\n",
      "  \"\"\"Entry point for launching an IPython kernel.\n"
     ]
    }
   ],
   "source": [
    "minimiser = Minuit(blh, **params)"
   ]
  },
  {
   "cell_type": "code",
   "execution_count": 13,
   "metadata": {
    "scrolled": true
   },
   "outputs": [
    {
     "data": {
      "text/html": [
       "<hr>"
      ]
     },
     "metadata": {},
     "output_type": "display_data"
    },
    {
     "data": {
      "text/html": [
       "\n",
       "        <table>\n",
       "            <tr>\n",
       "                <td title=\"Minimum value of function\">FCN = 7.26387865589</td>\n",
       "                <td title=\"Total number of call to FCN so far\">TOTAL NCALL = 43</td>\n",
       "                <td title=\"Number of call in last migrad\">NCALLS = 43</td>\n",
       "            </tr>\n",
       "            <tr>\n",
       "                <td title=\"Estimated distance to minimum\">EDM = 2.93583670878e-09</td>\n",
       "                <td title=\"Maximum EDM definition of convergence\">GOAL EDM = 1e-05</td>\n",
       "                <td title=\"Error def. Amount of increase in FCN to be defined as 1 standard deviation\">\n",
       "                UP = 1.0</td>\n",
       "            </tr>\n",
       "        </table>\n",
       "        \n",
       "        <table>\n",
       "            <tr>\n",
       "                <td align=\"center\" title=\"Validity of the migrad call\">Valid</td>\n",
       "                <td align=\"center\" title=\"Validity of parameters\">Valid Param</td>\n",
       "                <td align=\"center\" title=\"Is Covariance matrix accurate?\">Accurate Covar</td>\n",
       "                <td align=\"center\" title=\"Positive definiteness of covariance matrix\">PosDef</td>\n",
       "                <td align=\"center\" title=\"Was covariance matrix made posdef by adding diagonal element\">Made PosDef</td>\n",
       "            </tr>\n",
       "            <tr>\n",
       "                <td align=\"center\" style=\"background-color:#92CCA6\">True</td>\n",
       "                <td align=\"center\" style=\"background-color:#92CCA6\">True</td>\n",
       "                <td align=\"center\" style=\"background-color:#92CCA6\">True</td>\n",
       "                <td align=\"center\" style=\"background-color:#92CCA6\">True</td>\n",
       "                <td align=\"center\" style=\"background-color:#92CCA6\">False</td>\n",
       "            </tr>\n",
       "            <tr>\n",
       "                <td align=\"center\" title=\"Was last hesse call fail?\">Hesse Fail</td>\n",
       "                <td align=\"center\" title=\"Validity of covariance\">HasCov</td>\n",
       "                <td align=\"center\" title=\"Is EDM above goal EDM?\">Above EDM</td>\n",
       "                <td align=\"center\"></td>\n",
       "                <td align=\"center\" title=\"Did last migrad call reach max call limit?\">Reach calllim</td>\n",
       "            </tr>\n",
       "            <tr>\n",
       "                <td align=\"center\" style=\"background-color:#92CCA6\">False</td>\n",
       "                <td align=\"center\" style=\"background-color:#92CCA6\">True</td>\n",
       "                <td align=\"center\" style=\"background-color:#92CCA6\">False</td>\n",
       "                <td align=\"center\"></td>\n",
       "                <td align=\"center\" style=\"background-color:#92CCA6\">False</td>\n",
       "            </tr>\n",
       "        </table>\n",
       "        "
      ]
     },
     "metadata": {},
     "output_type": "display_data"
    },
    {
     "data": {
      "text/html": [
       "\n",
       "        <table>\n",
       "            <tr>\n",
       "                <td><a href=\"#\" onclick=\"$('#cDkOytjPCh').toggle()\">+</a></td>\n",
       "                <td title=\"Variable name\">Name</td>\n",
       "                <td title=\"Value of parameter\">Value</td>\n",
       "                <td title=\"Parabolic error\">Parab Error</td>\n",
       "                <td title=\"Minos lower error\">Minos Error-</td>\n",
       "                <td title=\"Minos upper error\">Minos Error+</td>\n",
       "                <td title=\"Lower limit of the parameter\">Limit-</td>\n",
       "                <td title=\"Upper limit of the parameter\">Limit+</td>\n",
       "                <td title=\"Is the parameter fixed in the fit\">FIXED</td>\n",
       "            </tr>\n",
       "        \n",
       "            <tr>\n",
       "                <td>1</td>\n",
       "                <td>SigXSecOverSM</td>\n",
       "                <td>1.99991</td>\n",
       "                <td>2.39966</td>\n",
       "                <td>0</td>\n",
       "                <td>0</td>\n",
       "                <td>0.0</td>\n",
       "                <td>3.0</td>\n",
       "                <td></td>\n",
       "            </tr>\n",
       "            \n",
       "            <tr>\n",
       "                <td>2</td>\n",
       "                <td>BackgroundNorm</td>\n",
       "                <td>1.00003</td>\n",
       "                <td>0.979534</td>\n",
       "                <td>0</td>\n",
       "                <td>0</td>\n",
       "                <td>0.0</td>\n",
       "                <td>100.0</td>\n",
       "                <td></td>\n",
       "            </tr>\n",
       "            \n",
       "            </table>\n",
       "        \n",
       "            <pre id=\"cDkOytjPCh\" style=\"display:none;\">\n",
       "            <textarea rows=\"10\" cols=\"50\" onclick=\"this.select()\" readonly>\\begin{tabular}{|c|r|r|r|r|r|r|r|c|}\n",
       "\\hline\n",
       " & Name & Value & Para Error & Error+ & Error- & Limit+ & Limit- & FIXED\\\\\n",
       "\\hline\n",
       "1 & SigXSecOverSM & 2.000e+00 & 2.400e+00 &  &  & 0.000e+00 & 3.000e+00 & \\\\\n",
       "\\hline\n",
       "2 & BackgroundNorm & 1.000e+00 & 9.795e-01 &  &  & 0.000e+00 & 1.000e+02 & \\\\\n",
       "\\hline\n",
       "\\end{tabular}</textarea>\n",
       "            </pre>\n",
       "            "
      ]
     },
     "metadata": {},
     "output_type": "display_data"
    },
    {
     "data": {
      "text/html": [
       "<hr>"
      ]
     },
     "metadata": {},
     "output_type": "display_data"
    },
    {
     "data": {
      "text/html": [
       "\n",
       "        <table>\n",
       "            <tr>\n",
       "                <td><a href=\"#\" onclick=\"$('#RnwyqHGkpX').toggle()\">+</a></td>\n",
       "                <td title=\"Variable name\">Name</td>\n",
       "                <td title=\"Value of parameter\">Value</td>\n",
       "                <td title=\"Parabolic error\">Parab Error</td>\n",
       "                <td title=\"Minos lower error\">Minos Error-</td>\n",
       "                <td title=\"Minos upper error\">Minos Error+</td>\n",
       "                <td title=\"Lower limit of the parameter\">Limit-</td>\n",
       "                <td title=\"Upper limit of the parameter\">Limit+</td>\n",
       "                <td title=\"Is the parameter fixed in the fit\">FIXED</td>\n",
       "            </tr>\n",
       "        \n",
       "            <tr>\n",
       "                <td>1</td>\n",
       "                <td>SigXSecOverSM</td>\n",
       "                <td>1.99991</td>\n",
       "                <td>2.39931</td>\n",
       "                <td>0</td>\n",
       "                <td>0</td>\n",
       "                <td>0.0</td>\n",
       "                <td>3.0</td>\n",
       "                <td></td>\n",
       "            </tr>\n",
       "            \n",
       "            <tr>\n",
       "                <td>2</td>\n",
       "                <td>BackgroundNorm</td>\n",
       "                <td>1.00003</td>\n",
       "                <td>0.978879</td>\n",
       "                <td>0</td>\n",
       "                <td>0</td>\n",
       "                <td>0.0</td>\n",
       "                <td>100.0</td>\n",
       "                <td></td>\n",
       "            </tr>\n",
       "            \n",
       "            </table>\n",
       "        \n",
       "            <pre id=\"RnwyqHGkpX\" style=\"display:none;\">\n",
       "            <textarea rows=\"10\" cols=\"50\" onclick=\"this.select()\" readonly>\\begin{tabular}{|c|r|r|r|r|r|r|r|c|}\n",
       "\\hline\n",
       " & Name & Value & Para Error & Error+ & Error- & Limit+ & Limit- & FIXED\\\\\n",
       "\\hline\n",
       "1 & SigXSecOverSM & 2.000e+00 & 2.399e+00 &  &  & 0.000e+00 & 3.000e+00 & \\\\\n",
       "\\hline\n",
       "2 & BackgroundNorm & 1.000e+00 & 9.789e-01 &  &  & 0.000e+00 & 1.000e+02 & \\\\\n",
       "\\hline\n",
       "\\end{tabular}</textarea>\n",
       "            </pre>\n",
       "            "
      ]
     },
     "metadata": {},
     "output_type": "display_data"
    },
    {
     "data": {
      "text/html": [
       "\n",
       "            <table>\n",
       "                <tr>\n",
       "                    <td><a onclick=\"$('#aymzpEjcoo').toggle()\" href=\"#\">+</a></td>\n",
       "        \n",
       "            <td>\n",
       "            <div style=\"width:20px;position:relative; width: -moz-fit-content;\">\n",
       "            <div style=\"display:inline-block;-webkit-writing-mode:vertical-rl;-moz-writing-mode: vertical-rl;writing-mode: vertical-rl;\">\n",
       "            SigXSecOverSM\n",
       "            </div>\n",
       "            </div>\n",
       "            </td>\n",
       "            \n",
       "            <td>\n",
       "            <div style=\"width:20px;position:relative; width: -moz-fit-content;\">\n",
       "            <div style=\"display:inline-block;-webkit-writing-mode:vertical-rl;-moz-writing-mode: vertical-rl;writing-mode: vertical-rl;\">\n",
       "            BackgroundNorm\n",
       "            </div>\n",
       "            </div>\n",
       "            </td>\n",
       "            \n",
       "                </tr>\n",
       "                \n",
       "            <tr>\n",
       "                <td>SigXSecOverSM</td>\n",
       "            \n",
       "                <td style=\"background-color:rgb(255,117,117)\">\n",
       "                1.00\n",
       "                </td>\n",
       "                \n",
       "                <td style=\"background-color:rgb(245,131,124)\">\n",
       "                -0.90\n",
       "                </td>\n",
       "                \n",
       "            </tr>\n",
       "            \n",
       "            <tr>\n",
       "                <td>BackgroundNorm</td>\n",
       "            \n",
       "                <td style=\"background-color:rgb(245,131,124)\">\n",
       "                -0.90\n",
       "                </td>\n",
       "                \n",
       "                <td style=\"background-color:rgb(255,117,117)\">\n",
       "                1.00\n",
       "                </td>\n",
       "                \n",
       "            </tr>\n",
       "            </table>\n",
       "\n",
       "            <pre id=\"aymzpEjcoo\" style=\"display:none;\">\n",
       "            <textarea rows=\"13\" cols=\"50\" onclick=\"this.select()\" readonly>%\\usepackage[table]{xcolor} % include this for color\n",
       "%\\usepackage{rotating} % include this for rotate header\n",
       "%\\documentclass[xcolor=table]{beamer} % for beamer\n",
       "\\begin{tabular}{|c|c|c|}\n",
       "\\hline\n",
       "\\rotatebox{90}{} & \\rotatebox{90}{SigXSecOverSM} & \\rotatebox{90}{BackgroundNorm}\\\\\n",
       "\\hline\n",
       "SigXSecOverSM & \\cellcolor[RGB]{255,117,117} 1.00 & \\cellcolor[RGB]{245,131,124} -0.90\\\\\n",
       "\\hline\n",
       "BackgroundNorm & \\cellcolor[RGB]{245,131,124} -0.90 & \\cellcolor[RGB]{255,117,117} 1.00\\\\\n",
       "\\hline\n",
       "\\end{tabular}</textarea>\n",
       "            </pre>\n",
       "            "
      ]
     },
     "metadata": {},
     "output_type": "display_data"
    },
    {
     "data": {
      "text/html": [
       "\n",
       "        <span>Minos status for SigXSecOverSM: <span style=\"background-color:#92CCA6\">VALID</span></span>\n",
       "        <table>\n",
       "            <tr>\n",
       "                <td title=\"lower and upper minos error of the parameter\">Error</td>\n",
       "                <td>-1.98618852268</td>\n",
       "                <td>1.00009089428</td>\n",
       "            </tr>\n",
       "            <tr>\n",
       "                <td title=\"Validity of minos error\">Valid</td>\n",
       "                <td style=\"background-color:#92CCA6\">True</td>\n",
       "                <td style=\"background-color:#92CCA6\">True</td>\n",
       "            </tr>\n",
       "            <tr>\n",
       "                <td title=\"Did minos error search hit limit of any paramter?\">At Limit</td>\n",
       "                <td style=\"background-color:#92CCA6\">False</td>\n",
       "                <td style=\"background-color:#FF7878\">True</td>\n",
       "            </tr>\n",
       "            <tr>\n",
       "                <td title=\"I don't really know what this one means... Post it in issue if you know\">Max FCN</td>\n",
       "                <td style=\"background-color:#92CCA6\">False</td>\n",
       "                <td style=\"background-color:#92CCA6\">False</td>\n",
       "            </tr>\n",
       "            <tr>\n",
       "                <td title=\"New minimum found when doing minos scan.\">New Min</td>\n",
       "                <td style=\"background-color:#92CCA6\">False</td>\n",
       "                <td style=\"background-color:#92CCA6\">False</td>\n",
       "            </tr>\n",
       "        </table>\n",
       "        "
      ]
     },
     "metadata": {},
     "output_type": "display_data"
    },
    {
     "data": {
      "text/html": [
       "\n",
       "        <span>Minos status for BackgroundNorm: <span style=\"background-color:#92CCA6\">VALID</span></span>\n",
       "        <table>\n",
       "            <tr>\n",
       "                <td title=\"lower and upper minos error of the parameter\">Error</td>\n",
       "                <td>-0.756705600149</td>\n",
       "                <td>1.08484147103</td>\n",
       "            </tr>\n",
       "            <tr>\n",
       "                <td title=\"Validity of minos error\">Valid</td>\n",
       "                <td style=\"background-color:#92CCA6\">True</td>\n",
       "                <td style=\"background-color:#92CCA6\">True</td>\n",
       "            </tr>\n",
       "            <tr>\n",
       "                <td title=\"Did minos error search hit limit of any paramter?\">At Limit</td>\n",
       "                <td style=\"background-color:#92CCA6\">False</td>\n",
       "                <td style=\"background-color:#92CCA6\">False</td>\n",
       "            </tr>\n",
       "            <tr>\n",
       "                <td title=\"I don't really know what this one means... Post it in issue if you know\">Max FCN</td>\n",
       "                <td style=\"background-color:#92CCA6\">False</td>\n",
       "                <td style=\"background-color:#92CCA6\">False</td>\n",
       "            </tr>\n",
       "            <tr>\n",
       "                <td title=\"New minimum found when doing minos scan.\">New Min</td>\n",
       "                <td style=\"background-color:#92CCA6\">False</td>\n",
       "                <td style=\"background-color:#92CCA6\">False</td>\n",
       "            </tr>\n",
       "        </table>\n",
       "        "
      ]
     },
     "metadata": {},
     "output_type": "display_data"
    },
    {
     "data": {
      "text/plain": [
       "{'BackgroundNorm': {'lower_new_min': False, 'upper': 1.0848414710272252, 'lower': -0.756705600148597, 'at_lower_limit': False, 'min': 1.000028393191904, 'at_lower_max_fcn': False, 'is_valid': True, 'upper_new_min': False, 'at_upper_limit': False, 'lower_valid': True, 'upper_valid': True, 'at_upper_max_fcn': False, 'nfcn': 82},\n",
       " 'SigXSecOverSM': {'lower_new_min': False, 'upper': 1.0000908942838587, 'lower': -1.9861885226766014, 'at_lower_limit': False, 'min': 1.9999091057161413, 'at_lower_max_fcn': False, 'is_valid': True, 'upper_new_min': False, 'at_upper_limit': True, 'lower_valid': True, 'upper_valid': True, 'at_upper_max_fcn': False, 'nfcn': 52}}"
      ]
     },
     "execution_count": 13,
     "metadata": {},
     "output_type": "execute_result"
    }
   ],
   "source": [
    "minimiser.migrad()\n",
    "minimiser.hesse()\n",
    "minimiser.minos()"
   ]
  },
  {
   "cell_type": "code",
   "execution_count": 14,
   "metadata": {},
   "outputs": [
    {
     "name": "stderr",
     "output_type": "stream",
     "text": [
      "/Library/Frameworks/Python.framework/Versions/2.7/lib/python2.7/site-packages/iminuit/_plotting.py:51: RuntimeWarning: band and text is requested but the bound is too narrow.\n",
      "  warnings.warn(RuntimeWarning('band and text is requested but'\n"
     ]
    },
    {
     "data": {
      "text/plain": [
       "(array([-2.79871089, -2.70176907, -2.60482725, -2.50788544, -2.41094362,\n",
       "        -2.3140018 , -2.21705998, -2.12011816, -2.02317635, -1.92623453,\n",
       "        -1.82929271, -1.73235089, -1.63540907, -1.53846726, -1.44152544,\n",
       "        -1.34458362, -1.2476418 , -1.15069998, -1.05375816, -0.95681635,\n",
       "        -0.85987453, -0.76293271, -0.66599089, -0.56904907, -0.47210726,\n",
       "        -0.37516544, -0.27822362, -0.1812818 , -0.08433998,  0.01260183,\n",
       "         0.10954365,  0.20648547,  0.30342729,  0.40036911,  0.49731092,\n",
       "         0.59425274,  0.69119456,  0.78813638,  0.8850782 ,  0.98202002,\n",
       "         1.07896183,  1.17590365,  1.27284547,  1.36978729,  1.46672911,\n",
       "         1.56367092,  1.66061274,  1.75755456,  1.85449638,  1.9514382 ,\n",
       "         2.04838001,  2.14532183,  2.24226365,  2.33920547,  2.43614729,\n",
       "         2.53308911,  2.63003092,  2.72697274,  2.82391456,  2.92085638,\n",
       "         3.0177982 ,  3.11474001,  3.21168183,  3.30862365,  3.40556547,\n",
       "         3.50250729,  3.5994491 ,  3.69639092,  3.79333274,  3.89027456,\n",
       "         3.98721638,  4.0841582 ,  4.18110001,  4.27804183,  4.37498365,\n",
       "         4.47192547,  4.56886729,  4.6658091 ,  4.76275092,  4.85969274,\n",
       "         4.95663456,  5.05357638,  5.15051819,  5.24746001,  5.34440183,\n",
       "         5.44134365,  5.53828547,  5.63522729,  5.7321691 ,  5.82911092,\n",
       "         5.92605274,  6.02299456,  6.11993638,  6.21687819,  6.31382001,\n",
       "         6.41076183,  6.50770365,  6.60464547,  6.70158728,  6.7985291 ]),\n",
       " array([          nan,           nan,           nan,           nan,\n",
       "                  nan,           nan,           nan,           nan,\n",
       "                  nan,           nan,           nan,           nan,\n",
       "                  nan,           nan,           nan,           nan,\n",
       "         108.29878325,   57.69601116,   47.11983917,   40.50229803,\n",
       "          35.63621263,   31.79381755,   28.6358272 ,   25.97341487,\n",
       "          23.68934912,   21.70522   ,   19.96567026,   18.42998072,\n",
       "          17.06721866,   15.85326723,   14.76891692,   13.79859009,\n",
       "          12.92946017,   12.15082612,   11.45365759,   10.83025712,\n",
       "          10.27400484,    9.7791622 ,    9.34071917,    8.95427345,\n",
       "           8.6159342 ,    8.32224422,    8.07011667,    7.856783  ,\n",
       "           7.67974989,    7.53676329,    7.42577819,    7.34493316,\n",
       "           7.29252864,    7.26700834,    7.26694337,    7.29101848,\n",
       "           7.33802008,    7.40682594,    7.49639604,    7.60576463,\n",
       "           7.73403325,    7.88036449,    8.04397651,    8.22413817,\n",
       "           8.42016469,    8.63141372,    8.8572819 ,    9.09720168,\n",
       "           9.35063856,    9.61708849,    9.8960756 ,   10.18715009,\n",
       "          10.48988636,   10.80388126,   11.12875253,   11.46413737,\n",
       "          11.80969113,   12.16508608,   12.53001031,   12.90416677,\n",
       "          13.28727224,   13.67905657,   14.0792618 ,   14.48764148,\n",
       "          14.90395997,   15.32799181,   15.75952113,   16.19834113,\n",
       "          16.64425356,   17.09706823,   17.55660261,   18.02268142,\n",
       "          18.4951362 ,   18.973805  ,   19.45853207,   19.94916745,\n",
       "          20.44556679,   20.94759102,   21.45510607,   21.9679827 ,\n",
       "          22.48609619,   23.0093262 ,   23.53755651,   24.07067487]))"
      ]
     },
     "execution_count": 14,
     "metadata": {},
     "output_type": "execute_result"
    },
    {
     "data": {
      "image/png": "[encoded data removed]",
      "text/plain": [
       "<matplotlib.figure.Figure at 0x109297e10>"
      ]
     },
     "metadata": {},
     "output_type": "display_data"
    }
   ],
   "source": [
    "%matplotlib inline\n",
    "minimiser.draw_profile('SigXSecOverSM')"
   ]
  },
  {
   "cell_type": "markdown",
   "metadata": {},
   "source": [
    "# Testing Combined Pdf"
   ]
  },
  {
   "cell_type": "code",
   "execution_count": 15,
   "metadata": {},
   "outputs": [],
   "source": [
    "from histimator.pdfs import HistiCombPdf"
   ]
  },
  {
   "cell_type": "code",
   "execution_count": 16,
   "metadata": {
    "scrolled": true
   },
   "outputs": [],
   "source": [
    "new_background = HistiSample('background')\n",
    "new_background.SetHisto((np.asarray([50,75]), np.asarray([100,120,150])))\n",
    "new_background.AddNorm(\"BackgroundNorm\",1.,0,100)"
   ]
  },
  {
   "cell_type": "code",
   "execution_count": 17,
   "metadata": {},
   "outputs": [],
   "source": [
    "new_chan = HistiChannel(\"CR\")\n",
    "new_chan.AddSample(new_background)\n",
    "new_chan.SetData([53,72])"
   ]
  },
  {
   "cell_type": "code",
   "execution_count": 18,
   "metadata": {},
   "outputs": [
    {
     "name": "stdout",
     "output_type": "stream",
     "text": [
      "[   7    9   11   13 1060 2160]\n"
     ]
    }
   ],
   "source": [
    "m5 = HistiModel(\"final model\")\n",
    "m5.AddChannel(chan)\n",
    "m5.AddChannel(new_chan)\n",
    "print m5.data"
   ]
  },
  {
   "cell_type": "code",
   "execution_count": 19,
   "metadata": {
    "scrolled": true
   },
   "outputs": [
    {
     "name": "stdout",
     "output_type": "stream",
     "text": [
      "params are  {'BackgroundNorm': 1.0, 'limit_SigXSecOverSM': (0, 3), 'SigXSecOverSM': 1.0, 'limit_BackgroundNorm': (0, 100), 'errordef': 1}\n"
     ]
    }
   ],
   "source": [
    "blh = BinnedLH(m5)\n",
    "params = m5.Parameters()\n",
    "print \"params are \",params"
   ]
  },
  {
   "cell_type": "code",
   "execution_count": 20,
   "metadata": {},
   "outputs": [
    {
     "data": {
      "text/plain": [
       "['SigXSecOverSM', 'BackgroundNorm']"
      ]
     },
     "execution_count": 20,
     "metadata": {},
     "output_type": "execute_result"
    }
   ],
   "source": [
    "describe(blh)"
   ]
  },
  {
   "cell_type": "code",
   "execution_count": 21,
   "metadata": {},
   "outputs": [
    {
     "data": {
      "text/plain": [
       "['SigXSecOverSM', 'BackgroundNorm']"
      ]
     },
     "execution_count": 21,
     "metadata": {},
     "output_type": "execute_result"
    }
   ],
   "source": [
    "blh = BinnedLH(m5)\n",
    "describe(blh)"
   ]
  },
  {
   "cell_type": "code",
   "execution_count": 22,
   "metadata": {},
   "outputs": [
    {
     "name": "stdout",
     "output_type": "stream",
     "text": [
      "['x', 'SigXSecOverSM', 'BackgroundNorm']\n",
      "data is [   7    9   11   13 1060 2160] model is [    6.     7.     8.     9.  1000.  2250.]\n"
     ]
    }
   ],
   "source": [
    "print describe(m5.pdf)\n",
    "m5.pdf.evaluatePdf(1,1)\n",
    "print 'data is', m5.data, 'model is', m5.pdf.evaluatePdf(1,1)"
   ]
  },
  {
   "cell_type": "code",
   "execution_count": 23,
   "metadata": {
    "scrolled": false
   },
   "outputs": [
    {
     "name": "stderr",
     "output_type": "stream",
     "text": [
      "/Users/vince/tensorflow/lib/python2.7/site-packages/ipykernel_launcher.py:1: InitialParamWarning: Parameter SigXSecOverSM is floating but does not have initial step size. Assume 1.\n",
      "  \"\"\"Entry point for launching an IPython kernel.\n",
      "/Users/vince/tensorflow/lib/python2.7/site-packages/ipykernel_launcher.py:1: InitialParamWarning: Parameter BackgroundNorm is floating but does not have initial step size. Assume 1.\n",
      "  \"\"\"Entry point for launching an IPython kernel.\n"
     ]
    }
   ],
   "source": [
    "minimiser = Minuit(blh, **params)"
   ]
  },
  {
   "cell_type": "code",
   "execution_count": 24,
   "metadata": {},
   "outputs": [
    {
     "data": {
      "text/html": [
       "<hr>"
      ]
     },
     "metadata": {},
     "output_type": "display_data"
    },
    {
     "data": {
      "text/html": [
       "\n",
       "        <table>\n",
       "            <tr>\n",
       "                <td title=\"Minimum value of function\">FCN = 19.8745501026</td>\n",
       "                <td title=\"Total number of call to FCN so far\">TOTAL NCALL = 38</td>\n",
       "                <td title=\"Number of call in last migrad\">NCALLS = 38</td>\n",
       "            </tr>\n",
       "            <tr>\n",
       "                <td title=\"Estimated distance to minimum\">EDM = 2.54980920299e-07</td>\n",
       "                <td title=\"Maximum EDM definition of convergence\">GOAL EDM = 1e-05</td>\n",
       "                <td title=\"Error def. Amount of increase in FCN to be defined as 1 standard deviation\">\n",
       "                UP = 1.0</td>\n",
       "            </tr>\n",
       "        </table>\n",
       "        \n",
       "        <table>\n",
       "            <tr>\n",
       "                <td align=\"center\" title=\"Validity of the migrad call\">Valid</td>\n",
       "                <td align=\"center\" title=\"Validity of parameters\">Valid Param</td>\n",
       "                <td align=\"center\" title=\"Is Covariance matrix accurate?\">Accurate Covar</td>\n",
       "                <td align=\"center\" title=\"Positive definiteness of covariance matrix\">PosDef</td>\n",
       "                <td align=\"center\" title=\"Was covariance matrix made posdef by adding diagonal element\">Made PosDef</td>\n",
       "            </tr>\n",
       "            <tr>\n",
       "                <td align=\"center\" style=\"background-color:#92CCA6\">True</td>\n",
       "                <td align=\"center\" style=\"background-color:#92CCA6\">True</td>\n",
       "                <td align=\"center\" style=\"background-color:#92CCA6\">True</td>\n",
       "                <td align=\"center\" style=\"background-color:#92CCA6\">True</td>\n",
       "                <td align=\"center\" style=\"background-color:#92CCA6\">False</td>\n",
       "            </tr>\n",
       "            <tr>\n",
       "                <td align=\"center\" title=\"Was last hesse call fail?\">Hesse Fail</td>\n",
       "                <td align=\"center\" title=\"Validity of covariance\">HasCov</td>\n",
       "                <td align=\"center\" title=\"Is EDM above goal EDM?\">Above EDM</td>\n",
       "                <td align=\"center\"></td>\n",
       "                <td align=\"center\" title=\"Did last migrad call reach max call limit?\">Reach calllim</td>\n",
       "            </tr>\n",
       "            <tr>\n",
       "                <td align=\"center\" style=\"background-color:#92CCA6\">False</td>\n",
       "                <td align=\"center\" style=\"background-color:#92CCA6\">True</td>\n",
       "                <td align=\"center\" style=\"background-color:#92CCA6\">False</td>\n",
       "                <td align=\"center\"></td>\n",
       "                <td align=\"center\" style=\"background-color:#92CCA6\">False</td>\n",
       "            </tr>\n",
       "        </table>\n",
       "        "
      ]
     },
     "metadata": {},
     "output_type": "display_data"
    },
    {
     "data": {
      "text/html": [
       "\n",
       "        <table>\n",
       "            <tr>\n",
       "                <td><a href=\"#\" onclick=\"$('#XTPsHxqyDy').toggle()\">+</a></td>\n",
       "                <td title=\"Variable name\">Name</td>\n",
       "                <td title=\"Value of parameter\">Value</td>\n",
       "                <td title=\"Parabolic error\">Parab Error</td>\n",
       "                <td title=\"Minos lower error\">Minos Error-</td>\n",
       "                <td title=\"Minos upper error\">Minos Error+</td>\n",
       "                <td title=\"Lower limit of the parameter\">Limit-</td>\n",
       "                <td title=\"Upper limit of the parameter\">Limit+</td>\n",
       "                <td title=\"Is the parameter fixed in the fit\">FIXED</td>\n",
       "            </tr>\n",
       "        \n",
       "            <tr>\n",
       "                <td>1</td>\n",
       "                <td>SigXSecOverSM</td>\n",
       "                <td>2.01621</td>\n",
       "                <td>0.817604</td>\n",
       "                <td>0</td>\n",
       "                <td>0</td>\n",
       "                <td>0.0</td>\n",
       "                <td>3.0</td>\n",
       "                <td></td>\n",
       "            </tr>\n",
       "            \n",
       "            <tr>\n",
       "                <td>2</td>\n",
       "                <td>BackgroundNorm</td>\n",
       "                <td>0.990783</td>\n",
       "                <td>0.0246846</td>\n",
       "                <td>0</td>\n",
       "                <td>0</td>\n",
       "                <td>0.0</td>\n",
       "                <td>100.0</td>\n",
       "                <td></td>\n",
       "            </tr>\n",
       "            \n",
       "            </table>\n",
       "        \n",
       "            <pre id=\"XTPsHxqyDy\" style=\"display:none;\">\n",
       "            <textarea rows=\"10\" cols=\"50\" onclick=\"this.select()\" readonly>\\begin{tabular}{|c|r|r|r|r|r|r|r|c|}\n",
       "\\hline\n",
       " & Name & Value & Para Error & Error+ & Error- & Limit+ & Limit- & FIXED\\\\\n",
       "\\hline\n",
       "1 & SigXSecOverSM & 2.016e+00 & 8.176e-01 &  &  & 0.000e+00 & 3.000e+00 & \\\\\n",
       "\\hline\n",
       "2 & BackgroundNorm & 9.908e-01 & 2.468e-02 &  &  & 0.000e+00 & 1.000e+02 & \\\\\n",
       "\\hline\n",
       "\\end{tabular}</textarea>\n",
       "            </pre>\n",
       "            "
      ]
     },
     "metadata": {},
     "output_type": "display_data"
    },
    {
     "data": {
      "text/html": [
       "<hr>"
      ]
     },
     "metadata": {},
     "output_type": "display_data"
    },
    {
     "data": {
      "text/plain": [
       "({'hesse_failed': False, 'has_reached_call_limit': False, 'has_accurate_covar': True, 'has_posdef_covar': True, 'up': 1.0, 'edm': 2.5498092029850386e-07, 'is_valid': True, 'is_above_max_edm': False, 'has_covariance': True, 'has_made_posdef_covar': False, 'has_valid_parameters': True, 'fval': 19.87455010262169, 'nfcn': 38},\n",
       " [{'is_const': False, 'name': 'SigXSecOverSM', 'has_limits': True, 'value': 2.016213838449753, 'number': 0, 'has_lower_limit': True, 'upper_limit': 3.0, 'lower_limit': 0.0, 'has_upper_limit': True, 'error': 0.8176035279738597, 'is_fixed': False},\n",
       "  {'is_const': False, 'name': 'BackgroundNorm', 'has_limits': True, 'value': 0.9907834321629283, 'number': 1, 'has_lower_limit': True, 'upper_limit': 100.0, 'lower_limit': 0.0, 'has_upper_limit': True, 'error': 0.024684589307963356, 'is_fixed': False}])"
      ]
     },
     "execution_count": 24,
     "metadata": {},
     "output_type": "execute_result"
    }
   ],
   "source": [
    "minimiser.migrad()"
   ]
  },
  {
   "cell_type": "code",
   "execution_count": 25,
   "metadata": {
    "scrolled": true
   },
   "outputs": [
    {
     "data": {
      "text/plain": [
       "(array([ 0.38100678,  0.41404127,  0.44707575,  0.48011024,  0.51314473,\n",
       "         0.54617921,  0.5792137 ,  0.61224818,  0.64528267,  0.67831716,\n",
       "         0.71135164,  0.74438613,  0.77742061,  0.8104551 ,  0.84348959,\n",
       "         0.87652407,  0.90955856,  0.94259304,  0.97562753,  1.00866202,\n",
       "         1.0416965 ,  1.07473099,  1.10776547,  1.14079996,  1.17383445,\n",
       "         1.20686893,  1.23990342,  1.2729379 ,  1.30597239,  1.33900688,\n",
       "         1.37204136,  1.40507585,  1.43811033,  1.47114482,  1.50417931,\n",
       "         1.53721379,  1.57024828,  1.60328276,  1.63631725,  1.66935174,\n",
       "         1.70238622,  1.73542071,  1.76845519,  1.80148968,  1.83452417,\n",
       "         1.86755865,  1.90059314,  1.93362762,  1.96666211,  1.9996966 ,\n",
       "         2.03273108,  2.06576557,  2.09880005,  2.13183454,  2.16486903,\n",
       "         2.19790351,  2.230938  ,  2.26397248,  2.29700697,  2.33004146,\n",
       "         2.36307594,  2.39611043,  2.42914491,  2.4621794 ,  2.49521389,\n",
       "         2.52824837,  2.56128286,  2.59431734,  2.62735183,  2.66038632,\n",
       "         2.6934208 ,  2.72645529,  2.75948977,  2.79252426,  2.82555874,\n",
       "         2.85859323,  2.89162772,  2.9246622 ,  2.95769669,  2.99073117,\n",
       "         3.02376566,  3.05680015,  3.08983463,  3.12286912,  3.1559036 ,\n",
       "         3.18893809,  3.22197258,  3.25500706,  3.28804155,  3.32107603,\n",
       "         3.35411052,  3.38714501,  3.42017949,  3.45321398,  3.48624846,\n",
       "         3.51928295,  3.55231744,  3.58535192,  3.61838641,  3.65142089]),\n",
       " array([ 25.03364923,  24.77748018,  24.53076194,  24.29317522,\n",
       "         24.06441726,  23.84420068,  23.63225241,  23.42831274,\n",
       "         23.23213447,  23.04348206,  22.86213092,  22.68786671,\n",
       "         22.52048472,  22.35978929,  22.20559327,  22.05771752,\n",
       "         21.91599045,  21.7802476 ,  21.65033123,  21.52608995,\n",
       "         21.40737841,  21.29405692,  21.18599121,  21.08305209,\n",
       "         20.98511525,  20.89206098,  20.80377394,  20.72014294,\n",
       "         20.64106078,  20.56642401,  20.49613277,  20.43009064,\n",
       "         20.36820445,  20.31038415,  20.25654269,  20.20659583,\n",
       "         20.16046208,  20.11806253,  20.07932078,  20.0441628 ,\n",
       "         20.01251685,  19.98431339,  19.95948497,  19.93796614,\n",
       "         19.91969341,  19.90460514,  19.89264147,  19.88374426,\n",
       "         19.877857  ,  19.8749248 ,  19.87489426,  19.87771348,\n",
       "         19.88333196,  19.89170055,  19.90277144,  19.91649807,\n",
       "         19.9328351 ,  19.95173839,  19.9731649 ,  19.99707273,\n",
       "         20.02342099,  20.05216987,  20.08328051,  20.11671502,\n",
       "         20.15243643,  20.19040867,  20.23059654,  20.27296566,\n",
       "         20.31748248,  20.36411423,  20.41282889,  20.46359519,\n",
       "         20.51638256,  20.57116115,  20.62790174,  20.68657579,\n",
       "         20.74715539,  20.80961323,  20.8739226 ,  20.94005737,\n",
       "         21.00799197,  21.07770137,  21.14916107,  21.22234709,\n",
       "         21.29723594,  21.37380462,  21.4520306 ,  21.53189182,\n",
       "         21.61336664,  21.69643387,  21.78107276,  21.86726294,\n",
       "         21.95498446,  22.04421775,  22.13494363,  22.22714328,\n",
       "         22.32079823,  22.41589039,  22.51240199,  22.6103156 ]))"
      ]
     },
     "execution_count": 25,
     "metadata": {},
     "output_type": "execute_result"
    },
    {
     "data": {
      "image/png": "[encoded data removed]",
      "text/plain": [
       "<matplotlib.figure.Figure at 0x10a7acfd0>"
      ]
     },
     "metadata": {},
     "output_type": "display_data"
    }
   ],
   "source": [
    "minimiser.draw_profile('SigXSecOverSM')"
   ]
  },
  {
   "cell_type": "code",
   "execution_count": null,
   "metadata": {},
   "outputs": [],
   "source": []
  }
 ],
 "metadata": {
  "kernelspec": {
   "display_name": "Python 2",
   "language": "python",
   "name": "python2"
  },
  "language_info": {
   "codemirror_mode": {
    "name": "ipython",
    "version": 2
   },
   "file_extension": ".py",
   "mimetype": "text/x-python",
   "name": "python",
   "nbconvert_exporter": "python",
   "pygments_lexer": "ipython2",
   "version": "2.7.13"
  }
 },
 "nbformat": 4,
 "nbformat_minor": 2
}
