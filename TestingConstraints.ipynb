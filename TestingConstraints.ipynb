{
 "cells": [
  {
   "cell_type": "code",
   "execution_count": 1,
   "metadata": {},
   "outputs": [],
   "source": [
    "from histimator.models import HistiModel, HistiChannel, HistiSample\n",
    "from histimator.estimator import BinnedLH"
   ]
  },
  {
   "cell_type": "code",
   "execution_count": 2,
   "metadata": {},
   "outputs": [],
   "source": [
    "from iminuit import Minuit, describe\n",
    "import numpy as np"
   ]
  },
  {
   "cell_type": "code",
   "execution_count": 3,
   "metadata": {},
   "outputs": [],
   "source": [
    "hist_sig = np.asarray([1,2,3,4])\n",
    "hist_bkg = np.asarray([5,5,5,5])"
   ]
  },
  {
   "cell_type": "code",
   "execution_count": 4,
   "metadata": {},
   "outputs": [],
   "source": [
    "m = HistiModel('model')\n",
    "signal = HistiSample('signal')\n",
    "binedges = [0,1,2,3,4]\n",
    "signal.SetHisto((hist_sig,binedges))\n",
    "signal.AddNorm(\"SigXSecOverSM\",1.0,0,3)"
   ]
  },
  {
   "cell_type": "code",
   "execution_count": 5,
   "metadata": {},
   "outputs": [],
   "source": [
    "background = HistiSample('background')\n",
    "background.SetHisto((hist_bkg, binedges))\n",
    "background.AddNorm(\"BackgroundNorm\",1.,0,100)"
   ]
  },
  {
   "cell_type": "code",
   "execution_count": 6,
   "metadata": {},
   "outputs": [
    {
     "name": "stdout",
     "output_type": "stream",
     "text": [
      "['x', 'BackgroundNorm']\n"
     ]
    }
   ],
   "source": [
    "print describe(background.pdf)"
   ]
  },
  {
   "cell_type": "code",
   "execution_count": 7,
   "metadata": {},
   "outputs": [
    {
     "name": "stdout",
     "output_type": "stream",
     "text": [
      "[5 5 5 5]\n",
      "[5.0, 5.0, 5.0, 5.0, 0.0]\n"
     ]
    }
   ],
   "source": [
    "print background.bincontent\n",
    "assess = []\n",
    "for i in range(len(background.binedges)):\n",
    "    assess.append(background.pdf(i,1))\n",
    "print assess"
   ]
  },
  {
   "cell_type": "code",
   "execution_count": 8,
   "metadata": {},
   "outputs": [],
   "source": [
    "chan = HistiChannel(\"SR\")\n",
    "chan.AddSample(signal)\n",
    "chan.AddSample(background)"
   ]
  },
  {
   "cell_type": "code",
   "execution_count": 9,
   "metadata": {},
   "outputs": [
    {
     "name": "stdout",
     "output_type": "stream",
     "text": [
      "funcpos [array([0, 1]), array([0, 2])]\n"
     ]
    }
   ],
   "source": [
    "data = hist_sig*2 +hist_bkg\n",
    "\n",
    "chan.SetData(data)\n",
    "m.AddChannel(chan)"
   ]
  },
  {
   "cell_type": "code",
   "execution_count": 10,
   "metadata": {},
   "outputs": [],
   "source": [
    "blh = BinnedLH(m, bound=(0,4))"
   ]
  },
  {
   "cell_type": "code",
   "execution_count": 11,
   "metadata": {
    "scrolled": true
   },
   "outputs": [
    {
     "name": "stdout",
     "output_type": "stream",
     "text": [
      "params are  {'BackgroundNorm': 1.0, 'limit_SigXSecOverSM': (0, 3), 'SigXSecOverSM': 1.0, 'limit_BackgroundNorm': (0, 100), 'errordef': 1}\n"
     ]
    }
   ],
   "source": [
    "params = m.Parameters()\n",
    "print \"params are \",params"
   ]
  },
  {
   "cell_type": "code",
   "execution_count": 12,
   "metadata": {},
   "outputs": [
    {
     "name": "stderr",
     "output_type": "stream",
     "text": [
      "/Users/vince/tensorflow/lib/python2.7/site-packages/ipykernel_launcher.py:1: InitialParamWarning: Parameter SigXSecOverSM is floating but does not have initial step size. Assume 1.\n",
      "  \"\"\"Entry point for launching an IPython kernel.\n",
      "/Users/vince/tensorflow/lib/python2.7/site-packages/ipykernel_launcher.py:1: InitialParamWarning: Parameter BackgroundNorm is floating but does not have initial step size. Assume 1.\n",
      "  \"\"\"Entry point for launching an IPython kernel.\n"
     ]
    }
   ],
   "source": [
    "minimiser = Minuit(blh, **params)"
   ]
  },
  {
   "cell_type": "code",
   "execution_count": 13,
   "metadata": {
    "scrolled": true
   },
   "outputs": [
    {
     "data": {
      "text/html": [
       "<hr>"
      ]
     },
     "metadata": {},
     "output_type": "display_data"
    },
    {
     "data": {
      "text/html": [
       "\n",
       "        <table>\n",
       "            <tr>\n",
       "                <td title=\"Minimum value of function\">FCN = 7.26387865589</td>\n",
       "                <td title=\"Total number of call to FCN so far\">TOTAL NCALL = 43</td>\n",
       "                <td title=\"Number of call in last migrad\">NCALLS = 43</td>\n",
       "            </tr>\n",
       "            <tr>\n",
       "                <td title=\"Estimated distance to minimum\">EDM = 2.93583670878e-09</td>\n",
       "                <td title=\"Maximum EDM definition of convergence\">GOAL EDM = 1e-05</td>\n",
       "                <td title=\"Error def. Amount of increase in FCN to be defined as 1 standard deviation\">\n",
       "                UP = 1.0</td>\n",
       "            </tr>\n",
       "        </table>\n",
       "        \n",
       "        <table>\n",
       "            <tr>\n",
       "                <td align=\"center\" title=\"Validity of the migrad call\">Valid</td>\n",
       "                <td align=\"center\" title=\"Validity of parameters\">Valid Param</td>\n",
       "                <td align=\"center\" title=\"Is Covariance matrix accurate?\">Accurate Covar</td>\n",
       "                <td align=\"center\" title=\"Positive definiteness of covariance matrix\">PosDef</td>\n",
       "                <td align=\"center\" title=\"Was covariance matrix made posdef by adding diagonal element\">Made PosDef</td>\n",
       "            </tr>\n",
       "            <tr>\n",
       "                <td align=\"center\" style=\"background-color:#92CCA6\">True</td>\n",
       "                <td align=\"center\" style=\"background-color:#92CCA6\">True</td>\n",
       "                <td align=\"center\" style=\"background-color:#92CCA6\">True</td>\n",
       "                <td align=\"center\" style=\"background-color:#92CCA6\">True</td>\n",
       "                <td align=\"center\" style=\"background-color:#92CCA6\">False</td>\n",
       "            </tr>\n",
       "            <tr>\n",
       "                <td align=\"center\" title=\"Was last hesse call fail?\">Hesse Fail</td>\n",
       "                <td align=\"center\" title=\"Validity of covariance\">HasCov</td>\n",
       "                <td align=\"center\" title=\"Is EDM above goal EDM?\">Above EDM</td>\n",
       "                <td align=\"center\"></td>\n",
       "                <td align=\"center\" title=\"Did last migrad call reach max call limit?\">Reach calllim</td>\n",
       "            </tr>\n",
       "            <tr>\n",
       "                <td align=\"center\" style=\"background-color:#92CCA6\">False</td>\n",
       "                <td align=\"center\" style=\"background-color:#92CCA6\">True</td>\n",
       "                <td align=\"center\" style=\"background-color:#92CCA6\">False</td>\n",
       "                <td align=\"center\"></td>\n",
       "                <td align=\"center\" style=\"background-color:#92CCA6\">False</td>\n",
       "            </tr>\n",
       "        </table>\n",
       "        "
      ]
     },
     "metadata": {},
     "output_type": "display_data"
    },
    {
     "data": {
      "text/html": [
       "\n",
       "        <table>\n",
       "            <tr>\n",
       "                <td><a href=\"#\" onclick=\"$('#qKIBcVkZeq').toggle()\">+</a></td>\n",
       "                <td title=\"Variable name\">Name</td>\n",
       "                <td title=\"Value of parameter\">Value</td>\n",
       "                <td title=\"Parabolic error\">Parab Error</td>\n",
       "                <td title=\"Minos lower error\">Minos Error-</td>\n",
       "                <td title=\"Minos upper error\">Minos Error+</td>\n",
       "                <td title=\"Lower limit of the parameter\">Limit-</td>\n",
       "                <td title=\"Upper limit of the parameter\">Limit+</td>\n",
       "                <td title=\"Is the parameter fixed in the fit\">FIXED</td>\n",
       "            </tr>\n",
       "        \n",
       "            <tr>\n",
       "                <td>1</td>\n",
       "                <td>SigXSecOverSM</td>\n",
       "                <td>1.99991</td>\n",
       "                <td>2.39966</td>\n",
       "                <td>0</td>\n",
       "                <td>0</td>\n",
       "                <td>0.0</td>\n",
       "                <td>3.0</td>\n",
       "                <td></td>\n",
       "            </tr>\n",
       "            \n",
       "            <tr>\n",
       "                <td>2</td>\n",
       "                <td>BackgroundNorm</td>\n",
       "                <td>1.00003</td>\n",
       "                <td>0.979534</td>\n",
       "                <td>0</td>\n",
       "                <td>0</td>\n",
       "                <td>0.0</td>\n",
       "                <td>100.0</td>\n",
       "                <td></td>\n",
       "            </tr>\n",
       "            \n",
       "            </table>\n",
       "        \n",
       "            <pre id=\"qKIBcVkZeq\" style=\"display:none;\">\n",
       "            <textarea rows=\"10\" cols=\"50\" onclick=\"this.select()\" readonly>\\begin{tabular}{|c|r|r|r|r|r|r|r|c|}\n",
       "\\hline\n",
       " & Name & Value & Para Error & Error+ & Error- & Limit+ & Limit- & FIXED\\\\\n",
       "\\hline\n",
       "1 & SigXSecOverSM & 2.000e+00 & 2.400e+00 &  &  & 0.000e+00 & 3.000e+00 & \\\\\n",
       "\\hline\n",
       "2 & BackgroundNorm & 1.000e+00 & 9.795e-01 &  &  & 0.000e+00 & 1.000e+02 & \\\\\n",
       "\\hline\n",
       "\\end{tabular}</textarea>\n",
       "            </pre>\n",
       "            "
      ]
     },
     "metadata": {},
     "output_type": "display_data"
    },
    {
     "data": {
      "text/html": [
       "<hr>"
      ]
     },
     "metadata": {},
     "output_type": "display_data"
    },
    {
     "data": {
      "text/html": [
       "\n",
       "        <table>\n",
       "            <tr>\n",
       "                <td><a href=\"#\" onclick=\"$('#bRuOSAhlNV').toggle()\">+</a></td>\n",
       "                <td title=\"Variable name\">Name</td>\n",
       "                <td title=\"Value of parameter\">Value</td>\n",
       "                <td title=\"Parabolic error\">Parab Error</td>\n",
       "                <td title=\"Minos lower error\">Minos Error-</td>\n",
       "                <td title=\"Minos upper error\">Minos Error+</td>\n",
       "                <td title=\"Lower limit of the parameter\">Limit-</td>\n",
       "                <td title=\"Upper limit of the parameter\">Limit+</td>\n",
       "                <td title=\"Is the parameter fixed in the fit\">FIXED</td>\n",
       "            </tr>\n",
       "        \n",
       "            <tr>\n",
       "                <td>1</td>\n",
       "                <td>SigXSecOverSM</td>\n",
       "                <td>1.99991</td>\n",
       "                <td>2.39931</td>\n",
       "                <td>0</td>\n",
       "                <td>0</td>\n",
       "                <td>0.0</td>\n",
       "                <td>3.0</td>\n",
       "                <td></td>\n",
       "            </tr>\n",
       "            \n",
       "            <tr>\n",
       "                <td>2</td>\n",
       "                <td>BackgroundNorm</td>\n",
       "                <td>1.00003</td>\n",
       "                <td>0.978879</td>\n",
       "                <td>0</td>\n",
       "                <td>0</td>\n",
       "                <td>0.0</td>\n",
       "                <td>100.0</td>\n",
       "                <td></td>\n",
       "            </tr>\n",
       "            \n",
       "            </table>\n",
       "        \n",
       "            <pre id=\"bRuOSAhlNV\" style=\"display:none;\">\n",
       "            <textarea rows=\"10\" cols=\"50\" onclick=\"this.select()\" readonly>\\begin{tabular}{|c|r|r|r|r|r|r|r|c|}\n",
       "\\hline\n",
       " & Name & Value & Para Error & Error+ & Error- & Limit+ & Limit- & FIXED\\\\\n",
       "\\hline\n",
       "1 & SigXSecOverSM & 2.000e+00 & 2.399e+00 &  &  & 0.000e+00 & 3.000e+00 & \\\\\n",
       "\\hline\n",
       "2 & BackgroundNorm & 1.000e+00 & 9.789e-01 &  &  & 0.000e+00 & 1.000e+02 & \\\\\n",
       "\\hline\n",
       "\\end{tabular}</textarea>\n",
       "            </pre>\n",
       "            "
      ]
     },
     "metadata": {},
     "output_type": "display_data"
    },
    {
     "data": {
      "text/html": [
       "\n",
       "            <table>\n",
       "                <tr>\n",
       "                    <td><a onclick=\"$('#NgDEuNaaTJ').toggle()\" href=\"#\">+</a></td>\n",
       "        \n",
       "            <td>\n",
       "            <div style=\"width:20px;position:relative; width: -moz-fit-content;\">\n",
       "            <div style=\"display:inline-block;-webkit-writing-mode:vertical-rl;-moz-writing-mode: vertical-rl;writing-mode: vertical-rl;\">\n",
       "            SigXSecOverSM\n",
       "            </div>\n",
       "            </div>\n",
       "            </td>\n",
       "            \n",
       "            <td>\n",
       "            <div style=\"width:20px;position:relative; width: -moz-fit-content;\">\n",
       "            <div style=\"display:inline-block;-webkit-writing-mode:vertical-rl;-moz-writing-mode: vertical-rl;writing-mode: vertical-rl;\">\n",
       "            BackgroundNorm\n",
       "            </div>\n",
       "            </div>\n",
       "            </td>\n",
       "            \n",
       "                </tr>\n",
       "                \n",
       "            <tr>\n",
       "                <td>SigXSecOverSM</td>\n",
       "            \n",
       "                <td style=\"background-color:rgb(255,117,117)\">\n",
       "                1.00\n",
       "                </td>\n",
       "                \n",
       "                <td style=\"background-color:rgb(245,131,124)\">\n",
       "                -0.90\n",
       "                </td>\n",
       "                \n",
       "            </tr>\n",
       "            \n",
       "            <tr>\n",
       "                <td>BackgroundNorm</td>\n",
       "            \n",
       "                <td style=\"background-color:rgb(245,131,124)\">\n",
       "                -0.90\n",
       "                </td>\n",
       "                \n",
       "                <td style=\"background-color:rgb(255,117,117)\">\n",
       "                1.00\n",
       "                </td>\n",
       "                \n",
       "            </tr>\n",
       "            </table>\n",
       "\n",
       "            <pre id=\"NgDEuNaaTJ\" style=\"display:none;\">\n",
       "            <textarea rows=\"13\" cols=\"50\" onclick=\"this.select()\" readonly>%\\usepackage[table]{xcolor} % include this for color\n",
       "%\\usepackage{rotating} % include this for rotate header\n",
       "%\\documentclass[xcolor=table]{beamer} % for beamer\n",
       "\\begin{tabular}{|c|c|c|}\n",
       "\\hline\n",
       "\\rotatebox{90}{} & \\rotatebox{90}{SigXSecOverSM} & \\rotatebox{90}{BackgroundNorm}\\\\\n",
       "\\hline\n",
       "SigXSecOverSM & \\cellcolor[RGB]{255,117,117} 1.00 & \\cellcolor[RGB]{245,131,124} -0.90\\\\\n",
       "\\hline\n",
       "BackgroundNorm & \\cellcolor[RGB]{245,131,124} -0.90 & \\cellcolor[RGB]{255,117,117} 1.00\\\\\n",
       "\\hline\n",
       "\\end{tabular}</textarea>\n",
       "            </pre>\n",
       "            "
      ]
     },
     "metadata": {},
     "output_type": "display_data"
    },
    {
     "data": {
      "text/html": [
       "\n",
       "        <span>Minos status for SigXSecOverSM: <span style=\"background-color:#92CCA6\">VALID</span></span>\n",
       "        <table>\n",
       "            <tr>\n",
       "                <td title=\"lower and upper minos error of the parameter\">Error</td>\n",
       "                <td>-1.98618852268</td>\n",
       "                <td>1.00009089428</td>\n",
       "            </tr>\n",
       "            <tr>\n",
       "                <td title=\"Validity of minos error\">Valid</td>\n",
       "                <td style=\"background-color:#92CCA6\">True</td>\n",
       "                <td style=\"background-color:#92CCA6\">True</td>\n",
       "            </tr>\n",
       "            <tr>\n",
       "                <td title=\"Did minos error search hit limit of any paramter?\">At Limit</td>\n",
       "                <td style=\"background-color:#92CCA6\">False</td>\n",
       "                <td style=\"background-color:#FF7878\">True</td>\n",
       "            </tr>\n",
       "            <tr>\n",
       "                <td title=\"I don't really know what this one means... Post it in issue if you know\">Max FCN</td>\n",
       "                <td style=\"background-color:#92CCA6\">False</td>\n",
       "                <td style=\"background-color:#92CCA6\">False</td>\n",
       "            </tr>\n",
       "            <tr>\n",
       "                <td title=\"New minimum found when doing minos scan.\">New Min</td>\n",
       "                <td style=\"background-color:#92CCA6\">False</td>\n",
       "                <td style=\"background-color:#92CCA6\">False</td>\n",
       "            </tr>\n",
       "        </table>\n",
       "        "
      ]
     },
     "metadata": {},
     "output_type": "display_data"
    },
    {
     "data": {
      "text/html": [
       "\n",
       "        <span>Minos status for BackgroundNorm: <span style=\"background-color:#92CCA6\">VALID</span></span>\n",
       "        <table>\n",
       "            <tr>\n",
       "                <td title=\"lower and upper minos error of the parameter\">Error</td>\n",
       "                <td>-0.756705600149</td>\n",
       "                <td>1.08484147103</td>\n",
       "            </tr>\n",
       "            <tr>\n",
       "                <td title=\"Validity of minos error\">Valid</td>\n",
       "                <td style=\"background-color:#92CCA6\">True</td>\n",
       "                <td style=\"background-color:#92CCA6\">True</td>\n",
       "            </tr>\n",
       "            <tr>\n",
       "                <td title=\"Did minos error search hit limit of any paramter?\">At Limit</td>\n",
       "                <td style=\"background-color:#92CCA6\">False</td>\n",
       "                <td style=\"background-color:#92CCA6\">False</td>\n",
       "            </tr>\n",
       "            <tr>\n",
       "                <td title=\"I don't really know what this one means... Post it in issue if you know\">Max FCN</td>\n",
       "                <td style=\"background-color:#92CCA6\">False</td>\n",
       "                <td style=\"background-color:#92CCA6\">False</td>\n",
       "            </tr>\n",
       "            <tr>\n",
       "                <td title=\"New minimum found when doing minos scan.\">New Min</td>\n",
       "                <td style=\"background-color:#92CCA6\">False</td>\n",
       "                <td style=\"background-color:#92CCA6\">False</td>\n",
       "            </tr>\n",
       "        </table>\n",
       "        "
      ]
     },
     "metadata": {},
     "output_type": "display_data"
    },
    {
     "data": {
      "text/plain": [
       "{'BackgroundNorm': {'lower_new_min': False, 'upper': 1.0848414710272252, 'lower': -0.756705600148597, 'at_lower_limit': False, 'min': 1.000028393191904, 'at_lower_max_fcn': False, 'is_valid': True, 'upper_new_min': False, 'at_upper_limit': False, 'lower_valid': True, 'upper_valid': True, 'at_upper_max_fcn': False, 'nfcn': 82},\n",
       " 'SigXSecOverSM': {'lower_new_min': False, 'upper': 1.0000908942838587, 'lower': -1.9861885226766014, 'at_lower_limit': False, 'min': 1.9999091057161413, 'at_lower_max_fcn': False, 'is_valid': True, 'upper_new_min': False, 'at_upper_limit': True, 'lower_valid': True, 'upper_valid': True, 'at_upper_max_fcn': False, 'nfcn': 52}}"
      ]
     },
     "execution_count": 13,
     "metadata": {},
     "output_type": "execute_result"
    }
   ],
   "source": [
    "minimiser.migrad()\n",
    "minimiser.hesse()\n",
    "minimiser.minos()"
   ]
  },
  {
   "cell_type": "code",
   "execution_count": 14,
   "metadata": {},
   "outputs": [
    {
     "name": "stderr",
     "output_type": "stream",
     "text": [
      "/Library/Frameworks/Python.framework/Versions/2.7/lib/python2.7/site-packages/iminuit/_plotting.py:51: RuntimeWarning: band and text is requested but the bound is too narrow.\n",
      "  warnings.warn(RuntimeWarning('band and text is requested but'\n"
     ]
    },
    {
     "data": {
      "text/plain": [
       "(array([-2.79871089, -2.70176907, -2.60482725, -2.50788544, -2.41094362,\n",
       "        -2.3140018 , -2.21705998, -2.12011816, -2.02317635, -1.92623453,\n",
       "        -1.82929271, -1.73235089, -1.63540907, -1.53846726, -1.44152544,\n",
       "        -1.34458362, -1.2476418 , -1.15069998, -1.05375816, -0.95681635,\n",
       "        -0.85987453, -0.76293271, -0.66599089, -0.56904907, -0.47210726,\n",
       "        -0.37516544, -0.27822362, -0.1812818 , -0.08433998,  0.01260183,\n",
       "         0.10954365,  0.20648547,  0.30342729,  0.40036911,  0.49731092,\n",
       "         0.59425274,  0.69119456,  0.78813638,  0.8850782 ,  0.98202002,\n",
       "         1.07896183,  1.17590365,  1.27284547,  1.36978729,  1.46672911,\n",
       "         1.56367092,  1.66061274,  1.75755456,  1.85449638,  1.9514382 ,\n",
       "         2.04838001,  2.14532183,  2.24226365,  2.33920547,  2.43614729,\n",
       "         2.53308911,  2.63003092,  2.72697274,  2.82391456,  2.92085638,\n",
       "         3.0177982 ,  3.11474001,  3.21168183,  3.30862365,  3.40556547,\n",
       "         3.50250729,  3.5994491 ,  3.69639092,  3.79333274,  3.89027456,\n",
       "         3.98721638,  4.0841582 ,  4.18110001,  4.27804183,  4.37498365,\n",
       "         4.47192547,  4.56886729,  4.6658091 ,  4.76275092,  4.85969274,\n",
       "         4.95663456,  5.05357638,  5.15051819,  5.24746001,  5.34440183,\n",
       "         5.44134365,  5.53828547,  5.63522729,  5.7321691 ,  5.82911092,\n",
       "         5.92605274,  6.02299456,  6.11993638,  6.21687819,  6.31382001,\n",
       "         6.41076183,  6.50770365,  6.60464547,  6.70158728,  6.7985291 ]),\n",
       " array([          nan,           nan,           nan,           nan,\n",
       "                  nan,           nan,           nan,           nan,\n",
       "                  nan,           nan,           nan,           nan,\n",
       "                  nan,           nan,           nan,           nan,\n",
       "         108.29878325,   57.69601116,   47.11983917,   40.50229803,\n",
       "          35.63621263,   31.79381755,   28.6358272 ,   25.97341487,\n",
       "          23.68934912,   21.70522   ,   19.96567026,   18.42998072,\n",
       "          17.06721866,   15.85326723,   14.76891692,   13.79859009,\n",
       "          12.92946017,   12.15082612,   11.45365759,   10.83025712,\n",
       "          10.27400484,    9.7791622 ,    9.34071917,    8.95427345,\n",
       "           8.6159342 ,    8.32224422,    8.07011667,    7.856783  ,\n",
       "           7.67974989,    7.53676329,    7.42577819,    7.34493316,\n",
       "           7.29252864,    7.26700834,    7.26694337,    7.29101848,\n",
       "           7.33802008,    7.40682594,    7.49639604,    7.60576463,\n",
       "           7.73403325,    7.88036449,    8.04397651,    8.22413817,\n",
       "           8.42016469,    8.63141372,    8.8572819 ,    9.09720168,\n",
       "           9.35063856,    9.61708849,    9.8960756 ,   10.18715009,\n",
       "          10.48988636,   10.80388126,   11.12875253,   11.46413737,\n",
       "          11.80969113,   12.16508608,   12.53001031,   12.90416677,\n",
       "          13.28727224,   13.67905657,   14.0792618 ,   14.48764148,\n",
       "          14.90395997,   15.32799181,   15.75952113,   16.19834113,\n",
       "          16.64425356,   17.09706823,   17.55660261,   18.02268142,\n",
       "          18.4951362 ,   18.973805  ,   19.45853207,   19.94916745,\n",
       "          20.44556679,   20.94759102,   21.45510607,   21.9679827 ,\n",
       "          22.48609619,   23.0093262 ,   23.53755651,   24.07067487]))"
      ]
     },
     "execution_count": 14,
     "metadata": {},
     "output_type": "execute_result"
    },
    {
     "data": {
      "image/png": "[encoded data removed]",
      "text/plain": [
       "<matplotlib.figure.Figure at 0x1092935d0>"
      ]
     },
     "metadata": {},
     "output_type": "display_data"
    }
   ],
   "source": [
    "%matplotlib inline\n",
    "minimiser.draw_profile('SigXSecOverSM')"
   ]
  },
  {
   "cell_type": "markdown",
   "metadata": {},
   "source": [
    "## Testing PDF"
   ]
  },
  {
   "cell_type": "code",
   "execution_count": 15,
   "metadata": {},
   "outputs": [],
   "source": [
    "m2 = HistiModel('newmodel')\n",
    "signal = HistiSample('signal')\n",
    "binedges = [0,1,2,3,4]\n",
    "signal.SetHisto((hist_sig,binedges))\n",
    "signal.AddNorm(\"SigXSecOverSM\",1.0,0,3)\n",
    "background = HistiSample('background')\n",
    "background.SetHisto((hist_bkg, binedges))\n",
    "background.AddNorm(\"BackgroundNorm\",1.,0,100)"
   ]
  },
  {
   "cell_type": "code",
   "execution_count": 16,
   "metadata": {},
   "outputs": [],
   "source": [
    "background.AddOverallSys(\"NormSystUncertainty\",.9,1.1)"
   ]
  },
  {
   "cell_type": "code",
   "execution_count": 17,
   "metadata": {},
   "outputs": [
    {
     "data": {
      "text/plain": [
       "['x', 'BackgroundNorm', 'NormSystUncertainty']"
      ]
     },
     "execution_count": 17,
     "metadata": {},
     "output_type": "execute_result"
    }
   ],
   "source": [
    "from iminuit import describe\n",
    "describe(background.pdf)"
   ]
  },
  {
   "cell_type": "code",
   "execution_count": 18,
   "metadata": {},
   "outputs": [
    {
     "name": "stdout",
     "output_type": "stream",
     "text": [
      "[5 5 5 5]\n",
      "[5.0, 5.0, 5.0, 5.0]\n"
     ]
    }
   ],
   "source": [
    "print background.bincontent\n",
    "assess = []\n",
    "for i in range(len(background.bincontent)):\n",
    "    assess.append(background.pdf(i,1,0))\n",
    "print assess"
   ]
  },
  {
   "cell_type": "code",
   "execution_count": 19,
   "metadata": {},
   "outputs": [
    {
     "name": "stdout",
     "output_type": "stream",
     "text": [
      "funcpos [array([0, 1]), array([0, 2, 3])]\n"
     ]
    }
   ],
   "source": [
    "chan = HistiChannel(\"SR\")\n",
    "chan.AddSample(signal)\n",
    "chan.AddSample(background)\n",
    "\n",
    "data = hist_sig*2 +hist_bkg\n",
    "\n",
    "chan.SetData(data)\n",
    "m2.AddChannel(chan)"
   ]
  },
  {
   "cell_type": "code",
   "execution_count": 20,
   "metadata": {},
   "outputs": [
    {
     "name": "stdout",
     "output_type": "stream",
     "text": [
      "params are  {'BackgroundNorm': 1.0, 'limit_SigXSecOverSM': (0, 3), 'NormSystUncertainty': 0.20000000000000007, 'SigXSecOverSM': 1.0, 'errordef': 1, 'limit_NormSystUncertainty': (-50, 50), 'limit_BackgroundNorm': (0, 100)}\n"
     ]
    }
   ],
   "source": [
    "blh = BinnedLH(m2, bound=(0,4))\n",
    "params = m2.Parameters()\n",
    "print \"params are \",params"
   ]
  },
  {
   "cell_type": "code",
   "execution_count": 21,
   "metadata": {
    "scrolled": true
   },
   "outputs": [
    {
     "name": "stderr",
     "output_type": "stream",
     "text": [
      "/Users/vince/tensorflow/lib/python2.7/site-packages/ipykernel_launcher.py:1: InitialParamWarning: Parameter SigXSecOverSM is floating but does not have initial step size. Assume 1.\n",
      "  \"\"\"Entry point for launching an IPython kernel.\n",
      "/Users/vince/tensorflow/lib/python2.7/site-packages/ipykernel_launcher.py:1: InitialParamWarning: Parameter BackgroundNorm is floating but does not have initial step size. Assume 1.\n",
      "  \"\"\"Entry point for launching an IPython kernel.\n",
      "/Users/vince/tensorflow/lib/python2.7/site-packages/ipykernel_launcher.py:1: InitialParamWarning: Parameter NormSystUncertainty is floating but does not have initial step size. Assume 1.\n",
      "  \"\"\"Entry point for launching an IPython kernel.\n"
     ]
    },
    {
     "data": {
      "text/html": [
       "<hr>"
      ]
     },
     "metadata": {},
     "output_type": "display_data"
    },
    {
     "data": {
      "text/html": [
       "\n",
       "        <table>\n",
       "            <tr>\n",
       "                <td title=\"Minimum value of function\">FCN = 7.86495690075</td>\n",
       "                <td title=\"Total number of call to FCN so far\">TOTAL NCALL = 73</td>\n",
       "                <td title=\"Number of call in last migrad\">NCALLS = 73</td>\n",
       "            </tr>\n",
       "            <tr>\n",
       "                <td title=\"Estimated distance to minimum\">EDM = 2.0545651524e-05</td>\n",
       "                <td title=\"Maximum EDM definition of convergence\">GOAL EDM = 1e-05</td>\n",
       "                <td title=\"Error def. Amount of increase in FCN to be defined as 1 standard deviation\">\n",
       "                UP = 1.0</td>\n",
       "            </tr>\n",
       "        </table>\n",
       "        \n",
       "        <table>\n",
       "            <tr>\n",
       "                <td align=\"center\" title=\"Validity of the migrad call\">Valid</td>\n",
       "                <td align=\"center\" title=\"Validity of parameters\">Valid Param</td>\n",
       "                <td align=\"center\" title=\"Is Covariance matrix accurate?\">Accurate Covar</td>\n",
       "                <td align=\"center\" title=\"Positive definiteness of covariance matrix\">PosDef</td>\n",
       "                <td align=\"center\" title=\"Was covariance matrix made posdef by adding diagonal element\">Made PosDef</td>\n",
       "            </tr>\n",
       "            <tr>\n",
       "                <td align=\"center\" style=\"background-color:#92CCA6\">True</td>\n",
       "                <td align=\"center\" style=\"background-color:#92CCA6\">True</td>\n",
       "                <td align=\"center\" style=\"background-color:#92CCA6\">True</td>\n",
       "                <td align=\"center\" style=\"background-color:#92CCA6\">True</td>\n",
       "                <td align=\"center\" style=\"background-color:#92CCA6\">False</td>\n",
       "            </tr>\n",
       "            <tr>\n",
       "                <td align=\"center\" title=\"Was last hesse call fail?\">Hesse Fail</td>\n",
       "                <td align=\"center\" title=\"Validity of covariance\">HasCov</td>\n",
       "                <td align=\"center\" title=\"Is EDM above goal EDM?\">Above EDM</td>\n",
       "                <td align=\"center\"></td>\n",
       "                <td align=\"center\" title=\"Did last migrad call reach max call limit?\">Reach calllim</td>\n",
       "            </tr>\n",
       "            <tr>\n",
       "                <td align=\"center\" style=\"background-color:#92CCA6\">False</td>\n",
       "                <td align=\"center\" style=\"background-color:#92CCA6\">True</td>\n",
       "                <td align=\"center\" style=\"background-color:#92CCA6\">False</td>\n",
       "                <td align=\"center\"></td>\n",
       "                <td align=\"center\" style=\"background-color:#92CCA6\">False</td>\n",
       "            </tr>\n",
       "        </table>\n",
       "        "
      ]
     },
     "metadata": {},
     "output_type": "display_data"
    },
    {
     "data": {
      "text/html": [
       "\n",
       "        <table>\n",
       "            <tr>\n",
       "                <td><a href=\"#\" onclick=\"$('#yBmuXpbsqM').toggle()\">+</a></td>\n",
       "                <td title=\"Variable name\">Name</td>\n",
       "                <td title=\"Value of parameter\">Value</td>\n",
       "                <td title=\"Parabolic error\">Parab Error</td>\n",
       "                <td title=\"Minos lower error\">Minos Error-</td>\n",
       "                <td title=\"Minos upper error\">Minos Error+</td>\n",
       "                <td title=\"Lower limit of the parameter\">Limit-</td>\n",
       "                <td title=\"Upper limit of the parameter\">Limit+</td>\n",
       "                <td title=\"Is the parameter fixed in the fit\">FIXED</td>\n",
       "            </tr>\n",
       "        \n",
       "            <tr>\n",
       "                <td>1</td>\n",
       "                <td>SigXSecOverSM</td>\n",
       "                <td>2.0028</td>\n",
       "                <td>2.40131</td>\n",
       "                <td>0</td>\n",
       "                <td>0</td>\n",
       "                <td>0.0</td>\n",
       "                <td>3.0</td>\n",
       "                <td></td>\n",
       "            </tr>\n",
       "            \n",
       "            <tr>\n",
       "                <td>2</td>\n",
       "                <td>BackgroundNorm</td>\n",
       "                <td>0.999502</td>\n",
       "                <td>1.00232</td>\n",
       "                <td>0</td>\n",
       "                <td>0</td>\n",
       "                <td>0.0</td>\n",
       "                <td>100.0</td>\n",
       "                <td></td>\n",
       "            </tr>\n",
       "            \n",
       "            <tr>\n",
       "                <td>3</td>\n",
       "                <td>NormSystUncertainty</td>\n",
       "                <td>0.00652159</td>\n",
       "                <td>2.23892</td>\n",
       "                <td>0</td>\n",
       "                <td>0</td>\n",
       "                <td>-50.0</td>\n",
       "                <td>50.0</td>\n",
       "                <td></td>\n",
       "            </tr>\n",
       "            \n",
       "            </table>\n",
       "        \n",
       "            <pre id=\"yBmuXpbsqM\" style=\"display:none;\">\n",
       "            <textarea rows=\"12\" cols=\"50\" onclick=\"this.select()\" readonly>\\begin{tabular}{|c|r|r|r|r|r|r|r|c|}\n",
       "\\hline\n",
       " & Name & Value & Para Error & Error+ & Error- & Limit+ & Limit- & FIXED\\\\\n",
       "\\hline\n",
       "1 & SigXSecOverSM & 2.003e+00 & 2.401e+00 &  &  & 0.000e+00 & 3.000e+00 & \\\\\n",
       "\\hline\n",
       "2 & BackgroundNorm & 9.995e-01 & 1.002e+00 &  &  & 0.000e+00 & 1.000e+02 & \\\\\n",
       "\\hline\n",
       "3 & NormSystUncertainty & 6.522e-03 & 2.239e+00 &  &  & -5.000e+01 & 5.000e+01 & \\\\\n",
       "\\hline\n",
       "\\end{tabular}</textarea>\n",
       "            </pre>\n",
       "            "
      ]
     },
     "metadata": {},
     "output_type": "display_data"
    },
    {
     "data": {
      "text/html": [
       "<hr>"
      ]
     },
     "metadata": {},
     "output_type": "display_data"
    },
    {
     "data": {
      "text/html": [
       "\n",
       "        <table>\n",
       "            <tr>\n",
       "                <td><a href=\"#\" onclick=\"$('#KecYTadfPX').toggle()\">+</a></td>\n",
       "                <td title=\"Variable name\">Name</td>\n",
       "                <td title=\"Value of parameter\">Value</td>\n",
       "                <td title=\"Parabolic error\">Parab Error</td>\n",
       "                <td title=\"Minos lower error\">Minos Error-</td>\n",
       "                <td title=\"Minos upper error\">Minos Error+</td>\n",
       "                <td title=\"Lower limit of the parameter\">Limit-</td>\n",
       "                <td title=\"Upper limit of the parameter\">Limit+</td>\n",
       "                <td title=\"Is the parameter fixed in the fit\">FIXED</td>\n",
       "            </tr>\n",
       "        \n",
       "            <tr>\n",
       "                <td>1</td>\n",
       "                <td>SigXSecOverSM</td>\n",
       "                <td>2.0028</td>\n",
       "                <td>2.40016</td>\n",
       "                <td>0</td>\n",
       "                <td>0</td>\n",
       "                <td>0.0</td>\n",
       "                <td>3.0</td>\n",
       "                <td></td>\n",
       "            </tr>\n",
       "            \n",
       "            <tr>\n",
       "                <td>2</td>\n",
       "                <td>BackgroundNorm</td>\n",
       "                <td>0.999502</td>\n",
       "                <td>1.0003</td>\n",
       "                <td>0</td>\n",
       "                <td>0</td>\n",
       "                <td>0.0</td>\n",
       "                <td>100.0</td>\n",
       "                <td></td>\n",
       "            </tr>\n",
       "            \n",
       "            <tr>\n",
       "                <td>3</td>\n",
       "                <td>NormSystUncertainty</td>\n",
       "                <td>0.00652159</td>\n",
       "                <td>2.23921</td>\n",
       "                <td>0</td>\n",
       "                <td>0</td>\n",
       "                <td>-50.0</td>\n",
       "                <td>50.0</td>\n",
       "                <td></td>\n",
       "            </tr>\n",
       "            \n",
       "            </table>\n",
       "        \n",
       "            <pre id=\"KecYTadfPX\" style=\"display:none;\">\n",
       "            <textarea rows=\"12\" cols=\"50\" onclick=\"this.select()\" readonly>\\begin{tabular}{|c|r|r|r|r|r|r|r|c|}\n",
       "\\hline\n",
       " & Name & Value & Para Error & Error+ & Error- & Limit+ & Limit- & FIXED\\\\\n",
       "\\hline\n",
       "1 & SigXSecOverSM & 2.003e+00 & 2.400e+00 &  &  & 0.000e+00 & 3.000e+00 & \\\\\n",
       "\\hline\n",
       "2 & BackgroundNorm & 9.995e-01 & 1.000e+00 &  &  & 0.000e+00 & 1.000e+02 & \\\\\n",
       "\\hline\n",
       "3 & NormSystUncertainty & 6.522e-03 & 2.239e+00 &  &  & -5.000e+01 & 5.000e+01 & \\\\\n",
       "\\hline\n",
       "\\end{tabular}</textarea>\n",
       "            </pre>\n",
       "            "
      ]
     },
     "metadata": {},
     "output_type": "display_data"
    },
    {
     "data": {
      "text/html": [
       "\n",
       "            <table>\n",
       "                <tr>\n",
       "                    <td><a onclick=\"$('#rvZWOaLimj').toggle()\" href=\"#\">+</a></td>\n",
       "        \n",
       "            <td>\n",
       "            <div style=\"width:20px;position:relative; width: -moz-fit-content;\">\n",
       "            <div style=\"display:inline-block;-webkit-writing-mode:vertical-rl;-moz-writing-mode: vertical-rl;writing-mode: vertical-rl;\">\n",
       "            SigXSecOverSM\n",
       "            </div>\n",
       "            </div>\n",
       "            </td>\n",
       "            \n",
       "            <td>\n",
       "            <div style=\"width:20px;position:relative; width: -moz-fit-content;\">\n",
       "            <div style=\"display:inline-block;-webkit-writing-mode:vertical-rl;-moz-writing-mode: vertical-rl;writing-mode: vertical-rl;\">\n",
       "            BackgroundNorm\n",
       "            </div>\n",
       "            </div>\n",
       "            </td>\n",
       "            \n",
       "            <td>\n",
       "            <div style=\"width:20px;position:relative; width: -moz-fit-content;\">\n",
       "            <div style=\"display:inline-block;-webkit-writing-mode:vertical-rl;-moz-writing-mode: vertical-rl;writing-mode: vertical-rl;\">\n",
       "            NormSystUncertainty\n",
       "            </div>\n",
       "            </div>\n",
       "            </td>\n",
       "            \n",
       "                </tr>\n",
       "                \n",
       "            <tr>\n",
       "                <td>SigXSecOverSM</td>\n",
       "            \n",
       "                <td style=\"background-color:rgb(255,117,117)\">\n",
       "                1.00\n",
       "                </td>\n",
       "                \n",
       "                <td style=\"background-color:rgb(244,134,126)\">\n",
       "                -0.88\n",
       "                </td>\n",
       "                \n",
       "                <td style=\"background-color:rgb(163,254,186)\">\n",
       "                0.00\n",
       "                </td>\n",
       "                \n",
       "            </tr>\n",
       "            \n",
       "            <tr>\n",
       "                <td>BackgroundNorm</td>\n",
       "            \n",
       "                <td style=\"background-color:rgb(244,134,126)\">\n",
       "                -0.88\n",
       "                </td>\n",
       "                \n",
       "                <td style=\"background-color:rgb(255,117,117)\">\n",
       "                1.00\n",
       "                </td>\n",
       "                \n",
       "                <td style=\"background-color:rgb(183,225,171)\">\n",
       "                -0.21\n",
       "                </td>\n",
       "                \n",
       "            </tr>\n",
       "            \n",
       "            <tr>\n",
       "                <td>NormSystUncertainty</td>\n",
       "            \n",
       "                <td style=\"background-color:rgb(163,254,186)\">\n",
       "                0.00\n",
       "                </td>\n",
       "                \n",
       "                <td style=\"background-color:rgb(183,225,171)\">\n",
       "                -0.21\n",
       "                </td>\n",
       "                \n",
       "                <td style=\"background-color:rgb(255,117,117)\">\n",
       "                1.00\n",
       "                </td>\n",
       "                \n",
       "            </tr>\n",
       "            </table>\n",
       "\n",
       "            <pre id=\"rvZWOaLimj\" style=\"display:none;\">\n",
       "            <textarea rows=\"15\" cols=\"50\" onclick=\"this.select()\" readonly>%\\usepackage[table]{xcolor} % include this for color\n",
       "%\\usepackage{rotating} % include this for rotate header\n",
       "%\\documentclass[xcolor=table]{beamer} % for beamer\n",
       "\\begin{tabular}{|c|c|c|c|}\n",
       "\\hline\n",
       "\\rotatebox{90}{} & \\rotatebox{90}{SigXSecOverSM} & \\rotatebox{90}{BackgroundNorm} & \\rotatebox{90}{NormSystUncertainty}\\\\\n",
       "\\hline\n",
       "SigXSecOverSM & \\cellcolor[RGB]{255,117,117} 1.00 & \\cellcolor[RGB]{244,134,126} -0.88 & \\cellcolor[RGB]{163,254,186} 0.00\\\\\n",
       "\\hline\n",
       "BackgroundNorm & \\cellcolor[RGB]{244,134,126} -0.88 & \\cellcolor[RGB]{255,117,117} 1.00 & \\cellcolor[RGB]{183,225,171} -0.21\\\\\n",
       "\\hline\n",
       "NormSystUncertainty & \\cellcolor[RGB]{163,254,186} 0.00 & \\cellcolor[RGB]{183,225,171} -0.21 & \\cellcolor[RGB]{255,117,117} 1.00\\\\\n",
       "\\hline\n",
       "\\end{tabular}</textarea>\n",
       "            </pre>\n",
       "            "
      ]
     },
     "metadata": {},
     "output_type": "display_data"
    },
    {
     "data": {
      "text/html": [
       "\n",
       "        <span>Minos status for SigXSecOverSM: <span style=\"background-color:#92CCA6\">VALID</span></span>\n",
       "        <table>\n",
       "            <tr>\n",
       "                <td title=\"lower and upper minos error of the parameter\">Error</td>\n",
       "                <td>-1.98908889011</td>\n",
       "                <td>0.997199195173</td>\n",
       "            </tr>\n",
       "            <tr>\n",
       "                <td title=\"Validity of minos error\">Valid</td>\n",
       "                <td style=\"background-color:#92CCA6\">True</td>\n",
       "                <td style=\"background-color:#92CCA6\">True</td>\n",
       "            </tr>\n",
       "            <tr>\n",
       "                <td title=\"Did minos error search hit limit of any paramter?\">At Limit</td>\n",
       "                <td style=\"background-color:#92CCA6\">False</td>\n",
       "                <td style=\"background-color:#FF7878\">True</td>\n",
       "            </tr>\n",
       "            <tr>\n",
       "                <td title=\"I don't really know what this one means... Post it in issue if you know\">Max FCN</td>\n",
       "                <td style=\"background-color:#92CCA6\">False</td>\n",
       "                <td style=\"background-color:#92CCA6\">False</td>\n",
       "            </tr>\n",
       "            <tr>\n",
       "                <td title=\"New minimum found when doing minos scan.\">New Min</td>\n",
       "                <td style=\"background-color:#92CCA6\">False</td>\n",
       "                <td style=\"background-color:#92CCA6\">False</td>\n",
       "            </tr>\n",
       "        </table>\n",
       "        "
      ]
     },
     "metadata": {},
     "output_type": "display_data"
    },
    {
     "data": {
      "text/html": [
       "\n",
       "        <span>Minos status for BackgroundNorm: <span style=\"background-color:#FF7878\">PROBLEM</span></span>\n",
       "        <table>\n",
       "            <tr>\n",
       "                <td title=\"lower and upper minos error of the parameter\">Error</td>\n",
       "                <td>-0.759491762141</td>\n",
       "                <td>1.00231579554</td>\n",
       "            </tr>\n",
       "            <tr>\n",
       "                <td title=\"Validity of minos error\">Valid</td>\n",
       "                <td style=\"background-color:#92CCA6\">True</td>\n",
       "                <td style=\"background-color:#FF7878\">False</td>\n",
       "            </tr>\n",
       "            <tr>\n",
       "                <td title=\"Did minos error search hit limit of any paramter?\">At Limit</td>\n",
       "                <td style=\"background-color:#92CCA6\">False</td>\n",
       "                <td style=\"background-color:#92CCA6\">False</td>\n",
       "            </tr>\n",
       "            <tr>\n",
       "                <td title=\"I don't really know what this one means... Post it in issue if you know\">Max FCN</td>\n",
       "                <td style=\"background-color:#92CCA6\">False</td>\n",
       "                <td style=\"background-color:#92CCA6\">False</td>\n",
       "            </tr>\n",
       "            <tr>\n",
       "                <td title=\"New minimum found when doing minos scan.\">New Min</td>\n",
       "                <td style=\"background-color:#92CCA6\">False</td>\n",
       "                <td style=\"background-color:#92CCA6\">False</td>\n",
       "            </tr>\n",
       "        </table>\n",
       "        "
      ]
     },
     "metadata": {},
     "output_type": "display_data"
    },
    {
     "data": {
      "text/html": [
       "\n",
       "        <span>Minos status for NormSystUncertainty: <span style=\"background-color:#FF7878\">PROBLEM</span></span>\n",
       "        <table>\n",
       "            <tr>\n",
       "                <td title=\"lower and upper minos error of the parameter\">Error</td>\n",
       "                <td>-2.23891913381</td>\n",
       "                <td>2.23891913381</td>\n",
       "            </tr>\n",
       "            <tr>\n",
       "                <td title=\"Validity of minos error\">Valid</td>\n",
       "                <td style=\"background-color:#FF7878\">False</td>\n",
       "                <td style=\"background-color:#FF7878\">False</td>\n",
       "            </tr>\n",
       "            <tr>\n",
       "                <td title=\"Did minos error search hit limit of any paramter?\">At Limit</td>\n",
       "                <td style=\"background-color:#92CCA6\">False</td>\n",
       "                <td style=\"background-color:#92CCA6\">False</td>\n",
       "            </tr>\n",
       "            <tr>\n",
       "                <td title=\"I don't really know what this one means... Post it in issue if you know\">Max FCN</td>\n",
       "                <td style=\"background-color:#92CCA6\">False</td>\n",
       "                <td style=\"background-color:#92CCA6\">False</td>\n",
       "            </tr>\n",
       "            <tr>\n",
       "                <td title=\"New minimum found when doing minos scan.\">New Min</td>\n",
       "                <td style=\"background-color:#92CCA6\">False</td>\n",
       "                <td style=\"background-color:#92CCA6\">False</td>\n",
       "            </tr>\n",
       "        </table>\n",
       "        "
      ]
     },
     "metadata": {},
     "output_type": "display_data"
    },
    {
     "data": {
      "text/plain": [
       "{'BackgroundNorm': {'lower_new_min': False, 'upper': 1.0023157955427826, 'lower': -0.7594917621412193, 'at_lower_limit': False, 'min': 0.9995017248687732, 'at_lower_max_fcn': False, 'is_valid': False, 'upper_new_min': False, 'at_upper_limit': False, 'lower_valid': True, 'upper_valid': False, 'at_upper_max_fcn': False, 'nfcn': 470},\n",
       " 'NormSystUncertainty': {'lower_new_min': False, 'upper': 2.238919133813347, 'lower': -2.238919133813347, 'at_lower_limit': False, 'min': 0.006521591617037359, 'at_lower_max_fcn': False, 'is_valid': False, 'upper_new_min': False, 'at_upper_limit': False, 'lower_valid': False, 'upper_valid': False, 'at_upper_max_fcn': False, 'nfcn': 863},\n",
       " 'SigXSecOverSM': {'lower_new_min': False, 'upper': 0.9971991951725534, 'lower': -1.9890888901072705, 'at_lower_limit': False, 'min': 2.0028008048274466, 'at_lower_max_fcn': False, 'is_valid': True, 'upper_new_min': False, 'at_upper_limit': True, 'lower_valid': True, 'upper_valid': True, 'at_upper_max_fcn': False, 'nfcn': 126}}"
      ]
     },
     "execution_count": 21,
     "metadata": {},
     "output_type": "execute_result"
    }
   ],
   "source": [
    "minimiser = Minuit(blh, **params)\n",
    "minimiser.migrad()\n",
    "minimiser.hesse()\n",
    "minimiser.minos()"
   ]
  },
  {
   "cell_type": "code",
   "execution_count": 22,
   "metadata": {},
   "outputs": [
    {
     "data": {
      "text/plain": [
       "(array([-2.7975228 , -2.70054656, -2.60357033, -2.5065941 , -2.40961786,\n",
       "        -2.31264163, -2.21566539, -2.11868916, -2.02171292, -1.92473669,\n",
       "        -1.82776046, -1.73078422, -1.63380799, -1.53683175, -1.43985552,\n",
       "        -1.34287928, -1.24590305, -1.14892681, -1.05195058, -0.95497435,\n",
       "        -0.85799811, -0.76102188, -0.66404564, -0.56706941, -0.47009317,\n",
       "        -0.37311694, -0.2761407 , -0.17916447, -0.08218824,  0.014788  ,\n",
       "         0.11176423,  0.20874047,  0.3057167 ,  0.40269294,  0.49966917,\n",
       "         0.59664541,  0.69362164,  0.79059787,  0.88757411,  0.98455034,\n",
       "         1.08152658,  1.17850281,  1.27547905,  1.37245528,  1.46943152,\n",
       "         1.56640775,  1.66338398,  1.76036022,  1.85733645,  1.95431269,\n",
       "         2.05128892,  2.14826516,  2.24524139,  2.34221763,  2.43919386,\n",
       "         2.53617009,  2.63314633,  2.73012256,  2.8270988 ,  2.92407503,\n",
       "         3.02105127,  3.1180275 ,  3.21500374,  3.31197997,  3.4089562 ,\n",
       "         3.50593244,  3.60290867,  3.69988491,  3.79686114,  3.89383738,\n",
       "         3.99081361,  4.08778985,  4.18476608,  4.28174231,  4.37871855,\n",
       "         4.47569478,  4.57267102,  4.66964725,  4.76662349,  4.86359972,\n",
       "         4.96057595,  5.05755219,  5.15452842,  5.25150466,  5.34848089,\n",
       "         5.44545713,  5.54243336,  5.6394096 ,  5.73638583,  5.83336206,\n",
       "         5.9303383 ,  6.02731453,  6.12429077,  6.221267  ,  6.31824324,\n",
       "         6.41521947,  6.51219571,  6.60917194,  6.70614817,  6.80312441]),\n",
       " array([          nan,           nan,           nan,           nan,\n",
       "                  nan,           nan,           nan,           nan,\n",
       "                  nan,           nan,           nan,           nan,\n",
       "                  nan,           nan,           nan,           nan,\n",
       "         101.3852272 ,   58.01289998,   47.56195292,   40.98997925,\n",
       "          36.14837612,   32.32163067,   29.17468412,   26.52058004,\n",
       "          24.24305111,   22.26423881,   20.52912607,   18.99721587,\n",
       "          17.6377273 ,   16.42665107,   15.3448562 ,   14.37682384,\n",
       "          13.50977236,   12.73303572,   12.03761126,   11.41582376,\n",
       "          10.86107139,   10.36763045,    9.93050319,    9.54529764,\n",
       "           9.20813163,    8.91555536,    8.66448831,    8.45216739,\n",
       "           8.27610397,    8.13404811,    8.02395842,    7.94397662,\n",
       "           7.89240593,    7.86769253,    7.86840974,    7.89324426,\n",
       "           7.94098428,    8.01050912,    8.1007802 ,    8.21083306,\n",
       "           8.33977039,    8.48675585,    8.65100856,    8.83179826,\n",
       "           9.02844097,    9.24029508,    9.46675789,    9.70726251,\n",
       "           9.96127498,   10.22829179,   10.50783755,   10.79946292,\n",
       "          11.10274271,   11.41727418,   11.74267542,   12.07858397,\n",
       "          12.42465549,   12.78056254,   13.1459935 ,   13.52065156,\n",
       "          13.90425376,   14.29653015,   14.697223  ,   15.10608606,\n",
       "          15.52288387,   15.94739115,   16.3793922 ,   16.81868037,\n",
       "          17.26505755,   17.71833371,   18.17832645,   18.64486059,\n",
       "          19.11776782,   19.59688629,   20.08206034,   20.57314014,\n",
       "          21.06998142,   21.5724452 ,   22.08039751,   22.59370917,\n",
       "          23.11225557,   23.63591641,   24.16457557,   24.69812086]))"
      ]
     },
     "execution_count": 22,
     "metadata": {},
     "output_type": "execute_result"
    },
    {
     "data": {
      "image/png": "[encoded data removed]",
      "text/plain": [
       "<matplotlib.figure.Figure at 0x10a670f10>"
      ]
     },
     "metadata": {},
     "output_type": "display_data"
    }
   ],
   "source": [
    "minimiser.draw_profile('SigXSecOverSM')"
   ]
  },
  {
   "cell_type": "markdown",
   "metadata": {},
   "source": [
    "# Testing HistoSys"
   ]
  },
  {
   "cell_type": "code",
   "execution_count": 23,
   "metadata": {},
   "outputs": [],
   "source": [
    "m3 = HistiModel('newmodel')\n",
    "signal = HistiSample('signal')\n",
    "binedges = [0,1,2,3,4]\n",
    "signal.SetHisto((hist_sig,binedges))\n",
    "signal.AddNorm(\"SigXSecOverSM\",1.0,0,3)\n",
    "background = HistiSample('background')\n",
    "background.SetHisto((hist_bkg, binedges))\n",
    "background.AddNorm(\"BackgroundNorm\",1.,0,100)\n",
    "background.AddOverallSys(\"NormSystUncertainty\",.9,1.1)"
   ]
  },
  {
   "cell_type": "code",
   "execution_count": 24,
   "metadata": {},
   "outputs": [],
   "source": [
    "h_up = [5.1,5.2,5.3,5.6]\n",
    "h_down = [4.9,4.8,4.7,4.4]\n",
    "background.AddHistoSys(\"HistoSystUncertainty\",h_down,h_up)"
   ]
  },
  {
   "cell_type": "code",
   "execution_count": 25,
   "metadata": {},
   "outputs": [
    {
     "data": {
      "text/plain": [
       "['x', 'BackgroundNorm', 'NormSystUncertainty', 'HistoSystUncertainty']"
      ]
     },
     "execution_count": 25,
     "metadata": {},
     "output_type": "execute_result"
    }
   ],
   "source": [
    "from iminuit import describe\n",
    "describe(background.pdf)"
   ]
  },
  {
   "cell_type": "code",
   "execution_count": 26,
   "metadata": {},
   "outputs": [
    {
     "name": "stdout",
     "output_type": "stream",
     "text": [
      "[5 5 5 5]\n",
      "[5.0, 5.0, 5.0, 5.0]\n"
     ]
    }
   ],
   "source": [
    "print background.bincontent\n",
    "assess = []\n",
    "for i in range(len(background.bincontent)):\n",
    "    assess.append(background.pdf(i,1.,0.,0.))\n",
    "print assess"
   ]
  },
  {
   "cell_type": "code",
   "execution_count": 27,
   "metadata": {},
   "outputs": [
    {
     "name": "stdout",
     "output_type": "stream",
     "text": [
      "funcpos [array([0, 1]), array([0, 2, 3, 4])]\n"
     ]
    }
   ],
   "source": [
    "chan = HistiChannel(\"SR\")\n",
    "chan.AddSample(signal)\n",
    "chan.AddSample(background)\n",
    "\n",
    "data = hist_sig*2 +hist_bkg\n",
    "\n",
    "chan.SetData(data)\n",
    "m3.AddChannel(chan)"
   ]
  },
  {
   "cell_type": "code",
   "execution_count": 28,
   "metadata": {
    "scrolled": true
   },
   "outputs": [
    {
     "name": "stdout",
     "output_type": "stream",
     "text": [
      "params are  {'BackgroundNorm': 1.0, 'limit_SigXSecOverSM': (0, 3), 'NormSystUncertainty': 0.20000000000000007, 'SigXSecOverSM': 1.0, 'limit_HistoSystUncertainty': (-50, 50), 'HistoSystUncertainty': 2.4000000000000057, 'errordef': 1, 'limit_NormSystUncertainty': (-50, 50), 'limit_BackgroundNorm': (0, 100)}\n"
     ]
    }
   ],
   "source": [
    "blh = BinnedLH(m3, bound=(0,4))\n",
    "params = m3.Parameters()\n",
    "print \"params are \",params"
   ]
  },
  {
   "cell_type": "code",
   "execution_count": 29,
   "metadata": {},
   "outputs": [
    {
     "name": "stderr",
     "output_type": "stream",
     "text": [
      "/Users/vince/tensorflow/lib/python2.7/site-packages/ipykernel_launcher.py:1: InitialParamWarning: Parameter SigXSecOverSM is floating but does not have initial step size. Assume 1.\n",
      "  \"\"\"Entry point for launching an IPython kernel.\n",
      "/Users/vince/tensorflow/lib/python2.7/site-packages/ipykernel_launcher.py:1: InitialParamWarning: Parameter BackgroundNorm is floating but does not have initial step size. Assume 1.\n",
      "  \"\"\"Entry point for launching an IPython kernel.\n",
      "/Users/vince/tensorflow/lib/python2.7/site-packages/ipykernel_launcher.py:1: InitialParamWarning: Parameter NormSystUncertainty is floating but does not have initial step size. Assume 1.\n",
      "  \"\"\"Entry point for launching an IPython kernel.\n",
      "/Users/vince/tensorflow/lib/python2.7/site-packages/ipykernel_launcher.py:1: InitialParamWarning: Parameter HistoSystUncertainty is floating but does not have initial step size. Assume 1.\n",
      "  \"\"\"Entry point for launching an IPython kernel.\n"
     ]
    },
    {
     "data": {
      "text/html": [
       "<hr>"
      ]
     },
     "metadata": {},
     "output_type": "display_data"
    },
    {
     "data": {
      "text/html": [
       "\n",
       "        <table>\n",
       "            <tr>\n",
       "                <td title=\"Minimum value of function\">FCN = 8.10472382021</td>\n",
       "                <td title=\"Total number of call to FCN so far\">TOTAL NCALL = 165</td>\n",
       "                <td title=\"Number of call in last migrad\">NCALLS = 165</td>\n",
       "            </tr>\n",
       "            <tr>\n",
       "                <td title=\"Estimated distance to minimum\">EDM = 1.11840235764e-07</td>\n",
       "                <td title=\"Maximum EDM definition of convergence\">GOAL EDM = 1e-05</td>\n",
       "                <td title=\"Error def. Amount of increase in FCN to be defined as 1 standard deviation\">\n",
       "                UP = 1.0</td>\n",
       "            </tr>\n",
       "        </table>\n",
       "        \n",
       "        <table>\n",
       "            <tr>\n",
       "                <td align=\"center\" title=\"Validity of the migrad call\">Valid</td>\n",
       "                <td align=\"center\" title=\"Validity of parameters\">Valid Param</td>\n",
       "                <td align=\"center\" title=\"Is Covariance matrix accurate?\">Accurate Covar</td>\n",
       "                <td align=\"center\" title=\"Positive definiteness of covariance matrix\">PosDef</td>\n",
       "                <td align=\"center\" title=\"Was covariance matrix made posdef by adding diagonal element\">Made PosDef</td>\n",
       "            </tr>\n",
       "            <tr>\n",
       "                <td align=\"center\" style=\"background-color:#92CCA6\">True</td>\n",
       "                <td align=\"center\" style=\"background-color:#92CCA6\">True</td>\n",
       "                <td align=\"center\" style=\"background-color:#92CCA6\">True</td>\n",
       "                <td align=\"center\" style=\"background-color:#92CCA6\">True</td>\n",
       "                <td align=\"center\" style=\"background-color:#92CCA6\">False</td>\n",
       "            </tr>\n",
       "            <tr>\n",
       "                <td align=\"center\" title=\"Was last hesse call fail?\">Hesse Fail</td>\n",
       "                <td align=\"center\" title=\"Validity of covariance\">HasCov</td>\n",
       "                <td align=\"center\" title=\"Is EDM above goal EDM?\">Above EDM</td>\n",
       "                <td align=\"center\"></td>\n",
       "                <td align=\"center\" title=\"Did last migrad call reach max call limit?\">Reach calllim</td>\n",
       "            </tr>\n",
       "            <tr>\n",
       "                <td align=\"center\" style=\"background-color:#92CCA6\">False</td>\n",
       "                <td align=\"center\" style=\"background-color:#92CCA6\">True</td>\n",
       "                <td align=\"center\" style=\"background-color:#92CCA6\">False</td>\n",
       "                <td align=\"center\"></td>\n",
       "                <td align=\"center\" style=\"background-color:#92CCA6\">False</td>\n",
       "            </tr>\n",
       "        </table>\n",
       "        "
      ]
     },
     "metadata": {},
     "output_type": "display_data"
    },
    {
     "data": {
      "text/html": [
       "\n",
       "        <table>\n",
       "            <tr>\n",
       "                <td><a href=\"#\" onclick=\"$('#HJQljvMeyT').toggle()\">+</a></td>\n",
       "                <td title=\"Variable name\">Name</td>\n",
       "                <td title=\"Value of parameter\">Value</td>\n",
       "                <td title=\"Parabolic error\">Parab Error</td>\n",
       "                <td title=\"Minos lower error\">Minos Error-</td>\n",
       "                <td title=\"Minos upper error\">Minos Error+</td>\n",
       "                <td title=\"Lower limit of the parameter\">Limit-</td>\n",
       "                <td title=\"Upper limit of the parameter\">Limit+</td>\n",
       "                <td title=\"Is the parameter fixed in the fit\">FIXED</td>\n",
       "            </tr>\n",
       "        \n",
       "            <tr>\n",
       "                <td>1</td>\n",
       "                <td>SigXSecOverSM</td>\n",
       "                <td>2.00033</td>\n",
       "                <td>2.42068</td>\n",
       "                <td>0</td>\n",
       "                <td>0</td>\n",
       "                <td>0.0</td>\n",
       "                <td>3.0</td>\n",
       "                <td></td>\n",
       "            </tr>\n",
       "            \n",
       "            <tr>\n",
       "                <td>2</td>\n",
       "                <td>BackgroundNorm</td>\n",
       "                <td>0.999854</td>\n",
       "                <td>1.03447</td>\n",
       "                <td>0</td>\n",
       "                <td>0</td>\n",
       "                <td>0.0</td>\n",
       "                <td>100.0</td>\n",
       "                <td></td>\n",
       "            </tr>\n",
       "            \n",
       "            <tr>\n",
       "                <td>3</td>\n",
       "                <td>NormSystUncertainty</td>\n",
       "                <td>0.000173323</td>\n",
       "                <td>3.42593</td>\n",
       "                <td>0</td>\n",
       "                <td>0</td>\n",
       "                <td>-50.0</td>\n",
       "                <td>50.0</td>\n",
       "                <td></td>\n",
       "            </tr>\n",
       "            \n",
       "            <tr>\n",
       "                <td>4</td>\n",
       "                <td>HistoSystUncertainty</td>\n",
       "                <td>0.00108053</td>\n",
       "                <td>3.56007</td>\n",
       "                <td>0</td>\n",
       "                <td>0</td>\n",
       "                <td>-50.0</td>\n",
       "                <td>50.0</td>\n",
       "                <td></td>\n",
       "            </tr>\n",
       "            \n",
       "            </table>\n",
       "        \n",
       "            <pre id=\"HJQljvMeyT\" style=\"display:none;\">\n",
       "            <textarea rows=\"14\" cols=\"50\" onclick=\"this.select()\" readonly>\\begin{tabular}{|c|r|r|r|r|r|r|r|c|}\n",
       "\\hline\n",
       " & Name & Value & Para Error & Error+ & Error- & Limit+ & Limit- & FIXED\\\\\n",
       "\\hline\n",
       "1 & SigXSecOverSM & 2.000e+00 & 2.421e+00 &  &  & 0.000e+00 & 3.000e+00 & \\\\\n",
       "\\hline\n",
       "2 & BackgroundNorm & 9.999e-01 & 1.034e+00 &  &  & 0.000e+00 & 1.000e+02 & \\\\\n",
       "\\hline\n",
       "3 & NormSystUncertainty & 1.733e-04 & 3.426e+00 &  &  & -5.000e+01 & 5.000e+01 & \\\\\n",
       "\\hline\n",
       "4 & HistoSystUncertainty & 1.081e-03 & 3.560e+00 &  &  & -5.000e+01 & 5.000e+01 & \\\\\n",
       "\\hline\n",
       "\\end{tabular}</textarea>\n",
       "            </pre>\n",
       "            "
      ]
     },
     "metadata": {},
     "output_type": "display_data"
    },
    {
     "data": {
      "text/html": [
       "<hr>"
      ]
     },
     "metadata": {},
     "output_type": "display_data"
    },
    {
     "data": {
      "text/html": [
       "\n",
       "        <table>\n",
       "            <tr>\n",
       "                <td><a href=\"#\" onclick=\"$('#WPbrXrhSYk').toggle()\">+</a></td>\n",
       "                <td title=\"Variable name\">Name</td>\n",
       "                <td title=\"Value of parameter\">Value</td>\n",
       "                <td title=\"Parabolic error\">Parab Error</td>\n",
       "                <td title=\"Minos lower error\">Minos Error-</td>\n",
       "                <td title=\"Minos upper error\">Minos Error+</td>\n",
       "                <td title=\"Lower limit of the parameter\">Limit-</td>\n",
       "                <td title=\"Upper limit of the parameter\">Limit+</td>\n",
       "                <td title=\"Is the parameter fixed in the fit\">FIXED</td>\n",
       "            </tr>\n",
       "        \n",
       "            <tr>\n",
       "                <td>1</td>\n",
       "                <td>SigXSecOverSM</td>\n",
       "                <td>2.00033</td>\n",
       "                <td>2.42023</td>\n",
       "                <td>0</td>\n",
       "                <td>0</td>\n",
       "                <td>0.0</td>\n",
       "                <td>3.0</td>\n",
       "                <td></td>\n",
       "            </tr>\n",
       "            \n",
       "            <tr>\n",
       "                <td>2</td>\n",
       "                <td>BackgroundNorm</td>\n",
       "                <td>0.999854</td>\n",
       "                <td>1.03394</td>\n",
       "                <td>0</td>\n",
       "                <td>0</td>\n",
       "                <td>0.0</td>\n",
       "                <td>100.0</td>\n",
       "                <td></td>\n",
       "            </tr>\n",
       "            \n",
       "            <tr>\n",
       "                <td>3</td>\n",
       "                <td>NormSystUncertainty</td>\n",
       "                <td>0.000173323</td>\n",
       "                <td>3.42707</td>\n",
       "                <td>0</td>\n",
       "                <td>0</td>\n",
       "                <td>-50.0</td>\n",
       "                <td>50.0</td>\n",
       "                <td></td>\n",
       "            </tr>\n",
       "            \n",
       "            <tr>\n",
       "                <td>4</td>\n",
       "                <td>HistoSystUncertainty</td>\n",
       "                <td>0.00108053</td>\n",
       "                <td>3.55986</td>\n",
       "                <td>0</td>\n",
       "                <td>0</td>\n",
       "                <td>-50.0</td>\n",
       "                <td>50.0</td>\n",
       "                <td></td>\n",
       "            </tr>\n",
       "            \n",
       "            </table>\n",
       "        \n",
       "            <pre id=\"WPbrXrhSYk\" style=\"display:none;\">\n",
       "            <textarea rows=\"14\" cols=\"50\" onclick=\"this.select()\" readonly>\\begin{tabular}{|c|r|r|r|r|r|r|r|c|}\n",
       "\\hline\n",
       " & Name & Value & Para Error & Error+ & Error- & Limit+ & Limit- & FIXED\\\\\n",
       "\\hline\n",
       "1 & SigXSecOverSM & 2.000e+00 & 2.420e+00 &  &  & 0.000e+00 & 3.000e+00 & \\\\\n",
       "\\hline\n",
       "2 & BackgroundNorm & 9.999e-01 & 1.034e+00 &  &  & 0.000e+00 & 1.000e+02 & \\\\\n",
       "\\hline\n",
       "3 & NormSystUncertainty & 1.733e-04 & 3.427e+00 &  &  & -5.000e+01 & 5.000e+01 & \\\\\n",
       "\\hline\n",
       "4 & HistoSystUncertainty & 1.081e-03 & 3.560e+00 &  &  & -5.000e+01 & 5.000e+01 & \\\\\n",
       "\\hline\n",
       "\\end{tabular}</textarea>\n",
       "            </pre>\n",
       "            "
      ]
     },
     "metadata": {},
     "output_type": "display_data"
    },
    {
     "data": {
      "text/html": [
       "\n",
       "            <table>\n",
       "                <tr>\n",
       "                    <td><a onclick=\"$('#YyRqAdUZkT').toggle()\" href=\"#\">+</a></td>\n",
       "        \n",
       "            <td>\n",
       "            <div style=\"width:20px;position:relative; width: -moz-fit-content;\">\n",
       "            <div style=\"display:inline-block;-webkit-writing-mode:vertical-rl;-moz-writing-mode: vertical-rl;writing-mode: vertical-rl;\">\n",
       "            SigXSecOverSM\n",
       "            </div>\n",
       "            </div>\n",
       "            </td>\n",
       "            \n",
       "            <td>\n",
       "            <div style=\"width:20px;position:relative; width: -moz-fit-content;\">\n",
       "            <div style=\"display:inline-block;-webkit-writing-mode:vertical-rl;-moz-writing-mode: vertical-rl;writing-mode: vertical-rl;\">\n",
       "            BackgroundNorm\n",
       "            </div>\n",
       "            </div>\n",
       "            </td>\n",
       "            \n",
       "            <td>\n",
       "            <div style=\"width:20px;position:relative; width: -moz-fit-content;\">\n",
       "            <div style=\"display:inline-block;-webkit-writing-mode:vertical-rl;-moz-writing-mode: vertical-rl;writing-mode: vertical-rl;\">\n",
       "            NormSystUncertainty\n",
       "            </div>\n",
       "            </div>\n",
       "            </td>\n",
       "            \n",
       "            <td>\n",
       "            <div style=\"width:20px;position:relative; width: -moz-fit-content;\">\n",
       "            <div style=\"display:inline-block;-webkit-writing-mode:vertical-rl;-moz-writing-mode: vertical-rl;writing-mode: vertical-rl;\">\n",
       "            HistoSystUncertainty\n",
       "            </div>\n",
       "            </div>\n",
       "            </td>\n",
       "            \n",
       "                </tr>\n",
       "                \n",
       "            <tr>\n",
       "                <td>SigXSecOverSM</td>\n",
       "            \n",
       "                <td style=\"background-color:rgb(255,117,117)\">\n",
       "                1.00\n",
       "                </td>\n",
       "                \n",
       "                <td style=\"background-color:rgb(239,140,129)\">\n",
       "                -0.83\n",
       "                </td>\n",
       "                \n",
       "                <td style=\"background-color:rgb(163,254,186)\">\n",
       "                0.00\n",
       "                </td>\n",
       "                \n",
       "                <td style=\"background-color:rgb(189,215,167)\">\n",
       "                0.28\n",
       "                </td>\n",
       "                \n",
       "            </tr>\n",
       "            \n",
       "            <tr>\n",
       "                <td>BackgroundNorm</td>\n",
       "            \n",
       "                <td style=\"background-color:rgb(239,140,129)\">\n",
       "                -0.83\n",
       "                </td>\n",
       "                \n",
       "                <td style=\"background-color:rgb(255,117,117)\">\n",
       "                1.00\n",
       "                </td>\n",
       "                \n",
       "                <td style=\"background-color:rgb(192,211,164)\">\n",
       "                -0.32\n",
       "                </td>\n",
       "                \n",
       "                <td style=\"background-color:rgb(169,245,182)\">\n",
       "                -0.06\n",
       "                </td>\n",
       "                \n",
       "            </tr>\n",
       "            \n",
       "            <tr>\n",
       "                <td>NormSystUncertainty</td>\n",
       "            \n",
       "                <td style=\"background-color:rgb(163,254,186)\">\n",
       "                0.00\n",
       "                </td>\n",
       "                \n",
       "                <td style=\"background-color:rgb(192,211,164)\">\n",
       "                -0.32\n",
       "                </td>\n",
       "                \n",
       "                <td style=\"background-color:rgb(255,117,117)\">\n",
       "                1.00\n",
       "                </td>\n",
       "                \n",
       "                <td style=\"background-color:rgb(163,254,186)\">\n",
       "                -0.00\n",
       "                </td>\n",
       "                \n",
       "            </tr>\n",
       "            \n",
       "            <tr>\n",
       "                <td>HistoSystUncertainty</td>\n",
       "            \n",
       "                <td style=\"background-color:rgb(189,215,167)\">\n",
       "                0.28\n",
       "                </td>\n",
       "                \n",
       "                <td style=\"background-color:rgb(169,245,182)\">\n",
       "                -0.06\n",
       "                </td>\n",
       "                \n",
       "                <td style=\"background-color:rgb(163,254,186)\">\n",
       "                -0.00\n",
       "                </td>\n",
       "                \n",
       "                <td style=\"background-color:rgb(255,117,117)\">\n",
       "                1.00\n",
       "                </td>\n",
       "                \n",
       "            </tr>\n",
       "            </table>\n",
       "\n",
       "            <pre id=\"YyRqAdUZkT\" style=\"display:none;\">\n",
       "            <textarea rows=\"17\" cols=\"50\" onclick=\"this.select()\" readonly>%\\usepackage[table]{xcolor} % include this for color\n",
       "%\\usepackage{rotating} % include this for rotate header\n",
       "%\\documentclass[xcolor=table]{beamer} % for beamer\n",
       "\\begin{tabular}{|c|c|c|c|c|}\n",
       "\\hline\n",
       "\\rotatebox{90}{} & \\rotatebox{90}{SigXSecOverSM} & \\rotatebox{90}{BackgroundNorm} & \\rotatebox{90}{NormSystUncertainty} & \\rotatebox{90}{HistoSystUncertainty}\\\\\n",
       "\\hline\n",
       "SigXSecOverSM & \\cellcolor[RGB]{255,117,117} 1.00 & \\cellcolor[RGB]{239,140,129} -0.83 & \\cellcolor[RGB]{163,254,186} 0.00 & \\cellcolor[RGB]{189,215,167} 0.28\\\\\n",
       "\\hline\n",
       "BackgroundNorm & \\cellcolor[RGB]{239,140,129} -0.83 & \\cellcolor[RGB]{255,117,117} 1.00 & \\cellcolor[RGB]{192,211,164} -0.32 & \\cellcolor[RGB]{169,245,182} -0.06\\\\\n",
       "\\hline\n",
       "NormSystUncertainty & \\cellcolor[RGB]{163,254,186} 0.00 & \\cellcolor[RGB]{192,211,164} -0.32 & \\cellcolor[RGB]{255,117,117} 1.00 & \\cellcolor[RGB]{163,254,186} -0.00\\\\\n",
       "\\hline\n",
       "HistoSystUncertainty & \\cellcolor[RGB]{189,215,167} 0.28 & \\cellcolor[RGB]{169,245,182} -0.06 & \\cellcolor[RGB]{163,254,186} -0.00 & \\cellcolor[RGB]{255,117,117} 1.00\\\\\n",
       "\\hline\n",
       "\\end{tabular}</textarea>\n",
       "            </pre>\n",
       "            "
      ]
     },
     "metadata": {},
     "output_type": "display_data"
    },
    {
     "data": {
      "text/html": [
       "\n",
       "        <span>Minos status for SigXSecOverSM: <span style=\"background-color:#92CCA6\">VALID</span></span>\n",
       "        <table>\n",
       "            <tr>\n",
       "                <td title=\"lower and upper minos error of the parameter\">Error</td>\n",
       "                <td>-2.00033232923</td>\n",
       "                <td>0.999667670774</td>\n",
       "            </tr>\n",
       "            <tr>\n",
       "                <td title=\"Validity of minos error\">Valid</td>\n",
       "                <td style=\"background-color:#92CCA6\">True</td>\n",
       "                <td style=\"background-color:#92CCA6\">True</td>\n",
       "            </tr>\n",
       "            <tr>\n",
       "                <td title=\"Did minos error search hit limit of any paramter?\">At Limit</td>\n",
       "                <td style=\"background-color:#FF7878\">True</td>\n",
       "                <td style=\"background-color:#FF7878\">True</td>\n",
       "            </tr>\n",
       "            <tr>\n",
       "                <td title=\"I don't really know what this one means... Post it in issue if you know\">Max FCN</td>\n",
       "                <td style=\"background-color:#92CCA6\">False</td>\n",
       "                <td style=\"background-color:#92CCA6\">False</td>\n",
       "            </tr>\n",
       "            <tr>\n",
       "                <td title=\"New minimum found when doing minos scan.\">New Min</td>\n",
       "                <td style=\"background-color:#92CCA6\">False</td>\n",
       "                <td style=\"background-color:#92CCA6\">False</td>\n",
       "            </tr>\n",
       "        </table>\n",
       "        "
      ]
     },
     "metadata": {},
     "output_type": "display_data"
    },
    {
     "data": {
      "text/html": [
       "\n",
       "        <span>Minos status for BackgroundNorm: <span style=\"background-color:#FF7878\">PROBLEM</span></span>\n",
       "        <table>\n",
       "            <tr>\n",
       "                <td title=\"lower and upper minos error of the parameter\">Error</td>\n",
       "                <td>-1.03447006542</td>\n",
       "                <td>1.03447006542</td>\n",
       "            </tr>\n",
       "            <tr>\n",
       "                <td title=\"Validity of minos error\">Valid</td>\n",
       "                <td style=\"background-color:#FF7878\">False</td>\n",
       "                <td style=\"background-color:#FF7878\">False</td>\n",
       "            </tr>\n",
       "            <tr>\n",
       "                <td title=\"Did minos error search hit limit of any paramter?\">At Limit</td>\n",
       "                <td style=\"background-color:#92CCA6\">False</td>\n",
       "                <td style=\"background-color:#92CCA6\">False</td>\n",
       "            </tr>\n",
       "            <tr>\n",
       "                <td title=\"I don't really know what this one means... Post it in issue if you know\">Max FCN</td>\n",
       "                <td style=\"background-color:#92CCA6\">False</td>\n",
       "                <td style=\"background-color:#92CCA6\">False</td>\n",
       "            </tr>\n",
       "            <tr>\n",
       "                <td title=\"New minimum found when doing minos scan.\">New Min</td>\n",
       "                <td style=\"background-color:#92CCA6\">False</td>\n",
       "                <td style=\"background-color:#92CCA6\">False</td>\n",
       "            </tr>\n",
       "        </table>\n",
       "        "
      ]
     },
     "metadata": {},
     "output_type": "display_data"
    },
    {
     "data": {
      "text/html": [
       "\n",
       "        <span>Minos status for NormSystUncertainty: <span style=\"background-color:#92CCA6\">VALID</span></span>\n",
       "        <table>\n",
       "            <tr>\n",
       "                <td title=\"lower and upper minos error of the parameter\">Error</td>\n",
       "                <td>-50.0001733232</td>\n",
       "                <td>49.9998266768</td>\n",
       "            </tr>\n",
       "            <tr>\n",
       "                <td title=\"Validity of minos error\">Valid</td>\n",
       "                <td style=\"background-color:#92CCA6\">True</td>\n",
       "                <td style=\"background-color:#92CCA6\">True</td>\n",
       "            </tr>\n",
       "            <tr>\n",
       "                <td title=\"Did minos error search hit limit of any paramter?\">At Limit</td>\n",
       "                <td style=\"background-color:#FF7878\">True</td>\n",
       "                <td style=\"background-color:#FF7878\">True</td>\n",
       "            </tr>\n",
       "            <tr>\n",
       "                <td title=\"I don't really know what this one means... Post it in issue if you know\">Max FCN</td>\n",
       "                <td style=\"background-color:#92CCA6\">False</td>\n",
       "                <td style=\"background-color:#92CCA6\">False</td>\n",
       "            </tr>\n",
       "            <tr>\n",
       "                <td title=\"New minimum found when doing minos scan.\">New Min</td>\n",
       "                <td style=\"background-color:#92CCA6\">False</td>\n",
       "                <td style=\"background-color:#92CCA6\">False</td>\n",
       "            </tr>\n",
       "        </table>\n",
       "        "
      ]
     },
     "metadata": {},
     "output_type": "display_data"
    },
    {
     "data": {
      "text/html": [
       "\n",
       "        <span>Minos status for HistoSystUncertainty: <span style=\"background-color:#92CCA6\">VALID</span></span>\n",
       "        <table>\n",
       "            <tr>\n",
       "                <td title=\"lower and upper minos error of the parameter\">Error</td>\n",
       "                <td>-11.2199187462</td>\n",
       "                <td>49.9989194671</td>\n",
       "            </tr>\n",
       "            <tr>\n",
       "                <td title=\"Validity of minos error\">Valid</td>\n",
       "                <td style=\"background-color:#92CCA6\">True</td>\n",
       "                <td style=\"background-color:#92CCA6\">True</td>\n",
       "            </tr>\n",
       "            <tr>\n",
       "                <td title=\"Did minos error search hit limit of any paramter?\">At Limit</td>\n",
       "                <td style=\"background-color:#92CCA6\">False</td>\n",
       "                <td style=\"background-color:#FF7878\">True</td>\n",
       "            </tr>\n",
       "            <tr>\n",
       "                <td title=\"I don't really know what this one means... Post it in issue if you know\">Max FCN</td>\n",
       "                <td style=\"background-color:#92CCA6\">False</td>\n",
       "                <td style=\"background-color:#92CCA6\">False</td>\n",
       "            </tr>\n",
       "            <tr>\n",
       "                <td title=\"New minimum found when doing minos scan.\">New Min</td>\n",
       "                <td style=\"background-color:#92CCA6\">False</td>\n",
       "                <td style=\"background-color:#92CCA6\">False</td>\n",
       "            </tr>\n",
       "        </table>\n",
       "        "
      ]
     },
     "metadata": {},
     "output_type": "display_data"
    },
    {
     "data": {
      "text/plain": [
       "{'BackgroundNorm': {'lower_new_min': False, 'upper': 1.0344700654196293, 'lower': -1.0344700654196293, 'at_lower_limit': False, 'min': 0.9998542611974026, 'at_lower_max_fcn': False, 'is_valid': False, 'upper_new_min': False, 'at_upper_limit': False, 'lower_valid': False, 'upper_valid': False, 'at_upper_max_fcn': False, 'nfcn': 1707},\n",
       " 'HistoSystUncertainty': {'lower_new_min': False, 'upper': 49.998919467062755, 'lower': -11.219918746206577, 'at_lower_limit': False, 'min': 0.0010805329372445271, 'at_lower_max_fcn': False, 'is_valid': True, 'upper_new_min': False, 'at_upper_limit': True, 'lower_valid': True, 'upper_valid': True, 'at_upper_max_fcn': False, 'nfcn': 612},\n",
       " 'NormSystUncertainty': {'lower_new_min': False, 'upper': 49.999826676774674, 'lower': -50.000173323225326, 'at_lower_limit': True, 'min': 0.00017332322532581657, 'at_lower_max_fcn': False, 'is_valid': True, 'upper_new_min': False, 'at_upper_limit': True, 'lower_valid': True, 'upper_valid': True, 'at_upper_max_fcn': False, 'nfcn': 1308},\n",
       " 'SigXSecOverSM': {'lower_new_min': False, 'upper': 0.9996676707740497, 'lower': -2.0003323292259503, 'at_lower_limit': True, 'min': 2.0003323292259503, 'at_lower_max_fcn': False, 'is_valid': True, 'upper_new_min': False, 'at_upper_limit': True, 'lower_valid': True, 'upper_valid': True, 'at_upper_max_fcn': False, 'nfcn': 207}}"
      ]
     },
     "execution_count": 29,
     "metadata": {},
     "output_type": "execute_result"
    }
   ],
   "source": [
    "minimiser = Minuit(blh, **params)\n",
    "minimiser.migrad()\n",
    "minimiser.hesse()\n",
    "minimiser.minos()"
   ]
  },
  {
   "cell_type": "code",
   "execution_count": 30,
   "metadata": {},
   "outputs": [
    {
     "data": {
      "text/plain": [
       "(array([-7.11862968, -6.97479715, -6.83096462, -6.68713209, -6.54329956,\n",
       "        -6.39946703, -6.2556345 , -6.11180198, -5.96796945, -5.82413692,\n",
       "        -5.68030439, -5.53647186, -5.39263933, -5.2488068 , -5.10497427,\n",
       "        -4.96114174, -4.81730921, -4.67347668, -4.52964415, -4.38581162,\n",
       "        -4.24197909, -4.09814656, -3.95431403, -3.8104815 , -3.66664897,\n",
       "        -3.52281644, -3.37898391, -3.23515138, -3.09131885, -2.94748632,\n",
       "        -2.80365379, -2.65982126, -2.51598874, -2.37215621, -2.22832368,\n",
       "        -2.08449115, -1.94065862, -1.79682609, -1.65299356, -1.50916103,\n",
       "        -1.3653285 , -1.22149597, -1.07766344, -0.93383091, -0.78999838,\n",
       "        -0.64616585, -0.50233332, -0.35850079, -0.21466826, -0.07083573,\n",
       "         0.0729968 ,  0.21682933,  0.36066186,  0.50449439,  0.64832692,\n",
       "         0.79215945,  0.93599198,  1.0798245 ,  1.22365703,  1.36748956,\n",
       "         1.51132209,  1.65515462,  1.79898715,  1.94281968,  2.08665221,\n",
       "         2.23048474,  2.37431727,  2.5181498 ,  2.66198233,  2.80581486,\n",
       "         2.94964739,  3.09347992,  3.23731245,  3.38114498,  3.52497751,\n",
       "         3.66881004,  3.81264257,  3.9564751 ,  4.10030763,  4.24414016,\n",
       "         4.38797269,  4.53180522,  4.67563774,  4.81947027,  4.9633028 ,\n",
       "         5.10713533,  5.25096786,  5.39480039,  5.53863292,  5.68246545,\n",
       "         5.82629798,  5.97013051,  6.11396304,  6.25779557,  6.4016281 ,\n",
       "         6.54546063,  6.68929316,  6.83312569,  6.97695822,  7.12079075]),\n",
       " array([ 9.82278112,  9.74584716,  9.67151359,  9.59972495,  9.53042671,\n",
       "         9.46356523,  9.39908778,  9.33694251,  9.27707845,  9.21944549,\n",
       "         9.16399439,  9.11067671,  9.05944487,  9.01025209,  8.96305237,\n",
       "         8.91780047,  8.87445186,  8.83296264,  8.79328942,  8.7553891 ,\n",
       "         8.71921863,  8.68473445,  8.65189185,  8.62064397,  8.59094034,\n",
       "         8.56272505,  8.53593434,  8.51049371,  8.48631467,  8.46329137,\n",
       "         8.44129758,  8.42018471,  8.39978174,  8.37989787,  8.36032906,\n",
       "         8.34086903,  8.32132501,  8.30153786,  8.28140529,  8.26090588,\n",
       "         8.24012077,  8.21924957,  8.19861662,  8.17866474,  8.15993471,\n",
       "         8.14303062,  8.12857356,  8.1171479 ,  8.10924641,  8.105221  ,\n",
       "         8.10526676,  8.10948137,  8.11765552,  8.12938175,  8.14411261,\n",
       "         8.1612101 ,  8.18000051,  8.19982804,  8.220101  ,  8.24032618,\n",
       "         8.26012916,  8.27926035,  8.29758847,  8.31508461,  8.33180036,\n",
       "         8.34784383,  8.36335639,  8.37849266,  8.39340471,  8.40823118,\n",
       "         8.4230908 ,  8.4380797 ,  8.45327155,  8.46871952,  8.48445931,\n",
       "         8.50051246,  8.51688961,  8.53359337,  8.55062067,  8.56796461,\n",
       "         8.58561585,  8.60356358,  8.6217962 ,  8.64030177,  8.65906832,\n",
       "         8.67808396,  8.69733707,  8.71681629,  8.73651056,  8.75640916,\n",
       "         8.77650169,  8.79677808,  8.81722857,  8.83784371,  8.85861436,\n",
       "         8.87953167,  8.9005871 ,  8.92177237,  8.94307947,  8.96450069]))"
      ]
     },
     "execution_count": 30,
     "metadata": {},
     "output_type": "execute_result"
    },
    {
     "data": {
      "image/png": "[encoded data removed]",
      "text/plain": [
       "<matplotlib.figure.Figure at 0x10a71aed0>"
      ]
     },
     "metadata": {},
     "output_type": "display_data"
    }
   ],
   "source": [
    "minimiser.draw_profile('HistoSystUncertainty')"
   ]
  },
  {
   "cell_type": "code",
   "execution_count": 31,
   "metadata": {},
   "outputs": [
    {
     "data": {
      "text/plain": [
       "(array([-6.85396508, -6.71549763, -6.57703019, -6.43856275, -6.30009531,\n",
       "        -6.16162786, -6.02316042, -5.88469298, -5.74622554, -5.60775809,\n",
       "        -5.46929065, -5.33082321, -5.19235577, -5.05388833, -4.91542088,\n",
       "        -4.77695344, -4.638486  , -4.50001856, -4.36155111, -4.22308367,\n",
       "        -4.08461623, -3.94614879, -3.80768134, -3.6692139 , -3.53074646,\n",
       "        -3.39227902, -3.25381157, -3.11534413, -2.97687669, -2.83840925,\n",
       "        -2.6999418 , -2.56147436, -2.42300692, -2.28453948, -2.14607203,\n",
       "        -2.00760459, -1.86913715, -1.73066971, -1.59220226, -1.45373482,\n",
       "        -1.31526738, -1.17679994, -1.03833249, -0.89986505, -0.76139761,\n",
       "        -0.62293017, -0.48446273, -0.34599528, -0.20752784, -0.0690604 ,\n",
       "         0.06940704,  0.20787449,  0.34634193,  0.48480937,  0.62327681,\n",
       "         0.76174426,  0.9002117 ,  1.03867914,  1.17714658,  1.31561403,\n",
       "         1.45408147,  1.59254891,  1.73101635,  1.8694838 ,  2.00795124,\n",
       "         2.14641868,  2.28488612,  2.42335357,  2.56182101,  2.70028845,\n",
       "         2.83875589,  2.97722334,  3.11569078,  3.25415822,  3.39262566,\n",
       "         3.5310931 ,  3.66956055,  3.80802799,  3.94649543,  4.08496287,\n",
       "         4.22343032,  4.36189776,  4.5003652 ,  4.63883264,  4.77730009,\n",
       "         4.91576753,  5.05423497,  5.19270241,  5.33116986,  5.4696373 ,\n",
       "         5.60810474,  5.74657218,  5.88503963,  6.02350707,  6.16197451,\n",
       "         6.30044195,  6.4389094 ,  6.57737684,  6.71584428,  6.85431172]),\n",
       " array([ 10.00506181,   9.95092894,   9.89709223,   9.84357477,\n",
       "          9.79040021,   9.73759276,   9.68517723,   9.63317902,\n",
       "          9.58162414,   9.5305392 ,   9.47995141,   9.42988864,\n",
       "          9.38037935,   9.33145264,   9.28313822,   9.23546637,\n",
       "          9.18846791,   9.14217408,   9.09661637,   9.05182628,\n",
       "          9.00783493,   8.96467242,   8.92236701,   8.88094397,\n",
       "          8.84042399,   8.80082126,   8.76214108,   8.72437719,\n",
       "          8.68750905,   8.65149921,   8.61629154,   8.58181068,\n",
       "          8.54796367,   8.51464424,   8.4817407 ,   8.44914749,\n",
       "          8.41678048,   8.38459524,   8.35260691,   8.32090955,\n",
       "          8.28969244,   8.25925038,   8.22998543,   8.20239792,\n",
       "          8.17706602,   8.15461435,   8.13567391,   8.12083709,\n",
       "          8.11061247,   8.10538491,   8.10533446,   8.11020885,\n",
       "          8.11983289,   8.13392822,   8.1520925 ,   8.17383946,\n",
       "          8.19864403,   8.2259874 ,   8.25539708,   8.28647829,\n",
       "          8.31893441,   8.35257587,   8.38731852,   8.42317325,\n",
       "          8.46022976,   8.49863718,   8.53858427,   8.5802811 ,\n",
       "          8.62394388,   8.66978334,   8.71799697,   8.76876468,\n",
       "          8.82224724,   8.87858681,   8.93790883,   9.00032453,\n",
       "          9.06593381,   9.13482783,   9.20709149,   9.28280534,\n",
       "          9.36204715,   9.44489316,   9.53141888,   9.62169975,\n",
       "          9.71581152,   9.81383058,   9.91583413,  10.02190027,\n",
       "         10.13210812,  10.24653782,  10.36527064,  10.48838892,\n",
       "         10.61597614,  10.74811695,  10.88489713,  11.02640364,\n",
       "         11.17272464,  11.32394947,  11.48016872,  11.64147416]))"
      ]
     },
     "execution_count": 31,
     "metadata": {},
     "output_type": "execute_result"
    },
    {
     "data": {
      "image/png": "[encoded data removed]",
      "text/plain": [
       "<matplotlib.figure.Figure at 0x10a8bc390>"
      ]
     },
     "metadata": {},
     "output_type": "display_data"
    }
   ],
   "source": [
    "minimiser.draw_profile('NormSystUncertainty')"
   ]
  },
  {
   "cell_type": "code",
   "execution_count": 32,
   "metadata": {},
   "outputs": [
    {
     "data": {
      "text/plain": [
       "(array([-1.06802736, -1.02625198, -0.98447659, -0.9427012 , -0.90092582,\n",
       "        -0.85915043, -0.81737505, -0.77559966, -0.73382427, -0.69204889,\n",
       "        -0.6502735 , -0.60849811, -0.56672273, -0.52494734, -0.48317195,\n",
       "        -0.44139657, -0.39962118, -0.3578458 , -0.31607041, -0.27429502,\n",
       "        -0.23251964, -0.19074425, -0.14896886, -0.10719348, -0.06541809,\n",
       "        -0.0236427 ,  0.01813268,  0.05990807,  0.10168345,  0.14345884,\n",
       "         0.18523423,  0.22700961,  0.268785  ,  0.31056039,  0.35233577,\n",
       "         0.39411116,  0.43588655,  0.47766193,  0.51943732,  0.5612127 ,\n",
       "         0.60298809,  0.64476348,  0.68653886,  0.72831425,  0.77008964,\n",
       "         0.81186502,  0.85364041,  0.8954158 ,  0.93719118,  0.97896657,\n",
       "         1.02074195,  1.06251734,  1.10429273,  1.14606811,  1.1878435 ,\n",
       "         1.22961889,  1.27139427,  1.31316966,  1.35494505,  1.39672043,\n",
       "         1.43849582,  1.4802712 ,  1.52204659,  1.56382198,  1.60559736,\n",
       "         1.64737275,  1.68914814,  1.73092352,  1.77269891,  1.8144743 ,\n",
       "         1.85624968,  1.89802507,  1.93980045,  1.98157584,  2.02335123,\n",
       "         2.06512661,  2.106902  ,  2.14867739,  2.19045277,  2.23222816,\n",
       "         2.27400355,  2.31577893,  2.35755432,  2.3993297 ,  2.44110509,\n",
       "         2.48288048,  2.52465586,  2.56643125,  2.60820664,  2.64998202,\n",
       "         2.69175741,  2.7335328 ,  2.77530818,  2.81708357,  2.85885895,\n",
       "         2.90063434,  2.94240973,  2.98418511,  3.0259605 ,  3.06773589]),\n",
       " array([         nan,          nan,          nan,          nan,\n",
       "                 nan,          nan,          nan,          nan,\n",
       "                 nan,          nan,          nan,          nan,\n",
       "                 nan,          nan,          nan,          nan,\n",
       "         71.1439384 ,  38.25175247,  32.49786184,  28.8386183 ,\n",
       "         26.08994269,  23.87207441,  22.01138107,  20.41244464,\n",
       "         19.0164238 ,  17.78403469,  16.68748496,  15.70622606,\n",
       "         14.82453142,  14.03002692,  13.31275337,  12.66454306,\n",
       "         12.0785907 ,  11.54914911,  11.0713081 ,  10.64082999,\n",
       "         10.25402507,   9.90765556,   9.5988605 ,   9.32509615,\n",
       "          9.0840882 ,   8.87379292,   8.69236537,   8.53813312,\n",
       "          8.40957426,   8.305299  ,   8.22403407,   8.16460946,\n",
       "          8.12594702,   8.10705066,   8.1069979 ,   8.12493249,\n",
       "          8.16005792,   8.21163183,   8.27896099,   8.36139691,\n",
       "          8.45833192,   8.56919572,   8.69345226,   8.83059694,\n",
       "          8.98015417,   9.14167509,   9.31473552,   9.49893418,\n",
       "          9.69389099,   9.89924558,  10.11465589,  10.33979695,\n",
       "         10.5743597 ,  10.81804997,  11.07058751,  11.33170507,\n",
       "         11.60114764,  11.87867167,  12.1640444 ,  12.45704317,\n",
       "         12.75745489,  13.06507547,  13.37970927,  13.70116869,\n",
       "         14.0292737 ,  14.36385144,  14.7047358 ,  15.05176713,\n",
       "         15.40479186,  15.76366219,  16.12823583,  16.49837569,\n",
       "         16.87394965,  17.2548303 ,  17.64089476,  18.03202438,\n",
       "         18.42810464,  18.82902489,  19.2346782 ,  19.64496122,\n",
       "         20.05977396,  20.47901968,  20.90260477,  21.33043857]))"
      ]
     },
     "execution_count": 32,
     "metadata": {},
     "output_type": "execute_result"
    },
    {
     "data": {
      "image/png": "[encoded data removed]",
      "text/plain": [
       "<matplotlib.figure.Figure at 0x1064a0b10>"
      ]
     },
     "metadata": {},
     "output_type": "display_data"
    }
   ],
   "source": [
    "minimiser.draw_profile('BackgroundNorm')"
   ]
  },
  {
   "cell_type": "code",
   "execution_count": 33,
   "metadata": {
    "scrolled": true
   },
   "outputs": [
    {
     "data": {
      "text/plain": [
       "(array([ -2.84012481e+00,  -2.74233780e+00,  -2.64455079e+00,\n",
       "         -2.54676377e+00,  -2.44897676e+00,  -2.35118975e+00,\n",
       "         -2.25340273e+00,  -2.15561572e+00,  -2.05782871e+00,\n",
       "         -1.96004169e+00,  -1.86225468e+00,  -1.76446767e+00,\n",
       "         -1.66668066e+00,  -1.56889364e+00,  -1.47110663e+00,\n",
       "         -1.37331962e+00,  -1.27553260e+00,  -1.17774559e+00,\n",
       "         -1.07995858e+00,  -9.82171565e-01,  -8.84384552e-01,\n",
       "         -7.86597539e-01,  -6.88810526e-01,  -5.91023514e-01,\n",
       "         -4.93236501e-01,  -3.95449488e-01,  -2.97662475e-01,\n",
       "         -1.99875462e-01,  -1.02088449e-01,  -4.30143592e-03,\n",
       "          9.34855770e-02,   1.91272590e-01,   2.89059603e-01,\n",
       "          3.86846616e-01,   4.84633629e-01,   5.82420642e-01,\n",
       "          6.80207655e-01,   7.77994668e-01,   8.75781680e-01,\n",
       "          9.73568693e-01,   1.07135571e+00,   1.16914272e+00,\n",
       "          1.26692973e+00,   1.36471675e+00,   1.46250376e+00,\n",
       "          1.56029077e+00,   1.65807778e+00,   1.75586480e+00,\n",
       "          1.85365181e+00,   1.95143882e+00,   2.04922584e+00,\n",
       "          2.14701285e+00,   2.24479986e+00,   2.34258687e+00,\n",
       "          2.44037389e+00,   2.53816090e+00,   2.63594791e+00,\n",
       "          2.73373493e+00,   2.83152194e+00,   2.92930895e+00,\n",
       "          3.02709597e+00,   3.12488298e+00,   3.22266999e+00,\n",
       "          3.32045700e+00,   3.41824402e+00,   3.51603103e+00,\n",
       "          3.61381804e+00,   3.71160506e+00,   3.80939207e+00,\n",
       "          3.90717908e+00,   4.00496609e+00,   4.10275311e+00,\n",
       "          4.20054012e+00,   4.29832713e+00,   4.39611415e+00,\n",
       "          4.49390116e+00,   4.59168817e+00,   4.68947518e+00,\n",
       "          4.78726220e+00,   4.88504921e+00,   4.98283622e+00,\n",
       "          5.08062324e+00,   5.17841025e+00,   5.27619726e+00,\n",
       "          5.37398428e+00,   5.47177129e+00,   5.56955830e+00,\n",
       "          5.66734531e+00,   5.76513233e+00,   5.86291934e+00,\n",
       "          5.96070635e+00,   6.05849337e+00,   6.15628038e+00,\n",
       "          6.25406739e+00,   6.35185440e+00,   6.44964142e+00,\n",
       "          6.54742843e+00,   6.64521544e+00,   6.74300246e+00,\n",
       "          6.84078947e+00]),\n",
       " array([         nan,          nan,          nan,          nan,\n",
       "                 nan,          nan,          nan,          nan,\n",
       "                 nan,          nan,          nan,          nan,\n",
       "                 nan,          nan,          nan,          nan,\n",
       "                 nan,  63.29744733,  50.28857876,  42.8825401 ,\n",
       "         37.6100437 ,  33.51464978,  30.18220024,  27.39159061,\n",
       "         25.00918833,  22.94727906,  21.14479248,  19.5572859 ,\n",
       "         18.15128422,  16.90086866,  15.78551291,  14.78865212,\n",
       "         13.89670342,  13.09837553,  12.38416994,  11.74601259,\n",
       "         11.17697685,  10.67107156,  10.22307651,   9.82841303,\n",
       "          9.48304102,   9.18337605,   8.9262221 ,   8.70871633,\n",
       "          8.52828354,   8.38259817,   8.26955252,   8.18722987,\n",
       "          8.13388173,   8.10790836,   8.1078421 ,   8.13233298,\n",
       "          8.18013629,   8.25010173,   8.34116392,   8.45233419,\n",
       "          8.58269322,   8.73138463,   8.89760926,   9.08062015,\n",
       "          9.27971801,   9.49424716,   9.72359199,   9.96717366,\n",
       "         10.22444723,  10.49489901,  10.77804418,  11.07342466,\n",
       "         11.38060713,  11.6991813 ,  12.02875821,  12.36896884,\n",
       "         12.71946271,  13.07990664,  13.44998363,  13.82939185,\n",
       "         14.21784359,  14.61506449,  15.02079262,  15.4347778 ,\n",
       "         15.85678088,  16.28657307,  16.72393539,  17.16865807,\n",
       "         17.62054006,  18.07938853,  18.54501845,  19.01725214,\n",
       "         19.4959189 ,  19.98085466,  20.47190159,  20.96890784,\n",
       "         21.4717272 ,  21.98021885,  22.49424707,  23.01368101,\n",
       "         23.53839445,  24.0682656 ,  24.60317687,  25.14301468]))"
      ]
     },
     "execution_count": 33,
     "metadata": {},
     "output_type": "execute_result"
    },
    {
     "data": {
      "image/png": "[encoded data removed]",
      "text/plain": [
       "<matplotlib.figure.Figure at 0x10ac63d50>"
      ]
     },
     "metadata": {},
     "output_type": "display_data"
    }
   ],
   "source": [
    "minimiser.draw_profile('SigXSecOverSM')"
   ]
  },
  {
   "cell_type": "markdown",
   "metadata": {},
   "source": [
    "## large histograms"
   ]
  },
  {
   "cell_type": "code",
   "execution_count": 34,
   "metadata": {},
   "outputs": [],
   "source": [
    "hist_sig = np.linspace(1,100, 100)\n",
    "hist_bkg = np.ones(100)*100"
   ]
  },
  {
   "cell_type": "code",
   "execution_count": 35,
   "metadata": {},
   "outputs": [
    {
     "name": "stdout",
     "output_type": "stream",
     "text": [
      "[ 100.   99.   98.   97.   96.   95.   94.   93.   92.   91.   90.   89.\n",
      "   88.   87.   86.   85.   84.   83.   82.   81.   80.   79.   78.   77.\n",
      "   76.   75.   74.   73.   72.   71.   70.   69.   68.   67.   66.   65.\n",
      "   64.   63.   62.   61.   60.   59.   58.   57.   56.   55.   54.   53.\n",
      "   52.   51.   50.   49.   48.   47.   46.   45.   44.   43.   42.   41.\n",
      "   40.   39.   38.   37.   36.   35.   34.   33.   32.   31.   30.   29.\n",
      "   28.   27.   26.   25.   24.   23.   22.   21.   20.   19.   18.   17.\n",
      "   16.   15.   14.   13.   12.   11.   10.    9.    8.    7.    6.    5.\n",
      "    4.    3.    2.    1.]\n"
     ]
    }
   ],
   "source": [
    "print np.flip(hist_sig,0)"
   ]
  },
  {
   "cell_type": "code",
   "execution_count": 36,
   "metadata": {},
   "outputs": [
    {
     "name": "stdout",
     "output_type": "stream",
     "text": [
      "funcpos [array([0, 1]), array([0, 2])]\n"
     ]
    }
   ],
   "source": [
    "m4 = HistiModel('newmodel')\n",
    "signal = HistiSample('signal')\n",
    "binedges = np.linspace(0,100, 101)\n",
    "signal.SetHisto((hist_sig,binedges))\n",
    "signal.AddNorm(\"SigXSecOverSM\",1.0,0,3)\n",
    "background = HistiSample('background')\n",
    "background.SetHisto((hist_bkg, binedges))\n",
    "#background.AddNorm(\"BackgroundNorm\",1.,0,100)\n",
    "#background.AddOverallSys(\"NormSystUncertainty\",.9,1.1)\n",
    "h_up = hist_bkg + np.flip(hist_sig, 0)*.5\n",
    "h_down = hist_bkg - np.flip(hist_sig, 0)*.5\n",
    "background.AddHistoSys(\"HistoSystUncertainty\",h_down,h_up)\n",
    "chan = HistiChannel(\"SR\")\n",
    "chan.AddSample(signal)\n",
    "chan.AddSample(background)\n",
    "\n",
    "data = hist_sig*2 +hist_bkg\n",
    "\n",
    "chan.SetData(data)\n",
    "m4.AddChannel(chan)\n",
    "\n",
    "blh = BinnedLH(m4, bound=(0,101))\n",
    "params = m4.Parameters()"
   ]
  },
  {
   "cell_type": "code",
   "execution_count": 37,
   "metadata": {},
   "outputs": [
    {
     "name": "stderr",
     "output_type": "stream",
     "text": [
      "/Users/vince/tensorflow/lib/python2.7/site-packages/ipykernel_launcher.py:1: InitialParamWarning: Parameter SigXSecOverSM is floating but does not have initial step size. Assume 1.\n",
      "  \"\"\"Entry point for launching an IPython kernel.\n",
      "/Users/vince/tensorflow/lib/python2.7/site-packages/ipykernel_launcher.py:1: InitialParamWarning: Parameter HistoSystUncertainty is floating but does not have initial step size. Assume 1.\n",
      "  \"\"\"Entry point for launching an IPython kernel.\n"
     ]
    },
    {
     "data": {
      "text/html": [
       "<hr>"
      ]
     },
     "metadata": {},
     "output_type": "display_data"
    },
    {
     "data": {
      "text/html": [
       "\n",
       "        <table>\n",
       "            <tr>\n",
       "                <td title=\"Minimum value of function\">FCN = 354.468988782</td>\n",
       "                <td title=\"Total number of call to FCN so far\">TOTAL NCALL = 81</td>\n",
       "                <td title=\"Number of call in last migrad\">NCALLS = 81</td>\n",
       "            </tr>\n",
       "            <tr>\n",
       "                <td title=\"Estimated distance to minimum\">EDM = 5.0723566922e-05</td>\n",
       "                <td title=\"Maximum EDM definition of convergence\">GOAL EDM = 1e-05</td>\n",
       "                <td title=\"Error def. Amount of increase in FCN to be defined as 1 standard deviation\">\n",
       "                UP = 1.0</td>\n",
       "            </tr>\n",
       "        </table>\n",
       "        \n",
       "        <table>\n",
       "            <tr>\n",
       "                <td align=\"center\" title=\"Validity of the migrad call\">Valid</td>\n",
       "                <td align=\"center\" title=\"Validity of parameters\">Valid Param</td>\n",
       "                <td align=\"center\" title=\"Is Covariance matrix accurate?\">Accurate Covar</td>\n",
       "                <td align=\"center\" title=\"Positive definiteness of covariance matrix\">PosDef</td>\n",
       "                <td align=\"center\" title=\"Was covariance matrix made posdef by adding diagonal element\">Made PosDef</td>\n",
       "            </tr>\n",
       "            <tr>\n",
       "                <td align=\"center\" style=\"background-color:#92CCA6\">True</td>\n",
       "                <td align=\"center\" style=\"background-color:#92CCA6\">True</td>\n",
       "                <td align=\"center\" style=\"background-color:#92CCA6\">True</td>\n",
       "                <td align=\"center\" style=\"background-color:#92CCA6\">True</td>\n",
       "                <td align=\"center\" style=\"background-color:#92CCA6\">False</td>\n",
       "            </tr>\n",
       "            <tr>\n",
       "                <td align=\"center\" title=\"Was last hesse call fail?\">Hesse Fail</td>\n",
       "                <td align=\"center\" title=\"Validity of covariance\">HasCov</td>\n",
       "                <td align=\"center\" title=\"Is EDM above goal EDM?\">Above EDM</td>\n",
       "                <td align=\"center\"></td>\n",
       "                <td align=\"center\" title=\"Did last migrad call reach max call limit?\">Reach calllim</td>\n",
       "            </tr>\n",
       "            <tr>\n",
       "                <td align=\"center\" style=\"background-color:#92CCA6\">False</td>\n",
       "                <td align=\"center\" style=\"background-color:#92CCA6\">True</td>\n",
       "                <td align=\"center\" style=\"background-color:#92CCA6\">False</td>\n",
       "                <td align=\"center\"></td>\n",
       "                <td align=\"center\" style=\"background-color:#92CCA6\">False</td>\n",
       "            </tr>\n",
       "        </table>\n",
       "        "
      ]
     },
     "metadata": {},
     "output_type": "display_data"
    },
    {
     "data": {
      "text/html": [
       "\n",
       "        <table>\n",
       "            <tr>\n",
       "                <td><a href=\"#\" onclick=\"$('#ZDrzHdMesY').toggle()\">+</a></td>\n",
       "                <td title=\"Variable name\">Name</td>\n",
       "                <td title=\"Value of parameter\">Value</td>\n",
       "                <td title=\"Parabolic error\">Parab Error</td>\n",
       "                <td title=\"Minos lower error\">Minos Error-</td>\n",
       "                <td title=\"Minos upper error\">Minos Error+</td>\n",
       "                <td title=\"Lower limit of the parameter\">Limit-</td>\n",
       "                <td title=\"Upper limit of the parameter\">Limit+</td>\n",
       "                <td title=\"Is the parameter fixed in the fit\">FIXED</td>\n",
       "            </tr>\n",
       "        \n",
       "            <tr>\n",
       "                <td>1</td>\n",
       "                <td>SigXSecOverSM</td>\n",
       "                <td>1.99981</td>\n",
       "                <td>0.0448621</td>\n",
       "                <td>0</td>\n",
       "                <td>0</td>\n",
       "                <td>0.0</td>\n",
       "                <td>3.0</td>\n",
       "                <td></td>\n",
       "            </tr>\n",
       "            \n",
       "            <tr>\n",
       "                <td>2</td>\n",
       "                <td>HistoSystUncertainty</td>\n",
       "                <td>-0.000568582</td>\n",
       "                <td>0.0806946</td>\n",
       "                <td>0</td>\n",
       "                <td>0</td>\n",
       "                <td>-50.0</td>\n",
       "                <td>50.0</td>\n",
       "                <td></td>\n",
       "            </tr>\n",
       "            \n",
       "            </table>\n",
       "        \n",
       "            <pre id=\"ZDrzHdMesY\" style=\"display:none;\">\n",
       "            <textarea rows=\"10\" cols=\"50\" onclick=\"this.select()\" readonly>\\begin{tabular}{|c|r|r|r|r|r|r|r|c|}\n",
       "\\hline\n",
       " & Name & Value & Para Error & Error+ & Error- & Limit+ & Limit- & FIXED\\\\\n",
       "\\hline\n",
       "1 & SigXSecOverSM & 2.000e+00 & 4.486e-02 &  &  & 0.000e+00 & 3.000e+00 & \\\\\n",
       "\\hline\n",
       "2 & HistoSystUncertainty & -5.686e-04 & 8.069e-02 &  &  & -5.000e+01 & 5.000e+01 & \\\\\n",
       "\\hline\n",
       "\\end{tabular}</textarea>\n",
       "            </pre>\n",
       "            "
      ]
     },
     "metadata": {},
     "output_type": "display_data"
    },
    {
     "data": {
      "text/html": [
       "<hr>"
      ]
     },
     "metadata": {},
     "output_type": "display_data"
    },
    {
     "data": {
      "text/html": [
       "\n",
       "        <table>\n",
       "            <tr>\n",
       "                <td><a href=\"#\" onclick=\"$('#nsOiBsWAEj').toggle()\">+</a></td>\n",
       "                <td title=\"Variable name\">Name</td>\n",
       "                <td title=\"Value of parameter\">Value</td>\n",
       "                <td title=\"Parabolic error\">Parab Error</td>\n",
       "                <td title=\"Minos lower error\">Minos Error-</td>\n",
       "                <td title=\"Minos upper error\">Minos Error+</td>\n",
       "                <td title=\"Lower limit of the parameter\">Limit-</td>\n",
       "                <td title=\"Upper limit of the parameter\">Limit+</td>\n",
       "                <td title=\"Is the parameter fixed in the fit\">FIXED</td>\n",
       "            </tr>\n",
       "        \n",
       "            <tr>\n",
       "                <td>1</td>\n",
       "                <td>SigXSecOverSM</td>\n",
       "                <td>1.99981</td>\n",
       "                <td>0.0447196</td>\n",
       "                <td>0</td>\n",
       "                <td>0</td>\n",
       "                <td>0.0</td>\n",
       "                <td>3.0</td>\n",
       "                <td></td>\n",
       "            </tr>\n",
       "            \n",
       "            <tr>\n",
       "                <td>2</td>\n",
       "                <td>HistoSystUncertainty</td>\n",
       "                <td>-0.000568582</td>\n",
       "                <td>0.0807193</td>\n",
       "                <td>0</td>\n",
       "                <td>0</td>\n",
       "                <td>-50.0</td>\n",
       "                <td>50.0</td>\n",
       "                <td></td>\n",
       "            </tr>\n",
       "            \n",
       "            </table>\n",
       "        \n",
       "            <pre id=\"nsOiBsWAEj\" style=\"display:none;\">\n",
       "            <textarea rows=\"10\" cols=\"50\" onclick=\"this.select()\" readonly>\\begin{tabular}{|c|r|r|r|r|r|r|r|c|}\n",
       "\\hline\n",
       " & Name & Value & Para Error & Error+ & Error- & Limit+ & Limit- & FIXED\\\\\n",
       "\\hline\n",
       "1 & SigXSecOverSM & 2.000e+00 & 4.472e-02 &  &  & 0.000e+00 & 3.000e+00 & \\\\\n",
       "\\hline\n",
       "2 & HistoSystUncertainty & -5.686e-04 & 8.072e-02 &  &  & -5.000e+01 & 5.000e+01 & \\\\\n",
       "\\hline\n",
       "\\end{tabular}</textarea>\n",
       "            </pre>\n",
       "            "
      ]
     },
     "metadata": {},
     "output_type": "display_data"
    },
    {
     "data": {
      "text/html": [
       "\n",
       "            <table>\n",
       "                <tr>\n",
       "                    <td><a onclick=\"$('#SUOZcggeLE').toggle()\" href=\"#\">+</a></td>\n",
       "        \n",
       "            <td>\n",
       "            <div style=\"width:20px;position:relative; width: -moz-fit-content;\">\n",
       "            <div style=\"display:inline-block;-webkit-writing-mode:vertical-rl;-moz-writing-mode: vertical-rl;writing-mode: vertical-rl;\">\n",
       "            SigXSecOverSM\n",
       "            </div>\n",
       "            </div>\n",
       "            </td>\n",
       "            \n",
       "            <td>\n",
       "            <div style=\"width:20px;position:relative; width: -moz-fit-content;\">\n",
       "            <div style=\"display:inline-block;-webkit-writing-mode:vertical-rl;-moz-writing-mode: vertical-rl;writing-mode: vertical-rl;\">\n",
       "            HistoSystUncertainty\n",
       "            </div>\n",
       "            </div>\n",
       "            </td>\n",
       "            \n",
       "                </tr>\n",
       "                \n",
       "            <tr>\n",
       "                <td>SigXSecOverSM</td>\n",
       "            \n",
       "                <td style=\"background-color:rgb(255,117,117)\">\n",
       "                1.00\n",
       "                </td>\n",
       "                \n",
       "                <td style=\"background-color:rgb(212,181,149)\">\n",
       "                0.53\n",
       "                </td>\n",
       "                \n",
       "            </tr>\n",
       "            \n",
       "            <tr>\n",
       "                <td>HistoSystUncertainty</td>\n",
       "            \n",
       "                <td style=\"background-color:rgb(212,181,149)\">\n",
       "                0.53\n",
       "                </td>\n",
       "                \n",
       "                <td style=\"background-color:rgb(255,117,117)\">\n",
       "                1.00\n",
       "                </td>\n",
       "                \n",
       "            </tr>\n",
       "            </table>\n",
       "\n",
       "            <pre id=\"SUOZcggeLE\" style=\"display:none;\">\n",
       "            <textarea rows=\"13\" cols=\"50\" onclick=\"this.select()\" readonly>%\\usepackage[table]{xcolor} % include this for color\n",
       "%\\usepackage{rotating} % include this for rotate header\n",
       "%\\documentclass[xcolor=table]{beamer} % for beamer\n",
       "\\begin{tabular}{|c|c|c|}\n",
       "\\hline\n",
       "\\rotatebox{90}{} & \\rotatebox{90}{SigXSecOverSM} & \\rotatebox{90}{HistoSystUncertainty}\\\\\n",
       "\\hline\n",
       "SigXSecOverSM & \\cellcolor[RGB]{255,117,117} 1.00 & \\cellcolor[RGB]{212,181,149} 0.53\\\\\n",
       "\\hline\n",
       "HistoSystUncertainty & \\cellcolor[RGB]{212,181,149} 0.53 & \\cellcolor[RGB]{255,117,117} 1.00\\\\\n",
       "\\hline\n",
       "\\end{tabular}</textarea>\n",
       "            </pre>\n",
       "            "
      ]
     },
     "metadata": {},
     "output_type": "display_data"
    },
    {
     "data": {
      "text/html": [
       "\n",
       "        <span>Minos status for SigXSecOverSM: <span style=\"background-color:#92CCA6\">VALID</span></span>\n",
       "        <table>\n",
       "            <tr>\n",
       "                <td title=\"lower and upper minos error of the parameter\">Error</td>\n",
       "                <td>-0.0440774156866</td>\n",
       "                <td>0.0429949024873</td>\n",
       "            </tr>\n",
       "            <tr>\n",
       "                <td title=\"Validity of minos error\">Valid</td>\n",
       "                <td style=\"background-color:#92CCA6\">True</td>\n",
       "                <td style=\"background-color:#92CCA6\">True</td>\n",
       "            </tr>\n",
       "            <tr>\n",
       "                <td title=\"Did minos error search hit limit of any paramter?\">At Limit</td>\n",
       "                <td style=\"background-color:#92CCA6\">False</td>\n",
       "                <td style=\"background-color:#92CCA6\">False</td>\n",
       "            </tr>\n",
       "            <tr>\n",
       "                <td title=\"I don't really know what this one means... Post it in issue if you know\">Max FCN</td>\n",
       "                <td style=\"background-color:#92CCA6\">False</td>\n",
       "                <td style=\"background-color:#92CCA6\">False</td>\n",
       "            </tr>\n",
       "            <tr>\n",
       "                <td title=\"New minimum found when doing minos scan.\">New Min</td>\n",
       "                <td style=\"background-color:#92CCA6\">False</td>\n",
       "                <td style=\"background-color:#92CCA6\">False</td>\n",
       "            </tr>\n",
       "        </table>\n",
       "        "
      ]
     },
     "metadata": {},
     "output_type": "display_data"
    },
    {
     "data": {
      "text/html": [
       "\n",
       "        <span>Minos status for HistoSystUncertainty: <span style=\"background-color:#92CCA6\">VALID</span></span>\n",
       "        <table>\n",
       "            <tr>\n",
       "                <td title=\"lower and upper minos error of the parameter\">Error</td>\n",
       "                <td>-0.0793408461664</td>\n",
       "                <td>0.051737408001</td>\n",
       "            </tr>\n",
       "            <tr>\n",
       "                <td title=\"Validity of minos error\">Valid</td>\n",
       "                <td style=\"background-color:#92CCA6\">True</td>\n",
       "                <td style=\"background-color:#92CCA6\">True</td>\n",
       "            </tr>\n",
       "            <tr>\n",
       "                <td title=\"Did minos error search hit limit of any paramter?\">At Limit</td>\n",
       "                <td style=\"background-color:#92CCA6\">False</td>\n",
       "                <td style=\"background-color:#92CCA6\">False</td>\n",
       "            </tr>\n",
       "            <tr>\n",
       "                <td title=\"I don't really know what this one means... Post it in issue if you know\">Max FCN</td>\n",
       "                <td style=\"background-color:#92CCA6\">False</td>\n",
       "                <td style=\"background-color:#92CCA6\">False</td>\n",
       "            </tr>\n",
       "            <tr>\n",
       "                <td title=\"New minimum found when doing minos scan.\">New Min</td>\n",
       "                <td style=\"background-color:#92CCA6\">False</td>\n",
       "                <td style=\"background-color:#92CCA6\">False</td>\n",
       "            </tr>\n",
       "        </table>\n",
       "        "
      ]
     },
     "metadata": {},
     "output_type": "display_data"
    },
    {
     "data": {
      "text/plain": [
       "{'HistoSystUncertainty': {'lower_new_min': False, 'upper': 0.051737408000980596, 'lower': -0.07934084616635333, 'at_lower_limit': False, 'min': -0.0005685816294160873, 'at_lower_max_fcn': False, 'is_valid': True, 'upper_new_min': False, 'at_upper_limit': False, 'lower_valid': True, 'upper_valid': True, 'at_upper_max_fcn': False, 'nfcn': 24},\n",
       " 'SigXSecOverSM': {'lower_new_min': False, 'upper': 0.042994902487271044, 'lower': -0.04407741568662184, 'at_lower_limit': False, 'min': 1.999807984487674, 'at_lower_max_fcn': False, 'is_valid': True, 'upper_new_min': False, 'at_upper_limit': False, 'lower_valid': True, 'upper_valid': True, 'at_upper_max_fcn': False, 'nfcn': 27}}"
      ]
     },
     "execution_count": 37,
     "metadata": {},
     "output_type": "execute_result"
    }
   ],
   "source": [
    "minimiser = Minuit(blh, **params)\n",
    "minimiser.migrad()\n",
    "minimiser.hesse()\n",
    "minimiser.minos()"
   ]
  },
  {
   "cell_type": "code",
   "execution_count": 38,
   "metadata": {},
   "outputs": [
    {
     "data": {
      "text/plain": [
       "(array([ 1.91036875,  1.9121756 ,  1.91398246,  1.91578931,  1.91759616,\n",
       "         1.91940302,  1.92120987,  1.92301672,  1.92482358,  1.92663043,\n",
       "         1.92843728,  1.93024414,  1.93205099,  1.93385784,  1.9356647 ,\n",
       "         1.93747155,  1.9392784 ,  1.94108525,  1.94289211,  1.94469896,\n",
       "         1.94650581,  1.94831267,  1.95011952,  1.95192637,  1.95373323,\n",
       "         1.95554008,  1.95734693,  1.95915379,  1.96096064,  1.96276749,\n",
       "         1.96457435,  1.9663812 ,  1.96818805,  1.96999491,  1.97180176,\n",
       "         1.97360861,  1.97541547,  1.97722232,  1.97902917,  1.98083603,\n",
       "         1.98264288,  1.98444973,  1.98625659,  1.98806344,  1.98987029,\n",
       "         1.99167714,  1.993484  ,  1.99529085,  1.9970977 ,  1.99890456,\n",
       "         2.00071141,  2.00251826,  2.00432512,  2.00613197,  2.00793882,\n",
       "         2.00974568,  2.01155253,  2.01335938,  2.01516624,  2.01697309,\n",
       "         2.01877994,  2.0205868 ,  2.02239365,  2.0242005 ,  2.02600736,\n",
       "         2.02781421,  2.02962106,  2.03142792,  2.03323477,  2.03504162,\n",
       "         2.03684848,  2.03865533,  2.04046218,  2.04226904,  2.04407589,\n",
       "         2.04588274,  2.04768959,  2.04949645,  2.0513033 ,  2.05311015,\n",
       "         2.05491701,  2.05672386,  2.05853071,  2.06033757,  2.06214442,\n",
       "         2.06395127,  2.06575813,  2.06756498,  2.06937183,  2.07117869,\n",
       "         2.07298554,  2.07479239,  2.07659925,  2.0784061 ,  2.08021295,\n",
       "         2.08201981,  2.08382666,  2.08563351,  2.08744037,  2.08924722]),\n",
       " array([ 360.12924259,  359.90100711,  359.67754702,  359.45885721,\n",
       "         359.24493262,  359.03576818,  358.83135883,  358.63169951,\n",
       "         358.43678519,  358.24661082,  358.06117138,  357.88046185,\n",
       "         357.70447723,  357.5332125 ,  357.36666268,  357.20482277,\n",
       "         357.0476878 ,  356.8952528 ,  356.74751281,  356.60446287,\n",
       "         356.46609803,  356.33241337,  356.20340394,  356.07906483,\n",
       "         355.95939113,  355.84437792,  355.73402031,  355.62831341,\n",
       "         355.52725233,  355.43083221,  355.33904818,  355.25189537,\n",
       "         355.16936893,  355.09146403,  355.01817583,  354.9494995 ,\n",
       "         354.88543022,  354.82596317,  354.77109356,  354.72081659,\n",
       "         354.67512747,  354.63402142,  354.59749366,  354.56553943,\n",
       "         354.53815396,  354.51533252,  354.49707036,  354.48336273,\n",
       "         354.47420492,  354.4695922 ,  354.46951987,  354.4739832 ,\n",
       "         354.48297752,  354.49649811,  354.51454032,  354.53709945,\n",
       "         354.56417084,  354.59574983,  354.63183177,  354.67241201,\n",
       "         354.71748591,  354.76704884,  354.82109617,  354.8796233 ,\n",
       "         354.94262561,  355.0100985 ,  355.08203738,  355.15843765,\n",
       "         355.23929474,  355.32460408,  355.41436109,  355.50856123,\n",
       "         355.60719994,  355.71027267,  355.81777489,  355.92970207,\n",
       "         356.04604968,  356.16681322,  356.29198816,  356.42157002,\n",
       "         356.55555429,  356.69393649,  356.83671214,  356.98387677,\n",
       "         357.1354259 ,  357.29135509,  357.45165987,  357.6163358 ,\n",
       "         357.78537845,  357.95878338,  358.13654616,  358.31866239,\n",
       "         358.50512764,  358.69593752,  358.89108762,  359.09057357,\n",
       "         359.29439096,  359.50253543,  359.71500262,  359.93178814]))"
      ]
     },
     "execution_count": 38,
     "metadata": {},
     "output_type": "execute_result"
    },
    {
     "data": {
      "image/png": "[encoded data removed]",
      "text/plain": [
       "<matplotlib.figure.Figure at 0x10ab3e590>"
      ]
     },
     "metadata": {},
     "output_type": "display_data"
    }
   ],
   "source": [
    "minimiser.draw_profile('SigXSecOverSM')"
   ]
  },
  {
   "cell_type": "code",
   "execution_count": 39,
   "metadata": {},
   "outputs": [
    {
     "name": "stdout",
     "output_type": "stream",
     "text": [
      "Help on built-in function draw_mncontour:\n",
      "\n",
      "draw_mncontour(...)\n",
      "    Minuit.draw_mncontour(self, x, y, bins=100, nsigma=2, numpoints=20, sigma_res=4)\n",
      "    Draw minos contour.\n",
      "    \n",
      "            **Arguments:**\n",
      "    \n",
      "                - **x**, **y** parameter name\n",
      "    \n",
      "                - **bins** number of bin in contour grid.\n",
      "    \n",
      "                - **nsigma** number of sigma contour to draw\n",
      "    \n",
      "                - **numpoints** number of points to calculate for each contour\n",
      "    \n",
      "                - **sigma_res** number of sigma level to calculate MnContours.\n",
      "                  Default 4.\n",
      "    \n",
      "            **Returns:**\n",
      "    \n",
      "                x, y, gridvalue, contour\n",
      "    \n",
      "                gridvalue is interorlated nsigma\n",
      "\n"
     ]
    },
    {
     "data": {
      "image/png": "[encoded data removed]",
      "text/plain": [
       "<matplotlib.figure.Figure at 0x10ac30c10>"
      ]
     },
     "metadata": {},
     "output_type": "display_data"
    }
   ],
   "source": [
    "minimiser.draw_mncontour('SigXSecOverSM',\"HistoSystUncertainty\", numpoints=60, bins=200)\n",
    "help(minimiser.draw_mncontour)"
   ]
  },
  {
   "cell_type": "code",
   "execution_count": null,
   "metadata": {},
   "outputs": [],
   "source": []
  }
 ],
 "metadata": {
  "kernelspec": {
   "display_name": "Python 2",
   "language": "python",
   "name": "python2"
  },
  "language_info": {
   "codemirror_mode": {
    "name": "ipython",
    "version": 2
   },
   "file_extension": ".py",
   "mimetype": "text/x-python",
   "name": "python",
   "nbconvert_exporter": "python",
   "pygments_lexer": "ipython2",
   "version": "2.7.13"
  }
 },
 "nbformat": 4,
 "nbformat_minor": 2
}
