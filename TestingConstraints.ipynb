{
 "cells": [
  {
   "cell_type": "code",
   "execution_count": 1,
   "metadata": {},
   "outputs": [],
   "source": [
    "from histimator.models import HistiModel, HistiChannel, HistiSample\n",
    "from histimator.estimator import BinnedLH"
   ]
  },
  {
   "cell_type": "code",
   "execution_count": 2,
   "metadata": {},
   "outputs": [],
   "source": [
    "from iminuit import Minuit, describe\n",
    "import numpy as np"
   ]
  },
  {
   "cell_type": "code",
   "execution_count": 3,
   "metadata": {},
   "outputs": [],
   "source": [
    "hist_sig = np.asarray([1,2,3,4])\n",
    "hist_bkg = np.asarray([5,5,5,5])"
   ]
  },
  {
   "cell_type": "code",
   "execution_count": 4,
   "metadata": {},
   "outputs": [],
   "source": [
    "m = HistiModel('model')\n",
    "signal = HistiSample('signal')\n",
    "binedges = [0,1,2,3,4]\n",
    "signal.SetHisto((hist_sig,binedges))\n",
    "signal.AddNorm(\"SigXSecOverSM\",1.0,0,3)"
   ]
  },
  {
   "cell_type": "code",
   "execution_count": 5,
   "metadata": {},
   "outputs": [],
   "source": [
    "background = HistiSample('background')\n",
    "background.SetHisto((hist_bkg, binedges))\n",
    "background.AddNorm(\"BackgroundNorm\",1.,0,100)"
   ]
  },
  {
   "cell_type": "code",
   "execution_count": 6,
   "metadata": {},
   "outputs": [
    {
     "name": "stdout",
     "output_type": "stream",
     "text": [
      "['x', 'BackgroundNorm']\n"
     ]
    }
   ],
   "source": [
    "print describe(background.pdf)"
   ]
  },
  {
   "cell_type": "code",
   "execution_count": 7,
   "metadata": {},
   "outputs": [
    {
     "name": "stdout",
     "output_type": "stream",
     "text": [
      "[5 5 5 5]\n",
      "[5.0, 5.0, 5.0, 5.0, 0.0]\n"
     ]
    }
   ],
   "source": [
    "print background.bincontent\n",
    "assess = []\n",
    "for i in range(len(background.binedges)):\n",
    "    assess.append(background.pdf(i,1))\n",
    "print assess"
   ]
  },
  {
   "cell_type": "code",
   "execution_count": 8,
   "metadata": {},
   "outputs": [],
   "source": [
    "chan = HistiChannel(\"SR\")\n",
    "chan.AddSample(signal)\n",
    "chan.AddSample(background)"
   ]
  },
  {
   "cell_type": "code",
   "execution_count": 9,
   "metadata": {},
   "outputs": [],
   "source": [
    "data = hist_sig*2 +hist_bkg\n",
    "\n",
    "chan.SetData(data)\n",
    "m.AddChannel(chan)"
   ]
  },
  {
   "cell_type": "code",
   "execution_count": 10,
   "metadata": {},
   "outputs": [],
   "source": [
    "blh = BinnedLH(m, bound=(0,4))"
   ]
  },
  {
   "cell_type": "code",
   "execution_count": 11,
   "metadata": {
    "scrolled": true
   },
   "outputs": [
    {
     "name": "stdout",
     "output_type": "stream",
     "text": [
      "params are  {'BackgroundNorm': 1.0, 'limit_SigXSecOverSM': (0, 3), 'SigXSecOverSM': 1.0, 'limit_BackgroundNorm': (0, 100), 'errordef': 1}\n"
     ]
    }
   ],
   "source": [
    "params = m.Parameters()\n",
    "print \"params are \",params"
   ]
  },
  {
   "cell_type": "code",
   "execution_count": 12,
   "metadata": {},
   "outputs": [
    {
     "name": "stderr",
     "output_type": "stream",
     "text": [
      "/Users/vince/tensorflow/lib/python2.7/site-packages/ipykernel_launcher.py:1: InitialParamWarning: Parameter SigXSecOverSM is floating but does not have initial step size. Assume 1.\n",
      "  \"\"\"Entry point for launching an IPython kernel.\n",
      "/Users/vince/tensorflow/lib/python2.7/site-packages/ipykernel_launcher.py:1: InitialParamWarning: Parameter BackgroundNorm is floating but does not have initial step size. Assume 1.\n",
      "  \"\"\"Entry point for launching an IPython kernel.\n"
     ]
    }
   ],
   "source": [
    "minimiser = Minuit(blh, **params)"
   ]
  },
  {
   "cell_type": "code",
   "execution_count": 13,
   "metadata": {
    "scrolled": true
   },
   "outputs": [
    {
     "data": {
      "text/html": [
       "<hr>"
      ]
     },
     "metadata": {},
     "output_type": "display_data"
    },
    {
     "data": {
      "text/html": [
       "\n",
       "        <table>\n",
       "            <tr>\n",
       "                <td title=\"Minimum value of function\">FCN = 8.26387865588</td>\n",
       "                <td title=\"Total number of call to FCN so far\">TOTAL NCALL = 43</td>\n",
       "                <td title=\"Number of call in last migrad\">NCALLS = 43</td>\n",
       "            </tr>\n",
       "            <tr>\n",
       "                <td title=\"Estimated distance to minimum\">EDM = 2.92948620048e-09</td>\n",
       "                <td title=\"Maximum EDM definition of convergence\">GOAL EDM = 1e-05</td>\n",
       "                <td title=\"Error def. Amount of increase in FCN to be defined as 1 standard deviation\">\n",
       "                UP = 1.0</td>\n",
       "            </tr>\n",
       "        </table>\n",
       "        \n",
       "        <table>\n",
       "            <tr>\n",
       "                <td align=\"center\" title=\"Validity of the migrad call\">Valid</td>\n",
       "                <td align=\"center\" title=\"Validity of parameters\">Valid Param</td>\n",
       "                <td align=\"center\" title=\"Is Covariance matrix accurate?\">Accurate Covar</td>\n",
       "                <td align=\"center\" title=\"Positive definiteness of covariance matrix\">PosDef</td>\n",
       "                <td align=\"center\" title=\"Was covariance matrix made posdef by adding diagonal element\">Made PosDef</td>\n",
       "            </tr>\n",
       "            <tr>\n",
       "                <td align=\"center\" style=\"background-color:#92CCA6\">True</td>\n",
       "                <td align=\"center\" style=\"background-color:#92CCA6\">True</td>\n",
       "                <td align=\"center\" style=\"background-color:#92CCA6\">True</td>\n",
       "                <td align=\"center\" style=\"background-color:#92CCA6\">True</td>\n",
       "                <td align=\"center\" style=\"background-color:#92CCA6\">False</td>\n",
       "            </tr>\n",
       "            <tr>\n",
       "                <td align=\"center\" title=\"Was last hesse call fail?\">Hesse Fail</td>\n",
       "                <td align=\"center\" title=\"Validity of covariance\">HasCov</td>\n",
       "                <td align=\"center\" title=\"Is EDM above goal EDM?\">Above EDM</td>\n",
       "                <td align=\"center\"></td>\n",
       "                <td align=\"center\" title=\"Did last migrad call reach max call limit?\">Reach calllim</td>\n",
       "            </tr>\n",
       "            <tr>\n",
       "                <td align=\"center\" style=\"background-color:#92CCA6\">False</td>\n",
       "                <td align=\"center\" style=\"background-color:#92CCA6\">True</td>\n",
       "                <td align=\"center\" style=\"background-color:#92CCA6\">False</td>\n",
       "                <td align=\"center\"></td>\n",
       "                <td align=\"center\" style=\"background-color:#92CCA6\">False</td>\n",
       "            </tr>\n",
       "        </table>\n",
       "        "
      ]
     },
     "metadata": {},
     "output_type": "display_data"
    },
    {
     "data": {
      "text/html": [
       "\n",
       "        <table>\n",
       "            <tr>\n",
       "                <td><a href=\"#\" onclick=\"$('#SytVGpOykL').toggle()\">+</a></td>\n",
       "                <td title=\"Variable name\">Name</td>\n",
       "                <td title=\"Value of parameter\">Value</td>\n",
       "                <td title=\"Parabolic error\">Parab Error</td>\n",
       "                <td title=\"Minos lower error\">Minos Error-</td>\n",
       "                <td title=\"Minos upper error\">Minos Error+</td>\n",
       "                <td title=\"Lower limit of the parameter\">Limit-</td>\n",
       "                <td title=\"Upper limit of the parameter\">Limit+</td>\n",
       "                <td title=\"Is the parameter fixed in the fit\">FIXED</td>\n",
       "            </tr>\n",
       "        \n",
       "            <tr>\n",
       "                <td>1</td>\n",
       "                <td>SigXSecOverSM</td>\n",
       "                <td>1.99991</td>\n",
       "                <td>2.39958</td>\n",
       "                <td>0</td>\n",
       "                <td>0</td>\n",
       "                <td>0.0</td>\n",
       "                <td>3.0</td>\n",
       "                <td></td>\n",
       "            </tr>\n",
       "            \n",
       "            <tr>\n",
       "                <td>2</td>\n",
       "                <td>BackgroundNorm</td>\n",
       "                <td>1.00003</td>\n",
       "                <td>0.979392</td>\n",
       "                <td>0</td>\n",
       "                <td>0</td>\n",
       "                <td>0.0</td>\n",
       "                <td>100.0</td>\n",
       "                <td></td>\n",
       "            </tr>\n",
       "            \n",
       "            </table>\n",
       "        \n",
       "            <pre id=\"SytVGpOykL\" style=\"display:none;\">\n",
       "            <textarea rows=\"10\" cols=\"50\" onclick=\"this.select()\" readonly>\\begin{tabular}{|c|r|r|r|r|r|r|r|c|}\n",
       "\\hline\n",
       " & Name & Value & Para Error & Error+ & Error- & Limit+ & Limit- & FIXED\\\\\n",
       "\\hline\n",
       "1 & SigXSecOverSM & 2.000e+00 & 2.400e+00 &  &  & 0.000e+00 & 3.000e+00 & \\\\\n",
       "\\hline\n",
       "2 & BackgroundNorm & 1.000e+00 & 9.794e-01 &  &  & 0.000e+00 & 1.000e+02 & \\\\\n",
       "\\hline\n",
       "\\end{tabular}</textarea>\n",
       "            </pre>\n",
       "            "
      ]
     },
     "metadata": {},
     "output_type": "display_data"
    },
    {
     "data": {
      "text/html": [
       "<hr>"
      ]
     },
     "metadata": {},
     "output_type": "display_data"
    },
    {
     "data": {
      "text/html": [
       "\n",
       "        <table>\n",
       "            <tr>\n",
       "                <td><a href=\"#\" onclick=\"$('#lKxkzweSeO').toggle()\">+</a></td>\n",
       "                <td title=\"Variable name\">Name</td>\n",
       "                <td title=\"Value of parameter\">Value</td>\n",
       "                <td title=\"Parabolic error\">Parab Error</td>\n",
       "                <td title=\"Minos lower error\">Minos Error-</td>\n",
       "                <td title=\"Minos upper error\">Minos Error+</td>\n",
       "                <td title=\"Lower limit of the parameter\">Limit-</td>\n",
       "                <td title=\"Upper limit of the parameter\">Limit+</td>\n",
       "                <td title=\"Is the parameter fixed in the fit\">FIXED</td>\n",
       "            </tr>\n",
       "        \n",
       "            <tr>\n",
       "                <td>1</td>\n",
       "                <td>SigXSecOverSM</td>\n",
       "                <td>1.99991</td>\n",
       "                <td>2.39925</td>\n",
       "                <td>0</td>\n",
       "                <td>0</td>\n",
       "                <td>0.0</td>\n",
       "                <td>3.0</td>\n",
       "                <td></td>\n",
       "            </tr>\n",
       "            \n",
       "            <tr>\n",
       "                <td>2</td>\n",
       "                <td>BackgroundNorm</td>\n",
       "                <td>1.00003</td>\n",
       "                <td>0.978772</td>\n",
       "                <td>0</td>\n",
       "                <td>0</td>\n",
       "                <td>0.0</td>\n",
       "                <td>100.0</td>\n",
       "                <td></td>\n",
       "            </tr>\n",
       "            \n",
       "            </table>\n",
       "        \n",
       "            <pre id=\"lKxkzweSeO\" style=\"display:none;\">\n",
       "            <textarea rows=\"10\" cols=\"50\" onclick=\"this.select()\" readonly>\\begin{tabular}{|c|r|r|r|r|r|r|r|c|}\n",
       "\\hline\n",
       " & Name & Value & Para Error & Error+ & Error- & Limit+ & Limit- & FIXED\\\\\n",
       "\\hline\n",
       "1 & SigXSecOverSM & 2.000e+00 & 2.399e+00 &  &  & 0.000e+00 & 3.000e+00 & \\\\\n",
       "\\hline\n",
       "2 & BackgroundNorm & 1.000e+00 & 9.788e-01 &  &  & 0.000e+00 & 1.000e+02 & \\\\\n",
       "\\hline\n",
       "\\end{tabular}</textarea>\n",
       "            </pre>\n",
       "            "
      ]
     },
     "metadata": {},
     "output_type": "display_data"
    },
    {
     "data": {
      "text/html": [
       "\n",
       "            <table>\n",
       "                <tr>\n",
       "                    <td><a onclick=\"$('#kCkczWjbgv').toggle()\" href=\"#\">+</a></td>\n",
       "        \n",
       "            <td>\n",
       "            <div style=\"width:20px;position:relative; width: -moz-fit-content;\">\n",
       "            <div style=\"display:inline-block;-webkit-writing-mode:vertical-rl;-moz-writing-mode: vertical-rl;writing-mode: vertical-rl;\">\n",
       "            SigXSecOverSM\n",
       "            </div>\n",
       "            </div>\n",
       "            </td>\n",
       "            \n",
       "            <td>\n",
       "            <div style=\"width:20px;position:relative; width: -moz-fit-content;\">\n",
       "            <div style=\"display:inline-block;-webkit-writing-mode:vertical-rl;-moz-writing-mode: vertical-rl;writing-mode: vertical-rl;\">\n",
       "            BackgroundNorm\n",
       "            </div>\n",
       "            </div>\n",
       "            </td>\n",
       "            \n",
       "                </tr>\n",
       "                \n",
       "            <tr>\n",
       "                <td>SigXSecOverSM</td>\n",
       "            \n",
       "                <td style=\"background-color:rgb(255,117,117)\">\n",
       "                1.00\n",
       "                </td>\n",
       "                \n",
       "                <td style=\"background-color:rgb(245,131,124)\">\n",
       "                -0.90\n",
       "                </td>\n",
       "                \n",
       "            </tr>\n",
       "            \n",
       "            <tr>\n",
       "                <td>BackgroundNorm</td>\n",
       "            \n",
       "                <td style=\"background-color:rgb(245,131,124)\">\n",
       "                -0.90\n",
       "                </td>\n",
       "                \n",
       "                <td style=\"background-color:rgb(255,117,117)\">\n",
       "                1.00\n",
       "                </td>\n",
       "                \n",
       "            </tr>\n",
       "            </table>\n",
       "\n",
       "            <pre id=\"kCkczWjbgv\" style=\"display:none;\">\n",
       "            <textarea rows=\"13\" cols=\"50\" onclick=\"this.select()\" readonly>%\\usepackage[table]{xcolor} % include this for color\n",
       "%\\usepackage{rotating} % include this for rotate header\n",
       "%\\documentclass[xcolor=table]{beamer} % for beamer\n",
       "\\begin{tabular}{|c|c|c|}\n",
       "\\hline\n",
       "\\rotatebox{90}{} & \\rotatebox{90}{SigXSecOverSM} & \\rotatebox{90}{BackgroundNorm}\\\\\n",
       "\\hline\n",
       "SigXSecOverSM & \\cellcolor[RGB]{255,117,117} 1.00 & \\cellcolor[RGB]{245,131,124} -0.90\\\\\n",
       "\\hline\n",
       "BackgroundNorm & \\cellcolor[RGB]{245,131,124} -0.90 & \\cellcolor[RGB]{255,117,117} 1.00\\\\\n",
       "\\hline\n",
       "\\end{tabular}</textarea>\n",
       "            </pre>\n",
       "            "
      ]
     },
     "metadata": {},
     "output_type": "display_data"
    },
    {
     "data": {
      "text/html": [
       "\n",
       "        <span>Minos status for SigXSecOverSM: <span style=\"background-color:#92CCA6\">VALID</span></span>\n",
       "        <table>\n",
       "            <tr>\n",
       "                <td title=\"lower and upper minos error of the parameter\">Error</td>\n",
       "                <td>-1.98618855801</td>\n",
       "                <td>1.0000906787</td>\n",
       "            </tr>\n",
       "            <tr>\n",
       "                <td title=\"Validity of minos error\">Valid</td>\n",
       "                <td style=\"background-color:#92CCA6\">True</td>\n",
       "                <td style=\"background-color:#92CCA6\">True</td>\n",
       "            </tr>\n",
       "            <tr>\n",
       "                <td title=\"Did minos error search hit limit of any paramter?\">At Limit</td>\n",
       "                <td style=\"background-color:#92CCA6\">False</td>\n",
       "                <td style=\"background-color:#FF7878\">True</td>\n",
       "            </tr>\n",
       "            <tr>\n",
       "                <td title=\"I don't really know what this one means... Post it in issue if you know\">Max FCN</td>\n",
       "                <td style=\"background-color:#92CCA6\">False</td>\n",
       "                <td style=\"background-color:#92CCA6\">False</td>\n",
       "            </tr>\n",
       "            <tr>\n",
       "                <td title=\"New minimum found when doing minos scan.\">New Min</td>\n",
       "                <td style=\"background-color:#92CCA6\">False</td>\n",
       "                <td style=\"background-color:#92CCA6\">False</td>\n",
       "            </tr>\n",
       "        </table>\n",
       "        "
      ]
     },
     "metadata": {},
     "output_type": "display_data"
    },
    {
     "data": {
      "text/html": [
       "\n",
       "        <span>Minos status for BackgroundNorm: <span style=\"background-color:#92CCA6\">VALID</span></span>\n",
       "        <table>\n",
       "            <tr>\n",
       "                <td title=\"lower and upper minos error of the parameter\">Error</td>\n",
       "                <td>-0.756705474884</td>\n",
       "                <td>1.08484159153</td>\n",
       "            </tr>\n",
       "            <tr>\n",
       "                <td title=\"Validity of minos error\">Valid</td>\n",
       "                <td style=\"background-color:#92CCA6\">True</td>\n",
       "                <td style=\"background-color:#92CCA6\">True</td>\n",
       "            </tr>\n",
       "            <tr>\n",
       "                <td title=\"Did minos error search hit limit of any paramter?\">At Limit</td>\n",
       "                <td style=\"background-color:#92CCA6\">False</td>\n",
       "                <td style=\"background-color:#92CCA6\">False</td>\n",
       "            </tr>\n",
       "            <tr>\n",
       "                <td title=\"I don't really know what this one means... Post it in issue if you know\">Max FCN</td>\n",
       "                <td style=\"background-color:#92CCA6\">False</td>\n",
       "                <td style=\"background-color:#92CCA6\">False</td>\n",
       "            </tr>\n",
       "            <tr>\n",
       "                <td title=\"New minimum found when doing minos scan.\">New Min</td>\n",
       "                <td style=\"background-color:#92CCA6\">False</td>\n",
       "                <td style=\"background-color:#92CCA6\">False</td>\n",
       "            </tr>\n",
       "        </table>\n",
       "        "
      ]
     },
     "metadata": {},
     "output_type": "display_data"
    },
    {
     "data": {
      "text/plain": [
       "{'BackgroundNorm': {'lower_new_min': False, 'upper': 1.0848415915291094, 'lower': -0.7567054748839628, 'at_lower_limit': False, 'min': 1.0000282677554428, 'at_lower_max_fcn': False, 'is_valid': True, 'upper_new_min': False, 'at_upper_limit': False, 'lower_valid': True, 'upper_valid': True, 'at_upper_max_fcn': False, 'nfcn': 82},\n",
       " 'SigXSecOverSM': {'lower_new_min': False, 'upper': 1.0000906787035424, 'lower': -1.9861885580130567, 'at_lower_limit': False, 'min': 1.9999093212964576, 'at_lower_max_fcn': False, 'is_valid': True, 'upper_new_min': False, 'at_upper_limit': True, 'lower_valid': True, 'upper_valid': True, 'at_upper_max_fcn': False, 'nfcn': 53}}"
      ]
     },
     "execution_count": 13,
     "metadata": {},
     "output_type": "execute_result"
    }
   ],
   "source": [
    "minimiser.migrad()\n",
    "minimiser.hesse()\n",
    "minimiser.minos()"
   ]
  },
  {
   "cell_type": "code",
   "execution_count": 14,
   "metadata": {},
   "outputs": [
    {
     "name": "stderr",
     "output_type": "stream",
     "text": [
      "/Users/vince/tensorflow/lib/python2.7/site-packages/ipykernel_launcher.py:2: RuntimeWarning: fcn returns Nan\n",
      "fcn is called with following arguments:\n",
      "     SigXSecOverSM = -2.798597\n",
      "    BackgroundNorm = +1.000028\n",
      "\n",
      "  \n",
      "/Users/vince/tensorflow/lib/python2.7/site-packages/scipy/stats/_discrete_distns.py:462: RuntimeWarning: invalid value encountered in greater_equal\n",
      "  return mu >= 0\n",
      "/Users/vince/tensorflow/lib/python2.7/site-packages/ipykernel_launcher.py:2: RuntimeWarning: fcn returns Nan\n",
      "fcn is called with following arguments:\n",
      "     SigXSecOverSM = -2.798597\n",
      "    BackgroundNorm = nan\n",
      "\n",
      "  \n",
      "/Users/vince/tensorflow/lib/python2.7/site-packages/ipykernel_launcher.py:2: RuntimeWarning: fcn returns Nan\n",
      "fcn is called with following arguments:\n",
      "     SigXSecOverSM = -2.467665\n",
      "    BackgroundNorm = +1.000028\n",
      "\n",
      "  \n",
      "/Users/vince/tensorflow/lib/python2.7/site-packages/ipykernel_launcher.py:2: RuntimeWarning: fcn returns Nan\n",
      "fcn is called with following arguments:\n",
      "     SigXSecOverSM = -2.467665\n",
      "    BackgroundNorm = nan\n",
      "\n",
      "  \n",
      "/Users/vince/tensorflow/lib/python2.7/site-packages/ipykernel_launcher.py:2: RuntimeWarning: fcn returns Nan\n",
      "fcn is called with following arguments:\n",
      "     SigXSecOverSM = -2.136734\n",
      "    BackgroundNorm = +1.000028\n",
      "\n",
      "  \n",
      "/Users/vince/tensorflow/lib/python2.7/site-packages/ipykernel_launcher.py:2: RuntimeWarning: fcn returns Nan\n",
      "fcn is called with following arguments:\n",
      "     SigXSecOverSM = -2.136734\n",
      "    BackgroundNorm = nan\n",
      "\n",
      "  \n",
      "/Users/vince/tensorflow/lib/python2.7/site-packages/ipykernel_launcher.py:2: RuntimeWarning: fcn returns Nan\n",
      "fcn is called with following arguments:\n",
      "     SigXSecOverSM = -1.805802\n",
      "    BackgroundNorm = +1.000028\n",
      "\n",
      "  \n",
      "/Users/vince/tensorflow/lib/python2.7/site-packages/ipykernel_launcher.py:2: RuntimeWarning: fcn returns Nan\n",
      "fcn is called with following arguments:\n",
      "     SigXSecOverSM = -1.805802\n",
      "    BackgroundNorm = nan\n",
      "\n",
      "  \n",
      "/Users/vince/tensorflow/lib/python2.7/site-packages/ipykernel_launcher.py:2: RuntimeWarning: fcn returns Nan\n",
      "fcn is called with following arguments:\n",
      "     SigXSecOverSM = -1.474871\n",
      "    BackgroundNorm = +1.000028\n",
      "\n",
      "  \n",
      "/Users/vince/tensorflow/lib/python2.7/site-packages/ipykernel_launcher.py:2: RuntimeWarning: fcn returns Nan\n",
      "fcn is called with following arguments:\n",
      "     SigXSecOverSM = -1.474871\n",
      "    BackgroundNorm = nan\n",
      "\n",
      "  \n",
      "/Library/Frameworks/Python.framework/Versions/2.7/lib/python2.7/site-packages/iminuit/_plotting.py:51: RuntimeWarning: band and text is requested but the bound is too narrow.\n",
      "  warnings.warn(RuntimeWarning('band and text is requested but'\n"
     ]
    },
    {
     "data": {
      "text/plain": [
       "(array([-2.79859656, -2.46766512, -2.13673368, -1.80580224, -1.4748708 ,\n",
       "        -1.14393936, -0.81300792, -0.48207648, -0.15114504,  0.1797864 ,\n",
       "         0.51071784,  0.84164928,  1.17258072,  1.50351216,  1.8344436 ,\n",
       "         2.16537504,  2.49630648,  2.82723792,  3.15816936,  3.4891008 ,\n",
       "         3.82003224,  4.15096368,  4.48189512,  4.81282656,  5.143758  ,\n",
       "         5.47468944,  5.80562088,  6.13655232,  6.46748376,  6.7984152 ]),\n",
       " array([         nan,          nan,          nan,          nan,\n",
       "                 nan,  10.72445367,  10.24510163,   9.81472351,\n",
       "          9.43460929,   9.10597749,   8.82996365,   8.60760593,\n",
       "          8.43982069,   8.32739539,   8.27096054,   8.27095718,\n",
       "          8.32762813,   8.4410161 ,   8.6109078 ,   8.83685199,\n",
       "          9.11815041,   9.4538878 ,   9.8428623 ,  10.31346051,\n",
       "         10.96279648,  11.77804653,  12.73972124,  13.83157435,\n",
       "         15.03992668,  16.35314499]),\n",
       " array([ True,  True,  True,  True,  True,  True,  True,  True,  True,\n",
       "         True,  True,  True,  True,  True,  True,  True,  True,  True,\n",
       "         True,  True,  True,  True,  True,  True,  True,  True,  True,\n",
       "         True,  True,  True], dtype=bool))"
      ]
     },
     "execution_count": 14,
     "metadata": {},
     "output_type": "execute_result"
    },
    {
     "data": {
      "image/png": "[encoded data removed]",
      "text/plain": [
       "<matplotlib.figure.Figure at 0x10a6a9e90>"
      ]
     },
     "metadata": {},
     "output_type": "display_data"
    }
   ],
   "source": [
    "%matplotlib inline\n",
    "minimiser.draw_mnprofile('SigXSecOverSM')"
   ]
  },
  {
   "cell_type": "markdown",
   "metadata": {},
   "source": [
    "## Testing PDF"
   ]
  },
  {
   "cell_type": "code",
   "execution_count": 15,
   "metadata": {},
   "outputs": [],
   "source": [
    "m2 = HistiModel('newmodel')\n",
    "signal = HistiSample('signal')\n",
    "binedges = [0,1,2,3,4]\n",
    "signal.SetHisto((hist_sig,binedges))\n",
    "signal.AddNorm(\"SigXSecOverSM\",1.0,0,3)\n",
    "background = HistiSample('background')\n",
    "background.SetHisto((hist_bkg, binedges))\n",
    "background.AddNorm(\"BackgroundNorm\",1.,0,100)"
   ]
  },
  {
   "cell_type": "code",
   "execution_count": 16,
   "metadata": {},
   "outputs": [
    {
     "name": "stdout",
     "output_type": "stream",
     "text": [
      "adding np NormSystUncertainty {'nom': 0.29999999999999993, 'range': (0, 100)}\n"
     ]
    }
   ],
   "source": [
    "background.AddOverallSys(\"NormSystUncertainty\",.9,1.2)"
   ]
  },
  {
   "cell_type": "code",
   "execution_count": 17,
   "metadata": {},
   "outputs": [
    {
     "data": {
      "text/plain": [
       "['x', 'BackgroundNorm', 'NormSystUncertainty']"
      ]
     },
     "execution_count": 17,
     "metadata": {},
     "output_type": "execute_result"
    }
   ],
   "source": [
    "from iminuit import describe\n",
    "describe(background.pdf)"
   ]
  },
  {
   "cell_type": "code",
   "execution_count": 18,
   "metadata": {},
   "outputs": [
    {
     "name": "stdout",
     "output_type": "stream",
     "text": [
      "[5 5 5 5]\n",
      "[4.5, 4.5, 4.5, 4.5]\n"
     ]
    }
   ],
   "source": [
    "print background.bincontent\n",
    "assess = []\n",
    "for i in range(len(background.bincontent)):\n",
    "    assess.append(background.pdf(i,1,-1))\n",
    "print assess"
   ]
  },
  {
   "cell_type": "code",
   "execution_count": 19,
   "metadata": {},
   "outputs": [],
   "source": [
    "chan = HistiChannel(\"SR\")\n",
    "chan.AddSample(signal)\n",
    "chan.AddSample(background)\n",
    "\n",
    "data = hist_sig*2 +hist_bkg\n",
    "\n",
    "chan.SetData(data)\n",
    "m2.AddChannel(chan)"
   ]
  },
  {
   "cell_type": "code",
   "execution_count": 20,
   "metadata": {},
   "outputs": [
    {
     "name": "stdout",
     "output_type": "stream",
     "text": [
      "params are  {'BackgroundNorm': 1.0, 'limit_SigXSecOverSM': (0, 3), 'NormSystUncertainty': 0.29999999999999993, 'SigXSecOverSM': 1.0, 'errordef': 1, 'limit_NormSystUncertainty': (0, 100), 'limit_BackgroundNorm': (0, 100)}\n"
     ]
    }
   ],
   "source": [
    "blh = BinnedLH(m2, bound=(0,4))\n",
    "params = m2.Parameters()\n",
    "print \"params are \",params"
   ]
  },
  {
   "cell_type": "code",
   "execution_count": 23,
   "metadata": {
    "scrolled": true
   },
   "outputs": [
    {
     "name": "stderr",
     "output_type": "stream",
     "text": [
      "/Users/vince/tensorflow/lib/python2.7/site-packages/ipykernel_launcher.py:1: InitialParamWarning: Parameter SigXSecOverSM is floating but does not have initial step size. Assume 1.\n",
      "  \"\"\"Entry point for launching an IPython kernel.\n",
      "/Users/vince/tensorflow/lib/python2.7/site-packages/ipykernel_launcher.py:1: InitialParamWarning: Parameter BackgroundNorm is floating but does not have initial step size. Assume 1.\n",
      "  \"\"\"Entry point for launching an IPython kernel.\n",
      "/Users/vince/tensorflow/lib/python2.7/site-packages/ipykernel_launcher.py:1: InitialParamWarning: Parameter NormSystUncertainty is floating but does not have initial step size. Assume 1.\n",
      "  \"\"\"Entry point for launching an IPython kernel.\n"
     ]
    },
    {
     "data": {
      "text/html": [
       "<hr>"
      ]
     },
     "metadata": {},
     "output_type": "display_data"
    },
    {
     "data": {
      "text/html": [
       "\n",
       "        <table>\n",
       "            <tr>\n",
       "                <td title=\"Minimum value of function\">FCN = 8.2638824355</td>\n",
       "                <td title=\"Total number of call to FCN so far\">TOTAL NCALL = 84</td>\n",
       "                <td title=\"Number of call in last migrad\">NCALLS = 84</td>\n",
       "            </tr>\n",
       "            <tr>\n",
       "                <td title=\"Estimated distance to minimum\">EDM = 3.77594067301e-06</td>\n",
       "                <td title=\"Maximum EDM definition of convergence\">GOAL EDM = 1e-05</td>\n",
       "                <td title=\"Error def. Amount of increase in FCN to be defined as 1 standard deviation\">\n",
       "                UP = 1.0</td>\n",
       "            </tr>\n",
       "        </table>\n",
       "        \n",
       "        <table>\n",
       "            <tr>\n",
       "                <td align=\"center\" title=\"Validity of the migrad call\">Valid</td>\n",
       "                <td align=\"center\" title=\"Validity of parameters\">Valid Param</td>\n",
       "                <td align=\"center\" title=\"Is Covariance matrix accurate?\">Accurate Covar</td>\n",
       "                <td align=\"center\" title=\"Positive definiteness of covariance matrix\">PosDef</td>\n",
       "                <td align=\"center\" title=\"Was covariance matrix made posdef by adding diagonal element\">Made PosDef</td>\n",
       "            </tr>\n",
       "            <tr>\n",
       "                <td align=\"center\" style=\"background-color:#92CCA6\">True</td>\n",
       "                <td align=\"center\" style=\"background-color:#92CCA6\">True</td>\n",
       "                <td align=\"center\" style=\"background-color:#FF7878\">False</td>\n",
       "                <td align=\"center\" style=\"background-color:#FF7878\">False</td>\n",
       "                <td align=\"center\" style=\"background-color:#FF7878\">True</td>\n",
       "            </tr>\n",
       "            <tr>\n",
       "                <td align=\"center\" title=\"Was last hesse call fail?\">Hesse Fail</td>\n",
       "                <td align=\"center\" title=\"Validity of covariance\">HasCov</td>\n",
       "                <td align=\"center\" title=\"Is EDM above goal EDM?\">Above EDM</td>\n",
       "                <td align=\"center\"></td>\n",
       "                <td align=\"center\" title=\"Did last migrad call reach max call limit?\">Reach calllim</td>\n",
       "            </tr>\n",
       "            <tr>\n",
       "                <td align=\"center\" style=\"background-color:#92CCA6\">False</td>\n",
       "                <td align=\"center\" style=\"background-color:#92CCA6\">True</td>\n",
       "                <td align=\"center\" style=\"background-color:#92CCA6\">False</td>\n",
       "                <td align=\"center\"></td>\n",
       "                <td align=\"center\" style=\"background-color:#92CCA6\">False</td>\n",
       "            </tr>\n",
       "        </table>\n",
       "        "
      ]
     },
     "metadata": {},
     "output_type": "display_data"
    },
    {
     "data": {
      "text/html": [
       "\n",
       "        <table>\n",
       "            <tr>\n",
       "                <td><a href=\"#\" onclick=\"$('#XuSKdFtgVq').toggle()\">+</a></td>\n",
       "                <td title=\"Variable name\">Name</td>\n",
       "                <td title=\"Value of parameter\">Value</td>\n",
       "                <td title=\"Parabolic error\">Parab Error</td>\n",
       "                <td title=\"Minos lower error\">Minos Error-</td>\n",
       "                <td title=\"Minos upper error\">Minos Error+</td>\n",
       "                <td title=\"Lower limit of the parameter\">Limit-</td>\n",
       "                <td title=\"Upper limit of the parameter\">Limit+</td>\n",
       "                <td title=\"Is the parameter fixed in the fit\">FIXED</td>\n",
       "            </tr>\n",
       "        \n",
       "            <tr>\n",
       "                <td>1</td>\n",
       "                <td>SigXSecOverSM</td>\n",
       "                <td>2.00054</td>\n",
       "                <td>2.3922</td>\n",
       "                <td>0</td>\n",
       "                <td>0</td>\n",
       "                <td>0.0</td>\n",
       "                <td>3.0</td>\n",
       "                <td></td>\n",
       "            </tr>\n",
       "            \n",
       "            <tr>\n",
       "                <td>2</td>\n",
       "                <td>BackgroundNorm</td>\n",
       "                <td>0.799819</td>\n",
       "                <td>6.47199</td>\n",
       "                <td>0</td>\n",
       "                <td>0</td>\n",
       "                <td>0.0</td>\n",
       "                <td>100.0</td>\n",
       "                <td></td>\n",
       "            </tr>\n",
       "            \n",
       "            <tr>\n",
       "                <td>3</td>\n",
       "                <td>NormSystUncertainty</td>\n",
       "                <td>1.22841</td>\n",
       "                <td>96.4013</td>\n",
       "                <td>0</td>\n",
       "                <td>0</td>\n",
       "                <td>0.0</td>\n",
       "                <td>100.0</td>\n",
       "                <td></td>\n",
       "            </tr>\n",
       "            \n",
       "            </table>\n",
       "        \n",
       "            <pre id=\"XuSKdFtgVq\" style=\"display:none;\">\n",
       "            <textarea rows=\"12\" cols=\"50\" onclick=\"this.select()\" readonly>\\begin{tabular}{|c|r|r|r|r|r|r|r|c|}\n",
       "\\hline\n",
       " & Name & Value & Para Error & Error+ & Error- & Limit+ & Limit- & FIXED\\\\\n",
       "\\hline\n",
       "1 & SigXSecOverSM & 2.001e+00 & 2.392e+00 &  &  & 0.000e+00 & 3.000e+00 & \\\\\n",
       "\\hline\n",
       "2 & BackgroundNorm & 7.998e-01 & 6.472e+00 &  &  & 0.000e+00 & 1.000e+02 & \\\\\n",
       "\\hline\n",
       "3 & NormSystUncertainty & 1.228e+00 & 9.640e+01 &  &  & 0.000e+00 & 1.000e+02 & \\\\\n",
       "\\hline\n",
       "\\end{tabular}</textarea>\n",
       "            </pre>\n",
       "            "
      ]
     },
     "metadata": {},
     "output_type": "display_data"
    },
    {
     "data": {
      "text/html": [
       "<hr>"
      ]
     },
     "metadata": {},
     "output_type": "display_data"
    },
    {
     "data": {
      "text/html": [
       "\n",
       "        <table>\n",
       "            <tr>\n",
       "                <td><a href=\"#\" onclick=\"$('#EoAAeBwMcY').toggle()\">+</a></td>\n",
       "                <td title=\"Variable name\">Name</td>\n",
       "                <td title=\"Value of parameter\">Value</td>\n",
       "                <td title=\"Parabolic error\">Parab Error</td>\n",
       "                <td title=\"Minos lower error\">Minos Error-</td>\n",
       "                <td title=\"Minos upper error\">Minos Error+</td>\n",
       "                <td title=\"Lower limit of the parameter\">Limit-</td>\n",
       "                <td title=\"Upper limit of the parameter\">Limit+</td>\n",
       "                <td title=\"Is the parameter fixed in the fit\">FIXED</td>\n",
       "            </tr>\n",
       "        \n",
       "            <tr>\n",
       "                <td>1</td>\n",
       "                <td>SigXSecOverSM</td>\n",
       "                <td>2.00054</td>\n",
       "                <td>2.39139</td>\n",
       "                <td>0</td>\n",
       "                <td>0</td>\n",
       "                <td>0.0</td>\n",
       "                <td>3.0</td>\n",
       "                <td></td>\n",
       "            </tr>\n",
       "            \n",
       "            <tr>\n",
       "                <td>2</td>\n",
       "                <td>BackgroundNorm</td>\n",
       "                <td>0.799819</td>\n",
       "                <td>6.47215</td>\n",
       "                <td>0</td>\n",
       "                <td>0</td>\n",
       "                <td>0.0</td>\n",
       "                <td>100.0</td>\n",
       "                <td></td>\n",
       "            </tr>\n",
       "            \n",
       "            <tr>\n",
       "                <td>3</td>\n",
       "                <td>NormSystUncertainty</td>\n",
       "                <td>1.22841</td>\n",
       "                <td>96.4046</td>\n",
       "                <td>0</td>\n",
       "                <td>0</td>\n",
       "                <td>0.0</td>\n",
       "                <td>100.0</td>\n",
       "                <td></td>\n",
       "            </tr>\n",
       "            \n",
       "            </table>\n",
       "        \n",
       "            <pre id=\"EoAAeBwMcY\" style=\"display:none;\">\n",
       "            <textarea rows=\"12\" cols=\"50\" onclick=\"this.select()\" readonly>\\begin{tabular}{|c|r|r|r|r|r|r|r|c|}\n",
       "\\hline\n",
       " & Name & Value & Para Error & Error+ & Error- & Limit+ & Limit- & FIXED\\\\\n",
       "\\hline\n",
       "1 & SigXSecOverSM & 2.001e+00 & 2.391e+00 &  &  & 0.000e+00 & 3.000e+00 & \\\\\n",
       "\\hline\n",
       "2 & BackgroundNorm & 7.998e-01 & 6.472e+00 &  &  & 0.000e+00 & 1.000e+02 & \\\\\n",
       "\\hline\n",
       "3 & NormSystUncertainty & 1.228e+00 & 9.640e+01 &  &  & 0.000e+00 & 1.000e+02 & \\\\\n",
       "\\hline\n",
       "\\end{tabular}</textarea>\n",
       "            </pre>\n",
       "            "
      ]
     },
     "metadata": {},
     "output_type": "display_data"
    },
    {
     "data": {
      "text/html": [
       "\n",
       "            <table>\n",
       "                <tr>\n",
       "                    <td><a onclick=\"$('#VHwISKKufH').toggle()\" href=\"#\">+</a></td>\n",
       "        \n",
       "            <td>\n",
       "            <div style=\"width:20px;position:relative; width: -moz-fit-content;\">\n",
       "            <div style=\"display:inline-block;-webkit-writing-mode:vertical-rl;-moz-writing-mode: vertical-rl;writing-mode: vertical-rl;\">\n",
       "            SigXSecOverSM\n",
       "            </div>\n",
       "            </div>\n",
       "            </td>\n",
       "            \n",
       "            <td>\n",
       "            <div style=\"width:20px;position:relative; width: -moz-fit-content;\">\n",
       "            <div style=\"display:inline-block;-webkit-writing-mode:vertical-rl;-moz-writing-mode: vertical-rl;writing-mode: vertical-rl;\">\n",
       "            BackgroundNorm\n",
       "            </div>\n",
       "            </div>\n",
       "            </td>\n",
       "            \n",
       "            <td>\n",
       "            <div style=\"width:20px;position:relative; width: -moz-fit-content;\">\n",
       "            <div style=\"display:inline-block;-webkit-writing-mode:vertical-rl;-moz-writing-mode: vertical-rl;writing-mode: vertical-rl;\">\n",
       "            NormSystUncertainty\n",
       "            </div>\n",
       "            </div>\n",
       "            </td>\n",
       "            \n",
       "                </tr>\n",
       "                \n",
       "            <tr>\n",
       "                <td>SigXSecOverSM</td>\n",
       "            \n",
       "                <td style=\"background-color:rgb(255,117,117)\">\n",
       "                1.00\n",
       "                </td>\n",
       "                \n",
       "                <td style=\"background-color:rgb(170,243,180)\">\n",
       "                -0.08\n",
       "                </td>\n",
       "                \n",
       "                <td style=\"background-color:rgb(169,245,181)\">\n",
       "                -0.07\n",
       "                </td>\n",
       "                \n",
       "            </tr>\n",
       "            \n",
       "            <tr>\n",
       "                <td>BackgroundNorm</td>\n",
       "            \n",
       "                <td style=\"background-color:rgb(170,243,180)\">\n",
       "                -0.08\n",
       "                </td>\n",
       "                \n",
       "                <td style=\"background-color:rgb(255,117,117)\">\n",
       "                1.00\n",
       "                </td>\n",
       "                \n",
       "                <td style=\"background-color:rgb(254,119,118)\">\n",
       "                -0.99\n",
       "                </td>\n",
       "                \n",
       "            </tr>\n",
       "            \n",
       "            <tr>\n",
       "                <td>NormSystUncertainty</td>\n",
       "            \n",
       "                <td style=\"background-color:rgb(169,245,181)\">\n",
       "                -0.07\n",
       "                </td>\n",
       "                \n",
       "                <td style=\"background-color:rgb(254,119,118)\">\n",
       "                -0.99\n",
       "                </td>\n",
       "                \n",
       "                <td style=\"background-color:rgb(255,117,117)\">\n",
       "                1.00\n",
       "                </td>\n",
       "                \n",
       "            </tr>\n",
       "            </table>\n",
       "\n",
       "            <pre id=\"VHwISKKufH\" style=\"display:none;\">\n",
       "            <textarea rows=\"15\" cols=\"50\" onclick=\"this.select()\" readonly>%\\usepackage[table]{xcolor} % include this for color\n",
       "%\\usepackage{rotating} % include this for rotate header\n",
       "%\\documentclass[xcolor=table]{beamer} % for beamer\n",
       "\\begin{tabular}{|c|c|c|c|}\n",
       "\\hline\n",
       "\\rotatebox{90}{} & \\rotatebox{90}{SigXSecOverSM} & \\rotatebox{90}{BackgroundNorm} & \\rotatebox{90}{NormSystUncertainty}\\\\\n",
       "\\hline\n",
       "SigXSecOverSM & \\cellcolor[RGB]{255,117,117} 1.00 & \\cellcolor[RGB]{170,243,180} -0.08 & \\cellcolor[RGB]{169,245,181} -0.07\\\\\n",
       "\\hline\n",
       "BackgroundNorm & \\cellcolor[RGB]{170,243,180} -0.08 & \\cellcolor[RGB]{255,117,117} 1.00 & \\cellcolor[RGB]{254,119,118} -0.99\\\\\n",
       "\\hline\n",
       "NormSystUncertainty & \\cellcolor[RGB]{169,245,181} -0.07 & \\cellcolor[RGB]{254,119,118} -0.99 & \\cellcolor[RGB]{255,117,117} 1.00\\\\\n",
       "\\hline\n",
       "\\end{tabular}</textarea>\n",
       "            </pre>\n",
       "            "
      ]
     },
     "metadata": {},
     "output_type": "display_data"
    },
    {
     "data": {
      "text/html": [
       "\n",
       "        <span>Minos status for SigXSecOverSM: <span style=\"background-color:#92CCA6\">VALID</span></span>\n",
       "        <table>\n",
       "            <tr>\n",
       "                <td title=\"lower and upper minos error of the parameter\">Error</td>\n",
       "                <td>-1.98682904578</td>\n",
       "                <td>0.99946044272</td>\n",
       "            </tr>\n",
       "            <tr>\n",
       "                <td title=\"Validity of minos error\">Valid</td>\n",
       "                <td style=\"background-color:#92CCA6\">True</td>\n",
       "                <td style=\"background-color:#92CCA6\">True</td>\n",
       "            </tr>\n",
       "            <tr>\n",
       "                <td title=\"Did minos error search hit limit of any paramter?\">At Limit</td>\n",
       "                <td style=\"background-color:#92CCA6\">False</td>\n",
       "                <td style=\"background-color:#FF7878\">True</td>\n",
       "            </tr>\n",
       "            <tr>\n",
       "                <td title=\"I don't really know what this one means... Post it in issue if you know\">Max FCN</td>\n",
       "                <td style=\"background-color:#92CCA6\">False</td>\n",
       "                <td style=\"background-color:#92CCA6\">False</td>\n",
       "            </tr>\n",
       "            <tr>\n",
       "                <td title=\"New minimum found when doing minos scan.\">New Min</td>\n",
       "                <td style=\"background-color:#92CCA6\">False</td>\n",
       "                <td style=\"background-color:#92CCA6\">False</td>\n",
       "            </tr>\n",
       "        </table>\n",
       "        "
      ]
     },
     "metadata": {},
     "output_type": "display_data"
    },
    {
     "name": "stderr",
     "output_type": "stream",
     "text": [
      "/Users/vince/tensorflow/lib/python2.7/site-packages/ipykernel_launcher.py:4: RuntimeWarning: fcn returns Nan\n",
      "fcn is called with following arguments:\n",
      "          SigXSecOverSM = +2.155716\n",
      "         BackgroundNorm = -5.672173\n",
      "    NormSystUncertainty = +99.799445\n",
      "\n",
      "  after removing the cwd from sys.path.\n",
      "/Users/vince/tensorflow/lib/python2.7/site-packages/ipykernel_launcher.py:4: RuntimeWarning: fcn returns Nan\n",
      "fcn is called with following arguments:\n",
      "          SigXSecOverSM = nan\n",
      "         BackgroundNorm = -5.672173\n",
      "    NormSystUncertainty = +99.799445\n",
      "\n",
      "  after removing the cwd from sys.path.\n",
      "/Users/vince/tensorflow/lib/python2.7/site-packages/ipykernel_launcher.py:4: RuntimeWarning: fcn returns Nan\n",
      "fcn is called with following arguments:\n",
      "          SigXSecOverSM = +2.155716\n",
      "         BackgroundNorm = -5.672173\n",
      "    NormSystUncertainty = nan\n",
      "\n",
      "  after removing the cwd from sys.path.\n",
      "/Users/vince/tensorflow/lib/python2.7/site-packages/ipykernel_launcher.py:4: RuntimeWarning: fcn returns Nan\n",
      "fcn is called with following arguments:\n",
      "          SigXSecOverSM = nan\n",
      "         BackgroundNorm = -5.672173\n",
      "    NormSystUncertainty = nan\n",
      "\n",
      "  after removing the cwd from sys.path.\n",
      "/Users/vince/tensorflow/lib/python2.7/site-packages/ipykernel_launcher.py:4: RuntimeWarning: fcn returns Nan\n",
      "fcn is called with following arguments:\n",
      "          SigXSecOverSM = +1.500000\n",
      "         BackgroundNorm = nan\n",
      "    NormSystUncertainty = +50.000000\n",
      "\n",
      "  after removing the cwd from sys.path.\n",
      "/Users/vince/tensorflow/lib/python2.7/site-packages/ipykernel_launcher.py:4: RuntimeWarning: fcn returns Nan\n",
      "fcn is called with following arguments:\n",
      "          SigXSecOverSM = nan\n",
      "         BackgroundNorm = nan\n",
      "    NormSystUncertainty = +50.000000\n",
      "\n",
      "  after removing the cwd from sys.path.\n",
      "/Users/vince/tensorflow/lib/python2.7/site-packages/ipykernel_launcher.py:4: RuntimeWarning: fcn returns Nan\n",
      "fcn is called with following arguments:\n",
      "          SigXSecOverSM = +1.500000\n",
      "         BackgroundNorm = nan\n",
      "    NormSystUncertainty = nan\n",
      "\n",
      "  after removing the cwd from sys.path.\n",
      "/Users/vince/tensorflow/lib/python2.7/site-packages/ipykernel_launcher.py:4: RuntimeWarning: fcn returns Nan\n",
      "fcn is called with following arguments:\n",
      "          SigXSecOverSM = nan\n",
      "         BackgroundNorm = nan\n",
      "    NormSystUncertainty = nan\n",
      "\n",
      "  after removing the cwd from sys.path.\n"
     ]
    },
    {
     "data": {
      "text/html": [
       "\n",
       "        <span>Minos status for BackgroundNorm: <span style=\"background-color:#FF7878\">PROBLEM</span></span>\n",
       "        <table>\n",
       "            <tr>\n",
       "                <td title=\"lower and upper minos error of the parameter\">Error</td>\n",
       "                <td>-6.47199261342</td>\n",
       "                <td>1.28505345514</td>\n",
       "            </tr>\n",
       "            <tr>\n",
       "                <td title=\"Validity of minos error\">Valid</td>\n",
       "                <td style=\"background-color:#FF7878\">False</td>\n",
       "                <td style=\"background-color:#92CCA6\">True</td>\n",
       "            </tr>\n",
       "            <tr>\n",
       "                <td title=\"Did minos error search hit limit of any paramter?\">At Limit</td>\n",
       "                <td style=\"background-color:#92CCA6\">False</td>\n",
       "                <td style=\"background-color:#92CCA6\">False</td>\n",
       "            </tr>\n",
       "            <tr>\n",
       "                <td title=\"I don't really know what this one means... Post it in issue if you know\">Max FCN</td>\n",
       "                <td style=\"background-color:#92CCA6\">False</td>\n",
       "                <td style=\"background-color:#92CCA6\">False</td>\n",
       "            </tr>\n",
       "            <tr>\n",
       "                <td title=\"New minimum found when doing minos scan.\">New Min</td>\n",
       "                <td style=\"background-color:#92CCA6\">False</td>\n",
       "                <td style=\"background-color:#92CCA6\">False</td>\n",
       "            </tr>\n",
       "        </table>\n",
       "        "
      ]
     },
     "metadata": {},
     "output_type": "display_data"
    },
    {
     "name": "stderr",
     "output_type": "stream",
     "text": [
      "/Users/vince/tensorflow/lib/python2.7/site-packages/ipykernel_launcher.py:4: RuntimeWarning: fcn returns Nan\n",
      "fcn is called with following arguments:\n",
      "          SigXSecOverSM = +2.000005\n",
      "         BackgroundNorm = +0.999998\n",
      "    NormSystUncertainty = nan\n",
      "\n",
      "  after removing the cwd from sys.path.\n",
      "/Users/vince/tensorflow/lib/python2.7/site-packages/ipykernel_launcher.py:4: RuntimeWarning: fcn returns Nan\n",
      "fcn is called with following arguments:\n",
      "          SigXSecOverSM = nan\n",
      "         BackgroundNorm = +0.999998\n",
      "    NormSystUncertainty = nan\n",
      "\n",
      "  after removing the cwd from sys.path.\n",
      "/Users/vince/tensorflow/lib/python2.7/site-packages/ipykernel_launcher.py:4: RuntimeWarning: fcn returns Nan\n",
      "fcn is called with following arguments:\n",
      "          SigXSecOverSM = +2.000005\n",
      "         BackgroundNorm = nan\n",
      "    NormSystUncertainty = nan\n",
      "\n",
      "  after removing the cwd from sys.path.\n",
      "/Users/vince/tensorflow/lib/python2.7/site-packages/ipykernel_launcher.py:4: RuntimeWarning: fcn returns Nan\n",
      "fcn is called with following arguments:\n",
      "          SigXSecOverSM = +1.500000\n",
      "         BackgroundNorm = +50.000000\n",
      "    NormSystUncertainty = nan\n",
      "\n",
      "  after removing the cwd from sys.path.\n",
      "/Users/vince/tensorflow/lib/python2.7/site-packages/ipykernel_launcher.py:4: RuntimeWarning: fcn returns Nan\n",
      "fcn is called with following arguments:\n",
      "          SigXSecOverSM = nan\n",
      "         BackgroundNorm = +50.000000\n",
      "    NormSystUncertainty = nan\n",
      "\n",
      "  after removing the cwd from sys.path.\n"
     ]
    },
    {
     "data": {
      "text/html": [
       "\n",
       "        <span>Minos status for NormSystUncertainty: <span style=\"background-color:#FF7878\">PROBLEM</span></span>\n",
       "        <table>\n",
       "            <tr>\n",
       "                <td title=\"lower and upper minos error of the parameter\">Error</td>\n",
       "                <td>-96.401318463</td>\n",
       "                <td>96.401318463</td>\n",
       "            </tr>\n",
       "            <tr>\n",
       "                <td title=\"Validity of minos error\">Valid</td>\n",
       "                <td style=\"background-color:#FF7878\">False</td>\n",
       "                <td style=\"background-color:#FF7878\">False</td>\n",
       "            </tr>\n",
       "            <tr>\n",
       "                <td title=\"Did minos error search hit limit of any paramter?\">At Limit</td>\n",
       "                <td style=\"background-color:#92CCA6\">False</td>\n",
       "                <td style=\"background-color:#92CCA6\">False</td>\n",
       "            </tr>\n",
       "            <tr>\n",
       "                <td title=\"I don't really know what this one means... Post it in issue if you know\">Max FCN</td>\n",
       "                <td style=\"background-color:#92CCA6\">False</td>\n",
       "                <td style=\"background-color:#92CCA6\">False</td>\n",
       "            </tr>\n",
       "            <tr>\n",
       "                <td title=\"New minimum found when doing minos scan.\">New Min</td>\n",
       "                <td style=\"background-color:#92CCA6\">False</td>\n",
       "                <td style=\"background-color:#92CCA6\">False</td>\n",
       "            </tr>\n",
       "        </table>\n",
       "        "
      ]
     },
     "metadata": {},
     "output_type": "display_data"
    },
    {
     "data": {
      "text/plain": [
       "{'BackgroundNorm': {'lower_new_min': False, 'upper': 1.2850534551399213, 'lower': -6.471992613415495, 'at_lower_limit': False, 'min': 0.7998192198639564, 'at_lower_max_fcn': False, 'is_valid': False, 'upper_new_min': False, 'at_upper_limit': False, 'lower_valid': False, 'upper_valid': True, 'at_upper_max_fcn': False, 'nfcn': 681},\n",
       " 'NormSystUncertainty': {'lower_new_min': False, 'upper': 96.40131846303623, 'lower': -96.40131846303623, 'at_lower_limit': False, 'min': 1.22841284966273, 'at_lower_max_fcn': False, 'is_valid': False, 'upper_new_min': False, 'at_upper_limit': False, 'lower_valid': False, 'upper_valid': False, 'at_upper_max_fcn': False, 'nfcn': 1322},\n",
       " 'SigXSecOverSM': {'lower_new_min': False, 'upper': 0.9994604427201406, 'lower': -1.9868290457762117, 'at_lower_limit': False, 'min': 2.0005395572798594, 'at_lower_max_fcn': False, 'is_valid': True, 'upper_new_min': False, 'at_upper_limit': True, 'lower_valid': True, 'upper_valid': True, 'at_upper_max_fcn': False, 'nfcn': 112}}"
      ]
     },
     "execution_count": 23,
     "metadata": {},
     "output_type": "execute_result"
    }
   ],
   "source": [
    "minimiser = Minuit(blh, **params)\n",
    "minimiser.migrad()\n",
    "minimiser.hesse()\n",
    "minimiser.minos()"
   ]
  },
  {
   "cell_type": "code",
   "execution_count": 22,
   "metadata": {},
   "outputs": [
    {
     "name": "stderr",
     "output_type": "stream",
     "text": [
      "/Users/vince/tensorflow/lib/python2.7/site-packages/ipykernel_launcher.py:1: UserWarning: Specify nsigma bound but error but error matrix is not accurate.\n",
      "  \"\"\"Entry point for launching an IPython kernel.\n",
      "/Users/vince/tensorflow/lib/python2.7/site-packages/ipykernel_launcher.py:1: RuntimeWarning: fcn returns Nan\n",
      "fcn is called with following arguments:\n",
      "          SigXSecOverSM = -2.783865\n",
      "         BackgroundNorm = +0.799819\n",
      "    NormSystUncertainty = +1.228413\n",
      "\n",
      "  \"\"\"Entry point for launching an IPython kernel.\n",
      "/Users/vince/tensorflow/lib/python2.7/site-packages/ipykernel_launcher.py:1: RuntimeWarning: fcn returns Nan\n",
      "fcn is called with following arguments:\n",
      "          SigXSecOverSM = -2.783865\n",
      "         BackgroundNorm = nan\n",
      "    NormSystUncertainty = +1.228413\n",
      "\n",
      "  \"\"\"Entry point for launching an IPython kernel.\n",
      "/Users/vince/tensorflow/lib/python2.7/site-packages/ipykernel_launcher.py:1: RuntimeWarning: fcn returns Nan\n",
      "fcn is called with following arguments:\n",
      "          SigXSecOverSM = -2.783865\n",
      "         BackgroundNorm = +0.799819\n",
      "    NormSystUncertainty = nan\n",
      "\n",
      "  \"\"\"Entry point for launching an IPython kernel.\n",
      "/Users/vince/tensorflow/lib/python2.7/site-packages/ipykernel_launcher.py:1: RuntimeWarning: fcn returns Nan\n",
      "fcn is called with following arguments:\n",
      "          SigXSecOverSM = -2.783865\n",
      "         BackgroundNorm = nan\n",
      "    NormSystUncertainty = nan\n",
      "\n",
      "  \"\"\"Entry point for launching an IPython kernel.\n",
      "/Users/vince/tensorflow/lib/python2.7/site-packages/ipykernel_launcher.py:1: RuntimeWarning: fcn returns Nan\n",
      "fcn is called with following arguments:\n",
      "          SigXSecOverSM = -2.453906\n",
      "         BackgroundNorm = +0.799819\n",
      "    NormSystUncertainty = +1.228413\n",
      "\n",
      "  \"\"\"Entry point for launching an IPython kernel.\n",
      "/Users/vince/tensorflow/lib/python2.7/site-packages/ipykernel_launcher.py:1: RuntimeWarning: fcn returns Nan\n",
      "fcn is called with following arguments:\n",
      "          SigXSecOverSM = -2.453906\n",
      "         BackgroundNorm = nan\n",
      "    NormSystUncertainty = +1.228413\n",
      "\n",
      "  \"\"\"Entry point for launching an IPython kernel.\n",
      "/Users/vince/tensorflow/lib/python2.7/site-packages/ipykernel_launcher.py:1: RuntimeWarning: fcn returns Nan\n",
      "fcn is called with following arguments:\n",
      "          SigXSecOverSM = -2.453906\n",
      "         BackgroundNorm = +0.799819\n",
      "    NormSystUncertainty = nan\n",
      "\n",
      "  \"\"\"Entry point for launching an IPython kernel.\n",
      "/Users/vince/tensorflow/lib/python2.7/site-packages/ipykernel_launcher.py:1: RuntimeWarning: fcn returns Nan\n",
      "fcn is called with following arguments:\n",
      "          SigXSecOverSM = -2.453906\n",
      "         BackgroundNorm = nan\n",
      "    NormSystUncertainty = nan\n",
      "\n",
      "  \"\"\"Entry point for launching an IPython kernel.\n",
      "/Users/vince/tensorflow/lib/python2.7/site-packages/ipykernel_launcher.py:1: RuntimeWarning: fcn returns Nan\n",
      "fcn is called with following arguments:\n",
      "          SigXSecOverSM = -2.123947\n",
      "         BackgroundNorm = +0.799819\n",
      "    NormSystUncertainty = +1.228413\n",
      "\n",
      "  \"\"\"Entry point for launching an IPython kernel.\n",
      "/Users/vince/tensorflow/lib/python2.7/site-packages/ipykernel_launcher.py:1: RuntimeWarning: fcn returns Nan\n",
      "fcn is called with following arguments:\n",
      "          SigXSecOverSM = -2.123947\n",
      "         BackgroundNorm = nan\n",
      "    NormSystUncertainty = +1.228413\n",
      "\n",
      "  \"\"\"Entry point for launching an IPython kernel.\n",
      "/Users/vince/tensorflow/lib/python2.7/site-packages/ipykernel_launcher.py:1: RuntimeWarning: fcn returns Nan\n",
      "fcn is called with following arguments:\n",
      "          SigXSecOverSM = -2.123947\n",
      "         BackgroundNorm = +0.799819\n",
      "    NormSystUncertainty = nan\n",
      "\n",
      "  \"\"\"Entry point for launching an IPython kernel.\n",
      "/Users/vince/tensorflow/lib/python2.7/site-packages/ipykernel_launcher.py:1: RuntimeWarning: fcn returns Nan\n",
      "fcn is called with following arguments:\n",
      "          SigXSecOverSM = -2.123947\n",
      "         BackgroundNorm = nan\n",
      "    NormSystUncertainty = nan\n",
      "\n",
      "  \"\"\"Entry point for launching an IPython kernel.\n",
      "/Users/vince/tensorflow/lib/python2.7/site-packages/ipykernel_launcher.py:1: RuntimeWarning: fcn returns Nan\n",
      "fcn is called with following arguments:\n",
      "          SigXSecOverSM = -1.793988\n",
      "         BackgroundNorm = +0.799819\n",
      "    NormSystUncertainty = +1.228413\n",
      "\n",
      "  \"\"\"Entry point for launching an IPython kernel.\n",
      "/Users/vince/tensorflow/lib/python2.7/site-packages/ipykernel_launcher.py:1: RuntimeWarning: fcn returns Nan\n",
      "fcn is called with following arguments:\n",
      "          SigXSecOverSM = -1.793988\n",
      "         BackgroundNorm = nan\n",
      "    NormSystUncertainty = +1.228413\n",
      "\n",
      "  \"\"\"Entry point for launching an IPython kernel.\n",
      "/Users/vince/tensorflow/lib/python2.7/site-packages/ipykernel_launcher.py:1: RuntimeWarning: fcn returns Nan\n",
      "fcn is called with following arguments:\n",
      "          SigXSecOverSM = -1.793988\n",
      "         BackgroundNorm = +0.799819\n",
      "    NormSystUncertainty = nan\n",
      "\n",
      "  \"\"\"Entry point for launching an IPython kernel.\n",
      "/Users/vince/tensorflow/lib/python2.7/site-packages/ipykernel_launcher.py:1: RuntimeWarning: fcn returns Nan\n",
      "fcn is called with following arguments:\n",
      "          SigXSecOverSM = -1.793988\n",
      "         BackgroundNorm = nan\n",
      "    NormSystUncertainty = nan\n",
      "\n",
      "  \"\"\"Entry point for launching an IPython kernel.\n",
      "/Users/vince/tensorflow/lib/python2.7/site-packages/ipykernel_launcher.py:1: RuntimeWarning: fcn returns Nan\n",
      "fcn is called with following arguments:\n",
      "          SigXSecOverSM = -1.464029\n",
      "         BackgroundNorm = +0.799819\n",
      "    NormSystUncertainty = +1.228413\n",
      "\n",
      "  \"\"\"Entry point for launching an IPython kernel.\n",
      "/Users/vince/tensorflow/lib/python2.7/site-packages/ipykernel_launcher.py:1: RuntimeWarning: fcn returns Nan\n",
      "fcn is called with following arguments:\n",
      "          SigXSecOverSM = -1.464029\n",
      "         BackgroundNorm = nan\n",
      "    NormSystUncertainty = +1.228413\n",
      "\n",
      "  \"\"\"Entry point for launching an IPython kernel.\n",
      "/Users/vince/tensorflow/lib/python2.7/site-packages/ipykernel_launcher.py:1: RuntimeWarning: fcn returns Nan\n",
      "fcn is called with following arguments:\n",
      "          SigXSecOverSM = -1.464029\n",
      "         BackgroundNorm = +0.799819\n",
      "    NormSystUncertainty = nan\n",
      "\n",
      "  \"\"\"Entry point for launching an IPython kernel.\n",
      "/Users/vince/tensorflow/lib/python2.7/site-packages/ipykernel_launcher.py:1: RuntimeWarning: fcn returns Nan\n",
      "fcn is called with following arguments:\n",
      "          SigXSecOverSM = -1.464029\n",
      "         BackgroundNorm = nan\n",
      "    NormSystUncertainty = nan\n",
      "\n",
      "  \"\"\"Entry point for launching an IPython kernel.\n"
     ]
    },
    {
     "data": {
      "text/plain": [
       "(array([-2.78386487, -2.45390595, -2.12394702, -1.7939881 , -1.46402917,\n",
       "        -1.13407024, -0.80411132, -0.47415239, -0.14419346,  0.18576546,\n",
       "         0.51572439,  0.84568332,  1.17564224,  1.50560117,  1.83556009,\n",
       "         2.16551902,  2.49547795,  2.82543687,  3.1553958 ,  3.48535473,\n",
       "         3.81531365,  4.14527258,  4.4752315 ,  4.80519043,  5.13514936,\n",
       "         5.46510828,  5.79506721,  6.12502614,  6.45498506,  6.78494399]),\n",
       " array([         nan,          nan,          nan,          nan,\n",
       "                 nan,  10.70946137,  10.23291437,   9.80502959,\n",
       "          9.42717262,   9.10052047,   8.82619745,   8.60522912,\n",
       "          8.43852573,   8.32686286,   8.27086083,   8.27097028,\n",
       "          8.32746788,   8.44024578,   8.60933111,   8.83398449,\n",
       "          9.11375502,   9.44765187,   9.83450983,  10.30061488,\n",
       "         10.94371087,  11.75229946,  12.70707906,  13.79153292,\n",
       "         14.99231626,  16.29777241]),\n",
       " array([ True,  True,  True,  True,  True,  True,  True,  True,  True,\n",
       "         True,  True,  True,  True,  True,  True,  True,  True,  True,\n",
       "         True,  True,  True,  True,  True,  True,  True,  True,  True,\n",
       "         True,  True,  True], dtype=bool))"
      ]
     },
     "execution_count": 22,
     "metadata": {},
     "output_type": "execute_result"
    },
    {
     "data": {
      "image/png": "[encoded data removed]",
      "text/plain": [
       "<matplotlib.figure.Figure at 0x10a8f4e50>"
      ]
     },
     "metadata": {},
     "output_type": "display_data"
    }
   ],
   "source": [
    "minimiser.draw_mnprofile('SigXSecOverSM')"
   ]
  },
  {
   "cell_type": "code",
   "execution_count": null,
   "metadata": {},
   "outputs": [],
   "source": []
  },
  {
   "cell_type": "code",
   "execution_count": null,
   "metadata": {},
   "outputs": [],
   "source": []
  },
  {
   "cell_type": "code",
   "execution_count": null,
   "metadata": {},
   "outputs": [],
   "source": []
  }
 ],
 "metadata": {
  "kernelspec": {
   "display_name": "Python 2",
   "language": "python",
   "name": "python2"
  },
  "language_info": {
   "codemirror_mode": {
    "name": "ipython",
    "version": 2
   },
   "file_extension": ".py",
   "mimetype": "text/x-python",
   "name": "python",
   "nbconvert_exporter": "python",
   "pygments_lexer": "ipython2",
   "version": "2.7.13"
  }
 },
 "nbformat": 4,
 "nbformat_minor": 2
}
