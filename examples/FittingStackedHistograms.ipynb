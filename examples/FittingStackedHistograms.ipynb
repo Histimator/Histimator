{
 "cells": [
  {
   "cell_type": "code",
   "execution_count": 1,
   "metadata": {
    "collapsed": true
   },
   "outputs": [],
   "source": [
    "from iminuit import Minuit, describe\n",
    "from probfit import BinnedLH, AddPdf, gen_toy\n",
    "from probfit.plotting import draw_pdf\n",
    "import numpy as np\n",
    "%matplotlib inline"
   ]
  },
  {
   "cell_type": "code",
   "execution_count": 2,
   "metadata": {
    "collapsed": true
   },
   "outputs": [],
   "source": [
    "class MinimalFuncCode:\n",
    "    def __init__(self, arg):\n",
    "        self.co_varnames = tuple(arg)\n",
    "        self.co_argcount = len(arg)\n",
    "\n",
    "    def append(self, varname):\n",
    "        tmp = list(self.co_varnames)\n",
    "        tmp.append(varname)\n",
    "        self.co_varnames = tuple(tmp)\n",
    "        self.co_argcount = len(self.co_varnames)\n",
    "        \n",
    "class FakeFuncCode:\n",
    "    def __init__(self, f, prmt=None, dock=0, append=None):\n",
    "        #f can either be tuple or function object\n",
    "        self.co_varnames = describe(f)\n",
    "        self.co_argcount = len(self.co_varnames)\n",
    "        self.co_argcount -= dock\n",
    "        self.co_varnames = self.co_varnames[dock:]\n",
    "\n",
    "        if prmt is not None:  #rename parameters from the front\n",
    "            for i, p in enumerate(prmt):\n",
    "                self.co_varnames[i] = p\n",
    "\n",
    "        if isinstance(append, str): append = [append]\n",
    "\n",
    "        if append is not None:\n",
    "            old_count = self.co_argcount\n",
    "            self.co_argcount += len(append)\n",
    "            self.co_varnames = tuple(\n",
    "                list(self.co_varnames[:old_count]) +\n",
    "                append +\n",
    "                list(self.co_varnames[old_count:]))"
   ]
  },
  {
   "cell_type": "code",
   "execution_count": 3,
   "metadata": {},
   "outputs": [],
   "source": [
    "class HistogramPdf(object):\n",
    "    def __init__(self, hy, binedges, xname='x'):\n",
    "        \"\"\"\n",
    "        A histogram PDF. User supplies a template histogram with bin contents and bin\n",
    "        edges. The histogram does not have to be normalized. The resulting PDF is normalized.\n",
    "        \"\"\"\n",
    "        # Normalize, so the integral is unity\n",
    "        #yint= hy*(binedges[1:]-binedges[:-1])\n",
    "        #self.n = yint.sum()\n",
    "        #print 'initial guess is',self.n\n",
    "        self.hy= hy.astype(float)#/float(yint.sum())\n",
    "        self.binedges= binedges\n",
    "        if len(binedges)!= len(hy)+1:\n",
    "            raise ValueError('binedges must be exactly one entry more than hy')\n",
    "        # Only one variable. The PDF shape is fixed\n",
    "        varnames= [xname]\n",
    "        self.func_code = MinimalFuncCode(varnames)\n",
    "        self.func_defaults = None\n",
    "\n",
    "    def integrate(self, bound, nint_subdiv=0, arg=None):\n",
    "        # nint_subdiv is irrelevant, ignored.\n",
    "        # bound usually is smaller than the histogram's bound.\n",
    "        # Find where they are:\n",
    "        edges= np.copy(self.binedges)\n",
    "        [ib0,ib1]= np.digitize([bound[0],bound[1]], edges)\n",
    "        ib0= max(ib0,0)\n",
    "        ib1= min(ib1, len(edges)-1)\n",
    "        edges[ib0-1]= max(edges[ib0-1],bound[0])\n",
    "        edges[ib1]= min(edges[ib1],bound[1])\n",
    "        ilo= max(0,ib0-1)\n",
    "        ihi= ib1+1 if edges[ib1-1]!=edges[ib1] else ib1\n",
    "        return (self.hy[ilo:ihi-1]*np.diff(edges[ilo:ihi])).sum()\n",
    "\n",
    "    def __call__(self, *arg):\n",
    "        x = arg[0]\n",
    "        [i]= np.digitize([x], self.binedges)\n",
    "        if i >0 and i<=len(self.hy):\n",
    "            return self.hy[i-1]\n",
    "        else:\n",
    "            return 0.0"
   ]
  },
  {
   "cell_type": "code",
   "execution_count": 4,
   "metadata": {},
   "outputs": [],
   "source": [
    "class NormedHist:\n",
    "    def __init__(self, f, norm='N'):\n",
    "        self.f = f\n",
    "        if norm in describe(f):\n",
    "            raise ValueError('%s is already taken pick something else for extname'%extname)\n",
    "        self.func_code = FakeFuncCode(f,append=norm)\n",
    "        #print self.func_code.__dict__\n",
    "        self.func_defaults=None\n",
    "\n",
    "    def __call__(self, *arg):\n",
    "        N = arg[-1]\n",
    "        fval = self.f(arg[0])\n",
    "        return fval*N\n",
    "\n",
    "    def integrate(self, bound, nint, *arg):\n",
    "        N = arg[-1]\n",
    "        ana = self.f.integrate(bound, nint, arg[:-1])\n",
    "        return N*ana"
   ]
  },
  {
   "cell_type": "markdown",
   "metadata": {},
   "source": [
    "# definining a sample"
   ]
  },
  {
   "cell_type": "code",
   "execution_count": 5,
   "metadata": {
    "collapsed": true
   },
   "outputs": [],
   "source": [
    "bound = (0, 10)\n",
    "np.random.seed(0)\n",
    "bkg = gen_toy(lambda x : x**2, 100, bound=bound) # a parabola background\n",
    "sig= np.random.randn(50)+5  # a Gaussian signal"
   ]
  },
  {
   "cell_type": "code",
   "execution_count": 6,
   "metadata": {
    "collapsed": true
   },
   "outputs": [],
   "source": [
    "hsig,be= np.histogram(sig, bins=10, range=bound)\n",
    "hbkg,be= np.histogram(bkg, bins=be, range=bound)"
   ]
  },
  {
   "cell_type": "markdown",
   "metadata": {},
   "source": [
    "## Test that the histograms look ok..."
   ]
  },
  {
   "cell_type": "code",
   "execution_count": 7,
   "metadata": {},
   "outputs": [
    {
     "name": "stdout",
     "output_type": "stream",
     "text": [
      "signal is  [ 0  0  0  7 10 19 14  0  0  0]\n",
      "background is [ 0  1  3  2 11 10 10 14 28 21]\n"
     ]
    }
   ],
   "source": [
    "print 'signal is ',hsig\n",
    "print 'background is', hbkg"
   ]
  },
  {
   "cell_type": "markdown",
   "metadata": {},
   "source": [
    "### Create a Model\n",
    "Modified from the probfit definition of HistogramPdf in that the normalisation requirement has been removed. This can be added in and the NormedHist be a function of N$*$sum_over_initial_histogram_bins but this seems overkill at the moment."
   ]
  },
  {
   "cell_type": "code",
   "execution_count": 8,
   "metadata": {},
   "outputs": [],
   "source": [
    "psig= HistogramPdf(hsig,be)\n",
    "pbkg= HistogramPdf(hbkg,be)\n",
    "epsig= NormedHist(psig, norm='mu')\n",
    "pdf= AddPdf(pbkg,epsig)"
   ]
  },
  {
   "cell_type": "markdown",
   "metadata": {},
   "source": [
    "Verify which parameters need to be supplied to create some data"
   ]
  },
  {
   "cell_type": "code",
   "execution_count": 9,
   "metadata": {},
   "outputs": [
    {
     "data": {
      "text/plain": [
       "['x', 'mu']"
      ]
     },
     "execution_count": 9,
     "metadata": {},
     "output_type": "execute_result"
    }
   ],
   "source": [
    "describe(pdf)"
   ]
  },
  {
   "cell_type": "markdown",
   "metadata": {},
   "source": [
    "Generate some data from the model and check that it looks ok in histogram form. "
   ]
  },
  {
   "cell_type": "code",
   "execution_count": 10,
   "metadata": {},
   "outputs": [
    {
     "name": "stdout",
     "output_type": "stream",
     "text": [
      "data is [ 8  6 13 26 19 15 12 13 18 20]\n"
     ]
    }
   ],
   "source": [
    "data = gen_toy(lambda x : pdf(x,1), 150,(0,10))\n",
    "data_hist,bins = np.histogram(data)\n",
    "print 'data is',data_hist"
   ]
  },
  {
   "cell_type": "markdown",
   "metadata": {},
   "source": [
    "# Define Cost Function. \n",
    "Initially, we set mu to be zero and draw the data with the background only model. "
   ]
  },
  {
   "cell_type": "code",
   "execution_count": 11,
   "metadata": {
    "scrolled": true
   },
   "outputs": [
    {
     "name": "stdout",
     "output_type": "stream",
     "text": [
      "0.0\n"
     ]
    },
    {
     "data": {
      "image/png": "[encoded data removed]",
      "text/plain": [
       "<matplotlib.figure.Figure at 0x108943b10>"
      ]
     },
     "metadata": {},
     "output_type": "display_data"
    }
   ],
   "source": [
    "blh= BinnedLH(pdf, data, bins=10, bound=bound, extended=True)\n",
    "m= Minuit(blh, mu=0., error_mu=.20)\n",
    "blh.draw(m, parts=True)\n",
    "print m.values['mu']"
   ]
  },
  {
   "cell_type": "markdown",
   "metadata": {},
   "source": [
    "### Minimize! \n",
    "and draw the fitted model."
   ]
  },
  {
   "cell_type": "code",
   "execution_count": 12,
   "metadata": {},
   "outputs": [
    {
     "name": "stderr",
     "output_type": "stream",
     "text": [
      "/Users/vince/tensorflow/lib/python2.7/site-packages/ipykernel_launcher.py:1: LogWarning: x is really small return 0\n",
      "  \"\"\"Entry point for launching an IPython kernel.\n"
     ]
    },
    {
     "data": {
      "text/html": [
       "<hr>"
      ]
     },
     "metadata": {},
     "output_type": "display_data"
    },
    {
     "data": {
      "text/html": [
       "\n",
       "        <table>\n",
       "            <tr>\n",
       "                <td title=\"Minimum value of function\">FCN = 5.85642902518</td>\n",
       "                <td title=\"Total number of call to FCN so far\">TOTAL NCALL = 23</td>\n",
       "                <td title=\"Number of call in last migrad\">NCALLS = 23</td>\n",
       "            </tr>\n",
       "            <tr>\n",
       "                <td title=\"Estimated distance to minimum\">EDM = 6.20562574087e-05</td>\n",
       "                <td title=\"Maximum EDM definition of convergence\">GOAL EDM = 5e-06</td>\n",
       "                <td title=\"Error def. Amount of increase in FCN to be defined as 1 standard deviation\">\n",
       "                UP = 0.5</td>\n",
       "            </tr>\n",
       "        </table>\n",
       "        \n",
       "        <table>\n",
       "            <tr>\n",
       "                <td align=\"center\" title=\"Validity of the migrad call\">Valid</td>\n",
       "                <td align=\"center\" title=\"Validity of parameters\">Valid Param</td>\n",
       "                <td align=\"center\" title=\"Is Covariance matrix accurate?\">Accurate Covar</td>\n",
       "                <td align=\"center\" title=\"Positive definiteness of covariance matrix\">PosDef</td>\n",
       "                <td align=\"center\" title=\"Was covariance matrix made posdef by adding diagonal element\">Made PosDef</td>\n",
       "            </tr>\n",
       "            <tr>\n",
       "                <td align=\"center\" style=\"background-color:#92CCA6\">True</td>\n",
       "                <td align=\"center\" style=\"background-color:#92CCA6\">True</td>\n",
       "                <td align=\"center\" style=\"background-color:#92CCA6\">True</td>\n",
       "                <td align=\"center\" style=\"background-color:#92CCA6\">True</td>\n",
       "                <td align=\"center\" style=\"background-color:#92CCA6\">False</td>\n",
       "            </tr>\n",
       "            <tr>\n",
       "                <td align=\"center\" title=\"Was last hesse call fail?\">Hesse Fail</td>\n",
       "                <td align=\"center\" title=\"Validity of covariance\">HasCov</td>\n",
       "                <td align=\"center\" title=\"Is EDM above goal EDM?\">Above EDM</td>\n",
       "                <td align=\"center\"></td>\n",
       "                <td align=\"center\" title=\"Did last migrad call reach max call limit?\">Reach calllim</td>\n",
       "            </tr>\n",
       "            <tr>\n",
       "                <td align=\"center\" style=\"background-color:#92CCA6\">False</td>\n",
       "                <td align=\"center\" style=\"background-color:#92CCA6\">True</td>\n",
       "                <td align=\"center\" style=\"background-color:#92CCA6\">False</td>\n",
       "                <td align=\"center\"></td>\n",
       "                <td align=\"center\" style=\"background-color:#92CCA6\">False</td>\n",
       "            </tr>\n",
       "        </table>\n",
       "        "
      ]
     },
     "metadata": {},
     "output_type": "display_data"
    },
    {
     "data": {
      "text/html": [
       "\n",
       "        <table>\n",
       "            <tr>\n",
       "                <td><a href=\"#\" onclick=\"$('#oHBeozXmxp').toggle()\">+</a></td>\n",
       "                <td title=\"Variable name\">Name</td>\n",
       "                <td title=\"Value of parameter\">Value</td>\n",
       "                <td title=\"Parabolic error\">Parab Error</td>\n",
       "                <td title=\"Minos lower error\">Minos Error-</td>\n",
       "                <td title=\"Minos upper error\">Minos Error+</td>\n",
       "                <td title=\"Lower limit of the parameter\">Limit-</td>\n",
       "                <td title=\"Upper limit of the parameter\">Limit+</td>\n",
       "                <td title=\"Is the parameter fixed in the fit\">FIXED</td>\n",
       "            </tr>\n",
       "        \n",
       "            <tr>\n",
       "                <td>1</td>\n",
       "                <td>mu</td>\n",
       "                <td>0.946044</td>\n",
       "                <td>0.177302</td>\n",
       "                <td>0</td>\n",
       "                <td>0</td>\n",
       "                <td></td>\n",
       "                <td></td>\n",
       "                <td></td>\n",
       "            </tr>\n",
       "            \n",
       "            </table>\n",
       "        \n",
       "            <pre id=\"oHBeozXmxp\" style=\"display:none;\">\n",
       "            <textarea rows=\"8\" cols=\"50\" onclick=\"this.select()\" readonly>\\begin{tabular}{|c|r|r|r|r|r|r|r|c|}\n",
       "\\hline\n",
       " & Name & Value & Para Error & Error+ & Error- & Limit+ & Limit- & FIXED\\\\\n",
       "\\hline\n",
       "1 & $\\mu$ & 9.460e-01 & 1.773e-01 &  &  &  &  & \\\\\n",
       "\\hline\n",
       "\\end{tabular}</textarea>\n",
       "            </pre>\n",
       "            "
      ]
     },
     "metadata": {},
     "output_type": "display_data"
    },
    {
     "data": {
      "text/html": [
       "<hr>"
      ]
     },
     "metadata": {},
     "output_type": "display_data"
    },
    {
     "name": "stdout",
     "output_type": "stream",
     "text": [
      "0.946043636662\n"
     ]
    },
    {
     "data": {
      "image/png": "[encoded data removed]",
      "text/plain": [
       "<matplotlib.figure.Figure at 0x108a70d90>"
      ]
     },
     "metadata": {},
     "output_type": "display_data"
    }
   ],
   "source": [
    "m.migrad()\n",
    "blh.draw(m, parts=True)\n",
    "print m.values['mu']"
   ]
  }
 ],
 "metadata": {
  "kernelspec": {
   "display_name": "Python 2",
   "language": "python",
   "name": "python2"
  },
  "language_info": {
   "codemirror_mode": {
    "name": "ipython",
    "version": 2
   },
   "file_extension": ".py",
   "mimetype": "text/x-python",
   "name": "python",
   "nbconvert_exporter": "python",
   "pygments_lexer": "ipython2",
   "version": "2.7.13"
  }
 },
 "nbformat": 4,
 "nbformat_minor": 2
}
