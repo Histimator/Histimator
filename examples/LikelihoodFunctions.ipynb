{
 "cells": [
  {
   "cell_type": "markdown",
   "metadata": {},
   "source": [
    "# Using [iMinuit](http://iminuit.readthedocs.io/en/latest/) to Minimize Our Function\n",
    "\n",
    "in our previous example the binned likelihood function returned a single value. The value of the loglikelihood function for the histogram given a particular variation of the model. We then produced a list of likelihood values and picked the minimum. Not very smart.\n",
    "\n",
    "Now we define a model as a class. That model is given a 'data' histogram and a template to produce a parameterised variation of the histogram. Then iMinuit can be called on the parameter"
   ]
  },
  {
   "cell_type": "markdown",
   "metadata": {},
   "source": [
    "## The function itself for a sum of poisson bins"
   ]
  },
  {
   "cell_type": "code",
   "execution_count": null,
   "metadata": {
    "collapsed": true
   },
   "outputs": [],
   "source": [
    "def binnedloglikelihood(observed, expected):\n",
    "    assert len(observed) == len(expected)\n",
    "    return sum([observed[bin_i]*math.log(expected[bin_i]) for bin_i in range(len(observed))]) - sum(expected)"
   ]
  },
  {
   "cell_type": "markdown",
   "metadata": {},
   "source": [
    "### A Class To Contain the Model\n",
    "\n",
    "Adding a 'data' histogram is fine. We do however need a way to parameterise the variation. Previously we used this function:"
   ]
  },
  {
   "cell_type": "code",
   "execution_count": null,
   "metadata": {
    "collapsed": true
   },
   "outputs": [],
   "source": [
    "def get_histogram(a,n_bins,n_events):\n",
    "    if a!=0:\n",
    "        shape = [(i*a) for i in range(n_bins)]\n",
    "    else:\n",
    "        shape = [1 for i in range(n_bins)]\n",
    "    return [s+(n_events/n_bins)-(sum(shape)/n_bins) for s in shape]"
   ]
  },
  {
   "cell_type": "markdown",
   "metadata": {},
   "source": [
    "Let's start with just one parameter. which can be understood as a scaling of the nominal histogram. "
   ]
  },
  {
   "cell_type": "code",
   "execution_count": null,
   "metadata": {
    "collapsed": true
   },
   "outputs": [],
   "source": [
    "def get_normalised(nominal,norm):\n",
    "    #nominal should be a list of bin counts\n",
    "    return [i*norm for i in nominal]"
   ]
  },
  {
   "cell_type": "code",
   "execution_count": null,
   "metadata": {},
   "outputs": [],
   "source": [
    "# and test\n",
    "testhist = [1,2,4,8,4,2,1]\n",
    "double = get_normalised(testhist,2)\n",
    "half = get_normalised(testhist,.5)\n",
    "print double\n",
    "print half"
   ]
  },
  {
   "cell_type": "markdown",
   "metadata": {},
   "source": [
    "Ok time to make a class to house all this"
   ]
  },
  {
   "cell_type": "code",
   "execution_count": null,
   "metadata": {},
   "outputs": [],
   "source": [
    "class HistiModel:\n",
    "    def __init__(self, name):\n",
    "        self.name = name\n",
    "        self.Samples = []\n",
    "    def SetData(self, datahist):\n",
    "        self.obs = datahist\n",
    "    class Sample:\n",
    "        def __init__(self, name):\n",
    "            self.name = name\n",
    "            self.norms = []\n",
    "        class NormFactor:\n",
    "            def __init__(self, name, value, minimum, maximum):\n",
    "                self.name = name\n",
    "                self.value = value\n",
    "                self.min = minimum\n",
    "                self.maximum = maximum\n",
    "        def AddNormFactor(self, name, value, minimum, maximum):\n",
    "            if not value:\n",
    "                value = 1.\n",
    "            if not minimum:\n",
    "                minimum = value * .1\n",
    "            if not maximum:\n",
    "                maximum = value * 10.\n",
    "            norm = self.NormFactor(name, value, minimum, maximum)\n",
    "            self.norms.append(norm)\n",
    "    def AddSample(self, sample):\n",
    "        self.Samples.append(sample)"
   ]
  },
  {
   "cell_type": "code",
   "execution_count": null,
   "metadata": {},
   "outputs": [],
   "source": [
    "firstmodel = HistiModel(\"HistiModel\")\n",
    "firstmodel.SetData(testhist)\n",
    "firstsample = HistiModel.Sample(\"a sample\")\n",
    "firstmodel.AddSample(firstsample)\n",
    "secondsample = HistiModel.Sample(\"another sample\")\n",
    "secondsample.AddNormFactor(\"SigXsecOverSM\",1,0,3)\n",
    "firstmodel.AddSample(secondsample)"
   ]
  },
  {
   "cell_type": "code",
   "execution_count": null,
   "metadata": {},
   "outputs": [],
   "source": [
    "print firstmodel.name\n",
    "print firstmodel.obs\n",
    "for sample in firstmodel.Samples:\n",
    "    print sample.name\n",
    "    for norm in sample.norms:\n",
    "        print norm.name,\" \",norm.value"
   ]
  },
  {
   "cell_type": "code",
   "execution_count": 1,
   "metadata": {},
   "outputs": [],
   "source": [
    "import math"
   ]
  },
  {
   "cell_type": "markdown",
   "metadata": {},
   "source": [
    "ok that seems to have set everything up. We just need a way of calling the model for a parameter change...\n",
    "\n",
    "A simple version of this using the 'get histogram class' looks like this"
   ]
  },
  {
   "cell_type": "code",
   "execution_count": null,
   "metadata": {
    "collapsed": true
   },
   "outputs": [],
   "source": [
    "def llhfcn2(x,y):\n",
    "    data_template = get_histogram(0.5,4,50)\n",
    "    variation = get_histogram(y,4,x)\n",
    "    return -binnedloglikelihood(data_template, variation)"
   ]
  },
  {
   "cell_type": "markdown",
   "metadata": {},
   "source": [
    "but actually let's do something a little more complicated."
   ]
  },
  {
   "cell_type": "code",
   "execution_count": null,
   "metadata": {},
   "outputs": [],
   "source": [
    "class HistiModel:\n",
    "    def __init__(self, name):\n",
    "        self.name = name\n",
    "        self.Samples = []\n",
    "        self.Norms = []\n",
    "    def SetData(self, datahist):\n",
    "        self.obs = datahist\n",
    "    class Sample:\n",
    "        def __init__(self, name):\n",
    "            self.name = name\n",
    "            self.Norms = []\n",
    "        def SetHisto(self, Histo):\n",
    "            self.Histo = Histo\n",
    "        class NormFactor:\n",
    "            def __init__(self, name, value, minimum, maximum):\n",
    "                self.name = name\n",
    "                self.value = value\n",
    "                self.min = minimum\n",
    "                self.maximum = maximum\n",
    "        def AddNormFactor(self, name, value, minimum, maximum):\n",
    "            if not value:\n",
    "                value = 1.\n",
    "            if not minimum:\n",
    "                minimum = value * .1\n",
    "            if not maximum:\n",
    "                maximum = value * 10.\n",
    "            norm = self.NormFactor(name, value, minimum, maximum)\n",
    "            self.Norms.append(norm)\n",
    "        def ApplyNorm(self, value):\n",
    "            return [i*value for i in self.Histo]\n",
    "            \n",
    "    def AddSample(self, sample):\n",
    "        self.Samples.append(sample)\n",
    "\n",
    "    def GetModel(self, norm, value):\n",
    "        assert len(self.Samples) > 0 and self.Samples[0].Histo\n",
    "        modelhist = [0 for i in range(len(self.Samples[0].Histo))]\n",
    "        for sample in self.Samples:\n",
    "            if norm in sample.Norms:\n",
    "                print \"got norm\"\n",
    "                sample_hist = sample.ApplyNorm(value)\n",
    "            else:\n",
    "                sample_hist = sample.Histo\n",
    "            for bin in range(len(modelhist)):\n",
    "                modelhist[bin] = modelhist[bin]+sample_hist[bin]\n",
    "        return modelhist\n",
    "    def GetAsimov(self):\n",
    "        assert len(self.Samples) < 0 and self.Samples[0].Histo\n",
    "        modelhist = [0 for i in range(len(self.Samples[0].Histo))]\n",
    "        for sample in self.Samples:\n",
    "            assert len(sample.Histo) == len(modelhist)\n",
    "            sample_hist = sample.Histo\n",
    "            for bin in range(len(modelhist)):\n",
    "                modelhist[bin] = modelhist[bin]+sample_hist[bin]\n",
    "        return modelhist\n",
    "    \n",
    "    def binnedloglikelihood(observed, expected):\n",
    "        assert len(observed) == len(expected)\n",
    "        return sum([observed[bin_i]*math.log(expected[bin_i]) for bin_i in range(len(observed))]) - sum(expected)\n",
    "\n",
    "    def getNLL(self, x):\n",
    "        assert len(self.Samples) > 0\n",
    "        for sample in self.Samples:\n",
    "            for norm in sample.Norms:\n",
    "                self.Norms.append(norm)\n",
    "        assert len(self.Norms) > 0\n",
    "        for norm in self.Norms:\n",
    "            model = self.GetModel(norm, x)\n",
    "        print \"model is\",model\n",
    "        if self.obs:\n",
    "            return -binnedloglikelihood(self.obs, model)\n",
    "        else:\n",
    "            print \"no obs data making asimov\"\n",
    "            data = self.GetAsimov()\n",
    "            return -binnedloglikelihood(data, model)\n",
    "            "
   ]
  },
  {
   "cell_type": "markdown",
   "metadata": {},
   "source": [
    "time for testing"
   ]
  },
  {
   "cell_type": "code",
   "execution_count": null,
   "metadata": {
    "collapsed": true
   },
   "outputs": [],
   "source": [
    "testModel = HistiModel(\"test model\")\n",
    "data = [11.,12.,14.,17.,14.,12.,11.]\n",
    "flat_background = [10,10,10,10,10,10,10]\n",
    "peak = [2.,4.,8.,14.,8.,4.,2.]\n",
    "testModel.SetData(data)\n",
    "bkg = testModel.Sample(\"background\")\n",
    "bkg.SetHisto(flat_background)\n",
    "testModel.AddSample(bkg)\n",
    "sig = testModel.Sample(\"sig\")\n",
    "sig.SetHisto(peak)\n",
    "sig.AddNormFactor(\"some norm\",1,0,3)\n",
    "testModel.AddSample(sig)"
   ]
  },
  {
   "cell_type": "code",
   "execution_count": 2,
   "metadata": {},
   "outputs": [],
   "source": [
    "from iminuit import Minuit"
   ]
  },
  {
   "cell_type": "code",
   "execution_count": null,
   "metadata": {},
   "outputs": [],
   "source": [
    "m = Minuit(testModel.getNLL)\n",
    "m.migrad()"
   ]
  },
  {
   "cell_type": "code",
   "execution_count": null,
   "metadata": {},
   "outputs": [],
   "source": [
    "print m.values"
   ]
  },
  {
   "cell_type": "code",
   "execution_count": null,
   "metadata": {},
   "outputs": [],
   "source": [
    "m.errors"
   ]
  },
  {
   "cell_type": "markdown",
   "metadata": {},
   "source": [
    "one small addition. Let's put the minuit interface in the class itself."
   ]
  },
  {
   "cell_type": "code",
   "execution_count": 19,
   "metadata": {
    "collapsed": true
   },
   "outputs": [],
   "source": [
    "class HistiModel:\n",
    "    def __init__(self, name):\n",
    "        self.name = name\n",
    "        self.Samples = []\n",
    "        self.Norms = []\n",
    "    def SetData(self, datahist):\n",
    "        self.obs = datahist\n",
    "    class Sample:\n",
    "        def __init__(self, name):\n",
    "            self.name = name\n",
    "            self.Norms = []\n",
    "        def SetHisto(self, Histo):\n",
    "            self.Histo = Histo\n",
    "        class NormFactor:\n",
    "            def __init__(self, name, value, minimum, maximum):\n",
    "                self.name = name\n",
    "                self.value = value\n",
    "                self.min = minimum\n",
    "                self.maximum = maximum\n",
    "        def AddNormFactor(self, name, value, minimum, maximum):\n",
    "            if not value:\n",
    "                value = 1.\n",
    "            if not minimum:\n",
    "                minimum = value * .1\n",
    "            if not maximum:\n",
    "                maximum = value * 10.\n",
    "            norm = self.NormFactor(name, value, minimum, maximum)\n",
    "            self.Norms.append(norm)\n",
    "        def ApplyNorm(self, value):\n",
    "            return [i*value for i in self.Histo]\n",
    "            \n",
    "    def AddSample(self, sample):\n",
    "        self.Samples.append(sample)\n",
    "\n",
    "    def GetModel(self, norm, value):\n",
    "        assert len(self.Samples) > 0 and self.Samples[0].Histo\n",
    "        modelhist = [0 for i in range(len(self.Samples[0].Histo))]\n",
    "        for sample in self.Samples:\n",
    "            if norm in sample.Norms:\n",
    "                sample_hist = sample.ApplyNorm(value)\n",
    "            else:\n",
    "                sample_hist = sample.Histo\n",
    "            for bin in range(len(modelhist)):\n",
    "                modelhist[bin] = modelhist[bin]+sample_hist[bin]\n",
    "        return modelhist\n",
    "    def GetAsimov(self):\n",
    "        assert len(self.Samples) < 0 and self.Samples[0].Histo\n",
    "        modelhist = [0 for i in range(len(self.Samples[0].Histo))]\n",
    "        for sample in self.Samples:\n",
    "            assert len(sample.Histo) == len(modelhist)\n",
    "            sample_hist = sample.Histo\n",
    "            for bin in range(len(modelhist)):\n",
    "                modelhist[bin] = modelhist[bin]+sample_hist[bin]\n",
    "        return modelhist\n",
    "    \n",
    "    def binnedloglikelihood(self, observed, expected):\n",
    "        assert len(observed) == len(expected)\n",
    "        return sum([observed[bin_i]*math.log(expected[bin_i]) for bin_i in range(len(observed))]) - sum(expected)\n",
    "\n",
    "    def getNLL(self, x):\n",
    "        assert len(self.Samples) > 0\n",
    "        for sample in self.Samples:\n",
    "            for norm in sample.Norms:\n",
    "                self.Norms.append(norm)\n",
    "        assert len(self.Norms) > 0\n",
    "        for norm in self.Norms:\n",
    "            model = self.GetModel(norm, x)\n",
    "        if self.obs:\n",
    "            data = self.obs\n",
    "            print \"data is\", data\n",
    "            print \"model is\", model\n",
    "            return -self.binnedloglikelihood(data, model)\n",
    "        else:\n",
    "            print \"no obs data making asimov\"\n",
    "            data = self.GetAsimov()\n",
    "            return -self.binnedloglikelihood(data, model)\n",
    "    \n",
    "    def getFitter(self):\n",
    "        return Minuit(self.getNLL)"
   ]
  },
  {
   "cell_type": "code",
   "execution_count": 20,
   "metadata": {
    "collapsed": true
   },
   "outputs": [],
   "source": [
    "testModel = HistiModel(\"test model\")\n",
    "data = [11.,12.,14.,17.,14.,12.,11.]\n",
    "flat_background = [10,10,10,10,10,10,10]\n",
    "peak = [2.,4.,8.,14.,8.,4.,2.]\n",
    "testModel.SetData(data)\n",
    "bkg = testModel.Sample(\"background\")\n",
    "bkg.SetHisto(flat_background)\n",
    "testModel.AddSample(bkg)\n",
    "sig = testModel.Sample(\"sig\")\n",
    "sig.SetHisto(peak)\n",
    "sig.AddNormFactor(\"some norm\",1,0,3)\n",
    "testModel.AddSample(sig)"
   ]
  },
  {
   "cell_type": "code",
   "execution_count": 21,
   "metadata": {},
   "outputs": [
    {
     "name": "stderr",
     "output_type": "stream",
     "text": [
      "/Users/vince/tensorflow/lib/python2.7/site-packages/ipykernel_launcher.py:79: InitialParamWarning: errordef is not given. Default to 1.\n",
      "/Users/vince/tensorflow/lib/python2.7/site-packages/ipykernel_launcher.py:79: InitialParamWarning: Parameter x does not have initial value. Assume 0.\n",
      "/Users/vince/tensorflow/lib/python2.7/site-packages/ipykernel_launcher.py:79: InitialParamWarning: Parameter x is floating but does not have initial step size. Assume 1.\n"
     ]
    }
   ],
   "source": [
    "m = testModel.getFitter()"
   ]
  },
  {
   "cell_type": "code",
   "execution_count": 22,
   "metadata": {},
   "outputs": [
    {
     "name": "stdout",
     "output_type": "stream",
     "text": [
      "data is [11.0, 12.0, 14.0, 17.0, 14.0, 12.0, 11.0]\n",
      "model is [10.0, 10.0, 10.0, 10.0, 10.0, 10.0, 10.0]\n",
      "data is [11.0, 12.0, 14.0, 17.0, 14.0, 12.0, 11.0]\n",
      "model is [10.02, 10.04, 10.08, 10.14, 10.08, 10.04, 10.02]\n",
      "data is [11.0, 12.0, 14.0, 17.0, 14.0, 12.0, 11.0]\n",
      "model is [9.98, 9.96, 9.92, 9.86, 9.92, 9.96, 9.98]\n",
      "data is [11.0, 12.0, 14.0, 17.0, 14.0, 12.0, 11.0]\n",
      "model is [10.00218853647647, 10.004377072952941, 10.008754145905883, 10.015319755335296, 10.008754145905883, 10.004377072952941, 10.00218853647647]\n",
      "data is [11.0, 12.0, 14.0, 17.0, 14.0, 12.0, 11.0]\n",
      "model is [9.99781146352353, 9.995622927047059, 9.991245854094117, 9.984680244664704, 9.991245854094117, 9.995622927047059, 9.99781146352353]\n",
      "data is [11.0, 12.0, 14.0, 17.0, 14.0, 12.0, 11.0]\n",
      "model is [10.650464971567102, 11.300929943134202, 12.601859886268404, 14.553254800969707, 12.601859886268404, 11.300929943134202, 10.650464971567102]\n",
      "data is [11.0, 12.0, 14.0, 17.0, 14.0, 12.0, 11.0]\n",
      "model is [10.801057030474457, 11.602114060948912, 13.204228121897824, 15.607399213321195, 13.204228121897824, 11.602114060948912, 10.801057030474457]\n",
      "data is [11.0, 12.0, 14.0, 17.0, 14.0, 12.0, 11.0]\n",
      "model is [10.928905761577504, 11.857811523155005, 13.71562304631001, 16.502340331042518, 13.71562304631001, 11.857811523155005, 10.928905761577504]\n",
      "data is [11.0, 12.0, 14.0, 17.0, 14.0, 12.0, 11.0]\n",
      "model is [10.98795163827509, 11.975903276550182, 13.951806553100363, 16.915661467925638, 13.951806553100363, 11.975903276550182, 10.98795163827509]\n",
      "data is [11.0, 12.0, 14.0, 17.0, 14.0, 12.0, 11.0]\n",
      "model is [10.99017051742281, 11.980341034845617, 13.960682069691236, 16.931193621959665, 13.960682069691236, 11.980341034845617, 10.99017051742281]\n",
      "data is [11.0, 12.0, 14.0, 17.0, 14.0, 12.0, 11.0]\n",
      "model is [10.985732759127373, 11.971465518254746, 13.942931036509492, 16.90012931389161, 13.942931036509492, 11.971465518254746, 10.985732759127373]\n",
      "data is [11.0, 12.0, 14.0, 17.0, 14.0, 12.0, 11.0]\n",
      "model is [10.99132182075111, 11.982643641502221, 13.965287283004443, 16.939252745257775, 13.965287283004443, 11.982643641502221, 10.99132182075111]\n",
      "data is [11.0, 12.0, 14.0, 17.0, 14.0, 12.0, 11.0]\n",
      "model is [10.98458145579907, 11.969162911598142, 13.938325823196283, 16.892070190593497, 13.938325823196283, 11.969162911598142, 10.98458145579907]\n",
      "data is [11.0, 12.0, 14.0, 17.0, 14.0, 12.0, 11.0]\n",
      "model is [10.995917211588539, 11.991834423177078, 13.983668846354155, 16.97142048111977, 13.983668846354155, 11.991834423177078, 10.995917211588539]\n",
      "data is [11.0, 12.0, 14.0, 17.0, 14.0, 12.0, 11.0]\n",
      "model is [10.999970918645383, 11.999941837290766, 13.999883674581532, 16.99979643051768, 13.999883674581532, 11.999941837290766, 10.999970918645383]\n",
      "data is [11.0, 12.0, 14.0, 17.0, 14.0, 12.0, 11.0]\n",
      "model is [11.003341105669096, 12.006682211338193, 14.013364422676386, 17.023387739683674, 14.013364422676386, 12.006682211338193, 11.003341105669096]\n",
      "data is [11.0, 12.0, 14.0, 17.0, 14.0, 12.0, 11.0]\n",
      "model is [10.996600731621669, 11.99320146324334, 13.986402926486678, 16.976205121351686, 13.986402926486678, 11.99320146324334, 10.996600731621669]\n",
      "data is [11.0, 12.0, 14.0, 17.0, 14.0, 12.0, 11.0]\n",
      "model is [10.999970918645383, 11.999941837290766, 13.999883674581532, 16.99979643051768, 13.999883674581532, 11.999941837290766, 10.999970918645383]\n",
      "data is [11.0, 12.0, 14.0, 17.0, 14.0, 12.0, 11.0]\n",
      "model is [11.003341105669096, 12.006682211338193, 14.013364422676386, 17.023387739683674, 14.013364422676386, 12.006682211338193, 11.003341105669096]\n",
      "data is [11.0, 12.0, 14.0, 17.0, 14.0, 12.0, 11.0]\n",
      "model is [10.996600731621669, 11.99320146324334, 13.986402926486678, 16.976205121351686, 13.986402926486678, 11.99320146324334, 10.996600731621669]\n",
      "data is [11.0, 12.0, 14.0, 17.0, 14.0, 12.0, 11.0]\n",
      "model is [11.000644956050126, 12.001289912100251, 14.002579824200502, 17.00451469235088, 14.002579824200502, 12.001289912100251, 11.000644956050126]\n",
      "data is [11.0, 12.0, 14.0, 17.0, 14.0, 12.0, 11.0]\n",
      "model is [10.99929688124064, 11.998593762481281, 13.99718752496256, 16.99507816868448, 13.99718752496256, 11.998593762481281, 10.99929688124064]\n"
     ]
    },
    {
     "data": {
      "text/html": [
       "<hr>"
      ]
     },
     "metadata": {},
     "output_type": "display_data"
    },
    {
     "data": {
      "text/html": [
       "\n",
       "        <table>\n",
       "            <tr>\n",
       "                <td title=\"Minimum value of function\">FCN = -143.449687672</td>\n",
       "                <td title=\"Total number of call to FCN so far\">TOTAL NCALL = 22</td>\n",
       "                <td title=\"Number of call in last migrad\">NCALLS = 22</td>\n",
       "            </tr>\n",
       "            <tr>\n",
       "                <td title=\"Estimated distance to minimum\">EDM = 2.55284666176e-09</td>\n",
       "                <td title=\"Maximum EDM definition of convergence\">GOAL EDM = 1e-05</td>\n",
       "                <td title=\"Error def. Amount of increase in FCN to be defined as 1 standard deviation\">\n",
       "                UP = 1.0</td>\n",
       "            </tr>\n",
       "        </table>\n",
       "        \n",
       "        <table>\n",
       "            <tr>\n",
       "                <td align=\"center\" title=\"Validity of the migrad call\">Valid</td>\n",
       "                <td align=\"center\" title=\"Validity of parameters\">Valid Param</td>\n",
       "                <td align=\"center\" title=\"Is Covariance matrix accurate?\">Accurate Covar</td>\n",
       "                <td align=\"center\" title=\"Positive definiteness of covariance matrix\">PosDef</td>\n",
       "                <td align=\"center\" title=\"Was covariance matrix made posdef by adding diagonal element\">Made PosDef</td>\n",
       "            </tr>\n",
       "            <tr>\n",
       "                <td align=\"center\" style=\"background-color:#92CCA6\">True</td>\n",
       "                <td align=\"center\" style=\"background-color:#92CCA6\">True</td>\n",
       "                <td align=\"center\" style=\"background-color:#92CCA6\">True</td>\n",
       "                <td align=\"center\" style=\"background-color:#92CCA6\">True</td>\n",
       "                <td align=\"center\" style=\"background-color:#92CCA6\">False</td>\n",
       "            </tr>\n",
       "            <tr>\n",
       "                <td align=\"center\" title=\"Was last hesse call fail?\">Hesse Fail</td>\n",
       "                <td align=\"center\" title=\"Validity of covariance\">HasCov</td>\n",
       "                <td align=\"center\" title=\"Is EDM above goal EDM?\">Above EDM</td>\n",
       "                <td align=\"center\"></td>\n",
       "                <td align=\"center\" title=\"Did last migrad call reach max call limit?\">Reach calllim</td>\n",
       "            </tr>\n",
       "            <tr>\n",
       "                <td align=\"center\" style=\"background-color:#92CCA6\">False</td>\n",
       "                <td align=\"center\" style=\"background-color:#92CCA6\">True</td>\n",
       "                <td align=\"center\" style=\"background-color:#92CCA6\">False</td>\n",
       "                <td align=\"center\"></td>\n",
       "                <td align=\"center\" style=\"background-color:#92CCA6\">False</td>\n",
       "            </tr>\n",
       "        </table>\n",
       "        "
      ]
     },
     "metadata": {},
     "output_type": "display_data"
    },
    {
     "data": {
      "text/html": [
       "\n",
       "        <table>\n",
       "            <tr>\n",
       "                <td><a href=\"#\" onclick=\"$('#SZXnybMmng').toggle()\">+</a></td>\n",
       "                <td title=\"Variable name\">Name</td>\n",
       "                <td title=\"Value of parameter\">Value</td>\n",
       "                <td title=\"Parabolic error\">Parab Error</td>\n",
       "                <td title=\"Minos lower error\">Minos Error-</td>\n",
       "                <td title=\"Minos upper error\">Minos Error+</td>\n",
       "                <td title=\"Lower limit of the parameter\">Limit-</td>\n",
       "                <td title=\"Upper limit of the parameter\">Limit+</td>\n",
       "                <td title=\"Is the parameter fixed in the fit\">FIXED</td>\n",
       "            </tr>\n",
       "        \n",
       "            <tr>\n",
       "                <td>1</td>\n",
       "                <td>x</td>\n",
       "                <td>0.499985</td>\n",
       "                <td>0.288275</td>\n",
       "                <td>0</td>\n",
       "                <td>0</td>\n",
       "                <td></td>\n",
       "                <td></td>\n",
       "                <td></td>\n",
       "            </tr>\n",
       "            \n",
       "            </table>\n",
       "        \n",
       "            <pre id=\"SZXnybMmng\" style=\"display:none;\">\n",
       "            <textarea rows=\"8\" cols=\"50\" onclick=\"this.select()\" readonly>\\begin{tabular}{|c|r|r|r|r|r|r|r|c|}\n",
       "\\hline\n",
       " & Name & Value & Para Error & Error+ & Error- & Limit+ & Limit- & FIXED\\\\\n",
       "\\hline\n",
       "1 & x & 5.000e-01 & 2.883e-01 &  &  &  &  & \\\\\n",
       "\\hline\n",
       "\\end{tabular}</textarea>\n",
       "            </pre>\n",
       "            "
      ]
     },
     "metadata": {},
     "output_type": "display_data"
    },
    {
     "data": {
      "text/html": [
       "<hr>"
      ]
     },
     "metadata": {},
     "output_type": "display_data"
    },
    {
     "data": {
      "text/plain": [
       "({'hesse_failed': False, 'has_reached_call_limit': False, 'has_accurate_covar': True, 'has_posdef_covar': True, 'up': 1.0, 'edm': 2.5528466617562814e-09, 'is_valid': True, 'is_above_max_edm': False, 'has_covariance': True, 'has_made_posdef_covar': False, 'has_valid_parameters': True, 'fval': -143.4496876721149, 'nfcn': 22},\n",
       " [{'is_const': False, 'name': 'x', 'has_limits': False, 'value': 0.49998545932269145, 'number': 0, 'has_lower_limit': False, 'upper_limit': 0.0, 'lower_limit': 0.0, 'has_upper_limit': False, 'error': 0.2882749392223199, 'is_fixed': False}])"
      ]
     },
     "execution_count": 22,
     "metadata": {},
     "output_type": "execute_result"
    }
   ],
   "source": [
    "m.migrad()"
   ]
  },
  {
   "cell_type": "code",
   "execution_count": 23,
   "metadata": {},
   "outputs": [
    {
     "data": {
      "text/plain": [
       "{'x': 0.49998545932269145}"
      ]
     },
     "execution_count": 23,
     "metadata": {},
     "output_type": "execute_result"
    }
   ],
   "source": [
    "m.values"
   ]
  },
  {
   "cell_type": "code",
   "execution_count": 24,
   "metadata": {
    "collapsed": true
   },
   "outputs": [],
   "source": [
    "from matplotlib.pyplot import plot\n",
    "%matplotlib inline"
   ]
  },
  {
   "cell_type": "code",
   "execution_count": 25,
   "metadata": {},
   "outputs": [
    {
     "name": "stdout",
     "output_type": "stream",
     "text": [
      "data is [11.0, 12.0, 14.0, 17.0, 14.0, 12.0, 11.0]\n",
      "model is [9.846871161756104, 9.693742323512208, 9.387484647024413, 8.928098132292723, 9.387484647024413, 9.693742323512208, 9.846871161756104]\n",
      "data is [11.0, 12.0, 14.0, 17.0, 14.0, 12.0, 11.0]\n",
      "model is [9.870166106339726, 9.74033221267945, 9.480664425358901, 9.091162744378076, 9.480664425358901, 9.74033221267945, 9.870166106339726]\n",
      "data is [11.0, 12.0, 14.0, 17.0, 14.0, 12.0, 11.0]\n",
      "model is [9.893461050923348, 9.786922101846693, 9.573844203693389, 9.254227356463428, 9.573844203693389, 9.786922101846693, 9.893461050923348]\n",
      "data is [11.0, 12.0, 14.0, 17.0, 14.0, 12.0, 11.0]\n",
      "model is [9.91675599550697, 9.833511991013937, 9.667023982027874, 9.417291968548781, 9.667023982027874, 9.833511991013937, 9.91675599550697]\n",
      "data is [11.0, 12.0, 14.0, 17.0, 14.0, 12.0, 11.0]\n",
      "model is [9.940050940090591, 9.880101880181181, 9.760203760362362, 9.580356580634135, 9.760203760362362, 9.880101880181181, 9.940050940090591]\n",
      "data is [11.0, 12.0, 14.0, 17.0, 14.0, 12.0, 11.0]\n",
      "model is [9.963345884674212, 9.926691769348425, 9.85338353869685, 9.743421192719486, 9.85338353869685, 9.926691769348425, 9.963345884674212]\n",
      "data is [11.0, 12.0, 14.0, 17.0, 14.0, 12.0, 11.0]\n",
      "model is [9.986640829257833, 9.973281658515669, 9.946563317031337, 9.90648580480484, 9.946563317031337, 9.973281658515669, 9.986640829257833]\n",
      "data is [11.0, 12.0, 14.0, 17.0, 14.0, 12.0, 11.0]\n",
      "model is [10.009935773841455, 10.019871547682913, 10.039743095365823, 10.069550416890191, 10.039743095365823, 10.019871547682913, 10.009935773841455]\n",
      "data is [11.0, 12.0, 14.0, 17.0, 14.0, 12.0, 11.0]\n",
      "model is [10.033230718425077, 10.066461436850156, 10.132922873700311, 10.232615028975545, 10.132922873700311, 10.066461436850156, 10.033230718425077]\n",
      "data is [11.0, 12.0, 14.0, 17.0, 14.0, 12.0, 11.0]\n",
      "model is [10.0565256630087, 10.113051326017398, 10.226102652034799, 10.395679641060898, 10.226102652034799, 10.113051326017398, 10.0565256630087]\n",
      "data is [11.0, 12.0, 14.0, 17.0, 14.0, 12.0, 11.0]\n",
      "model is [10.079820607592321, 10.159641215184642, 10.319282430369286, 10.55874425314625, 10.319282430369286, 10.159641215184642, 10.079820607592321]\n",
      "data is [11.0, 12.0, 14.0, 17.0, 14.0, 12.0, 11.0]\n",
      "model is [10.103115552175943, 10.206231104351886, 10.412462208703772, 10.721808865231603, 10.412462208703772, 10.206231104351886, 10.103115552175943]\n",
      "data is [11.0, 12.0, 14.0, 17.0, 14.0, 12.0, 11.0]\n",
      "model is [10.126410496759565, 10.25282099351913, 10.50564198703826, 10.884873477316955, 10.50564198703826, 10.25282099351913, 10.126410496759565]\n",
      "data is [11.0, 12.0, 14.0, 17.0, 14.0, 12.0, 11.0]\n",
      "model is [10.149705441343187, 10.299410882686374, 10.598821765372747, 11.047938089402308, 10.598821765372747, 10.299410882686374, 10.149705441343187]\n",
      "data is [11.0, 12.0, 14.0, 17.0, 14.0, 12.0, 11.0]\n",
      "model is [10.173000385926809, 10.346000771853618, 10.692001543707235, 11.211002701487661, 10.692001543707235, 10.346000771853618, 10.173000385926809]\n",
      "data is [11.0, 12.0, 14.0, 17.0, 14.0, 12.0, 11.0]\n",
      "model is [10.19629533051043, 10.392590661020861, 10.785181322041723, 11.374067313573013, 10.785181322041723, 10.392590661020861, 10.19629533051043]\n",
      "data is [11.0, 12.0, 14.0, 17.0, 14.0, 12.0, 11.0]\n",
      "model is [10.219590275094053, 10.439180550188105, 10.878361100376209, 11.537131925658366, 10.878361100376209, 10.439180550188105, 10.219590275094053]\n",
      "data is [11.0, 12.0, 14.0, 17.0, 14.0, 12.0, 11.0]\n",
      "model is [10.242885219677675, 10.485770439355349, 10.971540878710696, 11.700196537743718, 10.971540878710696, 10.485770439355349, 10.242885219677675]\n",
      "data is [11.0, 12.0, 14.0, 17.0, 14.0, 12.0, 11.0]\n",
      "model is [10.266180164261296, 10.532360328522591, 11.064720657045184, 11.863261149829071, 11.064720657045184, 10.532360328522591, 10.266180164261296]\n",
      "data is [11.0, 12.0, 14.0, 17.0, 14.0, 12.0, 11.0]\n",
      "model is [10.289475108844918, 10.578950217689835, 11.15790043537967, 12.026325761914425, 11.15790043537967, 10.578950217689835, 10.289475108844918]\n",
      "data is [11.0, 12.0, 14.0, 17.0, 14.0, 12.0, 11.0]\n",
      "model is [10.31277005342854, 10.625540106857079, 11.251080213714157, 12.189390373999776, 11.251080213714157, 10.625540106857079, 10.31277005342854]\n",
      "data is [11.0, 12.0, 14.0, 17.0, 14.0, 12.0, 11.0]\n",
      "model is [10.336064998012162, 10.672129996024323, 11.344259992048645, 12.35245498608513, 11.344259992048645, 10.672129996024323, 10.336064998012162]\n",
      "data is [11.0, 12.0, 14.0, 17.0, 14.0, 12.0, 11.0]\n",
      "model is [10.359359942595782, 10.718719885191566, 11.437439770383133, 12.515519598170481, 11.437439770383133, 10.718719885191566, 10.359359942595782]\n",
      "data is [11.0, 12.0, 14.0, 17.0, 14.0, 12.0, 11.0]\n",
      "model is [10.382654887179404, 10.76530977435881, 11.53061954871762, 12.678584210255835, 11.53061954871762, 10.76530977435881, 10.382654887179404]\n",
      "data is [11.0, 12.0, 14.0, 17.0, 14.0, 12.0, 11.0]\n",
      "model is [10.405949831763026, 10.811899663526054, 11.623799327052108, 12.841648822341188, 11.623799327052108, 10.811899663526054, 10.405949831763026]\n",
      "data is [11.0, 12.0, 14.0, 17.0, 14.0, 12.0, 11.0]\n",
      "model is [10.429244776346648, 10.858489552693298, 11.716979105386594, 13.00471343442654, 11.716979105386594, 10.858489552693298, 10.429244776346648]\n",
      "data is [11.0, 12.0, 14.0, 17.0, 14.0, 12.0, 11.0]\n",
      "model is [10.45253972093027, 10.90507944186054, 11.810158883721082, 13.167778046511893, 11.810158883721082, 10.90507944186054, 10.45253972093027]\n",
      "data is [11.0, 12.0, 14.0, 17.0, 14.0, 12.0, 11.0]\n",
      "model is [10.475834665513892, 10.951669331027784, 11.90333866205557, 13.330842658597245, 11.90333866205557, 10.951669331027784, 10.475834665513892]\n",
      "data is [11.0, 12.0, 14.0, 17.0, 14.0, 12.0, 11.0]\n",
      "model is [10.499129610097514, 10.998259220195028, 11.996518440390055, 13.493907270682598, 11.996518440390055, 10.998259220195028, 10.499129610097514]\n",
      "data is [11.0, 12.0, 14.0, 17.0, 14.0, 12.0, 11.0]\n",
      "model is [10.522424554681136, 11.044849109362271, 12.089698218724543, 13.656971882767952, 12.089698218724543, 11.044849109362271, 10.522424554681136]\n",
      "data is [11.0, 12.0, 14.0, 17.0, 14.0, 12.0, 11.0]\n",
      "model is [10.545719499264758, 11.091438998529515, 12.18287799705903, 13.820036494853303, 12.18287799705903, 11.091438998529515, 10.545719499264758]\n",
      "data is [11.0, 12.0, 14.0, 17.0, 14.0, 12.0, 11.0]\n",
      "model is [10.56901444384838, 11.138028887696759, 12.276057775393518, 13.983101106938655, 12.276057775393518, 11.138028887696759, 10.56901444384838]\n",
      "data is [11.0, 12.0, 14.0, 17.0, 14.0, 12.0, 11.0]\n",
      "model is [10.592309388432001, 11.184618776864003, 12.369237553728006, 14.146165719024008, 12.369237553728006, 11.184618776864003, 10.592309388432001]\n",
      "data is [11.0, 12.0, 14.0, 17.0, 14.0, 12.0, 11.0]\n",
      "model is [10.615604333015623, 11.231208666031247, 12.462417332062492, 14.309230331109362, 12.462417332062492, 11.231208666031247, 10.615604333015623]\n",
      "data is [11.0, 12.0, 14.0, 17.0, 14.0, 12.0, 11.0]\n",
      "model is [10.638899277599245, 11.27779855519849, 12.55559711039698, 14.472294943194713, 12.55559711039698, 11.27779855519849, 10.638899277599245]\n",
      "data is [11.0, 12.0, 14.0, 17.0, 14.0, 12.0, 11.0]\n",
      "model is [10.662194222182867, 11.324388444365733, 12.648776888731467, 14.635359555280067, 12.648776888731467, 11.324388444365733, 10.662194222182867]\n",
      "data is [11.0, 12.0, 14.0, 17.0, 14.0, 12.0, 11.0]\n",
      "model is [10.685489166766489, 11.370978333532976, 12.741956667065953, 14.798424167365418, 12.741956667065953, 11.370978333532976, 10.685489166766489]\n",
      "data is [11.0, 12.0, 14.0, 17.0, 14.0, 12.0, 11.0]\n",
      "model is [10.708784111350111, 11.41756822270022, 12.83513644540044, 14.961488779450772, 12.83513644540044, 11.41756822270022, 10.708784111350111]\n",
      "data is [11.0, 12.0, 14.0, 17.0, 14.0, 12.0, 11.0]\n",
      "model is [10.732079055933731, 11.464158111867464, 12.928316223734928, 15.124553391536125, 12.928316223734928, 11.464158111867464, 10.732079055933731]\n",
      "data is [11.0, 12.0, 14.0, 17.0, 14.0, 12.0, 11.0]\n",
      "model is [10.755374000517353, 11.510748001034708, 13.021496002069416, 15.287618003621477, 13.021496002069416, 11.510748001034708, 10.755374000517353]\n",
      "data is [11.0, 12.0, 14.0, 17.0, 14.0, 12.0, 11.0]\n",
      "model is [10.778668945100975, 11.557337890201952, 13.114675780403903, 15.450682615706828, 13.114675780403903, 11.557337890201952, 10.778668945100975]\n",
      "data is [11.0, 12.0, 14.0, 17.0, 14.0, 12.0, 11.0]\n",
      "model is [10.801963889684597, 11.603927779369196, 13.207855558738391, 15.613747227792182, 13.207855558738391, 11.603927779369196, 10.801963889684597]\n",
      "data is [11.0, 12.0, 14.0, 17.0, 14.0, 12.0, 11.0]\n",
      "model is [10.825258834268219, 11.65051766853644, 13.301035337072877, 15.776811839877535, 13.301035337072877, 11.65051766853644, 10.825258834268219]\n",
      "data is [11.0, 12.0, 14.0, 17.0, 14.0, 12.0, 11.0]\n",
      "model is [10.84855377885184, 11.697107557703681, 13.394215115407365, 15.939876451962888, 13.394215115407365, 11.697107557703681, 10.84855377885184]\n",
      "data is [11.0, 12.0, 14.0, 17.0, 14.0, 12.0, 11.0]\n",
      "model is [10.871848723435463, 11.743697446870925, 13.48739489374185, 16.102941064048238, 13.48739489374185, 11.743697446870925, 10.871848723435463]\n",
      "data is [11.0, 12.0, 14.0, 17.0, 14.0, 12.0, 11.0]\n",
      "model is [10.895143668019085, 11.790287336038169, 13.580574672076338, 16.266005676133595, 13.580574672076338, 11.790287336038169, 10.895143668019085]\n",
      "data is [11.0, 12.0, 14.0, 17.0, 14.0, 12.0, 11.0]\n",
      "model is [10.918438612602706, 11.836877225205413, 13.673754450410826, 16.429070288218945, 13.673754450410826, 11.836877225205413, 10.918438612602706]\n",
      "data is [11.0, 12.0, 14.0, 17.0, 14.0, 12.0, 11.0]\n",
      "model is [10.941733557186328, 11.883467114372657, 13.766934228745313, 16.5921349003043, 13.766934228745313, 11.883467114372657, 10.941733557186328]\n",
      "data is [11.0, 12.0, 14.0, 17.0, 14.0, 12.0, 11.0]\n",
      "model is [10.96502850176995, 11.9300570035399, 13.860114007079801, 16.75519951238965, 13.860114007079801, 11.9300570035399, 10.96502850176995]\n",
      "data is [11.0, 12.0, 14.0, 17.0, 14.0, 12.0, 11.0]\n",
      "model is [10.988323446353572, 11.976646892707144, 13.953293785414289, 16.918264124475, 13.953293785414289, 11.976646892707144, 10.988323446353572]\n",
      "data is [11.0, 12.0, 14.0, 17.0, 14.0, 12.0, 11.0]\n",
      "model is [11.011618390937194, 12.023236781874388, 14.046473563748776, 17.08132873656036, 14.046473563748776, 12.023236781874388, 11.011618390937194]\n",
      "data is [11.0, 12.0, 14.0, 17.0, 14.0, 12.0, 11.0]\n",
      "model is [11.034913335520816, 12.069826671041632, 14.139653342083262, 17.24439334864571, 14.139653342083262, 12.069826671041632, 11.034913335520816]\n",
      "data is [11.0, 12.0, 14.0, 17.0, 14.0, 12.0, 11.0]\n",
      "model is [11.058208280104438, 12.116416560208876, 14.23283312041775, 17.40745796073106, 14.23283312041775, 12.116416560208876, 11.058208280104438]\n",
      "data is [11.0, 12.0, 14.0, 17.0, 14.0, 12.0, 11.0]\n",
      "model is [11.08150322468806, 12.163006449376118, 14.326012898752236, 17.570522572816415, 14.326012898752236, 12.163006449376118, 11.08150322468806]\n",
      "data is [11.0, 12.0, 14.0, 17.0, 14.0, 12.0, 11.0]\n",
      "model is [11.104798169271682, 12.209596338543362, 14.419192677086723, 17.73358718490177, 14.419192677086723, 12.209596338543362, 11.104798169271682]\n",
      "data is [11.0, 12.0, 14.0, 17.0, 14.0, 12.0, 11.0]\n",
      "model is [11.128093113855304, 12.256186227710606, 14.512372455421211, 17.89665179698712, 14.512372455421211, 12.256186227710606, 11.128093113855304]\n",
      "data is [11.0, 12.0, 14.0, 17.0, 14.0, 12.0, 11.0]\n",
      "model is [11.151388058438926, 12.30277611687785, 14.605552233755699, 18.059716409072472, 14.605552233755699, 12.30277611687785, 11.151388058438926]\n",
      "data is [11.0, 12.0, 14.0, 17.0, 14.0, 12.0, 11.0]\n",
      "model is [11.174683003022546, 12.349366006045093, 14.698732012090186, 18.222781021157825, 14.698732012090186, 12.349366006045093, 11.174683003022546]\n",
      "data is [11.0, 12.0, 14.0, 17.0, 14.0, 12.0, 11.0]\n",
      "model is [11.197977947606168, 12.395955895212337, 14.791911790424674, 18.38584563324318, 14.791911790424674, 12.395955895212337, 11.197977947606168]\n",
      "data is [11.0, 12.0, 14.0, 17.0, 14.0, 12.0, 11.0]\n",
      "model is [11.22127289218979, 12.442545784379579, 14.88509156875916, 18.54891024532853, 14.88509156875916, 12.442545784379579, 11.22127289218979]\n",
      "data is [11.0, 12.0, 14.0, 17.0, 14.0, 12.0, 11.0]\n",
      "model is [11.244567836773411, 12.489135673546823, 14.978271347093647, 18.711974857413885, 14.978271347093647, 12.489135673546823, 11.244567836773411]\n",
      "data is [11.0, 12.0, 14.0, 17.0, 14.0, 12.0, 11.0]\n",
      "model is [11.267862781357033, 12.535725562714067, 15.071451125428133, 18.875039469499235, 15.071451125428133, 12.535725562714067, 11.267862781357033]\n",
      "data is [11.0, 12.0, 14.0, 17.0, 14.0, 12.0, 11.0]\n",
      "model is [11.291157725940655, 12.58231545188131, 15.164630903762621, 19.03810408158459, 15.164630903762621, 12.58231545188131, 11.291157725940655]\n",
      "data is [11.0, 12.0, 14.0, 17.0, 14.0, 12.0, 11.0]\n",
      "model is [11.314452670524277, 12.628905341048554, 15.257810682097109, 19.201168693669942, 15.257810682097109, 12.628905341048554, 11.314452670524277]\n",
      "data is [11.0, 12.0, 14.0, 17.0, 14.0, 12.0, 11.0]\n",
      "model is [11.337747615107899, 12.675495230215798, 15.350990460431596, 19.364233305755292, 15.350990460431596, 12.675495230215798, 11.337747615107899]\n",
      "data is [11.0, 12.0, 14.0, 17.0, 14.0, 12.0, 11.0]\n",
      "model is [11.361042559691521, 12.722085119383042, 15.444170238766084, 19.52729791784065, 15.444170238766084, 12.722085119383042, 11.361042559691521]\n",
      "data is [11.0, 12.0, 14.0, 17.0, 14.0, 12.0, 11.0]\n",
      "model is [11.384337504275143, 12.768675008550286, 15.537350017100572, 19.690362529926, 15.537350017100572, 12.768675008550286, 11.384337504275143]\n",
      "data is [11.0, 12.0, 14.0, 17.0, 14.0, 12.0, 11.0]\n",
      "model is [11.407632448858765, 12.81526489771753, 15.63052979543506, 19.853427142011352, 15.63052979543506, 12.81526489771753, 11.407632448858765]\n",
      "data is [11.0, 12.0, 14.0, 17.0, 14.0, 12.0, 11.0]\n",
      "model is [11.430927393442387, 12.861854786884773, 15.723709573769545, 20.016491754096705, 15.723709573769545, 12.861854786884773, 11.430927393442387]\n",
      "data is [11.0, 12.0, 14.0, 17.0, 14.0, 12.0, 11.0]\n",
      "model is [11.454222338026009, 12.908444676052017, 15.816889352104033, 20.179556366182055, 15.816889352104033, 12.908444676052017, 11.454222338026009]\n",
      "data is [11.0, 12.0, 14.0, 17.0, 14.0, 12.0, 11.0]\n",
      "model is [11.47751728260963, 12.95503456521926, 15.910069130438519, 20.34262097826741, 15.910069130438519, 12.95503456521926, 11.47751728260963]\n",
      "data is [11.0, 12.0, 14.0, 17.0, 14.0, 12.0, 11.0]\n",
      "model is [11.500812227193252, 13.001624454386503, 16.003248908773006, 20.505685590352762, 16.003248908773006, 13.001624454386503, 11.500812227193252]\n",
      "data is [11.0, 12.0, 14.0, 17.0, 14.0, 12.0, 11.0]\n",
      "model is [11.524107171776873, 13.048214343553747, 16.096428687107494, 20.668750202438115, 16.096428687107494, 13.048214343553747, 11.524107171776873]\n",
      "data is [11.0, 12.0, 14.0, 17.0, 14.0, 12.0, 11.0]\n",
      "model is [11.547402116360495, 13.09480423272099, 16.18960846544198, 20.83181481452347, 16.18960846544198, 13.09480423272099, 11.547402116360495]\n",
      "data is [11.0, 12.0, 14.0, 17.0, 14.0, 12.0, 11.0]\n",
      "model is [11.570697060944116, 13.141394121888235, 16.28278824377647, 20.99487942660882, 16.28278824377647, 13.141394121888235, 11.570697060944116]\n",
      "data is [11.0, 12.0, 14.0, 17.0, 14.0, 12.0, 11.0]\n",
      "model is [11.593992005527738, 13.187984011055478, 16.375968022110957, 21.157944038694176, 16.375968022110957, 13.187984011055478, 11.593992005527738]\n",
      "data is [11.0, 12.0, 14.0, 17.0, 14.0, 12.0, 11.0]\n",
      "model is [11.61728695011136, 13.23457390022272, 16.46914780044544, 21.321008650779525, 16.46914780044544, 13.23457390022272, 11.61728695011136]\n",
      "data is [11.0, 12.0, 14.0, 17.0, 14.0, 12.0, 11.0]\n",
      "model is [11.640581894694982, 13.281163789389964, 16.56232757877993, 21.48407326286488, 16.56232757877993, 13.281163789389964, 11.640581894694982]\n",
      "data is [11.0, 12.0, 14.0, 17.0, 14.0, 12.0, 11.0]\n",
      "model is [11.663876839278604, 13.327753678557208, 16.655507357114416, 21.647137874950232, 16.655507357114416, 13.327753678557208, 11.663876839278604]\n",
      "data is [11.0, 12.0, 14.0, 17.0, 14.0, 12.0, 11.0]\n",
      "model is [11.687171783862226, 13.374343567724452, 16.748687135448904, 21.810202487035582, 16.748687135448904, 13.374343567724452, 11.687171783862226]\n",
      "data is [11.0, 12.0, 14.0, 17.0, 14.0, 12.0, 11.0]\n",
      "model is [11.710466728445848, 13.420933456891696, 16.84186691378339, 21.973267099120935, 16.84186691378339, 13.420933456891696, 11.710466728445848]\n",
      "data is [11.0, 12.0, 14.0, 17.0, 14.0, 12.0, 11.0]\n",
      "model is [11.73376167302947, 13.46752334605894, 16.93504669211788, 22.13633171120629, 16.93504669211788, 13.46752334605894, 11.73376167302947]\n",
      "data is [11.0, 12.0, 14.0, 17.0, 14.0, 12.0, 11.0]\n",
      "model is [11.757056617613092, 13.514113235226183, 17.028226470452367, 22.299396323291642, 17.028226470452367, 13.514113235226183, 11.757056617613092]\n",
      "data is [11.0, 12.0, 14.0, 17.0, 14.0, 12.0, 11.0]\n",
      "model is [11.780351562196714, 13.560703124393427, 17.121406248786855, 22.462460935376996, 17.121406248786855, 13.560703124393427, 11.780351562196714]\n",
      "data is [11.0, 12.0, 14.0, 17.0, 14.0, 12.0, 11.0]\n",
      "model is [11.803646506780336, 13.607293013560671, 17.214586027121342, 22.625525547462345, 17.214586027121342, 13.607293013560671, 11.803646506780336]\n",
      "data is [11.0, 12.0, 14.0, 17.0, 14.0, 12.0, 11.0]\n",
      "model is [11.826941451363957, 13.653882902727915, 17.30776580545583, 22.7885901595477, 17.30776580545583, 13.653882902727915, 11.826941451363957]\n",
      "data is [11.0, 12.0, 14.0, 17.0, 14.0, 12.0, 11.0]\n",
      "model is [11.85023639594758, 13.700472791895159, 17.400945583790318, 22.951654771633052, 17.400945583790318, 13.700472791895159, 11.85023639594758]\n",
      "data is [11.0, 12.0, 14.0, 17.0, 14.0, 12.0, 11.0]\n",
      "model is [11.873531340531201, 13.747062681062403, 17.494125362124805, 23.114719383718406, 17.494125362124805, 13.747062681062403, 11.873531340531201]\n",
      "data is [11.0, 12.0, 14.0, 17.0, 14.0, 12.0, 11.0]\n",
      "model is [11.896826285114823, 13.793652570229645, 17.58730514045929, 23.277783995803755, 17.58730514045929, 13.793652570229645, 11.896826285114823]\n",
      "data is [11.0, 12.0, 14.0, 17.0, 14.0, 12.0, 11.0]\n",
      "model is [11.920121229698445, 13.840242459396888, 17.680484918793777, 23.44084860788911, 17.680484918793777, 13.840242459396888, 11.920121229698445]\n",
      "data is [11.0, 12.0, 14.0, 17.0, 14.0, 12.0, 11.0]\n",
      "model is [11.943416174282067, 13.886832348564132, 17.773664697128265, 23.603913219974462, 17.773664697128265, 13.886832348564132, 11.943416174282067]\n",
      "data is [11.0, 12.0, 14.0, 17.0, 14.0, 12.0, 11.0]\n",
      "model is [11.966711118865689, 13.933422237731376, 17.866844475462752, 23.766977832059816, 17.866844475462752, 13.933422237731376, 11.966711118865689]\n",
      "data is [11.0, 12.0, 14.0, 17.0, 14.0, 12.0, 11.0]\n",
      "model is [11.990006063449309, 13.980012126898618, 17.960024253797236, 23.930042444145165, 17.960024253797236, 13.980012126898618, 11.990006063449309]\n",
      "data is [11.0, 12.0, 14.0, 17.0, 14.0, 12.0, 11.0]\n",
      "model is [12.013301008032931, 14.026602016065862, 18.053204032131724, 24.093107056230522, 18.053204032131724, 14.026602016065862, 12.013301008032931]\n",
      "data is [11.0, 12.0, 14.0, 17.0, 14.0, 12.0, 11.0]\n",
      "model is [12.036595952616553, 14.073191905233106, 18.14638381046621, 24.256171668315872, 18.14638381046621, 14.073191905233106, 12.036595952616553]\n",
      "data is [11.0, 12.0, 14.0, 17.0, 14.0, 12.0, 11.0]\n",
      "model is [12.059890897200175, 14.11978179440035, 18.2395635888007, 24.41923628040123, 18.2395635888007, 14.11978179440035, 12.059890897200175]\n",
      "data is [11.0, 12.0, 14.0, 17.0, 14.0, 12.0, 11.0]\n",
      "model is [12.083185841783797, 14.166371683567593, 18.332743367135187, 24.58230089248658, 18.332743367135187, 14.166371683567593, 12.083185841783797]\n",
      "data is [11.0, 12.0, 14.0, 17.0, 14.0, 12.0, 11.0]\n",
      "model is [12.106480786367419, 14.212961572734837, 18.425923145469675, 24.74536550457193, 18.425923145469675, 14.212961572734837, 12.106480786367419]\n",
      "data is [11.0, 12.0, 14.0, 17.0, 14.0, 12.0, 11.0]\n",
      "model is [12.12977573095104, 14.259551461902081, 18.519102923804162, 24.908430116657286, 18.519102923804162, 14.259551461902081, 12.12977573095104]\n",
      "data is [11.0, 12.0, 14.0, 17.0, 14.0, 12.0, 11.0]\n",
      "model is [12.153070675534662, 14.306141351069325, 18.61228270213865, 25.071494728742636, 18.61228270213865, 14.306141351069325, 12.153070675534662]\n"
     ]
    },
    {
     "data": {
      "text/plain": [
       "[<matplotlib.lines.Line2D at 0x106ae8850>]"
      ]
     },
     "execution_count": 25,
     "metadata": {},
     "output_type": "execute_result"
    },
    {
     "data": {
      "image/png": "[encoded data removed]",
      "text/plain": [
       "<matplotlib.figure.Figure at 0x1086cb9d0>"
      ]
     },
     "metadata": {},
     "output_type": "display_data"
    }
   ],
   "source": [
    "x,y = m.profile('x',subtract_min=True);\n",
    "plot(x,y) #if you have matplotlib"
   ]
  },
  {
   "cell_type": "code",
   "execution_count": null,
   "metadata": {
    "collapsed": true
   },
   "outputs": [],
   "source": []
  }
 ],
 "metadata": {
  "kernelspec": {
   "display_name": "Python 2",
   "language": "python",
   "name": "python2"
  },
  "language_info": {
   "codemirror_mode": {
    "name": "ipython",
    "version": 2
   },
   "file_extension": ".py",
   "mimetype": "text/x-python",
   "name": "python",
   "nbconvert_exporter": "python",
   "pygments_lexer": "ipython2",
   "version": "2.7.13"
  }
 },
 "nbformat": 4,
 "nbformat_minor": 2
}
