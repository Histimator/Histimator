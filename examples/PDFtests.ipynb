{
 "cells": [
  {
   "cell_type": "code",
   "execution_count": 1,
   "metadata": {
    "collapsed": true
   },
   "outputs": [],
   "source": [
    "import numpy as np\n",
    "import math\n",
    "from pprint import pprint"
   ]
  },
  {
   "cell_type": "code",
   "execution_count": 54,
   "metadata": {
    "collapsed": true
   },
   "outputs": [],
   "source": [
    "class PDF(object):\n",
    "                \n",
    "    def __init__(self):\n",
    "        self.name = \"BinnedTemplate\"\n",
    "        self.nps = {}\n",
    "        self.samples = {}\n",
    "        self.nominal = None\n",
    "        self.IsDataSet = False\n",
    "    def addSample(self, sample):\n",
    "        self.samples[sample.name] = sample\n",
    "        if self.nominal is None:\n",
    "            self.nominal = sample.nominal\n",
    "        else:\n",
    "            self.nominal +=sample.nominal\n",
    "        for nuis in sample.nps.dtype.names:\n",
    "            if 'up' in nuis or 'down' in nuis:\n",
    "                np_name = nuis.replace('up_','').replace('down_',\"\")\n",
    "                self.nps[np_name] = np_name\n",
    "    def setData(self, data):\n",
    "        self.IsDataSet = True\n",
    "        self.data = np.asarray(data)\n",
    "    def pdf(self, params):\n",
    "        flux = np.zeros(len(self.nominal))\n",
    "        for sample in self.samples:\n",
    "            sample = self.samples[sample]\n",
    "            for par in params:\n",
    "                print 'testing if ',par[0],'in'\n",
    "                print sample.nps.dtype.names\n",
    "                if 'up_' + par[0] in sample.nps.dtype.names or 'down_' + par[0] in sample.nps.dtype.names:\n",
    "                    print 'adding flux'\n",
    "                    flux += sample.evaluate(par[0],par[1])\n",
    "        return self.nominal + flux\n",
    "    \n",
    "    def getIntegral(self, hist):\n",
    "        return sum(hist)"
   ]
  },
  {
   "cell_type": "code",
   "execution_count": 55,
   "metadata": {
    "collapsed": true
   },
   "outputs": [],
   "source": [
    "from numpy.lib.recfunctions import append_fields\n",
    "\n",
    "class Sample(object):\n",
    "    def __init__(self, name):\n",
    "        self.name = name\n",
    "        self.nps = np.array([])\n",
    "    def addHist(self,hist):\n",
    "        assert isinstance(hist, list)\n",
    "        self.nominal = np.asarray(hist)\n",
    "        \n",
    "    def setHistoSys(self, name, uphist, downhist, rewrite=False):\n",
    "        #self.nps[name] = self.parametrize(name, len(self.nominal), uphist, downhist)\n",
    "        assert len(self.nominal) == len(uphist) == len(downhist)\n",
    "        if self.nps.dtype.names is None or 'nominal' not in self.nps.dtype.names:        \n",
    "            self.nps = np.zeros(len(self.nominal), dtype=[\n",
    "                ('nominal', np.float)\n",
    "            ])\n",
    "            self.nps['nominal'] = self.nominal\n",
    "        if '_'.join(['up'  ,name]) in self.nps.dtype.names or '_'.join(['down'  ,name]) in self.nps.dtype.names:\n",
    "            print '[WARNING] systematic already booked, use rewrite=True if you want to repalace the values'\n",
    "            if rewrite :\n",
    "                self.nps['_'.join(['up'  ,name])] = np.asarray(uphist)\n",
    "                self.nps['_'.join(['down',name])] = np.asarray(downhist)\n",
    "        else:\n",
    "            self.nps = append_fields(self.nps, '_'.join(['up'  ,name]), uphist  ).data\n",
    "            self.nps = append_fields(self.nps, '_'.join(['down',name]), downhist).data\n",
    "    \n",
    "    def PiecewiseLinear(self, alpha, I0, Iup, Idown):\n",
    "        if alpha < 0:\n",
    "            return (alpha*(I0-Idown))\n",
    "        else:\n",
    "            return (alpha*(Iup - I0))\n",
    "        \n",
    "    def evaluate(self, name, value):\n",
    "        f = np.vectorize(self.PiecewiseLinear)\n",
    "        if '_'.join(['up'  ,name]) in self.nps.dtype.names or '_'.join(['down'  ,name]) in self.nps.dtype.names:\n",
    "            return f(value, self.nps['nominal'],self.nps['_'.join(['up'  ,name])],self.nps['_'.join(['down',name])])\n",
    "        else:\n",
    "            return np.zeros(self.nps['nominal'].shape)"
   ]
  },
  {
   "cell_type": "markdown",
   "metadata": {},
   "source": [
    "## Test adding nominal to first sample"
   ]
  },
  {
   "cell_type": "code",
   "execution_count": 56,
   "metadata": {},
   "outputs": [
    {
     "name": "stdout",
     "output_type": "stream",
     "text": [
      "[ 10.  20.  30.  40.]\n"
     ]
    }
   ],
   "source": [
    "nominal = [10.,20.,30.,40.]\n",
    "sig = Sample('signal')\n",
    "sig.addHist(nominal)\n",
    "print sig.nominal"
   ]
  },
  {
   "cell_type": "markdown",
   "metadata": {},
   "source": [
    "## Add first systematic to sample"
   ]
  },
  {
   "cell_type": "code",
   "execution_count": 57,
   "metadata": {
    "scrolled": true
   },
   "outputs": [
    {
     "name": "stdout",
     "output_type": "stream",
     "text": [
      "array([( 10.,  15.,   6.,  11.,  2.,  12.,  1.),\n",
      "       ( 20.,  30.,  12.,  22.,  4.,  24.,  2.),\n",
      "       ( 30.,  45.,  18.,  33.,  6.,  36.,  3.),\n",
      "       ( 40.,  60.,  24.,  44.,  8.,  48.,  4.)],\n",
      "      dtype=[('nominal', '<f8'), ('up_JES', '<f8'), ('down_JES', '<f8'), ('up_JEC', '<f8'), ('down_JEC', '<f8'), ('up_UES', '<f8'), ('down_UES', '<f8')])\n"
     ]
    }
   ],
   "source": [
    "sig.setHistoSys('JES',[i*1.5 for i in nominal],[i*.6 for i in nominal], rewrite=True)\n",
    "sig.setHistoSys('JEC',[i*1.1 for i in nominal],[i*.2 for i in nominal])\n",
    "sig.setHistoSys('UES',[i*1.2 for i in nominal],[i*.1 for i in nominal])\n",
    "pprint(sig.nps)"
   ]
  },
  {
   "cell_type": "markdown",
   "metadata": {},
   "source": [
    "### test evaluation"
   ]
  },
  {
   "cell_type": "code",
   "execution_count": 58,
   "metadata": {},
   "outputs": [
    {
     "name": "stdout",
     "output_type": "stream",
     "text": [
      "[-2. -4. -6. -8.]\n"
     ]
    }
   ],
   "source": [
    "flux = sig.evaluate(\"JES\",-.5)\n",
    "print flux"
   ]
  },
  {
   "cell_type": "code",
   "execution_count": 59,
   "metadata": {},
   "outputs": [
    {
     "name": "stdout",
     "output_type": "stream",
     "text": [
      "[  8.  16.  24.  32.]\n"
     ]
    }
   ],
   "source": [
    "print sig.nominal + flux"
   ]
  },
  {
   "cell_type": "code",
   "execution_count": 60,
   "metadata": {
    "collapsed": true
   },
   "outputs": [],
   "source": [
    "sig.setHistoSys('NEW',[(i*.1+1)*a for i,a in enumerate(nominal)],[(i*.1+1)*a for i,a in enumerate(nominal)])"
   ]
  },
  {
   "cell_type": "code",
   "execution_count": 61,
   "metadata": {},
   "outputs": [
    {
     "name": "stdout",
     "output_type": "stream",
     "text": [
      "[  8.3  19.   32.1  47.6]\n"
     ]
    }
   ],
   "source": [
    "params = [('JES',-.5),('JEC',.3),('NEW',1.2)]\n",
    "flux = np.zeros(len(sig.nominal))\n",
    "for par in params:\n",
    "    flux += sig.evaluate(par[0],par[1])\n",
    "print sig.nominal + flux"
   ]
  },
  {
   "cell_type": "markdown",
   "metadata": {},
   "source": [
    "## Add another sample and form channel"
   ]
  },
  {
   "cell_type": "code",
   "execution_count": 62,
   "metadata": {},
   "outputs": [
    {
     "name": "stdout",
     "output_type": "stream",
     "text": [
      "[ 40.  40.  40.  40.]\n"
     ]
    }
   ],
   "source": [
    "bkgnominal = [40.,40.,40.,40.]\n",
    "bkg = Sample('background')\n",
    "bkg.addHist(bkgnominal)\n",
    "print bkg.nominal"
   ]
  },
  {
   "cell_type": "code",
   "execution_count": 63,
   "metadata": {},
   "outputs": [
    {
     "name": "stdout",
     "output_type": "stream",
     "text": [
      "[( 40.,  15.,   5.) ( 40.,  30.,  10.) ( 40.,  45.,  15.)\n",
      " ( 40.,  60.,  20.)]\n"
     ]
    }
   ],
   "source": [
    "bkg.setHistoSys('JEC',[i*1.5 for i in nominal],[i*.5 for i in nominal])\n",
    "print bkg.nps"
   ]
  },
  {
   "cell_type": "code",
   "execution_count": 64,
   "metadata": {},
   "outputs": [
    {
     "name": "stdout",
     "output_type": "stream",
     "text": [
      "('nominal', 'up_JEC', 'down_JEC')\n"
     ]
    }
   ],
   "source": [
    "print bkg.nps.dtype.names"
   ]
  },
  {
   "cell_type": "code",
   "execution_count": 65,
   "metadata": {
    "collapsed": true
   },
   "outputs": [],
   "source": [
    "pdf = PDF()\n",
    "pdf.addSample(sig)\n",
    "pdf.addSample(bkg)"
   ]
  },
  {
   "cell_type": "code",
   "execution_count": 66,
   "metadata": {},
   "outputs": [
    {
     "name": "stdout",
     "output_type": "stream",
     "text": [
      "{'JES': 'JES', 'NEW': 'NEW', 'UES': 'UES', 'JEC': 'JEC'}\n"
     ]
    }
   ],
   "source": [
    "print pdf.nps"
   ]
  },
  {
   "cell_type": "code",
   "execution_count": 68,
   "metadata": {},
   "outputs": [
    {
     "name": "stdout",
     "output_type": "stream",
     "text": [
      "testing if  JES in\n",
      "('nominal', 'up_JES', 'down_JES', 'up_JEC', 'down_JEC', 'up_UES', 'down_UES', 'up_NEW', 'down_NEW')\n",
      "adding flux\n",
      "testing if  JEC in\n",
      "('nominal', 'up_JES', 'down_JES', 'up_JEC', 'down_JEC', 'up_UES', 'down_UES', 'up_NEW', 'down_NEW')\n",
      "adding flux\n",
      "testing if  UES in\n",
      "('nominal', 'up_JES', 'down_JES', 'up_JEC', 'down_JEC', 'up_UES', 'down_UES', 'up_NEW', 'down_NEW')\n",
      "adding flux\n",
      "testing if  JES in\n",
      "('nominal', 'up_JEC', 'down_JEC')\n",
      "testing if  JEC in\n",
      "('nominal', 'up_JEC', 'down_JEC')\n",
      "adding flux\n",
      "testing if  UES in\n",
      "('nominal', 'up_JEC', 'down_JEC')\n"
     ]
    },
    {
     "data": {
      "text/plain": [
       "array([ 37.5,  47. ,  56.5,  66. ])"
      ]
     },
     "execution_count": 68,
     "metadata": {},
     "output_type": "execute_result"
    }
   ],
   "source": [
    "params = [('JES',-.5),('JEC',-.3),('UES',1.2)]\n",
    "pdf.pdf(params)"
   ]
  },
  {
   "cell_type": "markdown",
   "metadata": {
    "collapsed": true
   },
   "source": [
    "# Testing minimization"
   ]
  },
  {
   "cell_type": "code",
   "execution_count": 16,
   "metadata": {
    "collapsed": true
   },
   "outputs": [],
   "source": [
    "from scipy.optimize import minimize\n",
    "\n",
    "class minimizer(object):\n",
    "    def __init__(self, name, opt = 'minuit'):\n",
    "        self.name = name\n",
    "        if opt.lower() in ['minuit','scipy']:\n",
    "            self.type = opt.lower()\n",
    "        else: self.type = 'minuit'\n",
    "    def NLL(self, model, params):\n",
    "        return (model.data*np.log(model.pdf(params))).sum()\n",
    "    \n",
    "    def newNLL(self, model):\n",
    "        self.model = model\n",
    "        names = model.nps.keys()\n",
    "        init = np.ones(len(names))\n",
    "        result = minimize(self.f, init, args=names, method = 'Nelder-Mead')\n",
    "        if result.success:\n",
    "            return zip(names,result.x)\n",
    "        else:\n",
    "            raise ValueError(result.message)\n",
    "\n",
    "    def f(self, values, names):\n",
    "        model = self.model\n",
    "        params = zip(names, values)\n",
    "        expected = model.pdf(params)\n",
    "        return -(np.sum(model.data*np.log(expected)) - np.sum(expected))"
   ]
  },
  {
   "cell_type": "code",
   "execution_count": 17,
   "metadata": {
    "collapsed": true
   },
   "outputs": [],
   "source": [
    "pdf.setData([35.,40.,45.,50.])"
   ]
  },
  {
   "cell_type": "code",
   "execution_count": 18,
   "metadata": {},
   "outputs": [
    {
     "name": "stdout",
     "output_type": "stream",
     "text": [
      "710.978205305\n"
     ]
    }
   ],
   "source": [
    "opt = minimizer('test')\n",
    "print opt.NLL(pdf, params)"
   ]
  },
  {
   "cell_type": "code",
   "execution_count": 19,
   "metadata": {
    "scrolled": false
   },
   "outputs": [
    {
     "data": {
      "text/plain": [
       "[('JES', -5.2415383973634819),\n",
       " ('NEW', -1.0103629392591059e-05),\n",
       " ('UES', 5.983067102850657),\n",
       " ('JEC', 0.24999914036166015)]"
      ]
     },
     "execution_count": 19,
     "metadata": {},
     "output_type": "execute_result"
    }
   ],
   "source": [
    "opt.newNLL(pdf)"
   ]
  },
  {
   "cell_type": "markdown",
   "metadata": {},
   "source": [
    "# Test Channels!"
   ]
  },
  {
   "cell_type": "code",
   "execution_count": 20,
   "metadata": {
    "collapsed": true
   },
   "outputs": [],
   "source": [
    "class HistiModel:\n",
    "    def __init__(self, name=\"ANewHistiModel\"):\n",
    "        self.name = name\n",
    "        self.Channels = {}\n",
    "        self.nps = {}\n",
    "    def AddChannel(self, channel):\n",
    "        if channel.IsDataSet:\n",
    "            self.Channels[channel.name] = channel\n",
    "        else:\n",
    "            print \"No Data Set - Using Asimov\"\n",
    "            #To Do impliment Asimov\n",
    "\n",
    "        for norm in channel.nps:\n",
    "            self.nps[norm] = channel.nps[norm]"
   ]
  },
  {
   "cell_type": "code",
   "execution_count": 21,
   "metadata": {
    "collapsed": true
   },
   "outputs": [],
   "source": [
    "amodel = HistiModel()\n",
    "amodel.AddChannel(pdf)"
   ]
  },
  {
   "cell_type": "markdown",
   "metadata": {},
   "source": [
    "Redefine for Models not Channels"
   ]
  },
  {
   "cell_type": "code",
   "execution_count": 22,
   "metadata": {
    "collapsed": true
   },
   "outputs": [],
   "source": [
    "class minimizer(object):\n",
    "    def __init__(self, name, opt = 'minuit'):\n",
    "        self.name = name\n",
    "        if opt.lower() in ['minuit','scipy']:\n",
    "            self.type = opt.lower()\n",
    "        else: self.type = 'minuit'\n",
    "\n",
    "    def NLL(self, model):\n",
    "        self.model = model\n",
    "        names = model.nps.keys()\n",
    "        init = np.ones(len(names))\n",
    "#        ranges = [[i*.1,i*10.] for i in init]\n",
    "        result = minimize(self.f, init, args=names, method = 'BFGS')\n",
    "        if result.success:\n",
    "            return zip(names,result.x)\n",
    "        else:\n",
    "            raise ValueError(result.message)\n",
    "\n",
    "    def f(self, values, names):\n",
    "        model = self.model\n",
    "        params = zip(names, values)\n",
    "        nll = None\n",
    "        for chan in model.Channels:\n",
    "            thechannel = model.Channels[chan]\n",
    "            expected = thechannel.pdf(params)\n",
    "            if nll:\n",
    "                nll -= (np.sum(thechannel.data*np.log(expected)) - np.sum(expected))\n",
    "            else:\n",
    "                nll = -(np.sum(thechannel.data*np.log(expected)) - np.sum(expected))\n",
    "        return nll\n",
    "        "
   ]
  },
  {
   "cell_type": "code",
   "execution_count": 23,
   "metadata": {
    "collapsed": true
   },
   "outputs": [],
   "source": [
    "opt = minimizer('test')\n",
    "#print opt.NLL(amodel, params)"
   ]
  },
  {
   "cell_type": "code",
   "execution_count": 25,
   "metadata": {},
   "outputs": [
    {
     "name": "stdout",
     "output_type": "stream",
     "text": [
      " result is [('JES', -2.1492861452984804), ('JEC', 0.24999796539690644), ('UES', -0.044766270312581874), ('NEW', 1.9600835642470736e-05)]\n"
     ]
    }
   ],
   "source": [
    "print 'result is',opt.NLL(amodel)"
   ]
  },
  {
   "cell_type": "code",
   "execution_count": null,
   "metadata": {
    "collapsed": true
   },
   "outputs": [],
   "source": []
  }
 ],
 "metadata": {
  "kernelspec": {
   "display_name": "Python 2",
   "language": "python",
   "name": "python2"
  },
  "language_info": {
   "codemirror_mode": {
    "name": "ipython",
    "version": 2
   },
   "file_extension": ".py",
   "mimetype": "text/x-python",
   "name": "python",
   "nbconvert_exporter": "python",
   "pygments_lexer": "ipython2",
   "version": "2.7.13"
  }
 },
 "nbformat": 4,
 "nbformat_minor": 2
}
