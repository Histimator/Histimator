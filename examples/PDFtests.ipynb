{
 "cells": [
  {
   "cell_type": "code",
   "execution_count": 1,
   "metadata": {
    "collapsed": true
   },
   "outputs": [],
   "source": [
    "import numpy as np\n",
    "import math"
   ]
  },
  {
   "cell_type": "code",
   "execution_count": 2,
   "metadata": {
    "collapsed": true
   },
   "outputs": [],
   "source": [
    "class PDF(object):\n",
    "                \n",
    "    def __init__(self):\n",
    "        self.name = \"BinnedTemplate\"\n",
    "        self.nps = {}\n",
    "        self.samples = {}\n",
    "        self.nominal = None\n",
    "        self.IsDataSet = False\n",
    "    def addSample(self, sample):\n",
    "        self.samples[sample.name] = sample\n",
    "        if self.nominal is None:\n",
    "            self.nominal = sample.nominal\n",
    "        else:\n",
    "            self.nominal +=sample.nominal\n",
    "        for nuis in sample.nps:\n",
    "            self.nps[nuis] = sample.nps[nuis]\n",
    "    def setData(self, data):\n",
    "        self.IsDataSet = True\n",
    "        self.data = np.asarray(data)\n",
    "    def pdf(self, params):\n",
    "        flux = np.zeros(len(self.nominal))\n",
    "        for sample in self.samples:\n",
    "            sample = self.samples[sample]\n",
    "            for par in params:\n",
    "                if par[0] in sample.nps:\n",
    "                    flux += sample.evaluate(par[0],par[1])\n",
    "        return self.nominal + flux\n",
    "    \n",
    "    def getIntegral(self, hist):\n",
    "        return sum(hist)"
   ]
  },
  {
   "cell_type": "code",
   "execution_count": 3,
   "metadata": {
    "collapsed": true
   },
   "outputs": [],
   "source": [
    "class Sample(object):\n",
    "    def __init__(self, name):\n",
    "        self.name = name\n",
    "        self.nps = {}\n",
    "    def addHist(self,hist):\n",
    "        assert isinstance(hist, list)\n",
    "        self.nominal = np.asarray(hist)\n",
    "        \n",
    "    def setHistoSys(self, name, uphist, downhist):\n",
    "        self.nps[name] = self.parametrize(len(self.nominal), uphist, downhist)\n",
    "\n",
    "    def parametrize(self, length, up, down):\n",
    "        func = np.zeros(length, dtype={'names':('nominal','up','down'),'formats':('f8','f8','f8')})\n",
    "        func['up'] = up\n",
    "        func['down'] = down\n",
    "        func['nominal'] = self.nominal\n",
    "        return func\n",
    "    \n",
    "    def PiecewiseLinear(self, alpha, I0, Iup, Idown):\n",
    "        if alpha < 0:\n",
    "            return (alpha*(I0-Idown))\n",
    "        else:\n",
    "            return (alpha*(Iup - I0))\n",
    "        \n",
    "    def evaluate(self, name, value):\n",
    "        f = np.vectorize(self.PiecewiseLinear)\n",
    "        func = self.nps[name]\n",
    "        return f(value, func['nominal'],func['up'],func['down'])"
   ]
  },
  {
   "cell_type": "markdown",
   "metadata": {},
   "source": [
    "## Test adding nominal to first sample"
   ]
  },
  {
   "cell_type": "code",
   "execution_count": 4,
   "metadata": {},
   "outputs": [
    {
     "name": "stdout",
     "output_type": "stream",
     "text": [
      "[ 10.  20.  30.  40.]\n"
     ]
    }
   ],
   "source": [
    "nominal = [10.,20.,30.,40.]\n",
    "sig = Sample('signal')\n",
    "sig.addHist(nominal)\n",
    "print sig.nominal"
   ]
  },
  {
   "cell_type": "markdown",
   "metadata": {},
   "source": [
    "## Add first systematic to sample"
   ]
  },
  {
   "cell_type": "code",
   "execution_count": 5,
   "metadata": {
    "scrolled": true
   },
   "outputs": [
    {
     "name": "stdout",
     "output_type": "stream",
     "text": [
      "{'first': array([( 10.,  15.,   5.), ( 20.,  30.,  10.), ( 30.,  45.,  15.),\n",
      "       ( 40.,  60.,  20.)],\n",
      "      dtype=[('nominal', '<f8'), ('up', '<f8'), ('down', '<f8')])}\n"
     ]
    }
   ],
   "source": [
    "sig.setHistoSys('first',[i*1.5 for i in nominal],[i*.5 for i in nominal])\n",
    "print sig.nps"
   ]
  },
  {
   "cell_type": "code",
   "execution_count": 6,
   "metadata": {},
   "outputs": [
    {
     "name": "stdout",
     "output_type": "stream",
     "text": [
      "[ 15.  30.  45.  60.]\n",
      "[ 10.  20.  30.  40.]\n",
      "[  5.  10.  15.  20.]\n"
     ]
    }
   ],
   "source": [
    "print sig.nps['first']['up']\n",
    "print sig.nominal\n",
    "print sig.nps['first']['down']"
   ]
  },
  {
   "cell_type": "markdown",
   "metadata": {},
   "source": [
    "### test evaluation"
   ]
  },
  {
   "cell_type": "code",
   "execution_count": 7,
   "metadata": {},
   "outputs": [
    {
     "name": "stdout",
     "output_type": "stream",
     "text": [
      "[ -2.5  -5.   -7.5 -10. ]\n"
     ]
    }
   ],
   "source": [
    "flux = sig.evaluate(\"first\",-.5)\n",
    "print flux"
   ]
  },
  {
   "cell_type": "code",
   "execution_count": 8,
   "metadata": {},
   "outputs": [
    {
     "name": "stdout",
     "output_type": "stream",
     "text": [
      "[  7.5  15.   22.5  30. ]\n"
     ]
    }
   ],
   "source": [
    "print sig.nominal + flux"
   ]
  },
  {
   "cell_type": "code",
   "execution_count": 9,
   "metadata": {
    "collapsed": true
   },
   "outputs": [],
   "source": [
    "sig.setHistoSys('second',[(i*.1+1)*a for i,a in enumerate(nominal)],[(i*.1+1)*a for i,a in enumerate(nominal)])"
   ]
  },
  {
   "cell_type": "code",
   "execution_count": 10,
   "metadata": {},
   "outputs": [
    {
     "name": "stdout",
     "output_type": "stream",
     "text": [
      "[ 10.  22.  36.  52.]\n",
      "[ 10.  20.  30.  40.]\n",
      "[ 10.  22.  36.  52.]\n"
     ]
    }
   ],
   "source": [
    "print sig.nps['second']['up']\n",
    "print sig.nominal\n",
    "print sig.nps['second']['down']"
   ]
  },
  {
   "cell_type": "code",
   "execution_count": 11,
   "metadata": {
    "collapsed": true
   },
   "outputs": [],
   "source": [
    "sig.setHistoSys('third',[a+math.pow(a,4-i)*.001 for i,a in enumerate(nominal)],[a-math.pow(a,4-i)*.001 for i,a in enumerate(nominal)])"
   ]
  },
  {
   "cell_type": "code",
   "execution_count": 12,
   "metadata": {},
   "outputs": [
    {
     "name": "stdout",
     "output_type": "stream",
     "text": [
      "[ 20.    28.    30.9   40.04]\n",
      "[ 10.  20.  30.  40.]\n",
      "[  0.    12.    29.1   39.96]\n"
     ]
    }
   ],
   "source": [
    "print sig.nps['third']['up']\n",
    "print sig.nominal\n",
    "print sig.nps['third']['down']"
   ]
  },
  {
   "cell_type": "code",
   "execution_count": 13,
   "metadata": {},
   "outputs": [
    {
     "name": "stdout",
     "output_type": "stream",
     "text": [
      "[ 19.5    25.2    25.38   33.648]\n"
     ]
    }
   ],
   "source": [
    "params = [('first',-.5),('second',.3),('third',1.2)]\n",
    "flux = np.zeros(len(sig.nominal))\n",
    "for par in params:\n",
    "    flux += sig.evaluate(par[0],par[1])\n",
    "print sig.nominal + flux"
   ]
  },
  {
   "cell_type": "code",
   "execution_count": 14,
   "metadata": {},
   "outputs": [
    {
     "name": "stdout",
     "output_type": "stream",
     "text": [
      "[ 40.  40.  40.  40.]\n"
     ]
    }
   ],
   "source": [
    "bkgnominal = [40.,40.,40.,40.]\n",
    "bkg = Sample('background')\n",
    "bkg.addHist(bkgnominal)\n",
    "print bkg.nominal"
   ]
  },
  {
   "cell_type": "code",
   "execution_count": 15,
   "metadata": {},
   "outputs": [
    {
     "name": "stdout",
     "output_type": "stream",
     "text": [
      "{'first': array([( 40.,  15.,   5.), ( 40.,  30.,  10.), ( 40.,  45.,  15.),\n",
      "       ( 40.,  60.,  20.)],\n",
      "      dtype=[('nominal', '<f8'), ('up', '<f8'), ('down', '<f8')])}\n"
     ]
    }
   ],
   "source": [
    "bkg.setHistoSys('first',[i*1.5 for i in nominal],[i*.5 for i in nominal])\n",
    "print bkg.nps"
   ]
  },
  {
   "cell_type": "code",
   "execution_count": 16,
   "metadata": {
    "collapsed": true
   },
   "outputs": [],
   "source": [
    "pdf = PDF()\n",
    "pdf.addSample(sig)\n",
    "pdf.addSample(bkg)"
   ]
  },
  {
   "cell_type": "code",
   "execution_count": 17,
   "metadata": {},
   "outputs": [
    {
     "data": {
      "text/plain": [
       "array([ 42.   ,  50.2  ,  52.88 ,  63.648])"
      ]
     },
     "execution_count": 17,
     "metadata": {},
     "output_type": "execute_result"
    }
   ],
   "source": [
    "params = [('first',-.5),('second',-.3),('third',1.2)]\n",
    "pdf.pdf(params)"
   ]
  },
  {
   "cell_type": "markdown",
   "metadata": {
    "collapsed": true
   },
   "source": [
    "# Testing minimization"
   ]
  },
  {
   "cell_type": "code",
   "execution_count": 18,
   "metadata": {},
   "outputs": [],
   "source": [
    "from scipy.optimize import minimize\n",
    "\n",
    "class minimizer(object):\n",
    "    def __init__(self, name, opt = 'minuit'):\n",
    "        self.name = name\n",
    "        if opt.lower() in ['minuit','scipy']:\n",
    "            self.type = opt.lower()\n",
    "        else: self.type = 'minuit'\n",
    "    def NLL(self, model, params):\n",
    "        return (model.data*np.log(model.pdf(params))).sum()\n",
    "    \n",
    "    def newNLL(self, model):\n",
    "        self.model = model\n",
    "        names = model.nps.keys()\n",
    "        init = np.ones(len(names))\n",
    "        result = minimize(self.f, init, args=names, method = 'Nelder-Mead')\n",
    "        if result.success:\n",
    "            return zip(names,result.x)\n",
    "        else:\n",
    "            raise ValueError(result.message)\n",
    "\n",
    "    def f(self, values, names):\n",
    "        model = self.model\n",
    "        params = zip(names, values)\n",
    "        expected = model.pdf(params)\n",
    "        return -(np.sum(model.data*np.log(expected)) - np.sum(expected))"
   ]
  },
  {
   "cell_type": "code",
   "execution_count": 19,
   "metadata": {},
   "outputs": [],
   "source": [
    "pdf.setData([35.,40.,45.,50.])"
   ]
  },
  {
   "cell_type": "code",
   "execution_count": 20,
   "metadata": {},
   "outputs": [
    {
     "name": "stdout",
     "output_type": "stream",
     "text": [
      "673.688566641\n"
     ]
    }
   ],
   "source": [
    "opt = minimizer('test')\n",
    "print opt.NLL(pdf, params)"
   ]
  },
  {
   "cell_type": "code",
   "execution_count": 21,
   "metadata": {},
   "outputs": [
    {
     "name": "stdout",
     "output_type": "stream",
     "text": [
      "result is [('second', 1.7595483534248184e-07), ('third', 1.2248921934744734), ('first', -0.70429106865340052)]\n"
     ]
    }
   ],
   "source": [
    "print 'result is',opt.newNLL(pdf)"
   ]
  },
  {
   "cell_type": "markdown",
   "metadata": {},
   "source": [
    "# Test Channels!"
   ]
  },
  {
   "cell_type": "code",
   "execution_count": 22,
   "metadata": {
    "collapsed": true
   },
   "outputs": [],
   "source": [
    "class HistiModel:\n",
    "    def __init__(self, name=\"ANewHistiModel\"):\n",
    "        self.name = name\n",
    "        self.Channels = {}\n",
    "        self.nps = {}\n",
    "    def AddChannel(self, channel):\n",
    "        if channel.IsDataSet:\n",
    "            self.Channels[channel.name] = channel\n",
    "        else:\n",
    "            print \"No Data Set - Using Asimov\"\n",
    "            #To Do impliment Asimov\n",
    "\n",
    "        for norm in channel.nps:\n",
    "            self.nps[norm] = channel.nps[norm]"
   ]
  },
  {
   "cell_type": "code",
   "execution_count": 31,
   "metadata": {},
   "outputs": [],
   "source": [
    "amodel = HistiModel()\n",
    "amodel.AddChannel(pdf)"
   ]
  },
  {
   "cell_type": "markdown",
   "metadata": {},
   "source": [
    "Redefine for Models not Channels"
   ]
  },
  {
   "cell_type": "code",
   "execution_count": 30,
   "metadata": {},
   "outputs": [
    {
     "name": "stdout",
     "output_type": "stream",
     "text": [
      "\n"
     ]
    }
   ],
   "source": [
    "class minimizer(object):\n",
    "    def __init__(self, name, opt = 'minuit'):\n",
    "        self.name = name\n",
    "        if opt.lower() in ['minuit','scipy']:\n",
    "            self.type = opt.lower()\n",
    "        else: self.type = 'minuit'\n",
    "#    def NLL(self, model, params):\n",
    "#        return (model.data*np.log(model.pdf(params))).sum()\n",
    "    \n",
    "    def newNLL(self, model):\n",
    "        self.model = model\n",
    "        names = model.nps.keys()\n",
    "        init = np.ones(len(names))\n",
    "#        ranges = [[i*.1,i*10.] for i in init]\n",
    "        result = minimize(self.f, init, args=names, method = 'BFGS')\n",
    "        if result.success:\n",
    "            return zip(names,result.x)\n",
    "        else:\n",
    "            raise ValueError(result.message)\n",
    "\n",
    "    def f(self, values, names):\n",
    "        model = self.model\n",
    "        params = zip(names, values)\n",
    "        nll = None\n",
    "        for chan in model.Channels:\n",
    "            thechannel = model.Channels[chan]\n",
    "            expected = thechannel.pdf(params)\n",
    "            if nll:\n",
    "                nll -= (np.sum(thechannel.data*np.log(expected)) - np.sum(expected))\n",
    "            else:\n",
    "                nll = -(np.sum(thechannel.data*np.log(expected)) - np.sum(expected))\n",
    "        return nll\n",
    "        "
   ]
  },
  {
   "cell_type": "code",
   "execution_count": 32,
   "metadata": {},
   "outputs": [
    {
     "name": "stdout",
     "output_type": "stream",
     "text": [
      "[ 1.  1.  4.]\n",
      "{'first': array([( 1.,  1.5,  0.5), ( 1.,  1.5,  0.5), ( 4.,  6. ,  2. )],\n",
      "      dtype=[('nominal', '<f8'), ('up', '<f8'), ('down', '<f8')])}\n",
      "[ 1.5  1.5  6. ]\n",
      "[ 1.  1.  4.]\n",
      "[ 0.5  0.5  2. ]\n",
      "[ 40.  40.  40.]\n",
      "{'first': array([( 40.,  60.,  20.), ( 40.,  60.,  20.), ( 40.,  60.,  20.)],\n",
      "      dtype=[('nominal', '<f8'), ('up', '<f8'), ('down', '<f8')])}\n"
     ]
    }
   ],
   "source": [
    "nominal = [1.,1.,4.]\n",
    "sig = Sample('newsignal')\n",
    "sig.addHist(nominal)\n",
    "print sig.nominal\n",
    "\n",
    "sig.setHistoSys('first',[i*1.5 for i in nominal],[i*.5 for i in nominal])\n",
    "print sig.nps\n",
    "\n",
    "print sig.nps['first']['up']\n",
    "print sig.nominal\n",
    "print sig.nps['first']['down']\n",
    "\n",
    "bkgnominal = [40.,40.,40.]\n",
    "bkg = Sample('background')\n",
    "bkg.addHist(bkgnominal)\n",
    "print bkg.nominal\n",
    "bkg.setHistoSys('first',[i*1.5 for i in bkgnominal],[i*.5 for i in bkgnominal])\n",
    "print bkg.nps\n",
    "bkg.setHistoSys('second',[(i*.1+1)*a for i,a in enumerate(nominal)],[(i*.1+1)*a for i,a in enumerate(nominal)])\n",
    "bkg.setHistoSys('third',[a+math.pow(a,4-i)*.001 for i,a in enumerate(nominal)],[a-math.pow(a,4-i)*.001 for i,a in enumerate(nominal)])"
   ]
  },
  {
   "cell_type": "code",
   "execution_count": 33,
   "metadata": {},
   "outputs": [],
   "source": [
    "ctlpdf = PDF()\n",
    "ctlpdf.addSample(sig)\n",
    "ctlpdf.addSample(bkg)\n",
    "ctlpdf.setData([49.,50.,45.])"
   ]
  },
  {
   "cell_type": "code",
   "execution_count": 34,
   "metadata": {
    "collapsed": true
   },
   "outputs": [],
   "source": [
    "amodel.AddChannel(ctlpdf)"
   ]
  },
  {
   "cell_type": "code",
   "execution_count": 35,
   "metadata": {},
   "outputs": [],
   "source": [
    "opt = minimizer('test')\n",
    "#print opt.NLL(amodel, params)"
   ]
  },
  {
   "cell_type": "code",
   "execution_count": 36,
   "metadata": {},
   "outputs": [
    {
     "name": "stdout",
     "output_type": "stream",
     "text": [
      "result is"
     ]
    },
    {
     "name": "stderr",
     "output_type": "stream",
     "text": [
      "/Users/vince/tensorflow/lib/python2.7/site-packages/ipykernel_launcher.py:31: RuntimeWarning: invalid value encountered in log\n"
     ]
    },
    {
     "ename": "ValueError",
     "evalue": "Desired error not necessarily achieved due to precision loss.",
     "output_type": "error",
     "traceback": [
      "\u001b[0;31m---------------------------------------------------------------------------\u001b[0m",
      "\u001b[0;31mValueError\u001b[0m                                Traceback (most recent call last)",
      "\u001b[0;32m<ipython-input-36-f7acbe4736fd>\u001b[0m in \u001b[0;36m<module>\u001b[0;34m()\u001b[0m\n\u001b[0;32m----> 1\u001b[0;31m \u001b[0;32mprint\u001b[0m \u001b[0;34m'result is'\u001b[0m\u001b[0;34m,\u001b[0m\u001b[0mopt\u001b[0m\u001b[0;34m.\u001b[0m\u001b[0mnewNLL\u001b[0m\u001b[0;34m(\u001b[0m\u001b[0mamodel\u001b[0m\u001b[0;34m)\u001b[0m\u001b[0;34m\u001b[0m\u001b[0m\n\u001b[0m",
      "\u001b[0;32m<ipython-input-30-ea2eba46e927>\u001b[0m in \u001b[0;36mnewNLL\u001b[0;34m(self, model)\u001b[0m\n\u001b[1;32m     17\u001b[0m             \u001b[0;32mreturn\u001b[0m \u001b[0mzip\u001b[0m\u001b[0;34m(\u001b[0m\u001b[0mnames\u001b[0m\u001b[0;34m,\u001b[0m\u001b[0mresult\u001b[0m\u001b[0;34m.\u001b[0m\u001b[0mx\u001b[0m\u001b[0;34m)\u001b[0m\u001b[0;34m\u001b[0m\u001b[0m\n\u001b[1;32m     18\u001b[0m         \u001b[0;32melse\u001b[0m\u001b[0;34m:\u001b[0m\u001b[0;34m\u001b[0m\u001b[0m\n\u001b[0;32m---> 19\u001b[0;31m             \u001b[0;32mraise\u001b[0m \u001b[0mValueError\u001b[0m\u001b[0;34m(\u001b[0m\u001b[0mresult\u001b[0m\u001b[0;34m.\u001b[0m\u001b[0mmessage\u001b[0m\u001b[0;34m)\u001b[0m\u001b[0;34m\u001b[0m\u001b[0m\n\u001b[0m\u001b[1;32m     20\u001b[0m \u001b[0;34m\u001b[0m\u001b[0m\n\u001b[1;32m     21\u001b[0m     \u001b[0;32mdef\u001b[0m \u001b[0mf\u001b[0m\u001b[0;34m(\u001b[0m\u001b[0mself\u001b[0m\u001b[0;34m,\u001b[0m \u001b[0mvalues\u001b[0m\u001b[0;34m,\u001b[0m \u001b[0mnames\u001b[0m\u001b[0;34m)\u001b[0m\u001b[0;34m:\u001b[0m\u001b[0;34m\u001b[0m\u001b[0m\n",
      "\u001b[0;31mValueError\u001b[0m: Desired error not necessarily achieved due to precision loss."
     ]
    }
   ],
   "source": [
    "print 'result is',opt.newNLL(amodel)"
   ]
  },
  {
   "cell_type": "code",
   "execution_count": null,
   "metadata": {
    "collapsed": true
   },
   "outputs": [],
   "source": []
  }
 ],
 "metadata": {
  "kernelspec": {
   "display_name": "Python 2",
   "language": "python",
   "name": "python2"
  },
  "language_info": {
   "codemirror_mode": {
    "name": "ipython",
    "version": 2
   },
   "file_extension": ".py",
   "mimetype": "text/x-python",
   "name": "python",
   "nbconvert_exporter": "python",
   "pygments_lexer": "ipython2",
   "version": "2.7.13"
  }
 },
 "nbformat": 4,
 "nbformat_minor": 2
}
