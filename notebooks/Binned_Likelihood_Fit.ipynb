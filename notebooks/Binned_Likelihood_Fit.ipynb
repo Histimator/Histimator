{
 "cells": [
  {
   "cell_type": "code",
   "execution_count": 1,
   "metadata": {},
   "outputs": [],
   "source": [
    "import matplotlib.pyplot as plt\n",
    "import plotly.offline as py\n",
    "import numpy  as np\n",
    "import pandas as pd\n",
    "import scipy.stats as st\n",
    "\n",
    "%matplotlib inline\n",
    "plt.style.use('physics')\n",
    "\n",
    "plt.rcParams['axes.grid'       ]  = False\n",
    "plt.rcParams['xtick.labelsize' ]  = 14\n",
    "plt.rcParams['ytick.labelsize' ]  = 14\n",
    "plt.rcParams['axes.labelsize'  ]  = 14\n",
    "plt.rcParams['legend.fancybox' ]  = False\n",
    "\n",
    "pd.options.mode.chained_assignment = None"
   ]
  },
  {
   "cell_type": "code",
   "execution_count": 2,
   "metadata": {},
   "outputs": [],
   "source": [
    "from histimator.models import HistiModel, HistiChannel, HistiSample\n",
    "from histimator import models\n",
    "from histimator.estimator import BinnedLH\n",
    "\n",
    "from probfit import gen_toy\n",
    "from iminuit import Minuit, describe\n",
    "from pprint import pprint"
   ]
  },
  {
   "cell_type": "code",
   "execution_count": 3,
   "metadata": {},
   "outputs": [],
   "source": [
    "def theory_model(x, mu):\n",
    "    \"\"\"poisson pdf, parameter lamb is the fit parameter\"\"\"\n",
    "    return mu*st.norm(4,scale=1).pdf(x) + (1-mu)*st.expon(scale=4).pdf(x)"
   ]
  },
  {
   "cell_type": "code",
   "execution_count": 4,
   "metadata": {},
   "outputs": [],
   "source": [
    "ff = 0.3 \n",
    "np.random.seed(42)\n",
    "\n",
    "bounds  = (0, 10)\n",
    "xbin    = np.linspace(0,10,21)\n",
    "data    = np.random.poisson(1000*theory_model(xbin, ff))\n",
    "hist_s  = np.random.poisson(1000*ff*st.norm(4,scale=1).pdf(xbin)).astype(np.float64)\n",
    "hist_b  = np.random.poisson(1000*(1-ff)*st.expon(scale=4).pdf(xbin)).astype(np.float64)\n",
    "binedge = xbin-np.diff(xbin)[0]/2.0 \n",
    "binedge = np.append(binedge, [xbin.max() + np.diff(xbin)[0]/2.0])"
   ]
  },
  {
   "cell_type": "code",
   "execution_count": 5,
   "metadata": {},
   "outputs": [],
   "source": [
    "m = HistiModel('model')\n",
    "\n",
    "signal = HistiSample(\"signal\")\n",
    "signal.SetHisto((hist_s, binedge))\n",
    "signal.AddNorm(\"SigXSecOverSM\", 1.0,0,3)\n",
    "\n",
    "background = HistiSample(\"background1\")\n",
    "background.SetHisto((hist_b, binedge))\n",
    "\n",
    "chan = HistiChannel(\"SR\")\n",
    "chan.AddSample(signal)\n",
    "chan.AddSample(background)\n",
    "\n",
    "m.AddChannel(chan)\n",
    "chan.SetData(data)\n",
    "m.AddChannel(chan)"
   ]
  },
  {
   "cell_type": "code",
   "execution_count": 6,
   "metadata": {},
   "outputs": [],
   "source": [
    "def plot_model(model,true_mu=1.0, fitted_mu=None):\n",
    "    plt.figure(figsize=(5,5))\n",
    "    t = np.linspace(0,10,1000)\n",
    "    pred = np.asarray([model.pdf(i, true_mu)*0.5 for i in t])\n",
    "    plt.plot(t, pred, color='black', label='model')\n",
    "    plt.errorbar(\n",
    "        xbin, data, yerr=np.sqrt(data), fmt='.', ms=14, capsize=0, color='black', label='data'\n",
    "    )\n",
    "    if fitted_mu is not None:\n",
    "        pred_fitted = np.asarray([model.pdf(i, fitted_mu)*0.5 for i in t])\n",
    "        plt.plot(t, pred_fitted, color='green', label='fitted pdf')\n",
    "    plt.xlabel('X (obs)')\n",
    "    plt.ylabel('dN/dX')\n",
    "    plt.legend()"
   ]
  },
  {
   "cell_type": "code",
   "execution_count": 7,
   "metadata": {},
   "outputs": [
    {
     "data": {
      "image/png": "[encoded data removed]",
      "text/plain": [
       "<matplotlib.figure.Figure at 0x115874f50>"
      ]
     },
     "metadata": {},
     "output_type": "display_data"
    }
   ],
   "source": [
    "plot_model(m)"
   ]
  },
  {
   "cell_type": "code",
   "execution_count": 8,
   "metadata": {},
   "outputs": [
    {
     "name": "stdout",
     "output_type": "stream",
     "text": [
      "---- printing model --- \n",
      "{'data': array([170, 163, 124, 129, 134, 120, 148, 176, 188, 154, 121,  74,  57,\n",
      "        42,  28,  30,  17,  17,  16,  17,  15]),\n",
      " 'n_samples': 2,\n",
      " 'name': 'SR',\n",
      " 'samples': {'background1': <histimator.models.HistiSample object at 0x115abd290>,\n",
      "             'signal': <histimator.models.HistiSample object at 0x115abd110>}}\n",
      "---- sample :  signal\n",
      "{'bincontent': array([  0.,   0.,   0.,   5.,  17.,  45.,  64., 116., 127.,  87.,  61.,\n",
      "        41.,   8.,   7.,   2.,   0.,   0.,   0.,   0.,   0.,   0.]),\n",
      " 'binedges': array([-0.25,  0.25,  0.75,  1.25,  1.75,  2.25,  2.75,  3.25,  3.75,\n",
      "        4.25,  4.75,  5.25,  5.75,  6.25,  6.75,  7.25,  7.75,  8.25,\n",
      "        8.75,  9.25,  9.75, 10.25]),\n",
      " 'hist': (array([  0.,   0.,   0.,   5.,  17.,  45.,  64., 116., 127.,  87.,  61.,\n",
      "        41.,   8.,   7.,   2.,   0.,   0.,   0.,   0.,   0.,   0.]),\n",
      "          array([-0.25,  0.25,  0.75,  1.25,  1.75,  2.25,  2.75,  3.25,  3.75,\n",
      "        4.25,  4.75,  5.25,  5.75,  6.25,  6.75,  7.25,  7.75,  8.25,\n",
      "        8.75,  9.25,  9.75, 10.25])),\n",
      " 'name': 'signal',\n",
      " 'pdf': <histimator.pdfs.NormedHist instance at 0x11584cd88>}\n",
      "---- sample :  background1\n",
      "{'bincontent': array([168., 174., 133., 111., 100., 112.,  86.,  81.,  76.,  53.,  44.,\n",
      "        43.,  30.,  47.,  31.,  25.,  36.,  21.,  15.,  18.,   6.]),\n",
      " 'binedges': array([-0.25,  0.25,  0.75,  1.25,  1.75,  2.25,  2.75,  3.25,  3.75,\n",
      "        4.25,  4.75,  5.25,  5.75,  6.25,  6.75,  7.25,  7.75,  8.25,\n",
      "        8.75,  9.25,  9.75, 10.25]),\n",
      " 'hist': (array([168., 174., 133., 111., 100., 112.,  86.,  81.,  76.,  53.,  44.,\n",
      "        43.,  30.,  47.,  31.,  25.,  36.,  21.,  15.,  18.,   6.]),\n",
      "          array([-0.25,  0.25,  0.75,  1.25,  1.75,  2.25,  2.75,  3.25,  3.75,\n",
      "        4.25,  4.75,  5.25,  5.75,  6.25,  6.75,  7.25,  7.75,  8.25,\n",
      "        8.75,  9.25,  9.75, 10.25])),\n",
      " 'name': 'background1',\n",
      " 'pdf': <histimator.pdfs.HistogramPdf object at 0x115abd210>}\n",
      "---------------------------- \n"
     ]
    }
   ],
   "source": [
    "print \"---- printing model --- \"\n",
    "pprint (chan.__dict__)\n",
    "for n_, s_ in chan.__dict__['samples'].items():\n",
    "    print '---- sample : ', n_\n",
    "    pprint (s_.__dict__)\n",
    "print \"---------------------------- \""
   ]
  },
  {
   "cell_type": "code",
   "execution_count": 10,
   "metadata": {},
   "outputs": [],
   "source": [
    "blh = BinnedLH(m, bound=bounds, extended=True)"
   ]
  },
  {
   "cell_type": "code",
   "execution_count": 12,
   "metadata": {
    "scrolled": false
   },
   "outputs": [
    {
     "data": {
      "text/html": [
       "<hr>"
      ]
     },
     "metadata": {},
     "output_type": "display_data"
    },
    {
     "data": {
      "text/html": [
       "\n",
       "        <table>\n",
       "            <tr>\n",
       "                <td title=\"Minimum value of function\">FCN = 96.9627680496</td>\n",
       "                <td title=\"Total number of call to FCN so far\">TOTAL NCALL = 16</td>\n",
       "                <td title=\"Number of call in last migrad\">NCALLS = 16</td>\n",
       "            </tr>\n",
       "            <tr>\n",
       "                <td title=\"Estimated distance to minimum\">EDM = 5.74004109496e-07</td>\n",
       "                <td title=\"Maximum EDM definition of convergence\">GOAL EDM = 1e-05</td>\n",
       "                <td title=\"Error def. Amount of increase in FCN to be defined as 1 standard deviation\">\n",
       "                UP = 1.0</td>\n",
       "            </tr>\n",
       "        </table>\n",
       "        \n",
       "        <table>\n",
       "            <tr>\n",
       "                <td align=\"center\" title=\"Validity of the migrad call\">Valid</td>\n",
       "                <td align=\"center\" title=\"Validity of parameters\">Valid Param</td>\n",
       "                <td align=\"center\" title=\"Is Covariance matrix accurate?\">Accurate Covar</td>\n",
       "                <td align=\"center\" title=\"Positive definiteness of covariance matrix\">PosDef</td>\n",
       "                <td align=\"center\" title=\"Was covariance matrix made posdef by adding diagonal element\">Made PosDef</td>\n",
       "            </tr>\n",
       "            <tr>\n",
       "                <td align=\"center\" style=\"background-color:#92CCA6\">True</td>\n",
       "                <td align=\"center\" style=\"background-color:#92CCA6\">True</td>\n",
       "                <td align=\"center\" style=\"background-color:#92CCA6\">True</td>\n",
       "                <td align=\"center\" style=\"background-color:#92CCA6\">True</td>\n",
       "                <td align=\"center\" style=\"background-color:#92CCA6\">False</td>\n",
       "            </tr>\n",
       "            <tr>\n",
       "                <td align=\"center\" title=\"Was last hesse call fail?\">Hesse Fail</td>\n",
       "                <td align=\"center\" title=\"Validity of covariance\">HasCov</td>\n",
       "                <td align=\"center\" title=\"Is EDM above goal EDM?\">Above EDM</td>\n",
       "                <td align=\"center\"></td>\n",
       "                <td align=\"center\" title=\"Did last migrad call reach max call limit?\">Reach calllim</td>\n",
       "            </tr>\n",
       "            <tr>\n",
       "                <td align=\"center\" style=\"background-color:#92CCA6\">False</td>\n",
       "                <td align=\"center\" style=\"background-color:#92CCA6\">True</td>\n",
       "                <td align=\"center\" style=\"background-color:#92CCA6\">False</td>\n",
       "                <td align=\"center\"></td>\n",
       "                <td align=\"center\" style=\"background-color:#92CCA6\">False</td>\n",
       "            </tr>\n",
       "        </table>\n",
       "        "
      ]
     },
     "metadata": {},
     "output_type": "display_data"
    },
    {
     "data": {
      "text/html": [
       "\n",
       "        <table>\n",
       "            <tr>\n",
       "                <td><a href=\"#\" onclick=\"$('#gcfduphoPl').toggle()\">+</a></td>\n",
       "                <td title=\"Variable name\">Name</td>\n",
       "                <td title=\"Value of parameter\">Value</td>\n",
       "                <td title=\"Parabolic error\">Parab Error</td>\n",
       "                <td title=\"Minos lower error\">Minos Error-</td>\n",
       "                <td title=\"Minos upper error\">Minos Error+</td>\n",
       "                <td title=\"Lower limit of the parameter\">Limit-</td>\n",
       "                <td title=\"Upper limit of the parameter\">Limit+</td>\n",
       "                <td title=\"Is the parameter fixed in the fit\">FIXED</td>\n",
       "            </tr>\n",
       "        \n",
       "            <tr>\n",
       "                <td>1</td>\n",
       "                <td>SigXSecOverSM</td>\n",
       "                <td>0.937867</td>\n",
       "                <td>0.0639375</td>\n",
       "                <td>0</td>\n",
       "                <td>0</td>\n",
       "                <td>0.0</td>\n",
       "                <td>2.0</td>\n",
       "                <td></td>\n",
       "            </tr>\n",
       "            \n",
       "            </table>\n",
       "        \n",
       "            <pre id=\"gcfduphoPl\" style=\"display:none;\">\n",
       "            <textarea rows=\"8\" cols=\"50\" onclick=\"this.select()\" readonly>\\begin{tabular}{|c|r|r|r|r|r|r|r|c|}\n",
       "\\hline\n",
       " & Name & Value & Para Error & Error+ & Error- & Limit+ & Limit- & FIXED\\\\\n",
       "\\hline\n",
       "1 & SigXSecOverSM & 9.379e-01 & 6.394e-02 &  &  & 0.000e+00 & 2.000e+00 & \\\\\n",
       "\\hline\n",
       "\\end{tabular}</textarea>\n",
       "            </pre>\n",
       "            "
      ]
     },
     "metadata": {},
     "output_type": "display_data"
    },
    {
     "data": {
      "text/html": [
       "<hr>"
      ]
     },
     "metadata": {},
     "output_type": "display_data"
    },
    {
     "data": {
      "text/html": [
       "\n",
       "        <span>Minos status for SigXSecOverSM: <span style=\"background-color:#92CCA6\">VALID</span></span>\n",
       "        <table>\n",
       "            <tr>\n",
       "                <td title=\"lower and upper minos error of the parameter\">Error</td>\n",
       "                <td>-0.0633669045931</td>\n",
       "                <td>0.0645928692098</td>\n",
       "            </tr>\n",
       "            <tr>\n",
       "                <td title=\"Validity of minos error\">Valid</td>\n",
       "                <td style=\"background-color:#92CCA6\">True</td>\n",
       "                <td style=\"background-color:#92CCA6\">True</td>\n",
       "            </tr>\n",
       "            <tr>\n",
       "                <td title=\"Did minos error search hit limit of any paramter?\">At Limit</td>\n",
       "                <td style=\"background-color:#92CCA6\">False</td>\n",
       "                <td style=\"background-color:#92CCA6\">False</td>\n",
       "            </tr>\n",
       "            <tr>\n",
       "                <td title=\"I don't really know what this one means... Post it in issue if you know\">Max FCN</td>\n",
       "                <td style=\"background-color:#92CCA6\">False</td>\n",
       "                <td style=\"background-color:#92CCA6\">False</td>\n",
       "            </tr>\n",
       "            <tr>\n",
       "                <td title=\"New minimum found when doing minos scan.\">New Min</td>\n",
       "                <td style=\"background-color:#92CCA6\">False</td>\n",
       "                <td style=\"background-color:#92CCA6\">False</td>\n",
       "            </tr>\n",
       "        </table>\n",
       "        "
      ]
     },
     "metadata": {},
     "output_type": "display_data"
    },
    {
     "name": "stdout",
     "output_type": "stream",
     "text": [
      "migrad gives SigXSecOverSM as value 0.937867304617\n"
     ]
    }
   ],
   "source": [
    "minimiser = Minuit(blh, SigXSecOverSM=1.0, limit_SigXSecOverSM  =(0,  2),\n",
    "                   error_SigXSecOverSM=0.1, errordef=1)\n",
    "minimiser.migrad()\n",
    "minimiser.minos()\n",
    "print 'migrad gives SigXSecOverSM as value', minimiser.values['SigXSecOverSM']"
   ]
  },
  {
   "cell_type": "code",
   "execution_count": 13,
   "metadata": {},
   "outputs": [
    {
     "data": {
      "text/plain": [
       "<matplotlib.lines.Line2D at 0x115bafa10>"
      ]
     },
     "execution_count": 13,
     "metadata": {},
     "output_type": "execute_result"
    },
    {
     "data": {
      "image/png": "[encoded data removed]",
      "text/plain": [
       "<matplotlib.figure.Figure at 0x115abd4d0>"
      ]
     },
     "metadata": {},
     "output_type": "display_data"
    }
   ],
   "source": [
    "fig, ax = plt.subplots(1,3,figsize=(13,4))\n",
    "t = np.linspace(-3,3, 100)\n",
    "ax[0].plot(t, [blh(i) for i in t])\n",
    "ax[0].axvline(minimiser.values['SigXSecOverSM'], ls='--')"
   ]
  },
  {
   "cell_type": "code",
   "execution_count": 14,
   "metadata": {},
   "outputs": [
    {
     "data": {
      "image/png": "[encoded data removed]",
      "text/plain": [
       "<matplotlib.figure.Figure at 0x115874a90>"
      ]
     },
     "metadata": {},
     "output_type": "display_data"
    }
   ],
   "source": [
    "plot_model(m, 1.0, fitted_mu=minimiser.values['SigXSecOverSM'])"
   ]
  },
  {
   "cell_type": "code",
   "execution_count": null,
   "metadata": {},
   "outputs": [],
   "source": []
  }
 ],
 "metadata": {
  "kernelspec": {
   "display_name": "Python 2",
   "language": "python",
   "name": "python2"
  },
  "language_info": {
   "codemirror_mode": {
    "name": "ipython",
    "version": 2
   },
   "file_extension": ".py",
   "mimetype": "text/x-python",
   "name": "python",
   "nbconvert_exporter": "python",
   "pygments_lexer": "ipython2",
   "version": "2.7.14"
  }
 },
 "nbformat": 4,
 "nbformat_minor": 2
}
