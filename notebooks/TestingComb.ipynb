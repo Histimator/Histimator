{
 "cells": [
  {
   "cell_type": "code",
   "execution_count": 1,
   "metadata": {},
   "outputs": [],
   "source": [
    "from histimator.models import HistiModel, HistiChannel, HistiSample\n",
    "from histimator.estimator import BinnedLH"
   ]
  },
  {
   "cell_type": "code",
   "execution_count": 2,
   "metadata": {},
   "outputs": [],
   "source": [
    "from iminuit import Minuit, describe\n",
    "import numpy as np\n",
    "%matplotlib inline"
   ]
  },
  {
   "cell_type": "markdown",
   "metadata": {},
   "source": [
    "## Testing multiple Regions"
   ]
  },
  {
   "cell_type": "code",
   "execution_count": 3,
   "metadata": {},
   "outputs": [],
   "source": [
    "hist_1 = np.asarray([1,2,3,4])\n",
    "hist_2 = np.asarray([5,5,5,5])\n",
    "hist_3 = np.asarray([3,4,5,4])\n",
    "bins_1 = np.asarray([0,1,2,3,4])\n",
    "bins_2 = np.asarray([0,1,2])\n",
    "bins_3 = np.asarray([0,1,2,3,4,5,6,7,8])"
   ]
  },
  {
   "cell_type": "code",
   "execution_count": 4,
   "metadata": {},
   "outputs": [],
   "source": [
    "m = HistiModel('model')\n",
    "signal_1 = HistiSample('signal')\n",
    "signal_1.SetHisto((hist_1,bins_1))\n",
    "signal_1.AddNorm(\"SigXSecOverSM\",1.0,0,3)\n",
    "background_1 = HistiSample('background1')\n",
    "background_1.SetHisto((hist_2,bins_1))\n",
    "background_1.AddOverallSys(\"BackgroundNormSyst1\",0.9,1.1)\n",
    "background_2 = HistiSample('background1')\n",
    "background_2.SetHisto((hist_3,bins_1))\n",
    "background_2.AddOverallSys(\"BackgroundNormSyst2\",0.7,1.3)"
   ]
  },
  {
   "cell_type": "code",
   "execution_count": 5,
   "metadata": {},
   "outputs": [],
   "source": [
    "chan1 = HistiChannel(\"SR\")\n",
    "chan1.AddSample(signal_1)\n",
    "chan1.AddSample(background_1)\n",
    "chan1.AddSample(background_2)"
   ]
  },
  {
   "cell_type": "code",
   "execution_count": 6,
   "metadata": {},
   "outputs": [],
   "source": [
    "data1 = hist_1*2 +hist_2 +hist_3\n",
    "\n",
    "chan1.SetData(data1)\n",
    "m.AddChannel(chan1)"
   ]
  },
  {
   "cell_type": "code",
   "execution_count": 7,
   "metadata": {},
   "outputs": [
    {
     "name": "stderr",
     "output_type": "stream",
     "text": [
      "/Users/vince/tensorflow/lib/python2.7/site-packages/ipykernel_launcher.py:3: InitialParamWarning: Parameter SigXSecOverSM is floating but does not have initial step size. Assume 1.\n",
      "  This is separate from the ipykernel package so we can avoid doing imports until\n",
      "/Users/vince/tensorflow/lib/python2.7/site-packages/ipykernel_launcher.py:3: InitialParamWarning: Parameter BackgroundNormSyst1 is floating but does not have initial step size. Assume 1.\n",
      "  This is separate from the ipykernel package so we can avoid doing imports until\n",
      "/Users/vince/tensorflow/lib/python2.7/site-packages/ipykernel_launcher.py:3: InitialParamWarning: Parameter BackgroundNormSyst2 is floating but does not have initial step size. Assume 1.\n",
      "  This is separate from the ipykernel package so we can avoid doing imports until\n"
     ]
    },
    {
     "data": {
      "text/html": [
       "<hr>"
      ]
     },
     "metadata": {},
     "output_type": "display_data"
    },
    {
     "data": {
      "text/html": [
       "\n",
       "        <table>\n",
       "            <tr>\n",
       "                <td title=\"Minimum value of function\">FCN = 7.93732484433</td>\n",
       "                <td title=\"Total number of call to FCN so far\">TOTAL NCALL = 95</td>\n",
       "                <td title=\"Number of call in last migrad\">NCALLS = 95</td>\n",
       "            </tr>\n",
       "            <tr>\n",
       "                <td title=\"Estimated distance to minimum\">EDM = 5.3386702711e-05</td>\n",
       "                <td title=\"Maximum EDM definition of convergence\">GOAL EDM = 1e-05</td>\n",
       "                <td title=\"Error def. Amount of increase in FCN to be defined as 1 standard deviation\">\n",
       "                UP = 1.0</td>\n",
       "            </tr>\n",
       "        </table>\n",
       "        \n",
       "        <table>\n",
       "            <tr>\n",
       "                <td align=\"center\" title=\"Validity of the migrad call\">Valid</td>\n",
       "                <td align=\"center\" title=\"Validity of parameters\">Valid Param</td>\n",
       "                <td align=\"center\" title=\"Is Covariance matrix accurate?\">Accurate Covar</td>\n",
       "                <td align=\"center\" title=\"Positive definiteness of covariance matrix\">PosDef</td>\n",
       "                <td align=\"center\" title=\"Was covariance matrix made posdef by adding diagonal element\">Made PosDef</td>\n",
       "            </tr>\n",
       "            <tr>\n",
       "                <td align=\"center\" style=\"background-color:#92CCA6\">True</td>\n",
       "                <td align=\"center\" style=\"background-color:#92CCA6\">True</td>\n",
       "                <td align=\"center\" style=\"background-color:#92CCA6\">True</td>\n",
       "                <td align=\"center\" style=\"background-color:#92CCA6\">True</td>\n",
       "                <td align=\"center\" style=\"background-color:#92CCA6\">False</td>\n",
       "            </tr>\n",
       "            <tr>\n",
       "                <td align=\"center\" title=\"Was last hesse call fail?\">Hesse Fail</td>\n",
       "                <td align=\"center\" title=\"Validity of covariance\">HasCov</td>\n",
       "                <td align=\"center\" title=\"Is EDM above goal EDM?\">Above EDM</td>\n",
       "                <td align=\"center\"></td>\n",
       "                <td align=\"center\" title=\"Did last migrad call reach max call limit?\">Reach calllim</td>\n",
       "            </tr>\n",
       "            <tr>\n",
       "                <td align=\"center\" style=\"background-color:#92CCA6\">False</td>\n",
       "                <td align=\"center\" style=\"background-color:#92CCA6\">True</td>\n",
       "                <td align=\"center\" style=\"background-color:#92CCA6\">False</td>\n",
       "                <td align=\"center\"></td>\n",
       "                <td align=\"center\" style=\"background-color:#92CCA6\">False</td>\n",
       "            </tr>\n",
       "        </table>\n",
       "        "
      ]
     },
     "metadata": {},
     "output_type": "display_data"
    },
    {
     "data": {
      "text/html": [
       "\n",
       "        <table>\n",
       "            <tr>\n",
       "                <td><a href=\"#\" onclick=\"$('#NpDItFgXry').toggle()\">+</a></td>\n",
       "                <td title=\"Variable name\">Name</td>\n",
       "                <td title=\"Value of parameter\">Value</td>\n",
       "                <td title=\"Parabolic error\">Parab Error</td>\n",
       "                <td title=\"Minos lower error\">Minos Error-</td>\n",
       "                <td title=\"Minos upper error\">Minos Error+</td>\n",
       "                <td title=\"Lower limit of the parameter\">Limit-</td>\n",
       "                <td title=\"Upper limit of the parameter\">Limit+</td>\n",
       "                <td title=\"Is the parameter fixed in the fit\">FIXED</td>\n",
       "            </tr>\n",
       "        \n",
       "            <tr>\n",
       "                <td>1</td>\n",
       "                <td>SigXSecOverSM</td>\n",
       "                <td>2.00311</td>\n",
       "                <td>2.47188</td>\n",
       "                <td>0</td>\n",
       "                <td>0</td>\n",
       "                <td>0.0</td>\n",
       "                <td>3.0</td>\n",
       "                <td></td>\n",
       "            </tr>\n",
       "            \n",
       "            <tr>\n",
       "                <td>2</td>\n",
       "                <td>BackgroundNormSyst1</td>\n",
       "                <td>-0.0359671</td>\n",
       "                <td>7.30277</td>\n",
       "                <td>0</td>\n",
       "                <td>0</td>\n",
       "                <td>-5.0</td>\n",
       "                <td>5.0</td>\n",
       "                <td></td>\n",
       "            </tr>\n",
       "            \n",
       "            <tr>\n",
       "                <td>3</td>\n",
       "                <td>BackgroundNormSyst2</td>\n",
       "                <td>0.0284018</td>\n",
       "                <td>5.36047</td>\n",
       "                <td>0</td>\n",
       "                <td>0</td>\n",
       "                <td>-5.0</td>\n",
       "                <td>5.0</td>\n",
       "                <td></td>\n",
       "            </tr>\n",
       "            \n",
       "            </table>\n",
       "        \n",
       "            <pre id=\"NpDItFgXry\" style=\"display:none;\">\n",
       "            <textarea rows=\"12\" cols=\"50\" onclick=\"this.select()\" readonly>\\begin{tabular}{|c|r|r|r|r|r|r|r|c|}\n",
       "\\hline\n",
       " & Name & Value & Para Error & Error+ & Error- & Limit+ & Limit- & FIXED\\\\\n",
       "\\hline\n",
       "1 & SigXSecOverSM & 2.003e+00 & 2.472e+00 &  &  & 0.000e+00 & 3.000e+00 & \\\\\n",
       "\\hline\n",
       "2 & BackgroundNormSyst1 & -3.597e-02 & 7.303e+00 &  &  & -5.000e+00 & 5.000e+00 & \\\\\n",
       "\\hline\n",
       "3 & BackgroundNormSyst2 & 2.840e-02 & 5.360e+00 &  &  & -5.000e+00 & 5.000e+00 & \\\\\n",
       "\\hline\n",
       "\\end{tabular}</textarea>\n",
       "            </pre>\n",
       "            "
      ]
     },
     "metadata": {},
     "output_type": "display_data"
    },
    {
     "data": {
      "text/html": [
       "<hr>"
      ]
     },
     "metadata": {},
     "output_type": "display_data"
    },
    {
     "data": {
      "text/plain": [
       "({'hesse_failed': False, 'has_reached_call_limit': False, 'has_accurate_covar': True, 'has_posdef_covar': True, 'up': 1.0, 'edm': 5.3386702710972494e-05, 'is_valid': True, 'is_above_max_edm': False, 'has_covariance': True, 'has_made_posdef_covar': False, 'has_valid_parameters': True, 'fval': 7.937324844327186, 'nfcn': 95},\n",
       " [{'is_const': False, 'name': 'SigXSecOverSM', 'has_limits': True, 'value': 2.0031054164849587, 'number': 0, 'has_lower_limit': True, 'upper_limit': 3.0, 'lower_limit': 0.0, 'has_upper_limit': True, 'error': 2.471884506157002, 'is_fixed': False},\n",
       "  {'is_const': False, 'name': 'BackgroundNormSyst1', 'has_limits': True, 'value': -0.0359671296626729, 'number': 1, 'has_lower_limit': True, 'upper_limit': 5.0, 'lower_limit': -5.0, 'has_upper_limit': True, 'error': 7.302770702665556, 'is_fixed': False},\n",
       "  {'is_const': False, 'name': 'BackgroundNormSyst2', 'has_limits': True, 'value': 0.028401822425260903, 'number': 2, 'has_lower_limit': True, 'upper_limit': 5.0, 'lower_limit': -5.0, 'has_upper_limit': True, 'error': 5.360471121750296, 'is_fixed': False}])"
      ]
     },
     "execution_count": 7,
     "metadata": {},
     "output_type": "execute_result"
    }
   ],
   "source": [
    "blh = BinnedLH(m)\n",
    "params = m.Parameters()\n",
    "minimiser = Minuit(blh, **params)\n",
    "minimiser.migrad()"
   ]
  },
  {
   "cell_type": "code",
   "execution_count": 8,
   "metadata": {},
   "outputs": [
    {
     "name": "stderr",
     "output_type": "stream",
     "text": [
      "/Library/Frameworks/Python.framework/Versions/2.7/lib/python2.7/site-packages/iminuit/_plotting.py:51: RuntimeWarning: band and text is requested but the bound is too narrow.\n",
      "  warnings.warn(RuntimeWarning('band and text is requested but'\n"
     ]
    },
    {
     "data": {
      "text/plain": [
       "(array([-2.9406636 , -2.84078947, -2.74091535, -2.64104123, -2.54116711,\n",
       "        -2.44129299, -2.34141887, -2.24154475, -2.14167062, -2.0417965 ,\n",
       "        -1.94192238, -1.84204826, -1.74217414, -1.64230002, -1.5424259 ,\n",
       "        -1.44255177, -1.34267765, -1.24280353, -1.14292941, -1.04305529,\n",
       "        -0.94318117, -0.84330705, -0.74343292, -0.6435588 , -0.54368468,\n",
       "        -0.44381056, -0.34393644, -0.24406232, -0.14418819, -0.04431407,\n",
       "         0.05556005,  0.15543417,  0.25530829,  0.35518241,  0.45505653,\n",
       "         0.55493066,  0.65480478,  0.7546789 ,  0.85455302,  0.95442714,\n",
       "         1.05430126,  1.15417538,  1.25404951,  1.35392363,  1.45379775,\n",
       "         1.55367187,  1.65354599,  1.75342011,  1.85329423,  1.95316836,\n",
       "         2.05304248,  2.1529166 ,  2.25279072,  2.35266484,  2.45253896,\n",
       "         2.55241308,  2.65228721,  2.75216133,  2.85203545,  2.95190957,\n",
       "         3.05178369,  3.15165781,  3.25153193,  3.35140606,  3.45128018,\n",
       "         3.5511543 ,  3.65102842,  3.75090254,  3.85077666,  3.95065078,\n",
       "         4.05052491,  4.15039903,  4.25027315,  4.35014727,  4.45002139,\n",
       "         4.54989551,  4.64976964,  4.74964376,  4.84951788,  4.949392  ,\n",
       "         5.04926612,  5.14914024,  5.24901436,  5.34888849,  5.44876261,\n",
       "         5.54863673,  5.64851085,  5.74838497,  5.84825909,  5.94813321,\n",
       "         6.04800734,  6.14788146,  6.24775558,  6.3476297 ,  6.44750382,\n",
       "         6.54737794,  6.64725206,  6.74712619,  6.84700031,  6.94687443]),\n",
       " array([          nan,           nan,           nan,           nan,\n",
       "                  nan,           nan,           nan,  111.02696068,\n",
       "          70.90608429,   59.01297407,   51.55349662,   46.05090473,\n",
       "          41.67682364,   38.04820294,   34.95462195,   32.26714854,\n",
       "          29.90054627,   27.79522093,   25.90767704,   24.20507155,\n",
       "          22.66191303,   21.25796163,   19.97683835,   18.8050725 ,\n",
       "          17.73143026,   16.74642967,   15.84198246,   15.01112467,\n",
       "          14.24781058,   13.54675268,   12.90329568,   12.31331627,\n",
       "          11.77314234,   11.27948726,   10.82939603,   10.42020063,\n",
       "          10.04948288,    9.71504316,    9.41487404,    9.14713786,\n",
       "           8.91014748,    8.70234983,    8.52231164,    8.36870704,\n",
       "           8.24030685,    8.13596908,    8.05463068,    7.99530019,\n",
       "           7.95705134,    7.93901726,    7.9403854 ,    7.96039294,\n",
       "           7.99832276,    8.05349972,    8.1252874 ,    8.2130851 ,\n",
       "           8.31632518,    8.4344706 ,    8.56701272,    8.71346926,\n",
       "           8.87338254,    9.0463177 ,    9.23186126,    9.42961966,\n",
       "           9.639218  ,    9.86029884,   10.09252112,   10.33555915,\n",
       "          10.58910168,   10.85285104,   11.12652237,   11.40984284,\n",
       "          11.70255101,   12.00439615,   12.3151377 ,   12.6345447 ,\n",
       "          12.96239524,   13.29847604,   13.64258198,   13.99451566,\n",
       "          14.35408706,   14.7211131 ,   15.09541737,   15.47682978,\n",
       "          15.86518623,   16.26032836,   16.66210328,   17.07036331,\n",
       "          17.48496571,   17.90577254,   18.33265034,   18.76547004,\n",
       "          19.20410667,   19.64843927,   20.09835066,   20.5537273 ,\n",
       "          21.01445914,   21.48043949,   21.95156486,   22.42773484]))"
      ]
     },
     "execution_count": 8,
     "metadata": {},
     "output_type": "execute_result"
    },
    {
     "data": {
      "image/png": "[encoded data removed]",
      "text/plain": [
       "<matplotlib.figure.Figure at 0x10a6ef8d0>"
      ]
     },
     "metadata": {},
     "output_type": "display_data"
    }
   ],
   "source": [
    "minimiser.draw_profile('SigXSecOverSM')"
   ]
  },
  {
   "cell_type": "code",
   "execution_count": 9,
   "metadata": {},
   "outputs": [],
   "source": [
    "signal_1 = HistiSample('signal')\n",
    "signal_1.SetHisto((hist_1[:2],bins_2))\n",
    "signal_1.AddNorm(\"SigXSecOverSM\",1.0,0,3)\n",
    "background_1 = HistiSample('background1')\n",
    "background_1.SetHisto((hist_2[:2],bins_2))\n",
    "background_1.AddOverallSys(\"BackgroundNormSyst1\",0.9,1.1)\n",
    "background_2 = HistiSample('background1')\n",
    "background_2.SetHisto((hist_3[:2],bins_2))\n",
    "background_2.AddOverallSys(\"BackgroundNormSyst3\",0.7,1.3)"
   ]
  },
  {
   "cell_type": "code",
   "execution_count": 10,
   "metadata": {},
   "outputs": [],
   "source": [
    "chan2 = HistiChannel(\"CR1\")\n",
    "chan2.AddSample(signal_1)\n",
    "chan2.AddSample(background_1)\n",
    "chan2.AddSample(background_2)"
   ]
  },
  {
   "cell_type": "code",
   "execution_count": 11,
   "metadata": {},
   "outputs": [],
   "source": [
    "data2 = hist_1[:2]*2 +hist_2[:2] +hist_3[:2]\n",
    "\n",
    "chan2.SetData(data2)\n",
    "m.AddChannel(chan2)"
   ]
  },
  {
   "cell_type": "code",
   "execution_count": 12,
   "metadata": {},
   "outputs": [
    {
     "name": "stderr",
     "output_type": "stream",
     "text": [
      "/Users/vince/tensorflow/lib/python2.7/site-packages/ipykernel_launcher.py:3: InitialParamWarning: Parameter SigXSecOverSM is floating but does not have initial step size. Assume 1.\n",
      "  This is separate from the ipykernel package so we can avoid doing imports until\n",
      "/Users/vince/tensorflow/lib/python2.7/site-packages/ipykernel_launcher.py:3: InitialParamWarning: Parameter BackgroundNormSyst1 is floating but does not have initial step size. Assume 1.\n",
      "  This is separate from the ipykernel package so we can avoid doing imports until\n",
      "/Users/vince/tensorflow/lib/python2.7/site-packages/ipykernel_launcher.py:3: InitialParamWarning: Parameter BackgroundNormSyst2 is floating but does not have initial step size. Assume 1.\n",
      "  This is separate from the ipykernel package so we can avoid doing imports until\n",
      "/Users/vince/tensorflow/lib/python2.7/site-packages/ipykernel_launcher.py:3: InitialParamWarning: Parameter BackgroundNormSyst3 is floating but does not have initial step size. Assume 1.\n",
      "  This is separate from the ipykernel package so we can avoid doing imports until\n"
     ]
    }
   ],
   "source": [
    "blh = BinnedLH(m)\n",
    "params = m.Parameters()\n",
    "minimiser = Minuit(blh, **params)"
   ]
  },
  {
   "cell_type": "code",
   "execution_count": 13,
   "metadata": {},
   "outputs": [
    {
     "data": {
      "text/html": [
       "<hr>"
      ]
     },
     "metadata": {},
     "output_type": "display_data"
    },
    {
     "data": {
      "text/html": [
       "\n",
       "        <table>\n",
       "            <tr>\n",
       "                <td title=\"Minimum value of function\">FCN = 12.2252181681</td>\n",
       "                <td title=\"Total number of call to FCN so far\">TOTAL NCALL = 57</td>\n",
       "                <td title=\"Number of call in last migrad\">NCALLS = 57</td>\n",
       "            </tr>\n",
       "            <tr>\n",
       "                <td title=\"Estimated distance to minimum\">EDM = 2.9149004473e-05</td>\n",
       "                <td title=\"Maximum EDM definition of convergence\">GOAL EDM = 1e-05</td>\n",
       "                <td title=\"Error def. Amount of increase in FCN to be defined as 1 standard deviation\">\n",
       "                UP = 1.0</td>\n",
       "            </tr>\n",
       "        </table>\n",
       "        \n",
       "        <table>\n",
       "            <tr>\n",
       "                <td align=\"center\" title=\"Validity of the migrad call\">Valid</td>\n",
       "                <td align=\"center\" title=\"Validity of parameters\">Valid Param</td>\n",
       "                <td align=\"center\" title=\"Is Covariance matrix accurate?\">Accurate Covar</td>\n",
       "                <td align=\"center\" title=\"Positive definiteness of covariance matrix\">PosDef</td>\n",
       "                <td align=\"center\" title=\"Was covariance matrix made posdef by adding diagonal element\">Made PosDef</td>\n",
       "            </tr>\n",
       "            <tr>\n",
       "                <td align=\"center\" style=\"background-color:#FF7878\">False</td>\n",
       "                <td align=\"center\" style=\"background-color:#92CCA6\">True</td>\n",
       "                <td align=\"center\" style=\"background-color:#FF7878\">False</td>\n",
       "                <td align=\"center\" style=\"background-color:#FF7878\">False</td>\n",
       "                <td align=\"center\" style=\"background-color:#92CCA6\">False</td>\n",
       "            </tr>\n",
       "            <tr>\n",
       "                <td align=\"center\" title=\"Was last hesse call fail?\">Hesse Fail</td>\n",
       "                <td align=\"center\" title=\"Validity of covariance\">HasCov</td>\n",
       "                <td align=\"center\" title=\"Is EDM above goal EDM?\">Above EDM</td>\n",
       "                <td align=\"center\"></td>\n",
       "                <td align=\"center\" title=\"Did last migrad call reach max call limit?\">Reach calllim</td>\n",
       "            </tr>\n",
       "            <tr>\n",
       "                <td align=\"center\" style=\"background-color:#FF7878\">True</td>\n",
       "                <td align=\"center\" style=\"background-color:#92CCA6\">True</td>\n",
       "                <td align=\"center\" style=\"background-color:#92CCA6\">False</td>\n",
       "                <td align=\"center\"></td>\n",
       "                <td align=\"center\" style=\"background-color:#92CCA6\">False</td>\n",
       "            </tr>\n",
       "        </table>\n",
       "        "
      ]
     },
     "metadata": {},
     "output_type": "display_data"
    },
    {
     "data": {
      "text/html": [
       "\n",
       "        <table>\n",
       "            <tr>\n",
       "                <td><a href=\"#\" onclick=\"$('#eqcopPbKzh').toggle()\">+</a></td>\n",
       "                <td title=\"Variable name\">Name</td>\n",
       "                <td title=\"Value of parameter\">Value</td>\n",
       "                <td title=\"Parabolic error\">Parab Error</td>\n",
       "                <td title=\"Minos lower error\">Minos Error-</td>\n",
       "                <td title=\"Minos upper error\">Minos Error+</td>\n",
       "                <td title=\"Lower limit of the parameter\">Limit-</td>\n",
       "                <td title=\"Upper limit of the parameter\">Limit+</td>\n",
       "                <td title=\"Is the parameter fixed in the fit\">FIXED</td>\n",
       "            </tr>\n",
       "        \n",
       "            <tr>\n",
       "                <td>1</td>\n",
       "                <td>SigXSecOverSM</td>\n",
       "                <td>1.90589</td>\n",
       "                <td>0.864388</td>\n",
       "                <td>0</td>\n",
       "                <td>0</td>\n",
       "                <td>0.0</td>\n",
       "                <td>3.0</td>\n",
       "                <td></td>\n",
       "            </tr>\n",
       "            \n",
       "            <tr>\n",
       "                <td>2</td>\n",
       "                <td>BackgroundNormSyst1</td>\n",
       "                <td>-1.02167</td>\n",
       "                <td>3.79325</td>\n",
       "                <td>0</td>\n",
       "                <td>0</td>\n",
       "                <td>-5.0</td>\n",
       "                <td>5.0</td>\n",
       "                <td></td>\n",
       "            </tr>\n",
       "            \n",
       "            <tr>\n",
       "                <td>3</td>\n",
       "                <td>BackgroundNormSyst2</td>\n",
       "                <td>0.642053</td>\n",
       "                <td>1.7158</td>\n",
       "                <td>0</td>\n",
       "                <td>0</td>\n",
       "                <td>-5.0</td>\n",
       "                <td>5.0</td>\n",
       "                <td></td>\n",
       "            </tr>\n",
       "            \n",
       "            <tr>\n",
       "                <td>4</td>\n",
       "                <td>BackgroundNormSyst3</td>\n",
       "                <td>0.6</td>\n",
       "                <td>7.70479</td>\n",
       "                <td>0</td>\n",
       "                <td>0</td>\n",
       "                <td>-5.0</td>\n",
       "                <td>5.0</td>\n",
       "                <td></td>\n",
       "            </tr>\n",
       "            \n",
       "            </table>\n",
       "        \n",
       "            <pre id=\"eqcopPbKzh\" style=\"display:none;\">\n",
       "            <textarea rows=\"14\" cols=\"50\" onclick=\"this.select()\" readonly>\\begin{tabular}{|c|r|r|r|r|r|r|r|c|}\n",
       "\\hline\n",
       " & Name & Value & Para Error & Error+ & Error- & Limit+ & Limit- & FIXED\\\\\n",
       "\\hline\n",
       "1 & SigXSecOverSM & 1.906e+00 & 8.644e-01 &  &  & 0.000e+00 & 3.000e+00 & \\\\\n",
       "\\hline\n",
       "2 & BackgroundNormSyst1 & -1.022e+00 & 3.793e+00 &  &  & -5.000e+00 & 5.000e+00 & \\\\\n",
       "\\hline\n",
       "3 & BackgroundNormSyst2 & 6.421e-01 & 1.716e+00 &  &  & -5.000e+00 & 5.000e+00 & \\\\\n",
       "\\hline\n",
       "4 & BackgroundNormSyst3 & 6.000e-01 & 7.705e+00 &  &  & -5.000e+00 & 5.000e+00 & \\\\\n",
       "\\hline\n",
       "\\end{tabular}</textarea>\n",
       "            </pre>\n",
       "            "
      ]
     },
     "metadata": {},
     "output_type": "display_data"
    },
    {
     "data": {
      "text/html": [
       "<hr>"
      ]
     },
     "metadata": {},
     "output_type": "display_data"
    },
    {
     "data": {
      "text/plain": [
       "({'hesse_failed': True, 'has_reached_call_limit': False, 'has_accurate_covar': False, 'has_posdef_covar': False, 'up': 1.0, 'edm': 2.9149004472952785e-05, 'is_valid': False, 'is_above_max_edm': False, 'has_covariance': True, 'has_made_posdef_covar': False, 'has_valid_parameters': True, 'fval': 12.225218168082748, 'nfcn': 57},\n",
       " [{'is_const': False, 'name': 'SigXSecOverSM', 'has_limits': True, 'value': 1.9058943451288708, 'number': 0, 'has_lower_limit': True, 'upper_limit': 3.0, 'lower_limit': 0.0, 'has_upper_limit': True, 'error': 0.8643877292555302, 'is_fixed': False},\n",
       "  {'is_const': False, 'name': 'BackgroundNormSyst1', 'has_limits': True, 'value': -1.0216721581667345, 'number': 1, 'has_lower_limit': True, 'upper_limit': 5.0, 'lower_limit': -5.0, 'has_upper_limit': True, 'error': 3.793253034677338, 'is_fixed': False},\n",
       "  {'is_const': False, 'name': 'BackgroundNormSyst2', 'has_limits': True, 'value': 0.6420534227412267, 'number': 2, 'has_lower_limit': True, 'upper_limit': 5.0, 'lower_limit': -5.0, 'has_upper_limit': True, 'error': 1.715796403145842, 'is_fixed': False},\n",
       "  {'is_const': False, 'name': 'BackgroundNormSyst3', 'has_limits': True, 'value': 0.5999999999999996, 'number': 3, 'has_lower_limit': True, 'upper_limit': 5.0, 'lower_limit': -5.0, 'has_upper_limit': True, 'error': 7.704787497249043, 'is_fixed': False}])"
      ]
     },
     "execution_count": 13,
     "metadata": {},
     "output_type": "execute_result"
    }
   ],
   "source": [
    "minimiser.migrad()"
   ]
  },
  {
   "cell_type": "code",
   "execution_count": 14,
   "metadata": {},
   "outputs": [
    {
     "data": {
      "text/plain": [
       "(array([ 0.17711889,  0.21204364,  0.2469684 ,  0.28189316,  0.31681791,\n",
       "         0.35174267,  0.38666743,  0.42159218,  0.45651694,  0.4914417 ,\n",
       "         0.52636645,  0.56129121,  0.59621597,  0.63114072,  0.66606548,\n",
       "         0.70099024,  0.73591499,  0.77083975,  0.80576451,  0.84068926,\n",
       "         0.87561402,  0.91053878,  0.94546353,  0.98038829,  1.01531305,\n",
       "         1.05023781,  1.08516256,  1.12008732,  1.15501208,  1.18993683,\n",
       "         1.22486159,  1.25978635,  1.2947111 ,  1.32963586,  1.36456062,\n",
       "         1.39948537,  1.43441013,  1.46933489,  1.50425964,  1.5391844 ,\n",
       "         1.57410916,  1.60903391,  1.64395867,  1.67888343,  1.71380818,\n",
       "         1.74873294,  1.7836577 ,  1.81858245,  1.85350721,  1.88843197,\n",
       "         1.92335672,  1.95828148,  1.99320624,  2.02813099,  2.06305575,\n",
       "         2.09798051,  2.13290526,  2.16783002,  2.20275478,  2.23767953,\n",
       "         2.27260429,  2.30752905,  2.3424538 ,  2.37737856,  2.41230332,\n",
       "         2.44722807,  2.48215283,  2.51707759,  2.55200234,  2.5869271 ,\n",
       "         2.62185186,  2.65677661,  2.69170137,  2.72662613,  2.76155089,\n",
       "         2.79647564,  2.8314004 ,  2.86632516,  2.90124991,  2.93617467,\n",
       "         2.97109943,  3.00602418,  3.04094894,  3.0758737 ,  3.11079845,\n",
       "         3.14572321,  3.18064797,  3.21557272,  3.25049748,  3.28542224,\n",
       "         3.32034699,  3.35527175,  3.39019651,  3.42512126,  3.46004602,\n",
       "         3.49497078,  3.52989553,  3.56482029,  3.59974505,  3.6346698 ]),\n",
       " array([ 16.77566142,  16.56596192,  16.36269473,  16.16572149,\n",
       "         15.97490858,  15.79012697,  15.61125195,  15.43816293,\n",
       "         15.27074328,  15.10888013,  14.9524642 ,  14.80138964,\n",
       "         14.6555539 ,  14.51485757,  14.37920425,  14.24850043,\n",
       "         14.12265535,  14.00158091,  13.88519156,  13.77340419,\n",
       "         13.66613803,  13.56331457,  13.46485746,  13.37069244,\n",
       "         13.28074726,  13.19495158,  13.11323695,  13.03553669,\n",
       "         12.96178584,  12.89192113,  12.82588086,  12.76360492,\n",
       "         12.70503467,  12.65011291,  12.59878385,  12.55099304,\n",
       "         12.50668733,  12.46581483,  12.42832489,  12.394168  ,\n",
       "         12.36329583,  12.33566113,  12.31121772,  12.28992048,\n",
       "         12.27172526,  12.25658891,  12.24446922,  12.23532489,\n",
       "         12.2291155 ,  12.22580152,  12.22534422,  12.22770571,\n",
       "         12.23284887,  12.24073737,  12.25133561,  12.26460869,\n",
       "         12.28052246,  12.29904343,  12.32013875,  12.34377627,\n",
       "         12.36992443,  12.39855229,  12.42962951,  12.46312632,\n",
       "         12.49901355,  12.53726253,  12.57784516,  12.62073385,\n",
       "         12.66590153,  12.71332161,  12.76296798,  12.81481503,\n",
       "         12.86883759,  12.92501093,  12.98331077,  13.04371327,\n",
       "         13.10619497,  13.17073285,  13.23730428,  13.305887  ,\n",
       "         13.37645915,  13.44899923,  13.5234861 ,  13.59989897,\n",
       "         13.67821741,  13.75842131,  13.84049089,  13.92440671,\n",
       "         14.01014963,  14.09770081,  14.18704173,  14.27815415,\n",
       "         14.37102013,  14.46562201,  14.56194238,  14.65996415,\n",
       "         14.75967044,  14.86104467,  14.96407049,  15.0687318 ]))"
      ]
     },
     "execution_count": 14,
     "metadata": {},
     "output_type": "execute_result"
    },
    {
     "data": {
      "image/png": "[encoded data removed]",
      "text/plain": [
       "<matplotlib.figure.Figure at 0x10a972210>"
      ]
     },
     "metadata": {},
     "output_type": "display_data"
    }
   ],
   "source": [
    "minimiser.draw_profile('SigXSecOverSM')"
   ]
  },
  {
   "cell_type": "code",
   "execution_count": 15,
   "metadata": {},
   "outputs": [],
   "source": [
    "signal_1 = HistiSample('signal')\n",
    "signal_1.SetHisto((np.hstack([hist_1,np.flip(hist_1,0)]),bins_3))\n",
    "signal_1.AddNorm(\"SigXSecOverSM\",1.0,0,3)\n",
    "background_1 = HistiSample('background1')\n",
    "background_1.SetHisto((np.hstack([hist_2,hist_2]),bins_3))\n",
    "background_1.AddOverallSys(\"BackgroundNormSyst1\",0.9,1.1)\n",
    "background_2 = HistiSample('background1')\n",
    "background_2.SetHisto((np.hstack([hist_3,hist_3]),bins_3))\n",
    "background_2.AddOverallSys(\"BackgroundNormSyst2\",0.7,1.3)"
   ]
  },
  {
   "cell_type": "code",
   "execution_count": 16,
   "metadata": {},
   "outputs": [],
   "source": [
    "chan3 = HistiChannel(\"CR2\")\n",
    "chan3.AddSample(signal_1)\n",
    "chan3.AddSample(background_1)\n",
    "chan3.AddSample(background_2)"
   ]
  },
  {
   "cell_type": "code",
   "execution_count": 17,
   "metadata": {},
   "outputs": [],
   "source": [
    "data3 = np.hstack([hist_1,np.flip(hist_1,0)])*2 + np.hstack([hist_2,hist_2]) + np.hstack([hist_3,hist_3])\n",
    "\n",
    "chan3.SetData(data3)\n",
    "m.AddChannel(chan3)"
   ]
  },
  {
   "cell_type": "code",
   "execution_count": 18,
   "metadata": {},
   "outputs": [
    {
     "name": "stderr",
     "output_type": "stream",
     "text": [
      "/Users/vince/tensorflow/lib/python2.7/site-packages/ipykernel_launcher.py:3: InitialParamWarning: Parameter SigXSecOverSM is floating but does not have initial step size. Assume 1.\n",
      "  This is separate from the ipykernel package so we can avoid doing imports until\n",
      "/Users/vince/tensorflow/lib/python2.7/site-packages/ipykernel_launcher.py:3: InitialParamWarning: Parameter BackgroundNormSyst1 is floating but does not have initial step size. Assume 1.\n",
      "  This is separate from the ipykernel package so we can avoid doing imports until\n",
      "/Users/vince/tensorflow/lib/python2.7/site-packages/ipykernel_launcher.py:3: InitialParamWarning: Parameter BackgroundNormSyst2 is floating but does not have initial step size. Assume 1.\n",
      "  This is separate from the ipykernel package so we can avoid doing imports until\n",
      "/Users/vince/tensorflow/lib/python2.7/site-packages/ipykernel_launcher.py:3: InitialParamWarning: Parameter BackgroundNormSyst3 is floating but does not have initial step size. Assume 1.\n",
      "  This is separate from the ipykernel package so we can avoid doing imports until\n"
     ]
    },
    {
     "data": {
      "text/html": [
       "<hr>"
      ]
     },
     "metadata": {},
     "output_type": "display_data"
    },
    {
     "data": {
      "text/html": [
       "\n",
       "        <table>\n",
       "            <tr>\n",
       "                <td title=\"Minimum value of function\">FCN = 30.1213944414</td>\n",
       "                <td title=\"Total number of call to FCN so far\">TOTAL NCALL = 67</td>\n",
       "                <td title=\"Number of call in last migrad\">NCALLS = 67</td>\n",
       "            </tr>\n",
       "            <tr>\n",
       "                <td title=\"Estimated distance to minimum\">EDM = 2.77343223326e-05</td>\n",
       "                <td title=\"Maximum EDM definition of convergence\">GOAL EDM = 1e-05</td>\n",
       "                <td title=\"Error def. Amount of increase in FCN to be defined as 1 standard deviation\">\n",
       "                UP = 1.0</td>\n",
       "            </tr>\n",
       "        </table>\n",
       "        \n",
       "        <table>\n",
       "            <tr>\n",
       "                <td align=\"center\" title=\"Validity of the migrad call\">Valid</td>\n",
       "                <td align=\"center\" title=\"Validity of parameters\">Valid Param</td>\n",
       "                <td align=\"center\" title=\"Is Covariance matrix accurate?\">Accurate Covar</td>\n",
       "                <td align=\"center\" title=\"Positive definiteness of covariance matrix\">PosDef</td>\n",
       "                <td align=\"center\" title=\"Was covariance matrix made posdef by adding diagonal element\">Made PosDef</td>\n",
       "            </tr>\n",
       "            <tr>\n",
       "                <td align=\"center\" style=\"background-color:#FF7878\">False</td>\n",
       "                <td align=\"center\" style=\"background-color:#92CCA6\">True</td>\n",
       "                <td align=\"center\" style=\"background-color:#FF7878\">False</td>\n",
       "                <td align=\"center\" style=\"background-color:#FF7878\">False</td>\n",
       "                <td align=\"center\" style=\"background-color:#92CCA6\">False</td>\n",
       "            </tr>\n",
       "            <tr>\n",
       "                <td align=\"center\" title=\"Was last hesse call fail?\">Hesse Fail</td>\n",
       "                <td align=\"center\" title=\"Validity of covariance\">HasCov</td>\n",
       "                <td align=\"center\" title=\"Is EDM above goal EDM?\">Above EDM</td>\n",
       "                <td align=\"center\"></td>\n",
       "                <td align=\"center\" title=\"Did last migrad call reach max call limit?\">Reach calllim</td>\n",
       "            </tr>\n",
       "            <tr>\n",
       "                <td align=\"center\" style=\"background-color:#FF7878\">True</td>\n",
       "                <td align=\"center\" style=\"background-color:#92CCA6\">True</td>\n",
       "                <td align=\"center\" style=\"background-color:#92CCA6\">False</td>\n",
       "                <td align=\"center\"></td>\n",
       "                <td align=\"center\" style=\"background-color:#92CCA6\">False</td>\n",
       "            </tr>\n",
       "        </table>\n",
       "        "
      ]
     },
     "metadata": {},
     "output_type": "display_data"
    },
    {
     "data": {
      "text/html": [
       "\n",
       "        <table>\n",
       "            <tr>\n",
       "                <td><a href=\"#\" onclick=\"$('#pMZiuyFkHj').toggle()\">+</a></td>\n",
       "                <td title=\"Variable name\">Name</td>\n",
       "                <td title=\"Value of parameter\">Value</td>\n",
       "                <td title=\"Parabolic error\">Parab Error</td>\n",
       "                <td title=\"Minos lower error\">Minos Error-</td>\n",
       "                <td title=\"Minos upper error\">Minos Error+</td>\n",
       "                <td title=\"Lower limit of the parameter\">Limit-</td>\n",
       "                <td title=\"Upper limit of the parameter\">Limit+</td>\n",
       "                <td title=\"Is the parameter fixed in the fit\">FIXED</td>\n",
       "            </tr>\n",
       "        \n",
       "            <tr>\n",
       "                <td>1</td>\n",
       "                <td>SigXSecOverSM</td>\n",
       "                <td>1.98851</td>\n",
       "                <td>0.552672</td>\n",
       "                <td>0</td>\n",
       "                <td>0</td>\n",
       "                <td>0.0</td>\n",
       "                <td>3.0</td>\n",
       "                <td></td>\n",
       "            </tr>\n",
       "            \n",
       "            <tr>\n",
       "                <td>2</td>\n",
       "                <td>BackgroundNormSyst1</td>\n",
       "                <td>-0.584033</td>\n",
       "                <td>2.62488</td>\n",
       "                <td>0</td>\n",
       "                <td>0</td>\n",
       "                <td>-5.0</td>\n",
       "                <td>5.0</td>\n",
       "                <td></td>\n",
       "            </tr>\n",
       "            \n",
       "            <tr>\n",
       "                <td>3</td>\n",
       "                <td>BackgroundNormSyst2</td>\n",
       "                <td>0.305449</td>\n",
       "                <td>1.22103</td>\n",
       "                <td>0</td>\n",
       "                <td>0</td>\n",
       "                <td>-5.0</td>\n",
       "                <td>5.0</td>\n",
       "                <td></td>\n",
       "            </tr>\n",
       "            \n",
       "            <tr>\n",
       "                <td>4</td>\n",
       "                <td>BackgroundNormSyst3</td>\n",
       "                <td>0.6</td>\n",
       "                <td>7.70479</td>\n",
       "                <td>0</td>\n",
       "                <td>0</td>\n",
       "                <td>-5.0</td>\n",
       "                <td>5.0</td>\n",
       "                <td></td>\n",
       "            </tr>\n",
       "            \n",
       "            </table>\n",
       "        \n",
       "            <pre id=\"pMZiuyFkHj\" style=\"display:none;\">\n",
       "            <textarea rows=\"14\" cols=\"50\" onclick=\"this.select()\" readonly>\\begin{tabular}{|c|r|r|r|r|r|r|r|c|}\n",
       "\\hline\n",
       " & Name & Value & Para Error & Error+ & Error- & Limit+ & Limit- & FIXED\\\\\n",
       "\\hline\n",
       "1 & SigXSecOverSM & 1.989e+00 & 5.527e-01 &  &  & 0.000e+00 & 3.000e+00 & \\\\\n",
       "\\hline\n",
       "2 & BackgroundNormSyst1 & -5.840e-01 & 2.625e+00 &  &  & -5.000e+00 & 5.000e+00 & \\\\\n",
       "\\hline\n",
       "3 & BackgroundNormSyst2 & 3.054e-01 & 1.221e+00 &  &  & -5.000e+00 & 5.000e+00 & \\\\\n",
       "\\hline\n",
       "4 & BackgroundNormSyst3 & 6.000e-01 & 7.705e+00 &  &  & -5.000e+00 & 5.000e+00 & \\\\\n",
       "\\hline\n",
       "\\end{tabular}</textarea>\n",
       "            </pre>\n",
       "            "
      ]
     },
     "metadata": {},
     "output_type": "display_data"
    },
    {
     "data": {
      "text/html": [
       "<hr>"
      ]
     },
     "metadata": {},
     "output_type": "display_data"
    },
    {
     "data": {
      "text/plain": [
       "({'hesse_failed': True, 'has_reached_call_limit': False, 'has_accurate_covar': False, 'has_posdef_covar': False, 'up': 1.0, 'edm': 2.7734322332593433e-05, 'is_valid': False, 'is_above_max_edm': False, 'has_covariance': True, 'has_made_posdef_covar': False, 'has_valid_parameters': True, 'fval': 30.121394441434127, 'nfcn': 67},\n",
       " [{'is_const': False, 'name': 'SigXSecOverSM', 'has_limits': True, 'value': 1.9885063379842502, 'number': 0, 'has_lower_limit': True, 'upper_limit': 3.0, 'lower_limit': 0.0, 'has_upper_limit': True, 'error': 0.5526715464358543, 'is_fixed': False},\n",
       "  {'is_const': False, 'name': 'BackgroundNormSyst1', 'has_limits': True, 'value': -0.5840334552248807, 'number': 1, 'has_lower_limit': True, 'upper_limit': 5.0, 'lower_limit': -5.0, 'has_upper_limit': True, 'error': 2.624883830138921, 'is_fixed': False},\n",
       "  {'is_const': False, 'name': 'BackgroundNormSyst2', 'has_limits': True, 'value': 0.30544907374000285, 'number': 2, 'has_lower_limit': True, 'upper_limit': 5.0, 'lower_limit': -5.0, 'has_upper_limit': True, 'error': 1.2210281623017987, 'is_fixed': False},\n",
       "  {'is_const': False, 'name': 'BackgroundNormSyst3', 'has_limits': True, 'value': 0.5999999999999996, 'number': 3, 'has_lower_limit': True, 'upper_limit': 5.0, 'lower_limit': -5.0, 'has_upper_limit': True, 'error': 7.704787497249043, 'is_fixed': False}])"
      ]
     },
     "execution_count": 18,
     "metadata": {},
     "output_type": "execute_result"
    }
   ],
   "source": [
    "blh = BinnedLH(m)\n",
    "params = m.Parameters()\n",
    "minimiser = Minuit(blh, **params)\n",
    "minimiser.migrad()"
   ]
  },
  {
   "cell_type": "code",
   "execution_count": 19,
   "metadata": {},
   "outputs": [
    {
     "data": {
      "text/plain": [
       "(array([ 0.88316325,  0.90549341,  0.92782357,  0.95015374,  0.9724839 ,\n",
       "         0.99481406,  1.01714423,  1.03947439,  1.06180455,  1.08413472,\n",
       "         1.10646488,  1.12879504,  1.15112521,  1.17345537,  1.19578553,\n",
       "         1.2181157 ,  1.24044586,  1.26277602,  1.28510619,  1.30743635,\n",
       "         1.32976651,  1.35209668,  1.37442684,  1.39675701,  1.41908717,\n",
       "         1.44141733,  1.4637475 ,  1.48607766,  1.50840782,  1.53073799,\n",
       "         1.55306815,  1.57539831,  1.59772848,  1.62005864,  1.6423888 ,\n",
       "         1.66471897,  1.68704913,  1.70937929,  1.73170946,  1.75403962,\n",
       "         1.77636978,  1.79869995,  1.82103011,  1.84336028,  1.86569044,\n",
       "         1.8880206 ,  1.91035077,  1.93268093,  1.95501109,  1.97734126,\n",
       "         1.99967142,  2.02200158,  2.04433175,  2.06666191,  2.08899207,\n",
       "         2.11132224,  2.1336524 ,  2.15598256,  2.17831273,  2.20064289,\n",
       "         2.22297305,  2.24530322,  2.26763338,  2.28996355,  2.31229371,\n",
       "         2.33462387,  2.35695404,  2.3792842 ,  2.40161436,  2.42394453,\n",
       "         2.44627469,  2.46860485,  2.49093502,  2.51326518,  2.53559534,\n",
       "         2.55792551,  2.58025567,  2.60258583,  2.624916  ,  2.64724616,\n",
       "         2.66957632,  2.69190649,  2.71423665,  2.73656681,  2.75889698,\n",
       "         2.78122714,  2.80355731,  2.82588747,  2.84821763,  2.8705478 ,\n",
       "         2.89287796,  2.91520812,  2.93753829,  2.95986845,  2.98219861,\n",
       "         3.00452878,  3.02685894,  3.0491891 ,  3.07151927,  3.09384943]),\n",
       " array([ 34.58887227,  34.39393318,  34.20410301,  34.01932095,\n",
       "         33.83952735,  33.66466364,  33.49467239,  33.3294972 ,\n",
       "         33.16908269,  33.01337451,  32.86231929,  32.71586461,\n",
       "         32.57395897,  32.4365518 ,  32.30359342,  32.17503499,\n",
       "         32.05082855,  31.93092694,  31.81528381,  31.70385361,\n",
       "         31.59659155,  31.49345359,  31.39439642,  31.29937745,\n",
       "         31.20835479,  31.12128724,  31.03813426,  30.95885597,\n",
       "         30.88341312,  30.8117671 ,  30.7438799 ,  30.67971411,\n",
       "         30.61923291,  30.56240005,  30.50917983,  30.45953713,\n",
       "         30.41343732,  30.37084634,  30.33173062,  30.2960571 ,\n",
       "         30.26379321,  30.23490687,  30.20936647,  30.18714087,\n",
       "         30.16819936,  30.15251171,  30.14004811,  30.13077918,\n",
       "         30.12467594,  30.12170986,  30.12185279,  30.12507696,\n",
       "         30.13135503,  30.14066   ,  30.15296526,  30.16824457,\n",
       "         30.18647205,  30.20762215,  30.23166969,  30.25858983,\n",
       "         30.28835804,  30.32095015,  30.35634227,  30.39451086,\n",
       "         30.43543267,  30.47908478,  30.52544452,  30.57448956,\n",
       "         30.62619784,  30.68054758,  30.73751728,  30.79708571,\n",
       "         30.85923192,  30.92393521,  30.99117514,  31.06093153,\n",
       "         31.13318446,  31.20791423,  31.28510141,  31.36472679,\n",
       "         31.44677139,  31.53121647,  31.61804353,  31.70723425,\n",
       "         31.79877058,  31.89263465,  31.98880881,  32.08727562,\n",
       "         32.18801785,  32.29101846,  32.39626062,  32.50372768,\n",
       "         32.61340321,  32.72527093,  32.83931477,  32.95551886,\n",
       "         33.07386746,  33.19434506,  33.31693629,  33.44162597]))"
      ]
     },
     "execution_count": 19,
     "metadata": {},
     "output_type": "execute_result"
    },
    {
     "data": {
      "image/png": "[encoded data removed]",
      "text/plain": [
       "<matplotlib.figure.Figure at 0x10a6f8490>"
      ]
     },
     "metadata": {},
     "output_type": "display_data"
    }
   ],
   "source": [
    "minimiser.draw_profile('SigXSecOverSM')"
   ]
  },
  {
   "cell_type": "code",
   "execution_count": null,
   "metadata": {},
   "outputs": [],
   "source": []
  }
 ],
 "metadata": {
  "kernelspec": {
   "display_name": "Python 2",
   "language": "python",
   "name": "python2"
  },
  "language_info": {
   "codemirror_mode": {
    "name": "ipython",
    "version": 2
   },
   "file_extension": ".py",
   "mimetype": "text/x-python",
   "name": "python",
   "nbconvert_exporter": "python",
   "pygments_lexer": "ipython2",
   "version": "2.7.13"
  }
 },
 "nbformat": 4,
 "nbformat_minor": 2
}
