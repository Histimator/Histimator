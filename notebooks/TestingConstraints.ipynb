{
 "cells": [
  {
   "cell_type": "code",
   "execution_count": 1,
   "metadata": {},
   "outputs": [],
   "source": [
    "from histimator.models import HistiModel, HistiChannel, HistiSample\n",
    "from histimator.estimator import BinnedLH"
   ]
  },
  {
   "cell_type": "code",
   "execution_count": 2,
   "metadata": {},
   "outputs": [],
   "source": [
    "from iminuit import Minuit, describe\n",
    "import numpy as np"
   ]
  },
  {
   "cell_type": "code",
   "execution_count": 3,
   "metadata": {},
   "outputs": [],
   "source": [
    "hist_sig = np.asarray([1,2,3,4])\n",
    "hist_bkg = np.asarray([5,5,5,5])"
   ]
  },
  {
   "cell_type": "code",
   "execution_count": 4,
   "metadata": {},
   "outputs": [],
   "source": [
    "m = HistiModel('model')\n",
    "signal = HistiSample('signal')\n",
    "binedges = [0,1,2,3,4]\n",
    "signal.SetHisto((hist_sig,binedges))\n",
    "signal.AddNorm(\"SigXSecOverSM\",1.0,0,3)"
   ]
  },
  {
   "cell_type": "code",
   "execution_count": 5,
   "metadata": {},
   "outputs": [],
   "source": [
    "background = HistiSample('background')\n",
    "background.SetHisto((hist_bkg, binedges))\n",
    "background.AddNorm(\"BackgroundNorm\",1.,0,100)"
   ]
  },
  {
   "cell_type": "code",
   "execution_count": 6,
   "metadata": {},
   "outputs": [
    {
     "name": "stdout",
     "output_type": "stream",
     "text": [
      "['x', 'BackgroundNorm']\n"
     ]
    }
   ],
   "source": [
    "print describe(background.pdf)"
   ]
  },
  {
   "cell_type": "code",
   "execution_count": 7,
   "metadata": {},
   "outputs": [
    {
     "name": "stdout",
     "output_type": "stream",
     "text": [
      "[5 5 5 5]\n",
      "[5.0, 5.0, 5.0, 5.0, 0.0]\n"
     ]
    }
   ],
   "source": [
    "print background.bincontent\n",
    "assess = []\n",
    "for i in range(len(background.binedges)):\n",
    "    assess.append(background.pdf(i,1))\n",
    "print assess"
   ]
  },
  {
   "cell_type": "code",
   "execution_count": 8,
   "metadata": {},
   "outputs": [],
   "source": [
    "chan = HistiChannel(\"SR\")\n",
    "chan.AddSample(signal)\n",
    "chan.AddSample(background)"
   ]
  },
  {
   "cell_type": "code",
   "execution_count": 9,
   "metadata": {},
   "outputs": [],
   "source": [
    "data = hist_sig*2 +hist_bkg\n",
    "\n",
    "chan.SetData(data)\n",
    "m.AddChannel(chan)"
   ]
  },
  {
   "cell_type": "code",
   "execution_count": 10,
   "metadata": {},
   "outputs": [],
   "source": [
    "blh = BinnedLH(m, bound=(0,4))"
   ]
  },
  {
   "cell_type": "code",
   "execution_count": 11,
   "metadata": {
    "scrolled": true
   },
   "outputs": [
    {
     "name": "stdout",
     "output_type": "stream",
     "text": [
      "params are  {'BackgroundNorm': 1.0, 'limit_SigXSecOverSM': (0, 3), 'SigXSecOverSM': 1.0, 'limit_BackgroundNorm': (0, 100), 'errordef': 1}\n"
     ]
    }
   ],
   "source": [
    "params = m.Parameters()\n",
    "print \"params are \",params"
   ]
  },
  {
   "cell_type": "code",
   "execution_count": 12,
   "metadata": {},
   "outputs": [
    {
     "name": "stderr",
     "output_type": "stream",
     "text": [
      "/Users/vince/tensorflow/lib/python2.7/site-packages/ipykernel_launcher.py:1: InitialParamWarning: Parameter SigXSecOverSM is floating but does not have initial step size. Assume 1.\n",
      "  \"\"\"Entry point for launching an IPython kernel.\n",
      "/Users/vince/tensorflow/lib/python2.7/site-packages/ipykernel_launcher.py:1: InitialParamWarning: Parameter BackgroundNorm is floating but does not have initial step size. Assume 1.\n",
      "  \"\"\"Entry point for launching an IPython kernel.\n"
     ]
    }
   ],
   "source": [
    "minimiser = Minuit(blh, **params)"
   ]
  },
  {
   "cell_type": "code",
   "execution_count": 13,
   "metadata": {
    "scrolled": true
   },
   "outputs": [
    {
     "data": {
      "text/html": [
       "<hr>"
      ]
     },
     "metadata": {},
     "output_type": "display_data"
    },
    {
     "data": {
      "text/html": [
       "\n",
       "        <table>\n",
       "            <tr>\n",
       "                <td title=\"Minimum value of function\">FCN = 7.26387865589</td>\n",
       "                <td title=\"Total number of call to FCN so far\">TOTAL NCALL = 43</td>\n",
       "                <td title=\"Number of call in last migrad\">NCALLS = 43</td>\n",
       "            </tr>\n",
       "            <tr>\n",
       "                <td title=\"Estimated distance to minimum\">EDM = 2.93583670878e-09</td>\n",
       "                <td title=\"Maximum EDM definition of convergence\">GOAL EDM = 1e-05</td>\n",
       "                <td title=\"Error def. Amount of increase in FCN to be defined as 1 standard deviation\">\n",
       "                UP = 1.0</td>\n",
       "            </tr>\n",
       "        </table>\n",
       "        \n",
       "        <table>\n",
       "            <tr>\n",
       "                <td align=\"center\" title=\"Validity of the migrad call\">Valid</td>\n",
       "                <td align=\"center\" title=\"Validity of parameters\">Valid Param</td>\n",
       "                <td align=\"center\" title=\"Is Covariance matrix accurate?\">Accurate Covar</td>\n",
       "                <td align=\"center\" title=\"Positive definiteness of covariance matrix\">PosDef</td>\n",
       "                <td align=\"center\" title=\"Was covariance matrix made posdef by adding diagonal element\">Made PosDef</td>\n",
       "            </tr>\n",
       "            <tr>\n",
       "                <td align=\"center\" style=\"background-color:#92CCA6\">True</td>\n",
       "                <td align=\"center\" style=\"background-color:#92CCA6\">True</td>\n",
       "                <td align=\"center\" style=\"background-color:#92CCA6\">True</td>\n",
       "                <td align=\"center\" style=\"background-color:#92CCA6\">True</td>\n",
       "                <td align=\"center\" style=\"background-color:#92CCA6\">False</td>\n",
       "            </tr>\n",
       "            <tr>\n",
       "                <td align=\"center\" title=\"Was last hesse call fail?\">Hesse Fail</td>\n",
       "                <td align=\"center\" title=\"Validity of covariance\">HasCov</td>\n",
       "                <td align=\"center\" title=\"Is EDM above goal EDM?\">Above EDM</td>\n",
       "                <td align=\"center\"></td>\n",
       "                <td align=\"center\" title=\"Did last migrad call reach max call limit?\">Reach calllim</td>\n",
       "            </tr>\n",
       "            <tr>\n",
       "                <td align=\"center\" style=\"background-color:#92CCA6\">False</td>\n",
       "                <td align=\"center\" style=\"background-color:#92CCA6\">True</td>\n",
       "                <td align=\"center\" style=\"background-color:#92CCA6\">False</td>\n",
       "                <td align=\"center\"></td>\n",
       "                <td align=\"center\" style=\"background-color:#92CCA6\">False</td>\n",
       "            </tr>\n",
       "        </table>\n",
       "        "
      ]
     },
     "metadata": {},
     "output_type": "display_data"
    },
    {
     "data": {
      "text/html": [
       "\n",
       "        <table>\n",
       "            <tr>\n",
       "                <td><a href=\"#\" onclick=\"$('#pxnelRutPb').toggle()\">+</a></td>\n",
       "                <td title=\"Variable name\">Name</td>\n",
       "                <td title=\"Value of parameter\">Value</td>\n",
       "                <td title=\"Parabolic error\">Parab Error</td>\n",
       "                <td title=\"Minos lower error\">Minos Error-</td>\n",
       "                <td title=\"Minos upper error\">Minos Error+</td>\n",
       "                <td title=\"Lower limit of the parameter\">Limit-</td>\n",
       "                <td title=\"Upper limit of the parameter\">Limit+</td>\n",
       "                <td title=\"Is the parameter fixed in the fit\">FIXED</td>\n",
       "            </tr>\n",
       "        \n",
       "            <tr>\n",
       "                <td>1</td>\n",
       "                <td>SigXSecOverSM</td>\n",
       "                <td>1.99991</td>\n",
       "                <td>2.39966</td>\n",
       "                <td>0</td>\n",
       "                <td>0</td>\n",
       "                <td>0.0</td>\n",
       "                <td>3.0</td>\n",
       "                <td></td>\n",
       "            </tr>\n",
       "            \n",
       "            <tr>\n",
       "                <td>2</td>\n",
       "                <td>BackgroundNorm</td>\n",
       "                <td>1.00003</td>\n",
       "                <td>0.979534</td>\n",
       "                <td>0</td>\n",
       "                <td>0</td>\n",
       "                <td>0.0</td>\n",
       "                <td>100.0</td>\n",
       "                <td></td>\n",
       "            </tr>\n",
       "            \n",
       "            </table>\n",
       "        \n",
       "            <pre id=\"pxnelRutPb\" style=\"display:none;\">\n",
       "            <textarea rows=\"10\" cols=\"50\" onclick=\"this.select()\" readonly>\\begin{tabular}{|c|r|r|r|r|r|r|r|c|}\n",
       "\\hline\n",
       " & Name & Value & Para Error & Error+ & Error- & Limit+ & Limit- & FIXED\\\\\n",
       "\\hline\n",
       "1 & SigXSecOverSM & 2.000e+00 & 2.400e+00 &  &  & 0.000e+00 & 3.000e+00 & \\\\\n",
       "\\hline\n",
       "2 & BackgroundNorm & 1.000e+00 & 9.795e-01 &  &  & 0.000e+00 & 1.000e+02 & \\\\\n",
       "\\hline\n",
       "\\end{tabular}</textarea>\n",
       "            </pre>\n",
       "            "
      ]
     },
     "metadata": {},
     "output_type": "display_data"
    },
    {
     "data": {
      "text/html": [
       "<hr>"
      ]
     },
     "metadata": {},
     "output_type": "display_data"
    },
    {
     "data": {
      "text/html": [
       "\n",
       "        <table>\n",
       "            <tr>\n",
       "                <td><a href=\"#\" onclick=\"$('#mZoUCRWIFv').toggle()\">+</a></td>\n",
       "                <td title=\"Variable name\">Name</td>\n",
       "                <td title=\"Value of parameter\">Value</td>\n",
       "                <td title=\"Parabolic error\">Parab Error</td>\n",
       "                <td title=\"Minos lower error\">Minos Error-</td>\n",
       "                <td title=\"Minos upper error\">Minos Error+</td>\n",
       "                <td title=\"Lower limit of the parameter\">Limit-</td>\n",
       "                <td title=\"Upper limit of the parameter\">Limit+</td>\n",
       "                <td title=\"Is the parameter fixed in the fit\">FIXED</td>\n",
       "            </tr>\n",
       "        \n",
       "            <tr>\n",
       "                <td>1</td>\n",
       "                <td>SigXSecOverSM</td>\n",
       "                <td>1.99991</td>\n",
       "                <td>2.39931</td>\n",
       "                <td>0</td>\n",
       "                <td>0</td>\n",
       "                <td>0.0</td>\n",
       "                <td>3.0</td>\n",
       "                <td></td>\n",
       "            </tr>\n",
       "            \n",
       "            <tr>\n",
       "                <td>2</td>\n",
       "                <td>BackgroundNorm</td>\n",
       "                <td>1.00003</td>\n",
       "                <td>0.978879</td>\n",
       "                <td>0</td>\n",
       "                <td>0</td>\n",
       "                <td>0.0</td>\n",
       "                <td>100.0</td>\n",
       "                <td></td>\n",
       "            </tr>\n",
       "            \n",
       "            </table>\n",
       "        \n",
       "            <pre id=\"mZoUCRWIFv\" style=\"display:none;\">\n",
       "            <textarea rows=\"10\" cols=\"50\" onclick=\"this.select()\" readonly>\\begin{tabular}{|c|r|r|r|r|r|r|r|c|}\n",
       "\\hline\n",
       " & Name & Value & Para Error & Error+ & Error- & Limit+ & Limit- & FIXED\\\\\n",
       "\\hline\n",
       "1 & SigXSecOverSM & 2.000e+00 & 2.399e+00 &  &  & 0.000e+00 & 3.000e+00 & \\\\\n",
       "\\hline\n",
       "2 & BackgroundNorm & 1.000e+00 & 9.789e-01 &  &  & 0.000e+00 & 1.000e+02 & \\\\\n",
       "\\hline\n",
       "\\end{tabular}</textarea>\n",
       "            </pre>\n",
       "            "
      ]
     },
     "metadata": {},
     "output_type": "display_data"
    },
    {
     "data": {
      "text/html": [
       "\n",
       "            <table>\n",
       "                <tr>\n",
       "                    <td><a onclick=\"$('#OzyacYXoYn').toggle()\" href=\"#\">+</a></td>\n",
       "        \n",
       "            <td>\n",
       "            <div style=\"width:20px;position:relative; width: -moz-fit-content;\">\n",
       "            <div style=\"display:inline-block;-webkit-writing-mode:vertical-rl;-moz-writing-mode: vertical-rl;writing-mode: vertical-rl;\">\n",
       "            SigXSecOverSM\n",
       "            </div>\n",
       "            </div>\n",
       "            </td>\n",
       "            \n",
       "            <td>\n",
       "            <div style=\"width:20px;position:relative; width: -moz-fit-content;\">\n",
       "            <div style=\"display:inline-block;-webkit-writing-mode:vertical-rl;-moz-writing-mode: vertical-rl;writing-mode: vertical-rl;\">\n",
       "            BackgroundNorm\n",
       "            </div>\n",
       "            </div>\n",
       "            </td>\n",
       "            \n",
       "                </tr>\n",
       "                \n",
       "            <tr>\n",
       "                <td>SigXSecOverSM</td>\n",
       "            \n",
       "                <td style=\"background-color:rgb(255,117,117)\">\n",
       "                1.00\n",
       "                </td>\n",
       "                \n",
       "                <td style=\"background-color:rgb(245,131,124)\">\n",
       "                -0.90\n",
       "                </td>\n",
       "                \n",
       "            </tr>\n",
       "            \n",
       "            <tr>\n",
       "                <td>BackgroundNorm</td>\n",
       "            \n",
       "                <td style=\"background-color:rgb(245,131,124)\">\n",
       "                -0.90\n",
       "                </td>\n",
       "                \n",
       "                <td style=\"background-color:rgb(255,117,117)\">\n",
       "                1.00\n",
       "                </td>\n",
       "                \n",
       "            </tr>\n",
       "            </table>\n",
       "\n",
       "            <pre id=\"OzyacYXoYn\" style=\"display:none;\">\n",
       "            <textarea rows=\"13\" cols=\"50\" onclick=\"this.select()\" readonly>%\\usepackage[table]{xcolor} % include this for color\n",
       "%\\usepackage{rotating} % include this for rotate header\n",
       "%\\documentclass[xcolor=table]{beamer} % for beamer\n",
       "\\begin{tabular}{|c|c|c|}\n",
       "\\hline\n",
       "\\rotatebox{90}{} & \\rotatebox{90}{SigXSecOverSM} & \\rotatebox{90}{BackgroundNorm}\\\\\n",
       "\\hline\n",
       "SigXSecOverSM & \\cellcolor[RGB]{255,117,117} 1.00 & \\cellcolor[RGB]{245,131,124} -0.90\\\\\n",
       "\\hline\n",
       "BackgroundNorm & \\cellcolor[RGB]{245,131,124} -0.90 & \\cellcolor[RGB]{255,117,117} 1.00\\\\\n",
       "\\hline\n",
       "\\end{tabular}</textarea>\n",
       "            </pre>\n",
       "            "
      ]
     },
     "metadata": {},
     "output_type": "display_data"
    },
    {
     "data": {
      "text/html": [
       "\n",
       "        <span>Minos status for SigXSecOverSM: <span style=\"background-color:#92CCA6\">VALID</span></span>\n",
       "        <table>\n",
       "            <tr>\n",
       "                <td title=\"lower and upper minos error of the parameter\">Error</td>\n",
       "                <td>-1.98618852268</td>\n",
       "                <td>1.00009089428</td>\n",
       "            </tr>\n",
       "            <tr>\n",
       "                <td title=\"Validity of minos error\">Valid</td>\n",
       "                <td style=\"background-color:#92CCA6\">True</td>\n",
       "                <td style=\"background-color:#92CCA6\">True</td>\n",
       "            </tr>\n",
       "            <tr>\n",
       "                <td title=\"Did minos error search hit limit of any paramter?\">At Limit</td>\n",
       "                <td style=\"background-color:#92CCA6\">False</td>\n",
       "                <td style=\"background-color:#FF7878\">True</td>\n",
       "            </tr>\n",
       "            <tr>\n",
       "                <td title=\"I don't really know what this one means... Post it in issue if you know\">Max FCN</td>\n",
       "                <td style=\"background-color:#92CCA6\">False</td>\n",
       "                <td style=\"background-color:#92CCA6\">False</td>\n",
       "            </tr>\n",
       "            <tr>\n",
       "                <td title=\"New minimum found when doing minos scan.\">New Min</td>\n",
       "                <td style=\"background-color:#92CCA6\">False</td>\n",
       "                <td style=\"background-color:#92CCA6\">False</td>\n",
       "            </tr>\n",
       "        </table>\n",
       "        "
      ]
     },
     "metadata": {},
     "output_type": "display_data"
    },
    {
     "data": {
      "text/html": [
       "\n",
       "        <span>Minos status for BackgroundNorm: <span style=\"background-color:#92CCA6\">VALID</span></span>\n",
       "        <table>\n",
       "            <tr>\n",
       "                <td title=\"lower and upper minos error of the parameter\">Error</td>\n",
       "                <td>-0.756705600149</td>\n",
       "                <td>1.08484147103</td>\n",
       "            </tr>\n",
       "            <tr>\n",
       "                <td title=\"Validity of minos error\">Valid</td>\n",
       "                <td style=\"background-color:#92CCA6\">True</td>\n",
       "                <td style=\"background-color:#92CCA6\">True</td>\n",
       "            </tr>\n",
       "            <tr>\n",
       "                <td title=\"Did minos error search hit limit of any paramter?\">At Limit</td>\n",
       "                <td style=\"background-color:#92CCA6\">False</td>\n",
       "                <td style=\"background-color:#92CCA6\">False</td>\n",
       "            </tr>\n",
       "            <tr>\n",
       "                <td title=\"I don't really know what this one means... Post it in issue if you know\">Max FCN</td>\n",
       "                <td style=\"background-color:#92CCA6\">False</td>\n",
       "                <td style=\"background-color:#92CCA6\">False</td>\n",
       "            </tr>\n",
       "            <tr>\n",
       "                <td title=\"New minimum found when doing minos scan.\">New Min</td>\n",
       "                <td style=\"background-color:#92CCA6\">False</td>\n",
       "                <td style=\"background-color:#92CCA6\">False</td>\n",
       "            </tr>\n",
       "        </table>\n",
       "        "
      ]
     },
     "metadata": {},
     "output_type": "display_data"
    },
    {
     "data": {
      "text/plain": [
       "{'BackgroundNorm': {'lower_new_min': False, 'upper': 1.0848414710272252, 'lower': -0.756705600148597, 'at_lower_limit': False, 'min': 1.000028393191904, 'at_lower_max_fcn': False, 'is_valid': True, 'upper_new_min': False, 'at_upper_limit': False, 'lower_valid': True, 'upper_valid': True, 'at_upper_max_fcn': False, 'nfcn': 82},\n",
       " 'SigXSecOverSM': {'lower_new_min': False, 'upper': 1.0000908942838587, 'lower': -1.9861885226766014, 'at_lower_limit': False, 'min': 1.9999091057161413, 'at_lower_max_fcn': False, 'is_valid': True, 'upper_new_min': False, 'at_upper_limit': True, 'lower_valid': True, 'upper_valid': True, 'at_upper_max_fcn': False, 'nfcn': 52}}"
      ]
     },
     "execution_count": 13,
     "metadata": {},
     "output_type": "execute_result"
    }
   ],
   "source": [
    "minimiser.migrad()\n",
    "minimiser.hesse()\n",
    "minimiser.minos()"
   ]
  },
  {
   "cell_type": "code",
   "execution_count": 14,
   "metadata": {},
   "outputs": [
    {
     "name": "stderr",
     "output_type": "stream",
     "text": [
      "/Library/Frameworks/Python.framework/Versions/2.7/lib/python2.7/site-packages/iminuit/_plotting.py:51: RuntimeWarning: band and text is requested but the bound is too narrow.\n",
      "  warnings.warn(RuntimeWarning('band and text is requested but'\n"
     ]
    },
    {
     "data": {
      "text/plain": [
       "(array([-2.79871089, -2.70176907, -2.60482725, -2.50788544, -2.41094362,\n",
       "        -2.3140018 , -2.21705998, -2.12011816, -2.02317635, -1.92623453,\n",
       "        -1.82929271, -1.73235089, -1.63540907, -1.53846726, -1.44152544,\n",
       "        -1.34458362, -1.2476418 , -1.15069998, -1.05375816, -0.95681635,\n",
       "        -0.85987453, -0.76293271, -0.66599089, -0.56904907, -0.47210726,\n",
       "        -0.37516544, -0.27822362, -0.1812818 , -0.08433998,  0.01260183,\n",
       "         0.10954365,  0.20648547,  0.30342729,  0.40036911,  0.49731092,\n",
       "         0.59425274,  0.69119456,  0.78813638,  0.8850782 ,  0.98202002,\n",
       "         1.07896183,  1.17590365,  1.27284547,  1.36978729,  1.46672911,\n",
       "         1.56367092,  1.66061274,  1.75755456,  1.85449638,  1.9514382 ,\n",
       "         2.04838001,  2.14532183,  2.24226365,  2.33920547,  2.43614729,\n",
       "         2.53308911,  2.63003092,  2.72697274,  2.82391456,  2.92085638,\n",
       "         3.0177982 ,  3.11474001,  3.21168183,  3.30862365,  3.40556547,\n",
       "         3.50250729,  3.5994491 ,  3.69639092,  3.79333274,  3.89027456,\n",
       "         3.98721638,  4.0841582 ,  4.18110001,  4.27804183,  4.37498365,\n",
       "         4.47192547,  4.56886729,  4.6658091 ,  4.76275092,  4.85969274,\n",
       "         4.95663456,  5.05357638,  5.15051819,  5.24746001,  5.34440183,\n",
       "         5.44134365,  5.53828547,  5.63522729,  5.7321691 ,  5.82911092,\n",
       "         5.92605274,  6.02299456,  6.11993638,  6.21687819,  6.31382001,\n",
       "         6.41076183,  6.50770365,  6.60464547,  6.70158728,  6.7985291 ]),\n",
       " array([          nan,           nan,           nan,           nan,\n",
       "                  nan,           nan,           nan,           nan,\n",
       "                  nan,           nan,           nan,           nan,\n",
       "                  nan,           nan,           nan,           nan,\n",
       "         108.29878325,   57.69601116,   47.11983917,   40.50229803,\n",
       "          35.63621263,   31.79381755,   28.6358272 ,   25.97341487,\n",
       "          23.68934912,   21.70522   ,   19.96567026,   18.42998072,\n",
       "          17.06721866,   15.85326723,   14.76891692,   13.79859009,\n",
       "          12.92946017,   12.15082612,   11.45365759,   10.83025712,\n",
       "          10.27400484,    9.7791622 ,    9.34071917,    8.95427345,\n",
       "           8.6159342 ,    8.32224422,    8.07011667,    7.856783  ,\n",
       "           7.67974989,    7.53676329,    7.42577819,    7.34493316,\n",
       "           7.29252864,    7.26700834,    7.26694337,    7.29101848,\n",
       "           7.33802008,    7.40682594,    7.49639604,    7.60576463,\n",
       "           7.73403325,    7.88036449,    8.04397651,    8.22413817,\n",
       "           8.42016469,    8.63141372,    8.8572819 ,    9.09720168,\n",
       "           9.35063856,    9.61708849,    9.8960756 ,   10.18715009,\n",
       "          10.48988636,   10.80388126,   11.12875253,   11.46413737,\n",
       "          11.80969113,   12.16508608,   12.53001031,   12.90416677,\n",
       "          13.28727224,   13.67905657,   14.0792618 ,   14.48764148,\n",
       "          14.90395997,   15.32799181,   15.75952113,   16.19834113,\n",
       "          16.64425356,   17.09706823,   17.55660261,   18.02268142,\n",
       "          18.4951362 ,   18.973805  ,   19.45853207,   19.94916745,\n",
       "          20.44556679,   20.94759102,   21.45510607,   21.9679827 ,\n",
       "          22.48609619,   23.0093262 ,   23.53755651,   24.07067487]))"
      ]
     },
     "execution_count": 14,
     "metadata": {},
     "output_type": "execute_result"
    },
    {
     "data": {
      "image/png": "[encoded data removed]",
      "text/plain": [
       "<matplotlib.figure.Figure at 0x109552cd0>"
      ]
     },
     "metadata": {},
     "output_type": "display_data"
    }
   ],
   "source": [
    "%matplotlib inline\n",
    "minimiser.draw_profile('SigXSecOverSM')"
   ]
  },
  {
   "cell_type": "markdown",
   "metadata": {},
   "source": [
    "## Testing PDF"
   ]
  },
  {
   "cell_type": "code",
   "execution_count": 15,
   "metadata": {},
   "outputs": [],
   "source": [
    "m2 = HistiModel('newmodel')\n",
    "signal = HistiSample('signal')\n",
    "binedges = [0,1,2,3,4]\n",
    "signal.SetHisto((hist_sig,binedges))\n",
    "signal.AddNorm(\"SigXSecOverSM\",1.0,0,3)\n",
    "background = HistiSample('background')\n",
    "background.SetHisto((hist_bkg, binedges))\n",
    "background.AddNorm(\"BackgroundNorm\",1.,0,100)"
   ]
  },
  {
   "cell_type": "code",
   "execution_count": 16,
   "metadata": {},
   "outputs": [],
   "source": [
    "background.AddOverallSys(\"NormSystUncertainty\",.9,1.1)"
   ]
  },
  {
   "cell_type": "code",
   "execution_count": 17,
   "metadata": {},
   "outputs": [
    {
     "data": {
      "text/plain": [
       "['x', 'BackgroundNorm', 'NormSystUncertainty']"
      ]
     },
     "execution_count": 17,
     "metadata": {},
     "output_type": "execute_result"
    }
   ],
   "source": [
    "from iminuit import describe\n",
    "describe(background.pdf)"
   ]
  },
  {
   "cell_type": "code",
   "execution_count": 18,
   "metadata": {},
   "outputs": [
    {
     "name": "stdout",
     "output_type": "stream",
     "text": [
      "[5 5 5 5]\n",
      "[5.0, 5.0, 5.0, 5.0]\n"
     ]
    }
   ],
   "source": [
    "print background.bincontent\n",
    "assess = []\n",
    "for i in range(len(background.bincontent)):\n",
    "    assess.append(background.pdf(i,1,0))\n",
    "print assess"
   ]
  },
  {
   "cell_type": "code",
   "execution_count": 19,
   "metadata": {},
   "outputs": [],
   "source": [
    "chan = HistiChannel(\"SR\")\n",
    "chan.AddSample(signal)\n",
    "chan.AddSample(background)\n",
    "\n",
    "data = hist_sig*2 +hist_bkg\n",
    "\n",
    "chan.SetData(data)\n",
    "m2.AddChannel(chan)"
   ]
  },
  {
   "cell_type": "code",
   "execution_count": 20,
   "metadata": {},
   "outputs": [
    {
     "name": "stdout",
     "output_type": "stream",
     "text": [
      "params are  {'BackgroundNorm': 1.0, 'limit_SigXSecOverSM': (0, 3), 'NormSystUncertainty': 0.20000000000000007, 'SigXSecOverSM': 1.0, 'errordef': 1, 'limit_NormSystUncertainty': (-5, 5), 'limit_BackgroundNorm': (0, 100)}\n"
     ]
    }
   ],
   "source": [
    "blh = BinnedLH(m2, bound=(0,4))\n",
    "params = m2.Parameters()\n",
    "print \"params are \",params"
   ]
  },
  {
   "cell_type": "code",
   "execution_count": 21,
   "metadata": {
    "scrolled": true
   },
   "outputs": [
    {
     "name": "stderr",
     "output_type": "stream",
     "text": [
      "/Users/vince/tensorflow/lib/python2.7/site-packages/ipykernel_launcher.py:1: InitialParamWarning: Parameter SigXSecOverSM is floating but does not have initial step size. Assume 1.\n",
      "  \"\"\"Entry point for launching an IPython kernel.\n",
      "/Users/vince/tensorflow/lib/python2.7/site-packages/ipykernel_launcher.py:1: InitialParamWarning: Parameter BackgroundNorm is floating but does not have initial step size. Assume 1.\n",
      "  \"\"\"Entry point for launching an IPython kernel.\n",
      "/Users/vince/tensorflow/lib/python2.7/site-packages/ipykernel_launcher.py:1: InitialParamWarning: Parameter NormSystUncertainty is floating but does not have initial step size. Assume 1.\n",
      "  \"\"\"Entry point for launching an IPython kernel.\n"
     ]
    },
    {
     "data": {
      "text/html": [
       "<hr>"
      ]
     },
     "metadata": {},
     "output_type": "display_data"
    },
    {
     "data": {
      "text/html": [
       "\n",
       "        <table>\n",
       "            <tr>\n",
       "                <td title=\"Minimum value of function\">FCN = 7.26406363993</td>\n",
       "                <td title=\"Total number of call to FCN so far\">TOTAL NCALL = 53</td>\n",
       "                <td title=\"Number of call in last migrad\">NCALLS = 53</td>\n",
       "            </tr>\n",
       "            <tr>\n",
       "                <td title=\"Estimated distance to minimum\">EDM = 0.000181873540138</td>\n",
       "                <td title=\"Maximum EDM definition of convergence\">GOAL EDM = 1e-05</td>\n",
       "                <td title=\"Error def. Amount of increase in FCN to be defined as 1 standard deviation\">\n",
       "                UP = 1.0</td>\n",
       "            </tr>\n",
       "        </table>\n",
       "        \n",
       "        <table>\n",
       "            <tr>\n",
       "                <td align=\"center\" title=\"Validity of the migrad call\">Valid</td>\n",
       "                <td align=\"center\" title=\"Validity of parameters\">Valid Param</td>\n",
       "                <td align=\"center\" title=\"Is Covariance matrix accurate?\">Accurate Covar</td>\n",
       "                <td align=\"center\" title=\"Positive definiteness of covariance matrix\">PosDef</td>\n",
       "                <td align=\"center\" title=\"Was covariance matrix made posdef by adding diagonal element\">Made PosDef</td>\n",
       "            </tr>\n",
       "            <tr>\n",
       "                <td align=\"center\" style=\"background-color:#92CCA6\">True</td>\n",
       "                <td align=\"center\" style=\"background-color:#92CCA6\">True</td>\n",
       "                <td align=\"center\" style=\"background-color:#FF7878\">False</td>\n",
       "                <td align=\"center\" style=\"background-color:#FF7878\">False</td>\n",
       "                <td align=\"center\" style=\"background-color:#FF7878\">True</td>\n",
       "            </tr>\n",
       "            <tr>\n",
       "                <td align=\"center\" title=\"Was last hesse call fail?\">Hesse Fail</td>\n",
       "                <td align=\"center\" title=\"Validity of covariance\">HasCov</td>\n",
       "                <td align=\"center\" title=\"Is EDM above goal EDM?\">Above EDM</td>\n",
       "                <td align=\"center\"></td>\n",
       "                <td align=\"center\" title=\"Did last migrad call reach max call limit?\">Reach calllim</td>\n",
       "            </tr>\n",
       "            <tr>\n",
       "                <td align=\"center\" style=\"background-color:#92CCA6\">False</td>\n",
       "                <td align=\"center\" style=\"background-color:#92CCA6\">True</td>\n",
       "                <td align=\"center\" style=\"background-color:#92CCA6\">False</td>\n",
       "                <td align=\"center\"></td>\n",
       "                <td align=\"center\" style=\"background-color:#92CCA6\">False</td>\n",
       "            </tr>\n",
       "        </table>\n",
       "        "
      ]
     },
     "metadata": {},
     "output_type": "display_data"
    },
    {
     "data": {
      "text/html": [
       "\n",
       "        <table>\n",
       "            <tr>\n",
       "                <td><a href=\"#\" onclick=\"$('#UBPVevINDy').toggle()\">+</a></td>\n",
       "                <td title=\"Variable name\">Name</td>\n",
       "                <td title=\"Value of parameter\">Value</td>\n",
       "                <td title=\"Parabolic error\">Parab Error</td>\n",
       "                <td title=\"Minos lower error\">Minos Error-</td>\n",
       "                <td title=\"Minos upper error\">Minos Error+</td>\n",
       "                <td title=\"Lower limit of the parameter\">Limit-</td>\n",
       "                <td title=\"Upper limit of the parameter\">Limit+</td>\n",
       "                <td title=\"Is the parameter fixed in the fit\">FIXED</td>\n",
       "            </tr>\n",
       "        \n",
       "            <tr>\n",
       "                <td>1</td>\n",
       "                <td>SigXSecOverSM</td>\n",
       "                <td>2.02418</td>\n",
       "                <td>2.40448</td>\n",
       "                <td>0</td>\n",
       "                <td>0</td>\n",
       "                <td>0.0</td>\n",
       "                <td>3.0</td>\n",
       "                <td></td>\n",
       "            </tr>\n",
       "            \n",
       "            <tr>\n",
       "                <td>2</td>\n",
       "                <td>BackgroundNorm</td>\n",
       "                <td>0.982564</td>\n",
       "                <td>8.05421</td>\n",
       "                <td>0</td>\n",
       "                <td>0</td>\n",
       "                <td>0.0</td>\n",
       "                <td>100.0</td>\n",
       "                <td></td>\n",
       "            </tr>\n",
       "            \n",
       "            <tr>\n",
       "                <td>3</td>\n",
       "                <td>NormSystUncertainty</td>\n",
       "                <td>0.0434646</td>\n",
       "                <td>5.6755</td>\n",
       "                <td>0</td>\n",
       "                <td>0</td>\n",
       "                <td>-5.0</td>\n",
       "                <td>5.0</td>\n",
       "                <td></td>\n",
       "            </tr>\n",
       "            \n",
       "            </table>\n",
       "        \n",
       "            <pre id=\"UBPVevINDy\" style=\"display:none;\">\n",
       "            <textarea rows=\"12\" cols=\"50\" onclick=\"this.select()\" readonly>\\begin{tabular}{|c|r|r|r|r|r|r|r|c|}\n",
       "\\hline\n",
       " & Name & Value & Para Error & Error+ & Error- & Limit+ & Limit- & FIXED\\\\\n",
       "\\hline\n",
       "1 & SigXSecOverSM & 2.024e+00 & 2.404e+00 &  &  & 0.000e+00 & 3.000e+00 & \\\\\n",
       "\\hline\n",
       "2 & BackgroundNorm & 9.826e-01 & 8.054e+00 &  &  & 0.000e+00 & 1.000e+02 & \\\\\n",
       "\\hline\n",
       "3 & NormSystUncertainty & 4.346e-02 & 5.676e+00 &  &  & -5.000e+00 & 5.000e+00 & \\\\\n",
       "\\hline\n",
       "\\end{tabular}</textarea>\n",
       "            </pre>\n",
       "            "
      ]
     },
     "metadata": {},
     "output_type": "display_data"
    },
    {
     "data": {
      "text/html": [
       "<hr>"
      ]
     },
     "metadata": {},
     "output_type": "display_data"
    },
    {
     "data": {
      "text/html": [
       "\n",
       "        <table>\n",
       "            <tr>\n",
       "                <td><a href=\"#\" onclick=\"$('#YVjvuRorNg').toggle()\">+</a></td>\n",
       "                <td title=\"Variable name\">Name</td>\n",
       "                <td title=\"Value of parameter\">Value</td>\n",
       "                <td title=\"Parabolic error\">Parab Error</td>\n",
       "                <td title=\"Minos lower error\">Minos Error-</td>\n",
       "                <td title=\"Minos upper error\">Minos Error+</td>\n",
       "                <td title=\"Lower limit of the parameter\">Limit-</td>\n",
       "                <td title=\"Upper limit of the parameter\">Limit+</td>\n",
       "                <td title=\"Is the parameter fixed in the fit\">FIXED</td>\n",
       "            </tr>\n",
       "        \n",
       "            <tr>\n",
       "                <td>1</td>\n",
       "                <td>SigXSecOverSM</td>\n",
       "                <td>2.02418</td>\n",
       "                <td>2.39918</td>\n",
       "                <td>0</td>\n",
       "                <td>0</td>\n",
       "                <td>0.0</td>\n",
       "                <td>3.0</td>\n",
       "                <td></td>\n",
       "            </tr>\n",
       "            \n",
       "            <tr>\n",
       "                <td>2</td>\n",
       "                <td>BackgroundNorm</td>\n",
       "                <td>0.982564</td>\n",
       "                <td>8.03229</td>\n",
       "                <td>0</td>\n",
       "                <td>0</td>\n",
       "                <td>0.0</td>\n",
       "                <td>100.0</td>\n",
       "                <td></td>\n",
       "            </tr>\n",
       "            \n",
       "            <tr>\n",
       "                <td>3</td>\n",
       "                <td>NormSystUncertainty</td>\n",
       "                <td>0.0434646</td>\n",
       "                <td>5.64855</td>\n",
       "                <td>0</td>\n",
       "                <td>0</td>\n",
       "                <td>-5.0</td>\n",
       "                <td>5.0</td>\n",
       "                <td></td>\n",
       "            </tr>\n",
       "            \n",
       "            </table>\n",
       "        \n",
       "            <pre id=\"YVjvuRorNg\" style=\"display:none;\">\n",
       "            <textarea rows=\"12\" cols=\"50\" onclick=\"this.select()\" readonly>\\begin{tabular}{|c|r|r|r|r|r|r|r|c|}\n",
       "\\hline\n",
       " & Name & Value & Para Error & Error+ & Error- & Limit+ & Limit- & FIXED\\\\\n",
       "\\hline\n",
       "1 & SigXSecOverSM & 2.024e+00 & 2.399e+00 &  &  & 0.000e+00 & 3.000e+00 & \\\\\n",
       "\\hline\n",
       "2 & BackgroundNorm & 9.826e-01 & 8.032e+00 &  &  & 0.000e+00 & 1.000e+02 & \\\\\n",
       "\\hline\n",
       "3 & NormSystUncertainty & 4.346e-02 & 5.649e+00 &  &  & -5.000e+00 & 5.000e+00 & \\\\\n",
       "\\hline\n",
       "\\end{tabular}</textarea>\n",
       "            </pre>\n",
       "            "
      ]
     },
     "metadata": {},
     "output_type": "display_data"
    },
    {
     "data": {
      "text/html": [
       "\n",
       "            <table>\n",
       "                <tr>\n",
       "                    <td><a onclick=\"$('#rDQOUnjnWO').toggle()\" href=\"#\">+</a></td>\n",
       "        \n",
       "            <td>\n",
       "            <div style=\"width:20px;position:relative; width: -moz-fit-content;\">\n",
       "            <div style=\"display:inline-block;-webkit-writing-mode:vertical-rl;-moz-writing-mode: vertical-rl;writing-mode: vertical-rl;\">\n",
       "            SigXSecOverSM\n",
       "            </div>\n",
       "            </div>\n",
       "            </td>\n",
       "            \n",
       "            <td>\n",
       "            <div style=\"width:20px;position:relative; width: -moz-fit-content;\">\n",
       "            <div style=\"display:inline-block;-webkit-writing-mode:vertical-rl;-moz-writing-mode: vertical-rl;writing-mode: vertical-rl;\">\n",
       "            BackgroundNorm\n",
       "            </div>\n",
       "            </div>\n",
       "            </td>\n",
       "            \n",
       "            <td>\n",
       "            <div style=\"width:20px;position:relative; width: -moz-fit-content;\">\n",
       "            <div style=\"display:inline-block;-webkit-writing-mode:vertical-rl;-moz-writing-mode: vertical-rl;writing-mode: vertical-rl;\">\n",
       "            NormSystUncertainty\n",
       "            </div>\n",
       "            </div>\n",
       "            </td>\n",
       "            \n",
       "                </tr>\n",
       "                \n",
       "            <tr>\n",
       "                <td>SigXSecOverSM</td>\n",
       "            \n",
       "                <td style=\"background-color:rgb(255,117,117)\">\n",
       "                1.00\n",
       "                </td>\n",
       "                \n",
       "                <td style=\"background-color:rgb(167,249,183)\">\n",
       "                -0.04\n",
       "                </td>\n",
       "                \n",
       "                <td style=\"background-color:rgb(173,239,178)\">\n",
       "                -0.11\n",
       "                </td>\n",
       "                \n",
       "            </tr>\n",
       "            \n",
       "            <tr>\n",
       "                <td>BackgroundNorm</td>\n",
       "            \n",
       "                <td style=\"background-color:rgb(167,249,183)\">\n",
       "                -0.04\n",
       "                </td>\n",
       "                \n",
       "                <td style=\"background-color:rgb(255,117,117)\">\n",
       "                1.00\n",
       "                </td>\n",
       "                \n",
       "                <td style=\"background-color:rgb(254,119,118)\">\n",
       "                -0.99\n",
       "                </td>\n",
       "                \n",
       "            </tr>\n",
       "            \n",
       "            <tr>\n",
       "                <td>NormSystUncertainty</td>\n",
       "            \n",
       "                <td style=\"background-color:rgb(173,239,178)\">\n",
       "                -0.11\n",
       "                </td>\n",
       "                \n",
       "                <td style=\"background-color:rgb(254,119,118)\">\n",
       "                -0.99\n",
       "                </td>\n",
       "                \n",
       "                <td style=\"background-color:rgb(255,117,117)\">\n",
       "                1.00\n",
       "                </td>\n",
       "                \n",
       "            </tr>\n",
       "            </table>\n",
       "\n",
       "            <pre id=\"rDQOUnjnWO\" style=\"display:none;\">\n",
       "            <textarea rows=\"15\" cols=\"50\" onclick=\"this.select()\" readonly>%\\usepackage[table]{xcolor} % include this for color\n",
       "%\\usepackage{rotating} % include this for rotate header\n",
       "%\\documentclass[xcolor=table]{beamer} % for beamer\n",
       "\\begin{tabular}{|c|c|c|c|}\n",
       "\\hline\n",
       "\\rotatebox{90}{} & \\rotatebox{90}{SigXSecOverSM} & \\rotatebox{90}{BackgroundNorm} & \\rotatebox{90}{NormSystUncertainty}\\\\\n",
       "\\hline\n",
       "SigXSecOverSM & \\cellcolor[RGB]{255,117,117} 1.00 & \\cellcolor[RGB]{167,249,183} -0.04 & \\cellcolor[RGB]{173,239,178} -0.11\\\\\n",
       "\\hline\n",
       "BackgroundNorm & \\cellcolor[RGB]{167,249,183} -0.04 & \\cellcolor[RGB]{255,117,117} 1.00 & \\cellcolor[RGB]{254,119,118} -0.99\\\\\n",
       "\\hline\n",
       "NormSystUncertainty & \\cellcolor[RGB]{173,239,178} -0.11 & \\cellcolor[RGB]{254,119,118} -0.99 & \\cellcolor[RGB]{255,117,117} 1.00\\\\\n",
       "\\hline\n",
       "\\end{tabular}</textarea>\n",
       "            </pre>\n",
       "            "
      ]
     },
     "metadata": {},
     "output_type": "display_data"
    },
    {
     "data": {
      "text/html": [
       "\n",
       "        <span>Minos status for SigXSecOverSM: <span style=\"background-color:#92CCA6\">VALID</span></span>\n",
       "        <table>\n",
       "            <tr>\n",
       "                <td title=\"lower and upper minos error of the parameter\">Error</td>\n",
       "                <td>-2.0102899895</td>\n",
       "                <td>0.975819632121</td>\n",
       "            </tr>\n",
       "            <tr>\n",
       "                <td title=\"Validity of minos error\">Valid</td>\n",
       "                <td style=\"background-color:#92CCA6\">True</td>\n",
       "                <td style=\"background-color:#92CCA6\">True</td>\n",
       "            </tr>\n",
       "            <tr>\n",
       "                <td title=\"Did minos error search hit limit of any paramter?\">At Limit</td>\n",
       "                <td style=\"background-color:#92CCA6\">False</td>\n",
       "                <td style=\"background-color:#FF7878\">True</td>\n",
       "            </tr>\n",
       "            <tr>\n",
       "                <td title=\"I don't really know what this one means... Post it in issue if you know\">Max FCN</td>\n",
       "                <td style=\"background-color:#92CCA6\">False</td>\n",
       "                <td style=\"background-color:#92CCA6\">False</td>\n",
       "            </tr>\n",
       "            <tr>\n",
       "                <td title=\"New minimum found when doing minos scan.\">New Min</td>\n",
       "                <td style=\"background-color:#92CCA6\">False</td>\n",
       "                <td style=\"background-color:#92CCA6\">False</td>\n",
       "            </tr>\n",
       "        </table>\n",
       "        "
      ]
     },
     "metadata": {},
     "output_type": "display_data"
    },
    {
     "name": "stderr",
     "output_type": "stream",
     "text": [
      "/Users/vince/tensorflow/lib/python2.7/site-packages/ipykernel_launcher.py:4: RuntimeWarning: fcn returns Nan\n",
      "fcn is called with following arguments:\n",
      "          SigXSecOverSM = +2.130923\n",
      "         BackgroundNorm = -7.071648\n",
      "    NormSystUncertainty = -2.129178\n",
      "\n",
      "  after removing the cwd from sys.path.\n",
      "/Users/vince/tensorflow/lib/python2.7/site-packages/scipy/stats/_discrete_distns.py:462: RuntimeWarning: invalid value encountered in greater_equal\n",
      "  return mu >= 0\n",
      "/Users/vince/tensorflow/lib/python2.7/site-packages/ipykernel_launcher.py:4: RuntimeWarning: fcn returns Nan\n",
      "fcn is called with following arguments:\n",
      "          SigXSecOverSM = nan\n",
      "         BackgroundNorm = -7.071648\n",
      "    NormSystUncertainty = -2.129178\n",
      "\n",
      "  after removing the cwd from sys.path.\n",
      "/Users/vince/tensorflow/lib/python2.7/site-packages/ipykernel_launcher.py:4: RuntimeWarning: fcn returns Nan\n",
      "fcn is called with following arguments:\n",
      "          SigXSecOverSM = +2.130923\n",
      "         BackgroundNorm = -7.071648\n",
      "    NormSystUncertainty = nan\n",
      "\n",
      "  after removing the cwd from sys.path.\n",
      "/Users/vince/tensorflow/lib/python2.7/site-packages/ipykernel_launcher.py:4: RuntimeWarning: fcn returns Nan\n",
      "fcn is called with following arguments:\n",
      "          SigXSecOverSM = nan\n",
      "         BackgroundNorm = -7.071648\n",
      "    NormSystUncertainty = nan\n",
      "\n",
      "  after removing the cwd from sys.path.\n",
      "/Users/vince/tensorflow/lib/python2.7/site-packages/ipykernel_launcher.py:4: RuntimeWarning: fcn returns Nan\n",
      "fcn is called with following arguments:\n",
      "          SigXSecOverSM = +1.500000\n",
      "         BackgroundNorm = nan\n",
      "    NormSystUncertainty = +0.000000\n",
      "\n",
      "  after removing the cwd from sys.path.\n",
      "/Users/vince/tensorflow/lib/python2.7/site-packages/ipykernel_launcher.py:4: RuntimeWarning: fcn returns Nan\n",
      "fcn is called with following arguments:\n",
      "          SigXSecOverSM = nan\n",
      "         BackgroundNorm = nan\n",
      "    NormSystUncertainty = +0.000000\n",
      "\n",
      "  after removing the cwd from sys.path.\n",
      "/Users/vince/tensorflow/lib/python2.7/site-packages/ipykernel_launcher.py:4: RuntimeWarning: fcn returns Nan\n",
      "fcn is called with following arguments:\n",
      "          SigXSecOverSM = +1.500000\n",
      "         BackgroundNorm = nan\n",
      "    NormSystUncertainty = nan\n",
      "\n",
      "  after removing the cwd from sys.path.\n",
      "/Users/vince/tensorflow/lib/python2.7/site-packages/ipykernel_launcher.py:4: RuntimeWarning: fcn returns Nan\n",
      "fcn is called with following arguments:\n",
      "          SigXSecOverSM = nan\n",
      "         BackgroundNorm = nan\n",
      "    NormSystUncertainty = nan\n",
      "\n",
      "  after removing the cwd from sys.path.\n"
     ]
    },
    {
     "data": {
      "text/html": [
       "\n",
       "        <span>Minos status for BackgroundNorm: <span style=\"background-color:#FF7878\">PROBLEM</span></span>\n",
       "        <table>\n",
       "            <tr>\n",
       "                <td title=\"lower and upper minos error of the parameter\">Error</td>\n",
       "                <td>-8.05421246586</td>\n",
       "                <td>2.54836239918</td>\n",
       "            </tr>\n",
       "            <tr>\n",
       "                <td title=\"Validity of minos error\">Valid</td>\n",
       "                <td style=\"background-color:#FF7878\">False</td>\n",
       "                <td style=\"background-color:#92CCA6\">True</td>\n",
       "            </tr>\n",
       "            <tr>\n",
       "                <td title=\"Did minos error search hit limit of any paramter?\">At Limit</td>\n",
       "                <td style=\"background-color:#92CCA6\">False</td>\n",
       "                <td style=\"background-color:#92CCA6\">False</td>\n",
       "            </tr>\n",
       "            <tr>\n",
       "                <td title=\"I don't really know what this one means... Post it in issue if you know\">Max FCN</td>\n",
       "                <td style=\"background-color:#92CCA6\">False</td>\n",
       "                <td style=\"background-color:#92CCA6\">False</td>\n",
       "            </tr>\n",
       "            <tr>\n",
       "                <td title=\"New minimum found when doing minos scan.\">New Min</td>\n",
       "                <td style=\"background-color:#92CCA6\">False</td>\n",
       "                <td style=\"background-color:#92CCA6\">False</td>\n",
       "            </tr>\n",
       "        </table>\n",
       "        "
      ]
     },
     "metadata": {},
     "output_type": "display_data"
    },
    {
     "data": {
      "text/html": [
       "\n",
       "        <span>Minos status for NormSystUncertainty: <span style=\"background-color:#92CCA6\">VALID</span></span>\n",
       "        <table>\n",
       "            <tr>\n",
       "                <td title=\"lower and upper minos error of the parameter\">Error</td>\n",
       "                <td>-5.04346459467</td>\n",
       "                <td>4.95653540533</td>\n",
       "            </tr>\n",
       "            <tr>\n",
       "                <td title=\"Validity of minos error\">Valid</td>\n",
       "                <td style=\"background-color:#92CCA6\">True</td>\n",
       "                <td style=\"background-color:#92CCA6\">True</td>\n",
       "            </tr>\n",
       "            <tr>\n",
       "                <td title=\"Did minos error search hit limit of any paramter?\">At Limit</td>\n",
       "                <td style=\"background-color:#FF7878\">True</td>\n",
       "                <td style=\"background-color:#FF7878\">True</td>\n",
       "            </tr>\n",
       "            <tr>\n",
       "                <td title=\"I don't really know what this one means... Post it in issue if you know\">Max FCN</td>\n",
       "                <td style=\"background-color:#92CCA6\">False</td>\n",
       "                <td style=\"background-color:#92CCA6\">False</td>\n",
       "            </tr>\n",
       "            <tr>\n",
       "                <td title=\"New minimum found when doing minos scan.\">New Min</td>\n",
       "                <td style=\"background-color:#92CCA6\">False</td>\n",
       "                <td style=\"background-color:#92CCA6\">False</td>\n",
       "            </tr>\n",
       "        </table>\n",
       "        "
      ]
     },
     "metadata": {},
     "output_type": "display_data"
    },
    {
     "data": {
      "text/plain": [
       "{'BackgroundNorm': {'lower_new_min': False, 'upper': 2.548362399175536, 'lower': -8.054212465860097, 'at_lower_limit': False, 'min': 0.9825642187442141, 'at_lower_max_fcn': False, 'is_valid': False, 'upper_new_min': False, 'at_upper_limit': False, 'lower_valid': False, 'upper_valid': True, 'at_upper_max_fcn': False, 'nfcn': 617},\n",
       " 'NormSystUncertainty': {'lower_new_min': False, 'upper': 4.956535405325898, 'lower': -5.043464594674102, 'at_lower_limit': True, 'min': 0.04346459467410213, 'at_lower_max_fcn': False, 'is_valid': True, 'upper_new_min': False, 'at_upper_limit': True, 'lower_valid': True, 'upper_valid': True, 'at_upper_max_fcn': False, 'nfcn': 181},\n",
       " 'SigXSecOverSM': {'lower_new_min': False, 'upper': 0.9758196321211008, 'lower': -2.010289989503734, 'at_lower_limit': False, 'min': 2.024180367878899, 'at_lower_max_fcn': False, 'is_valid': True, 'upper_new_min': False, 'at_upper_limit': True, 'lower_valid': True, 'upper_valid': True, 'at_upper_max_fcn': False, 'nfcn': 119}}"
      ]
     },
     "execution_count": 21,
     "metadata": {},
     "output_type": "execute_result"
    }
   ],
   "source": [
    "minimiser = Minuit(blh, **params)\n",
    "minimiser.migrad()\n",
    "minimiser.hesse()\n",
    "minimiser.minos()"
   ]
  },
  {
   "cell_type": "code",
   "execution_count": 22,
   "metadata": {},
   "outputs": [
    {
     "data": {
      "text/plain": [
       "(array([-2.77418587, -2.67724917, -2.58031248, -2.48337579, -2.3864391 ,\n",
       "        -2.28950241, -2.19256572, -2.09562902, -1.99869233, -1.90175564,\n",
       "        -1.80481895, -1.70788226, -1.61094557, -1.51400888, -1.41707218,\n",
       "        -1.32013549, -1.2231988 , -1.12626211, -1.02932542, -0.93238873,\n",
       "        -0.83545203, -0.73851534, -0.64157865, -0.54464196, -0.44770527,\n",
       "        -0.35076858, -0.25383188, -0.15689519, -0.0599585 ,  0.03697819,\n",
       "         0.13391488,  0.23085157,  0.32778827,  0.42472496,  0.52166165,\n",
       "         0.61859834,  0.71553503,  0.81247172,  0.90940841,  1.00634511,\n",
       "         1.1032818 ,  1.20021849,  1.29715518,  1.39409187,  1.49102856,\n",
       "         1.58796526,  1.68490195,  1.78183864,  1.87877533,  1.97571202,\n",
       "         2.07264871,  2.16958541,  2.2665221 ,  2.36345879,  2.46039548,\n",
       "         2.55733217,  2.65426886,  2.75120555,  2.84814225,  2.94507894,\n",
       "         3.04201563,  3.13895232,  3.23588901,  3.3328257 ,  3.4297624 ,\n",
       "         3.52669909,  3.62363578,  3.72057247,  3.81750916,  3.91444585,\n",
       "         4.01138255,  4.10831924,  4.20525593,  4.30219262,  4.39912931,\n",
       "         4.496066  ,  4.59300269,  4.68993939,  4.78687608,  4.88381277,\n",
       "         4.98074946,  5.07768615,  5.17462284,  5.27155954,  5.36849623,\n",
       "         5.46543292,  5.56236961,  5.6593063 ,  5.75624299,  5.85317969,\n",
       "         5.95011638,  6.04705307,  6.14398976,  6.24092645,  6.33786314,\n",
       "         6.43479984,  6.53173653,  6.62867322,  6.72560991,  6.8225466 ]),\n",
       " array([         nan,          nan,          nan,          nan,\n",
       "                 nan,          nan,          nan,          nan,\n",
       "                 nan,          nan,          nan,          nan,\n",
       "                 nan,          nan,          nan,          nan,\n",
       "         89.64184975,  56.79418556,  46.6902548 ,  40.23609985,\n",
       "         35.45217065,  31.65870505,  28.53283088,  25.89287098,\n",
       "         23.6252093 ,  21.65346038,  19.92348807,  18.39535265,\n",
       "         17.03864163,  15.82959817,  14.7492694 ,  13.78226526,\n",
       "         12.91589925,  12.13957682,  11.44434991,  10.82258556,\n",
       "         10.26771501,   9.77404078,   9.33658603,   8.95097566,\n",
       "          8.61334118,   8.32024399,   8.06861274,   7.85569194,\n",
       "          7.67899929,   7.5362901 ,   7.42552739,   7.34485657,\n",
       "          7.29258398,   7.26715846,   7.26715554,   7.29126381,\n",
       "          7.33827307,   7.40706402,   7.49659923,   7.60591524,\n",
       "          7.73411558,   7.88036462,   8.0438821 ,   8.22393828,\n",
       "          8.41984961,   8.63097484,   8.85671161,   9.09649326,\n",
       "          9.34978606,   9.61608667,   9.89491985,  10.18583638,\n",
       "         10.48841116,  10.80224151,  11.12694558,  11.46216095,\n",
       "         11.80754329,  12.16276517,  12.52751498,  12.90149589,\n",
       "         13.28442492,  13.67603211,  14.07605969,  14.48426137,\n",
       "         14.90040165,  15.32425521,  15.75560631,  16.19424826,\n",
       "         16.63998288,  17.0926201 ,  17.55197745,  18.01787973,\n",
       "         18.49015854,  18.968652  ,  19.45320439,  19.94366581,\n",
       "         20.43989196,  20.94174377,  21.44908724,  21.96179314,\n",
       "         22.47973679,  23.00279784,  23.53086013,  24.0638114 ]))"
      ]
     },
     "execution_count": 22,
     "metadata": {},
     "output_type": "execute_result"
    },
    {
     "data": {
      "image/png": "[encoded data removed]",
      "text/plain": [
       "<matplotlib.figure.Figure at 0x10a6af890>"
      ]
     },
     "metadata": {},
     "output_type": "display_data"
    }
   ],
   "source": [
    "minimiser.draw_profile('SigXSecOverSM')"
   ]
  },
  {
   "cell_type": "markdown",
   "metadata": {},
   "source": [
    "# Testing HistoSys"
   ]
  },
  {
   "cell_type": "code",
   "execution_count": 23,
   "metadata": {},
   "outputs": [],
   "source": [
    "m3 = HistiModel('newmodel')\n",
    "signal = HistiSample('signal')\n",
    "binedges = [0,1,2,3,4]\n",
    "signal.SetHisto((hist_sig,binedges))\n",
    "signal.AddNorm(\"SigXSecOverSM\",1.0,0,3)\n",
    "background = HistiSample('background')\n",
    "background.SetHisto((hist_bkg, binedges))\n",
    "background.AddNorm(\"BackgroundNorm\",1.,0,100)\n",
    "background.AddOverallSys(\"NormSystUncertainty\",.9,1.1)"
   ]
  },
  {
   "cell_type": "code",
   "execution_count": 24,
   "metadata": {},
   "outputs": [],
   "source": [
    "h_up = [5.1,5.2,5.3,5.6]\n",
    "h_down = [4.9,4.8,4.7,4.4]\n",
    "background.AddHistoSys(\"HistoSystUncertainty\",h_down,h_up)"
   ]
  },
  {
   "cell_type": "code",
   "execution_count": 25,
   "metadata": {},
   "outputs": [
    {
     "data": {
      "text/plain": [
       "['x', 'BackgroundNorm', 'NormSystUncertainty', 'HistoSystUncertainty']"
      ]
     },
     "execution_count": 25,
     "metadata": {},
     "output_type": "execute_result"
    }
   ],
   "source": [
    "from iminuit import describe\n",
    "describe(background.pdf)"
   ]
  },
  {
   "cell_type": "code",
   "execution_count": 26,
   "metadata": {},
   "outputs": [
    {
     "name": "stdout",
     "output_type": "stream",
     "text": [
      "[5 5 5 5]\n",
      "[5.0, 5.0, 5.0, 5.0]\n"
     ]
    }
   ],
   "source": [
    "print background.bincontent\n",
    "assess = []\n",
    "for i in range(len(background.bincontent)):\n",
    "    assess.append(background.pdf(i,1.,0.,0.))\n",
    "print assess"
   ]
  },
  {
   "cell_type": "code",
   "execution_count": 27,
   "metadata": {},
   "outputs": [],
   "source": [
    "chan = HistiChannel(\"SR\")\n",
    "chan.AddSample(signal)\n",
    "chan.AddSample(background)\n",
    "\n",
    "data = hist_sig*2 +hist_bkg\n",
    "\n",
    "chan.SetData(data)\n",
    "m3.AddChannel(chan)"
   ]
  },
  {
   "cell_type": "code",
   "execution_count": 28,
   "metadata": {
    "scrolled": false
   },
   "outputs": [
    {
     "name": "stdout",
     "output_type": "stream",
     "text": [
      "params are  {'BackgroundNorm': 1.0, 'limit_SigXSecOverSM': (0, 3), 'NormSystUncertainty': 0.20000000000000007, 'SigXSecOverSM': 1.0, 'limit_HistoSystUncertainty': (-5, 5), 'HistoSystUncertainty': 2.4000000000000057, 'errordef': 1, 'limit_NormSystUncertainty': (-5, 5), 'limit_BackgroundNorm': (0, 100)}\n"
     ]
    }
   ],
   "source": [
    "blh = BinnedLH(m3, bound=(0,4))\n",
    "params = m3.Parameters()\n",
    "print \"params are \",params"
   ]
  },
  {
   "cell_type": "code",
   "execution_count": 29,
   "metadata": {},
   "outputs": [
    {
     "name": "stderr",
     "output_type": "stream",
     "text": [
      "/Users/vince/tensorflow/lib/python2.7/site-packages/ipykernel_launcher.py:1: InitialParamWarning: Parameter SigXSecOverSM is floating but does not have initial step size. Assume 1.\n",
      "  \"\"\"Entry point for launching an IPython kernel.\n",
      "/Users/vince/tensorflow/lib/python2.7/site-packages/ipykernel_launcher.py:1: InitialParamWarning: Parameter BackgroundNorm is floating but does not have initial step size. Assume 1.\n",
      "  \"\"\"Entry point for launching an IPython kernel.\n",
      "/Users/vince/tensorflow/lib/python2.7/site-packages/ipykernel_launcher.py:1: InitialParamWarning: Parameter NormSystUncertainty is floating but does not have initial step size. Assume 1.\n",
      "  \"\"\"Entry point for launching an IPython kernel.\n",
      "/Users/vince/tensorflow/lib/python2.7/site-packages/ipykernel_launcher.py:1: InitialParamWarning: Parameter HistoSystUncertainty is floating but does not have initial step size. Assume 1.\n",
      "  \"\"\"Entry point for launching an IPython kernel.\n"
     ]
    },
    {
     "data": {
      "text/html": [
       "<hr>"
      ]
     },
     "metadata": {},
     "output_type": "display_data"
    },
    {
     "data": {
      "text/html": [
       "\n",
       "        <table>\n",
       "            <tr>\n",
       "                <td title=\"Minimum value of function\">FCN = 7.26397149772</td>\n",
       "                <td title=\"Total number of call to FCN so far\">TOTAL NCALL = 104</td>\n",
       "                <td title=\"Number of call in last migrad\">NCALLS = 104</td>\n",
       "            </tr>\n",
       "            <tr>\n",
       "                <td title=\"Estimated distance to minimum\">EDM = 7.2545180027e-05</td>\n",
       "                <td title=\"Maximum EDM definition of convergence\">GOAL EDM = 1e-05</td>\n",
       "                <td title=\"Error def. Amount of increase in FCN to be defined as 1 standard deviation\">\n",
       "                UP = 1.0</td>\n",
       "            </tr>\n",
       "        </table>\n",
       "        \n",
       "        <table>\n",
       "            <tr>\n",
       "                <td align=\"center\" title=\"Validity of the migrad call\">Valid</td>\n",
       "                <td align=\"center\" title=\"Validity of parameters\">Valid Param</td>\n",
       "                <td align=\"center\" title=\"Is Covariance matrix accurate?\">Accurate Covar</td>\n",
       "                <td align=\"center\" title=\"Positive definiteness of covariance matrix\">PosDef</td>\n",
       "                <td align=\"center\" title=\"Was covariance matrix made posdef by adding diagonal element\">Made PosDef</td>\n",
       "            </tr>\n",
       "            <tr>\n",
       "                <td align=\"center\" style=\"background-color:#92CCA6\">True</td>\n",
       "                <td align=\"center\" style=\"background-color:#92CCA6\">True</td>\n",
       "                <td align=\"center\" style=\"background-color:#FF7878\">False</td>\n",
       "                <td align=\"center\" style=\"background-color:#FF7878\">False</td>\n",
       "                <td align=\"center\" style=\"background-color:#FF7878\">True</td>\n",
       "            </tr>\n",
       "            <tr>\n",
       "                <td align=\"center\" title=\"Was last hesse call fail?\">Hesse Fail</td>\n",
       "                <td align=\"center\" title=\"Validity of covariance\">HasCov</td>\n",
       "                <td align=\"center\" title=\"Is EDM above goal EDM?\">Above EDM</td>\n",
       "                <td align=\"center\"></td>\n",
       "                <td align=\"center\" title=\"Did last migrad call reach max call limit?\">Reach calllim</td>\n",
       "            </tr>\n",
       "            <tr>\n",
       "                <td align=\"center\" style=\"background-color:#92CCA6\">False</td>\n",
       "                <td align=\"center\" style=\"background-color:#92CCA6\">True</td>\n",
       "                <td align=\"center\" style=\"background-color:#92CCA6\">False</td>\n",
       "                <td align=\"center\"></td>\n",
       "                <td align=\"center\" style=\"background-color:#92CCA6\">False</td>\n",
       "            </tr>\n",
       "        </table>\n",
       "        "
      ]
     },
     "metadata": {},
     "output_type": "display_data"
    },
    {
     "data": {
      "text/html": [
       "\n",
       "        <table>\n",
       "            <tr>\n",
       "                <td><a href=\"#\" onclick=\"$('#chVsxtbwMg').toggle()\">+</a></td>\n",
       "                <td title=\"Variable name\">Name</td>\n",
       "                <td title=\"Value of parameter\">Value</td>\n",
       "                <td title=\"Parabolic error\">Parab Error</td>\n",
       "                <td title=\"Minos lower error\">Minos Error-</td>\n",
       "                <td title=\"Minos upper error\">Minos Error+</td>\n",
       "                <td title=\"Lower limit of the parameter\">Limit-</td>\n",
       "                <td title=\"Upper limit of the parameter\">Limit+</td>\n",
       "                <td title=\"Is the parameter fixed in the fit\">FIXED</td>\n",
       "            </tr>\n",
       "        \n",
       "            <tr>\n",
       "                <td>1</td>\n",
       "                <td>SigXSecOverSM</td>\n",
       "                <td>1.95743</td>\n",
       "                <td>1.61873</td>\n",
       "                <td>0</td>\n",
       "                <td>0</td>\n",
       "                <td>0.0</td>\n",
       "                <td>3.0</td>\n",
       "                <td></td>\n",
       "            </tr>\n",
       "            \n",
       "            <tr>\n",
       "                <td>2</td>\n",
       "                <td>BackgroundNorm</td>\n",
       "                <td>0.994146</td>\n",
       "                <td>5.95512</td>\n",
       "                <td>0</td>\n",
       "                <td>0</td>\n",
       "                <td>0.0</td>\n",
       "                <td>100.0</td>\n",
       "                <td></td>\n",
       "            </tr>\n",
       "            \n",
       "            <tr>\n",
       "                <td>3</td>\n",
       "                <td>NormSystUncertainty</td>\n",
       "                <td>0.118706</td>\n",
       "                <td>6.98125</td>\n",
       "                <td>0</td>\n",
       "                <td>0</td>\n",
       "                <td>-5.0</td>\n",
       "                <td>5.0</td>\n",
       "                <td></td>\n",
       "            </tr>\n",
       "            \n",
       "            <tr>\n",
       "                <td>4</td>\n",
       "                <td>HistoSystUncertainty</td>\n",
       "                <td>0.319954</td>\n",
       "                <td>5.91294</td>\n",
       "                <td>0</td>\n",
       "                <td>0</td>\n",
       "                <td>-5.0</td>\n",
       "                <td>5.0</td>\n",
       "                <td></td>\n",
       "            </tr>\n",
       "            \n",
       "            </table>\n",
       "        \n",
       "            <pre id=\"chVsxtbwMg\" style=\"display:none;\">\n",
       "            <textarea rows=\"14\" cols=\"50\" onclick=\"this.select()\" readonly>\\begin{tabular}{|c|r|r|r|r|r|r|r|c|}\n",
       "\\hline\n",
       " & Name & Value & Para Error & Error+ & Error- & Limit+ & Limit- & FIXED\\\\\n",
       "\\hline\n",
       "1 & SigXSecOverSM & 1.957e+00 & 1.619e+00 &  &  & 0.000e+00 & 3.000e+00 & \\\\\n",
       "\\hline\n",
       "2 & BackgroundNorm & 9.941e-01 & 5.955e+00 &  &  & 0.000e+00 & 1.000e+02 & \\\\\n",
       "\\hline\n",
       "3 & NormSystUncertainty & 1.187e-01 & 6.981e+00 &  &  & -5.000e+00 & 5.000e+00 & \\\\\n",
       "\\hline\n",
       "4 & HistoSystUncertainty & 3.200e-01 & 5.913e+00 &  &  & -5.000e+00 & 5.000e+00 & \\\\\n",
       "\\hline\n",
       "\\end{tabular}</textarea>\n",
       "            </pre>\n",
       "            "
      ]
     },
     "metadata": {},
     "output_type": "display_data"
    },
    {
     "data": {
      "text/html": [
       "<hr>"
      ]
     },
     "metadata": {},
     "output_type": "display_data"
    },
    {
     "data": {
      "text/html": [
       "\n",
       "        <table>\n",
       "            <tr>\n",
       "                <td><a href=\"#\" onclick=\"$('#qgzXRzsClA').toggle()\">+</a></td>\n",
       "                <td title=\"Variable name\">Name</td>\n",
       "                <td title=\"Value of parameter\">Value</td>\n",
       "                <td title=\"Parabolic error\">Parab Error</td>\n",
       "                <td title=\"Minos lower error\">Minos Error-</td>\n",
       "                <td title=\"Minos upper error\">Minos Error+</td>\n",
       "                <td title=\"Lower limit of the parameter\">Limit-</td>\n",
       "                <td title=\"Upper limit of the parameter\">Limit+</td>\n",
       "                <td title=\"Is the parameter fixed in the fit\">FIXED</td>\n",
       "            </tr>\n",
       "        \n",
       "            <tr>\n",
       "                <td>1</td>\n",
       "                <td>SigXSecOverSM</td>\n",
       "                <td>1.95743</td>\n",
       "                <td>1.75997</td>\n",
       "                <td>0</td>\n",
       "                <td>0</td>\n",
       "                <td>0.0</td>\n",
       "                <td>3.0</td>\n",
       "                <td></td>\n",
       "            </tr>\n",
       "            \n",
       "            <tr>\n",
       "                <td>2</td>\n",
       "                <td>BackgroundNorm</td>\n",
       "                <td>0.994146</td>\n",
       "                <td>5.89329</td>\n",
       "                <td>0</td>\n",
       "                <td>0</td>\n",
       "                <td>0.0</td>\n",
       "                <td>100.0</td>\n",
       "                <td></td>\n",
       "            </tr>\n",
       "            \n",
       "            <tr>\n",
       "                <td>3</td>\n",
       "                <td>NormSystUncertainty</td>\n",
       "                <td>0.118706</td>\n",
       "                <td>7.0251</td>\n",
       "                <td>0</td>\n",
       "                <td>0</td>\n",
       "                <td>-5.0</td>\n",
       "                <td>5.0</td>\n",
       "                <td></td>\n",
       "            </tr>\n",
       "            \n",
       "            <tr>\n",
       "                <td>4</td>\n",
       "                <td>HistoSystUncertainty</td>\n",
       "                <td>0.319954</td>\n",
       "                <td>5.16801</td>\n",
       "                <td>0</td>\n",
       "                <td>0</td>\n",
       "                <td>-5.0</td>\n",
       "                <td>5.0</td>\n",
       "                <td></td>\n",
       "            </tr>\n",
       "            \n",
       "            </table>\n",
       "        \n",
       "            <pre id=\"qgzXRzsClA\" style=\"display:none;\">\n",
       "            <textarea rows=\"14\" cols=\"50\" onclick=\"this.select()\" readonly>\\begin{tabular}{|c|r|r|r|r|r|r|r|c|}\n",
       "\\hline\n",
       " & Name & Value & Para Error & Error+ & Error- & Limit+ & Limit- & FIXED\\\\\n",
       "\\hline\n",
       "1 & SigXSecOverSM & 1.957e+00 & 1.760e+00 &  &  & 0.000e+00 & 3.000e+00 & \\\\\n",
       "\\hline\n",
       "2 & BackgroundNorm & 9.941e-01 & 5.893e+00 &  &  & 0.000e+00 & 1.000e+02 & \\\\\n",
       "\\hline\n",
       "3 & NormSystUncertainty & 1.187e-01 & 7.025e+00 &  &  & -5.000e+00 & 5.000e+00 & \\\\\n",
       "\\hline\n",
       "4 & HistoSystUncertainty & 3.200e-01 & 5.168e+00 &  &  & -5.000e+00 & 5.000e+00 & \\\\\n",
       "\\hline\n",
       "\\end{tabular}</textarea>\n",
       "            </pre>\n",
       "            "
      ]
     },
     "metadata": {},
     "output_type": "display_data"
    },
    {
     "data": {
      "text/html": [
       "\n",
       "            <table>\n",
       "                <tr>\n",
       "                    <td><a onclick=\"$('#nrPiyjAwqg').toggle()\" href=\"#\">+</a></td>\n",
       "        \n",
       "            <td>\n",
       "            <div style=\"width:20px;position:relative; width: -moz-fit-content;\">\n",
       "            <div style=\"display:inline-block;-webkit-writing-mode:vertical-rl;-moz-writing-mode: vertical-rl;writing-mode: vertical-rl;\">\n",
       "            SigXSecOverSM\n",
       "            </div>\n",
       "            </div>\n",
       "            </td>\n",
       "            \n",
       "            <td>\n",
       "            <div style=\"width:20px;position:relative; width: -moz-fit-content;\">\n",
       "            <div style=\"display:inline-block;-webkit-writing-mode:vertical-rl;-moz-writing-mode: vertical-rl;writing-mode: vertical-rl;\">\n",
       "            BackgroundNorm\n",
       "            </div>\n",
       "            </div>\n",
       "            </td>\n",
       "            \n",
       "            <td>\n",
       "            <div style=\"width:20px;position:relative; width: -moz-fit-content;\">\n",
       "            <div style=\"display:inline-block;-webkit-writing-mode:vertical-rl;-moz-writing-mode: vertical-rl;writing-mode: vertical-rl;\">\n",
       "            NormSystUncertainty\n",
       "            </div>\n",
       "            </div>\n",
       "            </td>\n",
       "            \n",
       "            <td>\n",
       "            <div style=\"width:20px;position:relative; width: -moz-fit-content;\">\n",
       "            <div style=\"display:inline-block;-webkit-writing-mode:vertical-rl;-moz-writing-mode: vertical-rl;writing-mode: vertical-rl;\">\n",
       "            HistoSystUncertainty\n",
       "            </div>\n",
       "            </div>\n",
       "            </td>\n",
       "            \n",
       "                </tr>\n",
       "                \n",
       "            <tr>\n",
       "                <td>SigXSecOverSM</td>\n",
       "            \n",
       "                <td style=\"background-color:rgb(255,117,117)\">\n",
       "                1.00\n",
       "                </td>\n",
       "                \n",
       "                <td style=\"background-color:rgb(164,252,185)\">\n",
       "                0.01\n",
       "                </td>\n",
       "                \n",
       "                <td style=\"background-color:rgb(176,234,176)\">\n",
       "                -0.14\n",
       "                </td>\n",
       "                \n",
       "                <td style=\"background-color:rgb(247,128,123)\">\n",
       "                -0.92\n",
       "                </td>\n",
       "                \n",
       "            </tr>\n",
       "            \n",
       "            <tr>\n",
       "                <td>BackgroundNorm</td>\n",
       "            \n",
       "                <td style=\"background-color:rgb(164,252,185)\">\n",
       "                0.01\n",
       "                </td>\n",
       "                \n",
       "                <td style=\"background-color:rgb(255,117,117)\">\n",
       "                1.00\n",
       "                </td>\n",
       "                \n",
       "                <td style=\"background-color:rgb(253,120,118)\">\n",
       "                -0.98\n",
       "                </td>\n",
       "                \n",
       "                <td style=\"background-color:rgb(168,247,183)\">\n",
       "                -0.05\n",
       "                </td>\n",
       "                \n",
       "            </tr>\n",
       "            \n",
       "            <tr>\n",
       "                <td>NormSystUncertainty</td>\n",
       "            \n",
       "                <td style=\"background-color:rgb(176,234,176)\">\n",
       "                -0.14\n",
       "                </td>\n",
       "                \n",
       "                <td style=\"background-color:rgb(253,120,118)\">\n",
       "                -0.98\n",
       "                </td>\n",
       "                \n",
       "                <td style=\"background-color:rgb(255,117,117)\">\n",
       "                1.00\n",
       "                </td>\n",
       "                \n",
       "                <td style=\"background-color:rgb(174,238,178)\">\n",
       "                0.12\n",
       "                </td>\n",
       "                \n",
       "            </tr>\n",
       "            \n",
       "            <tr>\n",
       "                <td>HistoSystUncertainty</td>\n",
       "            \n",
       "                <td style=\"background-color:rgb(247,128,123)\">\n",
       "                -0.92\n",
       "                </td>\n",
       "                \n",
       "                <td style=\"background-color:rgb(168,247,183)\">\n",
       "                -0.05\n",
       "                </td>\n",
       "                \n",
       "                <td style=\"background-color:rgb(174,238,178)\">\n",
       "                0.12\n",
       "                </td>\n",
       "                \n",
       "                <td style=\"background-color:rgb(255,117,117)\">\n",
       "                1.00\n",
       "                </td>\n",
       "                \n",
       "            </tr>\n",
       "            </table>\n",
       "\n",
       "            <pre id=\"nrPiyjAwqg\" style=\"display:none;\">\n",
       "            <textarea rows=\"17\" cols=\"50\" onclick=\"this.select()\" readonly>%\\usepackage[table]{xcolor} % include this for color\n",
       "%\\usepackage{rotating} % include this for rotate header\n",
       "%\\documentclass[xcolor=table]{beamer} % for beamer\n",
       "\\begin{tabular}{|c|c|c|c|c|}\n",
       "\\hline\n",
       "\\rotatebox{90}{} & \\rotatebox{90}{SigXSecOverSM} & \\rotatebox{90}{BackgroundNorm} & \\rotatebox{90}{NormSystUncertainty} & \\rotatebox{90}{HistoSystUncertainty}\\\\\n",
       "\\hline\n",
       "SigXSecOverSM & \\cellcolor[RGB]{255,117,117} 1.00 & \\cellcolor[RGB]{164,252,185} 0.01 & \\cellcolor[RGB]{176,234,176} -0.14 & \\cellcolor[RGB]{247,128,123} -0.92\\\\\n",
       "\\hline\n",
       "BackgroundNorm & \\cellcolor[RGB]{164,252,185} 0.01 & \\cellcolor[RGB]{255,117,117} 1.00 & \\cellcolor[RGB]{253,120,118} -0.98 & \\cellcolor[RGB]{168,247,183} -0.05\\\\\n",
       "\\hline\n",
       "NormSystUncertainty & \\cellcolor[RGB]{176,234,176} -0.14 & \\cellcolor[RGB]{253,120,118} -0.98 & \\cellcolor[RGB]{255,117,117} 1.00 & \\cellcolor[RGB]{174,238,178} 0.12\\\\\n",
       "\\hline\n",
       "HistoSystUncertainty & \\cellcolor[RGB]{247,128,123} -0.92 & \\cellcolor[RGB]{168,247,183} -0.05 & \\cellcolor[RGB]{174,238,178} 0.12 & \\cellcolor[RGB]{255,117,117} 1.00\\\\\n",
       "\\hline\n",
       "\\end{tabular}</textarea>\n",
       "            </pre>\n",
       "            "
      ]
     },
     "metadata": {},
     "output_type": "display_data"
    },
    {
     "data": {
      "text/html": [
       "\n",
       "        <span>Minos status for SigXSecOverSM: <span style=\"background-color:#92CCA6\">VALID</span></span>\n",
       "        <table>\n",
       "            <tr>\n",
       "                <td title=\"lower and upper minos error of the parameter\">Error</td>\n",
       "                <td>-1.95742501576</td>\n",
       "                <td>1.04257498424</td>\n",
       "            </tr>\n",
       "            <tr>\n",
       "                <td title=\"Validity of minos error\">Valid</td>\n",
       "                <td style=\"background-color:#92CCA6\">True</td>\n",
       "                <td style=\"background-color:#92CCA6\">True</td>\n",
       "            </tr>\n",
       "            <tr>\n",
       "                <td title=\"Did minos error search hit limit of any paramter?\">At Limit</td>\n",
       "                <td style=\"background-color:#FF7878\">True</td>\n",
       "                <td style=\"background-color:#FF7878\">True</td>\n",
       "            </tr>\n",
       "            <tr>\n",
       "                <td title=\"I don't really know what this one means... Post it in issue if you know\">Max FCN</td>\n",
       "                <td style=\"background-color:#92CCA6\">False</td>\n",
       "                <td style=\"background-color:#92CCA6\">False</td>\n",
       "            </tr>\n",
       "            <tr>\n",
       "                <td title=\"New minimum found when doing minos scan.\">New Min</td>\n",
       "                <td style=\"background-color:#92CCA6\">False</td>\n",
       "                <td style=\"background-color:#92CCA6\">False</td>\n",
       "            </tr>\n",
       "        </table>\n",
       "        "
      ]
     },
     "metadata": {},
     "output_type": "display_data"
    },
    {
     "name": "stderr",
     "output_type": "stream",
     "text": [
      "/Users/vince/tensorflow/lib/python2.7/site-packages/ipykernel_launcher.py:4: RuntimeWarning: fcn returns Nan\n",
      "fcn is called with following arguments:\n",
      "           SigXSecOverSM = +2.337147\n",
      "          BackgroundNorm = -4.960974\n",
      "     NormSystUncertainty = -3.498937\n",
      "    HistoSystUncertainty = -1.146205\n",
      "\n",
      "  after removing the cwd from sys.path.\n",
      "/Users/vince/tensorflow/lib/python2.7/site-packages/ipykernel_launcher.py:4: RuntimeWarning: fcn returns Nan\n",
      "fcn is called with following arguments:\n",
      "           SigXSecOverSM = nan\n",
      "          BackgroundNorm = -4.960974\n",
      "     NormSystUncertainty = -3.498937\n",
      "    HistoSystUncertainty = -1.146205\n",
      "\n",
      "  after removing the cwd from sys.path.\n",
      "/Users/vince/tensorflow/lib/python2.7/site-packages/ipykernel_launcher.py:4: RuntimeWarning: fcn returns Nan\n",
      "fcn is called with following arguments:\n",
      "           SigXSecOverSM = +2.337147\n",
      "          BackgroundNorm = -4.960974\n",
      "     NormSystUncertainty = nan\n",
      "    HistoSystUncertainty = -1.146205\n",
      "\n",
      "  after removing the cwd from sys.path.\n",
      "/Users/vince/tensorflow/lib/python2.7/site-packages/ipykernel_launcher.py:4: RuntimeWarning: fcn returns Nan\n",
      "fcn is called with following arguments:\n",
      "           SigXSecOverSM = +2.337147\n",
      "          BackgroundNorm = -4.960974\n",
      "     NormSystUncertainty = -3.498937\n",
      "    HistoSystUncertainty = nan\n",
      "\n",
      "  after removing the cwd from sys.path.\n",
      "/Users/vince/tensorflow/lib/python2.7/site-packages/ipykernel_launcher.py:4: RuntimeWarning: fcn returns Nan\n",
      "fcn is called with following arguments:\n",
      "           SigXSecOverSM = nan\n",
      "          BackgroundNorm = -4.960974\n",
      "     NormSystUncertainty = nan\n",
      "    HistoSystUncertainty = nan\n",
      "\n",
      "  after removing the cwd from sys.path.\n",
      "/Users/vince/tensorflow/lib/python2.7/site-packages/ipykernel_launcher.py:4: RuntimeWarning: fcn returns Nan\n",
      "fcn is called with following arguments:\n",
      "           SigXSecOverSM = +1.500000\n",
      "          BackgroundNorm = nan\n",
      "     NormSystUncertainty = +0.000000\n",
      "    HistoSystUncertainty = +0.000000\n",
      "\n",
      "  after removing the cwd from sys.path.\n",
      "/Users/vince/tensorflow/lib/python2.7/site-packages/ipykernel_launcher.py:4: RuntimeWarning: fcn returns Nan\n",
      "fcn is called with following arguments:\n",
      "           SigXSecOverSM = nan\n",
      "          BackgroundNorm = nan\n",
      "     NormSystUncertainty = +0.000000\n",
      "    HistoSystUncertainty = +0.000000\n",
      "\n",
      "  after removing the cwd from sys.path.\n",
      "/Users/vince/tensorflow/lib/python2.7/site-packages/ipykernel_launcher.py:4: RuntimeWarning: fcn returns Nan\n",
      "fcn is called with following arguments:\n",
      "           SigXSecOverSM = +1.500000\n",
      "          BackgroundNorm = nan\n",
      "     NormSystUncertainty = nan\n",
      "    HistoSystUncertainty = +0.000000\n",
      "\n",
      "  after removing the cwd from sys.path.\n",
      "/Users/vince/tensorflow/lib/python2.7/site-packages/ipykernel_launcher.py:4: RuntimeWarning: fcn returns Nan\n",
      "fcn is called with following arguments:\n",
      "           SigXSecOverSM = +1.500000\n",
      "          BackgroundNorm = nan\n",
      "     NormSystUncertainty = +0.000000\n",
      "    HistoSystUncertainty = nan\n",
      "\n",
      "  after removing the cwd from sys.path.\n",
      "/Users/vince/tensorflow/lib/python2.7/site-packages/ipykernel_launcher.py:4: RuntimeWarning: fcn returns Nan\n",
      "fcn is called with following arguments:\n",
      "           SigXSecOverSM = nan\n",
      "          BackgroundNorm = nan\n",
      "     NormSystUncertainty = nan\n",
      "    HistoSystUncertainty = nan\n",
      "\n",
      "  after removing the cwd from sys.path.\n"
     ]
    },
    {
     "data": {
      "text/html": [
       "\n",
       "        <span>Minos status for BackgroundNorm: <span style=\"background-color:#FF7878\">PROBLEM</span></span>\n",
       "        <table>\n",
       "            <tr>\n",
       "                <td title=\"lower and upper minos error of the parameter\">Error</td>\n",
       "                <td>-5.95512057385</td>\n",
       "                <td>2.58183829813</td>\n",
       "            </tr>\n",
       "            <tr>\n",
       "                <td title=\"Validity of minos error\">Valid</td>\n",
       "                <td style=\"background-color:#FF7878\">False</td>\n",
       "                <td style=\"background-color:#92CCA6\">True</td>\n",
       "            </tr>\n",
       "            <tr>\n",
       "                <td title=\"Did minos error search hit limit of any paramter?\">At Limit</td>\n",
       "                <td style=\"background-color:#92CCA6\">False</td>\n",
       "                <td style=\"background-color:#92CCA6\">False</td>\n",
       "            </tr>\n",
       "            <tr>\n",
       "                <td title=\"I don't really know what this one means... Post it in issue if you know\">Max FCN</td>\n",
       "                <td style=\"background-color:#92CCA6\">False</td>\n",
       "                <td style=\"background-color:#92CCA6\">False</td>\n",
       "            </tr>\n",
       "            <tr>\n",
       "                <td title=\"New minimum found when doing minos scan.\">New Min</td>\n",
       "                <td style=\"background-color:#92CCA6\">False</td>\n",
       "                <td style=\"background-color:#92CCA6\">False</td>\n",
       "            </tr>\n",
       "        </table>\n",
       "        "
      ]
     },
     "metadata": {},
     "output_type": "display_data"
    },
    {
     "data": {
      "text/html": [
       "\n",
       "        <span>Minos status for NormSystUncertainty: <span style=\"background-color:#92CCA6\">VALID</span></span>\n",
       "        <table>\n",
       "            <tr>\n",
       "                <td title=\"lower and upper minos error of the parameter\">Error</td>\n",
       "                <td>-5.1187061485</td>\n",
       "                <td>4.8812938515</td>\n",
       "            </tr>\n",
       "            <tr>\n",
       "                <td title=\"Validity of minos error\">Valid</td>\n",
       "                <td style=\"background-color:#92CCA6\">True</td>\n",
       "                <td style=\"background-color:#92CCA6\">True</td>\n",
       "            </tr>\n",
       "            <tr>\n",
       "                <td title=\"Did minos error search hit limit of any paramter?\">At Limit</td>\n",
       "                <td style=\"background-color:#FF7878\">True</td>\n",
       "                <td style=\"background-color:#FF7878\">True</td>\n",
       "            </tr>\n",
       "            <tr>\n",
       "                <td title=\"I don't really know what this one means... Post it in issue if you know\">Max FCN</td>\n",
       "                <td style=\"background-color:#92CCA6\">False</td>\n",
       "                <td style=\"background-color:#92CCA6\">False</td>\n",
       "            </tr>\n",
       "            <tr>\n",
       "                <td title=\"New minimum found when doing minos scan.\">New Min</td>\n",
       "                <td style=\"background-color:#92CCA6\">False</td>\n",
       "                <td style=\"background-color:#92CCA6\">False</td>\n",
       "            </tr>\n",
       "        </table>\n",
       "        "
      ]
     },
     "metadata": {},
     "output_type": "display_data"
    },
    {
     "data": {
      "text/html": [
       "\n",
       "        <span>Minos status for HistoSystUncertainty: <span style=\"background-color:#92CCA6\">VALID</span></span>\n",
       "        <table>\n",
       "            <tr>\n",
       "                <td title=\"lower and upper minos error of the parameter\">Error</td>\n",
       "                <td>-5.31995392007</td>\n",
       "                <td>4.68004607993</td>\n",
       "            </tr>\n",
       "            <tr>\n",
       "                <td title=\"Validity of minos error\">Valid</td>\n",
       "                <td style=\"background-color:#92CCA6\">True</td>\n",
       "                <td style=\"background-color:#92CCA6\">True</td>\n",
       "            </tr>\n",
       "            <tr>\n",
       "                <td title=\"Did minos error search hit limit of any paramter?\">At Limit</td>\n",
       "                <td style=\"background-color:#FF7878\">True</td>\n",
       "                <td style=\"background-color:#FF7878\">True</td>\n",
       "            </tr>\n",
       "            <tr>\n",
       "                <td title=\"I don't really know what this one means... Post it in issue if you know\">Max FCN</td>\n",
       "                <td style=\"background-color:#92CCA6\">False</td>\n",
       "                <td style=\"background-color:#92CCA6\">False</td>\n",
       "            </tr>\n",
       "            <tr>\n",
       "                <td title=\"New minimum found when doing minos scan.\">New Min</td>\n",
       "                <td style=\"background-color:#92CCA6\">False</td>\n",
       "                <td style=\"background-color:#92CCA6\">False</td>\n",
       "            </tr>\n",
       "        </table>\n",
       "        "
      ]
     },
     "metadata": {},
     "output_type": "display_data"
    },
    {
     "data": {
      "text/plain": [
       "{'BackgroundNorm': {'lower_new_min': False, 'upper': 2.5818382981271, 'lower': -5.955120573847924, 'at_lower_limit': False, 'min': 0.9941464984404236, 'at_lower_max_fcn': False, 'is_valid': False, 'upper_new_min': False, 'at_upper_limit': False, 'lower_valid': False, 'upper_valid': True, 'at_upper_max_fcn': False, 'nfcn': 888},\n",
       " 'HistoSystUncertainty': {'lower_new_min': False, 'upper': 4.680046079933185, 'lower': -5.319953920066815, 'at_lower_limit': True, 'min': 0.31995392006681467, 'at_lower_max_fcn': False, 'is_valid': True, 'upper_new_min': False, 'at_upper_limit': True, 'lower_valid': True, 'upper_valid': True, 'at_upper_max_fcn': False, 'nfcn': 147},\n",
       " 'NormSystUncertainty': {'lower_new_min': False, 'upper': 4.881293851500734, 'lower': -5.118706148499266, 'at_lower_limit': True, 'min': 0.11870614849926575, 'at_lower_max_fcn': False, 'is_valid': True, 'upper_new_min': False, 'at_upper_limit': True, 'lower_valid': True, 'upper_valid': True, 'at_upper_max_fcn': False, 'nfcn': 285},\n",
       " 'SigXSecOverSM': {'lower_new_min': False, 'upper': 1.042574984242493, 'lower': -1.957425015757507, 'at_lower_limit': True, 'min': 1.957425015757507, 'at_lower_max_fcn': False, 'is_valid': True, 'upper_new_min': False, 'at_upper_limit': True, 'lower_valid': True, 'upper_valid': True, 'at_upper_max_fcn': False, 'nfcn': 224}}"
      ]
     },
     "execution_count": 29,
     "metadata": {},
     "output_type": "execute_result"
    }
   ],
   "source": [
    "minimiser = Minuit(blh, **params)\n",
    "minimiser.migrad()\n",
    "minimiser.hesse()\n",
    "minimiser.minos()"
   ]
  },
  {
   "cell_type": "code",
   "execution_count": 30,
   "metadata": {},
   "outputs": [
    {
     "data": {
      "text/plain": [
       "(array([ -1.00160674e+01,  -9.80725886e+00,  -9.59845034e+00,\n",
       "         -9.38964183e+00,  -9.18083332e+00,  -8.97202481e+00,\n",
       "         -8.76321630e+00,  -8.55440779e+00,  -8.34559928e+00,\n",
       "         -8.13679077e+00,  -7.92798226e+00,  -7.71917375e+00,\n",
       "         -7.51036524e+00,  -7.30155673e+00,  -7.09274821e+00,\n",
       "         -6.88393970e+00,  -6.67513119e+00,  -6.46632268e+00,\n",
       "         -6.25751417e+00,  -6.04870566e+00,  -5.83989715e+00,\n",
       "         -5.63108864e+00,  -5.42228013e+00,  -5.21347162e+00,\n",
       "         -5.00466311e+00,  -4.79585460e+00,  -4.58704608e+00,\n",
       "         -4.37823757e+00,  -4.16942906e+00,  -3.96062055e+00,\n",
       "         -3.75181204e+00,  -3.54300353e+00,  -3.33419502e+00,\n",
       "         -3.12538651e+00,  -2.91657800e+00,  -2.70776949e+00,\n",
       "         -2.49896098e+00,  -2.29015247e+00,  -2.08134395e+00,\n",
       "         -1.87253544e+00,  -1.66372693e+00,  -1.45491842e+00,\n",
       "         -1.24610991e+00,  -1.03730140e+00,  -8.28492890e-01,\n",
       "         -6.19684379e-01,  -4.10875868e-01,  -2.02067357e-01,\n",
       "          6.74115381e-03,   2.15549665e-01,   4.24358175e-01,\n",
       "          6.33166686e-01,   8.41975197e-01,   1.05078371e+00,\n",
       "          1.25959222e+00,   1.46840073e+00,   1.67720924e+00,\n",
       "          1.88601775e+00,   2.09482626e+00,   2.30363477e+00,\n",
       "          2.51244328e+00,   2.72125179e+00,   2.93006031e+00,\n",
       "          3.13886882e+00,   3.34767733e+00,   3.55648584e+00,\n",
       "          3.76529435e+00,   3.97410286e+00,   4.18291137e+00,\n",
       "          4.39171988e+00,   4.60052839e+00,   4.80933690e+00,\n",
       "          5.01814541e+00,   5.22695392e+00,   5.43576244e+00,\n",
       "          5.64457095e+00,   5.85337946e+00,   6.06218797e+00,\n",
       "          6.27099648e+00,   6.47980499e+00,   6.68861350e+00,\n",
       "          6.89742201e+00,   7.10623052e+00,   7.31503903e+00,\n",
       "          7.52384754e+00,   7.73265605e+00,   7.94146457e+00,\n",
       "          8.15027308e+00,   8.35908159e+00,   8.56789010e+00,\n",
       "          8.77669861e+00,   8.98550712e+00,   9.19431563e+00,\n",
       "          9.40312414e+00,   9.61193265e+00,   9.82074116e+00,\n",
       "          1.00295497e+01,   1.02383582e+01,   1.04471667e+01,\n",
       "          1.06559752e+01]),\n",
       " array([  8.5249598 ,   8.49030961,   8.45565695,   8.42101349,\n",
       "          8.38639158,   8.35180431,   8.31726554,   8.2827899 ,\n",
       "          8.24839287,   8.21409078,   8.17990088,   8.14584135,\n",
       "          8.11193135,   8.07819108,   8.04464178,   8.01130583,\n",
       "          7.97820674,   7.94536923,   7.91281927,   7.88058412,\n",
       "          7.8486924 ,   7.81717411,   7.78606073,   7.75538521,\n",
       "          7.72518209,   7.69548751,   7.6663393 ,   7.63777701,\n",
       "          7.609842  ,   7.58257748,   7.55602857,   7.53024241,\n",
       "          7.50526815,   7.48115708,   7.45796268,   7.43574068,\n",
       "          7.41454913,   7.39444849,   7.37550169,   7.3577742 ,\n",
       "          7.34133412,   7.32625224,   7.31260214,   7.30046025,\n",
       "          7.28990593,   7.28102156,   7.27389263,   7.26860779,\n",
       "          7.26526578,   7.26396969,   7.26441857,   7.26668546,\n",
       "          7.27084566,   7.27697677,   7.28515876,   7.29547401,\n",
       "          7.30800736,   7.32284617,   7.34008036,   7.35980246,\n",
       "          7.38210769,   7.40709398,   7.43486207,   7.4655155 ,\n",
       "          7.49916073,   7.53590715,   7.57586718,   7.61915628,\n",
       "          7.66589306,   7.7161993 ,   7.77020001,   7.82802354,\n",
       "          7.88980159,   7.95566929,   8.02576527,   8.10023172,\n",
       "          8.17921446,   8.262863  ,   8.35133063,   8.44477445,\n",
       "          8.54335548,   8.64723872,   8.75659322,   8.87159214,\n",
       "          8.99241287,   9.11923706,   9.25225074,   9.39164436,\n",
       "          9.53761292,   9.69035602,   9.85007797,  10.01698786,\n",
       "         10.19129966,  10.37323231,  10.56300983,  10.76086142,\n",
       "         10.9670215 ,  11.18172991,  11.40523195,  11.6377785 ]))"
      ]
     },
     "execution_count": 30,
     "metadata": {},
     "output_type": "execute_result"
    },
    {
     "data": {
      "image/png": "[encoded data removed]",
      "text/plain": [
       "<matplotlib.figure.Figure at 0x10a709390>"
      ]
     },
     "metadata": {},
     "output_type": "display_data"
    }
   ],
   "source": [
    "minimiser.draw_profile('HistoSystUncertainty')"
   ]
  },
  {
   "cell_type": "code",
   "execution_count": 31,
   "metadata": {},
   "outputs": [
    {
     "data": {
      "text/plain": [
       "(array([-13.93149195, -13.64764957, -13.36380718, -13.0799648 ,\n",
       "        -12.79612241, -12.51228002, -12.22843764, -11.94459525,\n",
       "        -11.66075287, -11.37691048, -11.09306809, -10.80922571,\n",
       "        -10.52538332, -10.24154094,  -9.95769855,  -9.67385616,\n",
       "         -9.39001378,  -9.10617139,  -8.82232901,  -8.53848662,\n",
       "         -8.25464424,  -7.97080185,  -7.68695946,  -7.40311708,\n",
       "         -7.11927469,  -6.83543231,  -6.55158992,  -6.26774753,\n",
       "         -5.98390515,  -5.70006276,  -5.41622038,  -5.13237799,\n",
       "         -4.8485356 ,  -4.56469322,  -4.28085083,  -3.99700845,\n",
       "         -3.71316606,  -3.42932368,  -3.14548129,  -2.8616389 ,\n",
       "         -2.57779652,  -2.29395413,  -2.01011175,  -1.72626936,\n",
       "         -1.44242697,  -1.15858459,  -0.8747422 ,  -0.59089982,\n",
       "         -0.30705743,  -0.02321504,   0.26062734,   0.54446973,\n",
       "          0.82831211,   1.1121545 ,   1.39599688,   1.67983927,\n",
       "          1.96368166,   2.24752404,   2.53136643,   2.81520881,\n",
       "          3.0990512 ,   3.38289359,   3.66673597,   3.95057836,\n",
       "          4.23442074,   4.51826313,   4.80210552,   5.0859479 ,\n",
       "          5.36979029,   5.65363267,   5.93747506,   6.22131744,\n",
       "          6.50515983,   6.78900222,   7.0728446 ,   7.35668699,\n",
       "          7.64052937,   7.92437176,   8.20821415,   8.49205653,\n",
       "          8.77589892,   9.0597413 ,   9.34358369,   9.62742608,\n",
       "          9.91126846,  10.19511085,  10.47895323,  10.76279562,\n",
       "         11.046638  ,  11.33048039,  11.61432278,  11.89816516,\n",
       "         12.18200755,  12.46584993,  12.74969232,  13.03353471,\n",
       "         13.31737709,  13.60121948,  13.88506186,  14.16890425]),\n",
       " array([ 12.00642576,  11.90046588,  11.79314658,  11.68450771,\n",
       "         11.57459322,  11.46345139,  11.35113501,  11.23770155,\n",
       "         11.12321343,  11.00773817,  10.89134866,  10.77412334,\n",
       "         10.65614647,  10.53750835,  10.41830553,  10.29864111,\n",
       "         10.17862496,  10.05837398,   9.93801237,   9.81767191,\n",
       "          9.69749218,   9.57762092,   9.45821427,   9.33943704,\n",
       "          9.22146308,   9.1044755 ,   8.98866703,   8.87424033,\n",
       "          8.76140831,   8.65039441,   8.54143302,   8.43476973,\n",
       "          8.33066174,   8.22937817,   8.13120044,   8.03642261,\n",
       "          7.94535178,   7.85830842,   7.77562682,   7.69765539,\n",
       "          7.62475715,   7.55731004,   7.4957074 ,   7.44035836,\n",
       "          7.39168825,   7.35013907,   7.31616986,   7.29025725,\n",
       "          7.27289581,   7.2645986 ,   7.26538643,   7.27446552,\n",
       "          7.29222902,   7.3191114 ,   7.35556105,   7.40204059,\n",
       "          7.45902719,   7.52701288,   7.60650493,   7.69802615,\n",
       "          7.80211525,   7.91932722,   8.05023367,   8.19542321,\n",
       "          8.35550183,   8.5310933 ,   8.72283957,   8.93140116,\n",
       "          9.15745761,   9.40170789,   9.66487084,   9.94768564,\n",
       "         10.25091227,  10.57533198,  10.92174777,  11.29098493,\n",
       "         11.68389152,  12.10133893,  12.54422239,  13.01346158,\n",
       "         13.51000117,  14.03481143,  14.58888886,  15.17325676,\n",
       "         15.78896595,  16.4370954 ,  17.11875292,  17.83507587,\n",
       "         18.58723188,  19.37641962,  20.20386955,  21.07084473,\n",
       "         21.97864164,  22.92859099,  23.92205865,  24.9604465 ,\n",
       "         26.04519335,  27.17777591,  28.35970977,  29.59255038]))"
      ]
     },
     "execution_count": 31,
     "metadata": {},
     "output_type": "execute_result"
    },
    {
     "data": {
      "image/png": "[encoded data removed]",
      "text/plain": [
       "<matplotlib.figure.Figure at 0x10abbaad0>"
      ]
     },
     "metadata": {},
     "output_type": "display_data"
    }
   ],
   "source": [
    "minimiser.draw_profile('NormSystUncertainty')"
   ]
  },
  {
   "cell_type": "code",
   "execution_count": 32,
   "metadata": {},
   "outputs": [
    {
     "data": {
      "text/plain": [
       "(array([-10.79243868, -10.55432585, -10.31621302, -10.07810019,\n",
       "         -9.83998736,  -9.60187452,  -9.36376169,  -9.12564886,\n",
       "         -8.88753603,  -8.6494232 ,  -8.41131036,  -8.17319753,\n",
       "         -7.9350847 ,  -7.69697187,  -7.45885904,  -7.2207462 ,\n",
       "         -6.98263337,  -6.74452054,  -6.50640771,  -6.26829488,\n",
       "         -6.03018204,  -5.79206921,  -5.55395638,  -5.31584355,\n",
       "         -5.07773072,  -4.83961788,  -4.60150505,  -4.36339222,\n",
       "         -4.12527939,  -3.88716656,  -3.64905372,  -3.41094089,\n",
       "         -3.17282806,  -2.93471523,  -2.6966024 ,  -2.45848957,\n",
       "         -2.22037673,  -1.9822639 ,  -1.74415107,  -1.50603824,\n",
       "         -1.26792541,  -1.02981257,  -0.79169974,  -0.55358691,\n",
       "         -0.31547408,  -0.07736125,   0.16075159,   0.39886442,\n",
       "          0.63697725,   0.87509008,   1.11320291,   1.35131575,\n",
       "          1.58942858,   1.82754141,   2.06565424,   2.30376707,\n",
       "          2.54187991,   2.77999274,   3.01810557,   3.2562184 ,\n",
       "          3.49433123,   3.73244407,   3.9705569 ,   4.20866973,\n",
       "          4.44678256,   4.68489539,   4.92300823,   5.16112106,\n",
       "          5.39923389,   5.63734672,   5.87545955,   6.11357239,\n",
       "          6.35168522,   6.58979805,   6.82791088,   7.06602371,\n",
       "          7.30413655,   7.54224938,   7.78036221,   8.01847504,\n",
       "          8.25658787,   8.49470071,   8.73281354,   8.97092637,\n",
       "          9.2090392 ,   9.44715203,   9.68526487,   9.9233777 ,\n",
       "         10.16149053,  10.39960336,  10.63771619,  10.87582903,\n",
       "         11.11394186,  11.35205469,  11.59016752,  11.82828035,\n",
       "         12.06639319,  12.30450602,  12.54261885,  12.78073168]),\n",
       " array([          nan,           nan,           nan,           nan,\n",
       "                  nan,           nan,           nan,           nan,\n",
       "                  nan,           nan,           nan,           nan,\n",
       "                  nan,           nan,           nan,           nan,\n",
       "                  nan,           nan,           nan,           nan,\n",
       "                  nan,           nan,           nan,           nan,\n",
       "                  nan,           nan,           nan,           nan,\n",
       "                  nan,           nan,           nan,           nan,\n",
       "                  nan,           nan,           nan,           nan,\n",
       "                  nan,           nan,           nan,           nan,\n",
       "                  nan,           nan,           nan,           nan,\n",
       "          33.69517507,   19.14836215,   13.11550885,    9.82704293,\n",
       "           8.07626806,    7.34291326,    7.34287105,    7.900423  ,\n",
       "           8.89802339,   10.2526313 ,   11.90315811,   13.80322996,\n",
       "          15.91674506,   18.21500991,   20.67481924,   23.27712609,\n",
       "          26.0060953 ,   28.84841395,   31.79277872,   34.82950812,\n",
       "          37.95024444,   41.14772161,   44.41558203,   47.74823045,\n",
       "          51.14071625,   54.58863765,   58.08806319,   61.63546678,\n",
       "          65.22767365,   68.861815  ,   72.53528984,   76.24573254,\n",
       "          79.9909852 ,   83.76907395,   87.57818858,   91.41666487,\n",
       "          95.28296927,   99.17568557,  103.09350317,  107.03520685,\n",
       "         110.99966767,  114.98583503,  118.99272954,  123.01943675,\n",
       "         127.06510147,  131.12892282,  135.21014965,  139.30807657,\n",
       "         143.42204024,  147.55141615,  151.69561558,  155.85408296,\n",
       "         160.02629342,  164.21175055,  168.40998436,  172.62054951]))"
      ]
     },
     "execution_count": 32,
     "metadata": {},
     "output_type": "execute_result"
    },
    {
     "data": {
      "image/png": "[encoded data removed]",
      "text/plain": [
       "<matplotlib.figure.Figure at 0x1069b4990>"
      ]
     },
     "metadata": {},
     "output_type": "display_data"
    }
   ],
   "source": [
    "minimiser.draw_profile('BackgroundNorm')"
   ]
  },
  {
   "cell_type": "code",
   "execution_count": 33,
   "metadata": {
    "scrolled": true
   },
   "outputs": [
    {
     "data": {
      "text/plain": [
       "(array([ -1.56251702e+00,  -1.49140708e+00,  -1.42029714e+00,\n",
       "         -1.34918720e+00,  -1.27807726e+00,  -1.20696732e+00,\n",
       "         -1.13585738e+00,  -1.06474744e+00,  -9.93637498e-01,\n",
       "         -9.22527558e-01,  -8.51417618e-01,  -7.80307678e-01,\n",
       "         -7.09197738e-01,  -6.38087798e-01,  -5.66977858e-01,\n",
       "         -4.95867917e-01,  -4.24757977e-01,  -3.53648037e-01,\n",
       "         -2.82538097e-01,  -2.11428157e-01,  -1.40318217e-01,\n",
       "         -6.92082769e-02,   1.90166320e-03,   7.30116033e-02,\n",
       "          1.44121543e-01,   2.15231483e-01,   2.86341424e-01,\n",
       "          3.57451364e-01,   4.28561304e-01,   4.99671244e-01,\n",
       "          5.70781184e-01,   6.41891124e-01,   7.13001064e-01,\n",
       "          7.84111004e-01,   8.55220944e-01,   9.26330884e-01,\n",
       "          9.97440825e-01,   1.06855076e+00,   1.13966070e+00,\n",
       "          1.21077064e+00,   1.28188058e+00,   1.35299052e+00,\n",
       "          1.42410047e+00,   1.49521041e+00,   1.56632035e+00,\n",
       "          1.63743029e+00,   1.70854023e+00,   1.77965017e+00,\n",
       "          1.85076011e+00,   1.92187005e+00,   1.99297999e+00,\n",
       "          2.06408993e+00,   2.13519987e+00,   2.20630981e+00,\n",
       "          2.27741975e+00,   2.34852969e+00,   2.41963963e+00,\n",
       "          2.49074957e+00,   2.56185951e+00,   2.63296945e+00,\n",
       "          2.70407939e+00,   2.77518933e+00,   2.84629927e+00,\n",
       "          2.91740921e+00,   2.98851915e+00,   3.05962909e+00,\n",
       "          3.13073903e+00,   3.20184897e+00,   3.27295891e+00,\n",
       "          3.34406885e+00,   3.41517879e+00,   3.48628873e+00,\n",
       "          3.55739867e+00,   3.62850861e+00,   3.69961855e+00,\n",
       "          3.77072849e+00,   3.84183843e+00,   3.91294837e+00,\n",
       "          3.98405831e+00,   4.05516825e+00,   4.12627819e+00,\n",
       "          4.19738813e+00,   4.26849807e+00,   4.33960801e+00,\n",
       "          4.41071795e+00,   4.48182789e+00,   4.55293783e+00,\n",
       "          4.62404777e+00,   4.69515771e+00,   4.76626765e+00,\n",
       "          4.83737759e+00,   4.90848753e+00,   4.97959747e+00,\n",
       "          5.05070741e+00,   5.12181735e+00,   5.19292729e+00,\n",
       "          5.26403723e+00,   5.33514717e+00,   5.40625711e+00,\n",
       "          5.47736705e+00]),\n",
       " array([         nan,          nan,          nan,          nan,\n",
       "         77.47759154,  58.43362926,  49.89821438,  44.14755198,\n",
       "         39.76589948,  36.21965503,  33.24512125,  30.69073354,\n",
       "         28.46046613,  26.48918903,  24.73044494,  23.14978704,\n",
       "         21.72087774,  20.4230715 ,  19.23984743,  18.15775372,\n",
       "         17.1656742 ,  16.25430457,  15.4157699 ,  14.64333932,\n",
       "         13.93120961,  13.27433839,  12.66831369,  12.10925076,\n",
       "         11.59370946,  11.11862742,  10.68126554,  10.27916304,\n",
       "          9.91010027,   9.57206749,   9.2632387 ,   8.98194951,\n",
       "          8.72667815,   8.4960294 ,   8.28872061,   8.1035697 ,\n",
       "          7.93948472,   7.79545476,   7.67054192,   7.56387441,\n",
       "          7.4746403 ,   7.40208207,   7.34549182,   7.3042069 ,\n",
       "          7.27760611,   7.26510623,   7.26615894,   7.28024807,\n",
       "          7.30688703,   7.34561665,   7.39600305,   7.4576358 ,\n",
       "          7.53012627,   7.61310607,   7.70622562,   7.8091529 ,\n",
       "          7.9215723 ,   8.04318349,   8.17370045,   8.31285058,\n",
       "          8.46037387,   8.61602208,   8.77955807,   8.95075512,\n",
       "          9.12939634,   9.31527408,   9.50818942,   9.70795166,\n",
       "          9.91437791,  10.12729262,  10.34652721,  10.57191969,\n",
       "         10.80331433,  11.04056133,  11.28351652,  11.53204107,\n",
       "         11.78600125,  12.04526813,  12.30971743,  12.57922923,\n",
       "         12.85368777,  13.1329813 ,  13.41700185,  13.70564511,\n",
       "         13.9988102 ,  14.29639958,  14.59831884,  14.90447665,\n",
       "         15.21478453,  15.52915683,  15.84751051,  16.16976512,\n",
       "         16.49584263,  16.82566738,  17.15916594,  17.49626707]))"
      ]
     },
     "execution_count": 33,
     "metadata": {},
     "output_type": "execute_result"
    },
    {
     "data": {
      "image/png": "[encoded data removed]",
      "text/plain": [
       "<matplotlib.figure.Figure at 0x10abbae50>"
      ]
     },
     "metadata": {},
     "output_type": "display_data"
    }
   ],
   "source": [
    "minimiser.draw_profile('SigXSecOverSM')"
   ]
  },
  {
   "cell_type": "markdown",
   "metadata": {},
   "source": [
    "## large histograms"
   ]
  },
  {
   "cell_type": "code",
   "execution_count": 34,
   "metadata": {},
   "outputs": [],
   "source": [
    "hist_sig = np.linspace(1,100, 100)\n",
    "hist_bkg = np.ones(100)*100"
   ]
  },
  {
   "cell_type": "code",
   "execution_count": 35,
   "metadata": {},
   "outputs": [
    {
     "name": "stdout",
     "output_type": "stream",
     "text": [
      "[ 100.   99.   98.   97.   96.   95.   94.   93.   92.   91.   90.   89.\n",
      "   88.   87.   86.   85.   84.   83.   82.   81.   80.   79.   78.   77.\n",
      "   76.   75.   74.   73.   72.   71.   70.   69.   68.   67.   66.   65.\n",
      "   64.   63.   62.   61.   60.   59.   58.   57.   56.   55.   54.   53.\n",
      "   52.   51.   50.   49.   48.   47.   46.   45.   44.   43.   42.   41.\n",
      "   40.   39.   38.   37.   36.   35.   34.   33.   32.   31.   30.   29.\n",
      "   28.   27.   26.   25.   24.   23.   22.   21.   20.   19.   18.   17.\n",
      "   16.   15.   14.   13.   12.   11.   10.    9.    8.    7.    6.    5.\n",
      "    4.    3.    2.    1.]\n"
     ]
    }
   ],
   "source": [
    "print np.flip(hist_sig,0)"
   ]
  },
  {
   "cell_type": "code",
   "execution_count": 36,
   "metadata": {},
   "outputs": [],
   "source": [
    "m4 = HistiModel('newmodel')\n",
    "signal = HistiSample('signal')\n",
    "binedges = np.linspace(0,100, 101)\n",
    "signal.SetHisto((hist_sig,binedges))\n",
    "signal.AddNorm(\"SigXSecOverSM\",1.0,0,3)\n",
    "background = HistiSample('background')\n",
    "background.SetHisto((hist_bkg, binedges))\n",
    "#background.AddNorm(\"BackgroundNorm\",1.,0,100)\n",
    "#background.AddOverallSys(\"NormSystUncertainty\",.9,1.1)\n",
    "h_up = hist_bkg + np.flip(hist_sig, 0)*.5\n",
    "h_down = hist_bkg - np.flip(hist_sig, 0)*.5\n",
    "background.AddHistoSys(\"HistoSystUncertainty\",h_down,h_up)\n",
    "chan = HistiChannel(\"SR\")\n",
    "chan.AddSample(signal)\n",
    "chan.AddSample(background)\n",
    "\n",
    "data = hist_sig*2 +hist_bkg\n",
    "\n",
    "chan.SetData(data)\n",
    "m4.AddChannel(chan)\n",
    "\n",
    "blh = BinnedLH(m4, bound=(0,101))\n",
    "params = m4.Parameters()"
   ]
  },
  {
   "cell_type": "code",
   "execution_count": 37,
   "metadata": {},
   "outputs": [
    {
     "name": "stderr",
     "output_type": "stream",
     "text": [
      "/Users/vince/tensorflow/lib/python2.7/site-packages/ipykernel_launcher.py:1: InitialParamWarning: Parameter SigXSecOverSM is floating but does not have initial step size. Assume 1.\n",
      "  \"\"\"Entry point for launching an IPython kernel.\n",
      "/Users/vince/tensorflow/lib/python2.7/site-packages/ipykernel_launcher.py:1: InitialParamWarning: Parameter HistoSystUncertainty is floating but does not have initial step size. Assume 1.\n",
      "  \"\"\"Entry point for launching an IPython kernel.\n"
     ]
    },
    {
     "data": {
      "text/html": [
       "<hr>"
      ]
     },
     "metadata": {},
     "output_type": "display_data"
    },
    {
     "data": {
      "text/html": [
       "\n",
       "        <table>\n",
       "            <tr>\n",
       "                <td title=\"Minimum value of function\">FCN = 353.867880706</td>\n",
       "                <td title=\"Total number of call to FCN so far\">TOTAL NCALL = 75</td>\n",
       "                <td title=\"Number of call in last migrad\">NCALLS = 75</td>\n",
       "            </tr>\n",
       "            <tr>\n",
       "                <td title=\"Estimated distance to minimum\">EDM = 7.63912714484e-09</td>\n",
       "                <td title=\"Maximum EDM definition of convergence\">GOAL EDM = 1e-05</td>\n",
       "                <td title=\"Error def. Amount of increase in FCN to be defined as 1 standard deviation\">\n",
       "                UP = 1.0</td>\n",
       "            </tr>\n",
       "        </table>\n",
       "        \n",
       "        <table>\n",
       "            <tr>\n",
       "                <td align=\"center\" title=\"Validity of the migrad call\">Valid</td>\n",
       "                <td align=\"center\" title=\"Validity of parameters\">Valid Param</td>\n",
       "                <td align=\"center\" title=\"Is Covariance matrix accurate?\">Accurate Covar</td>\n",
       "                <td align=\"center\" title=\"Positive definiteness of covariance matrix\">PosDef</td>\n",
       "                <td align=\"center\" title=\"Was covariance matrix made posdef by adding diagonal element\">Made PosDef</td>\n",
       "            </tr>\n",
       "            <tr>\n",
       "                <td align=\"center\" style=\"background-color:#92CCA6\">True</td>\n",
       "                <td align=\"center\" style=\"background-color:#92CCA6\">True</td>\n",
       "                <td align=\"center\" style=\"background-color:#92CCA6\">True</td>\n",
       "                <td align=\"center\" style=\"background-color:#92CCA6\">True</td>\n",
       "                <td align=\"center\" style=\"background-color:#92CCA6\">False</td>\n",
       "            </tr>\n",
       "            <tr>\n",
       "                <td align=\"center\" title=\"Was last hesse call fail?\">Hesse Fail</td>\n",
       "                <td align=\"center\" title=\"Validity of covariance\">HasCov</td>\n",
       "                <td align=\"center\" title=\"Is EDM above goal EDM?\">Above EDM</td>\n",
       "                <td align=\"center\"></td>\n",
       "                <td align=\"center\" title=\"Did last migrad call reach max call limit?\">Reach calllim</td>\n",
       "            </tr>\n",
       "            <tr>\n",
       "                <td align=\"center\" style=\"background-color:#92CCA6\">False</td>\n",
       "                <td align=\"center\" style=\"background-color:#92CCA6\">True</td>\n",
       "                <td align=\"center\" style=\"background-color:#92CCA6\">False</td>\n",
       "                <td align=\"center\"></td>\n",
       "                <td align=\"center\" style=\"background-color:#92CCA6\">False</td>\n",
       "            </tr>\n",
       "        </table>\n",
       "        "
      ]
     },
     "metadata": {},
     "output_type": "display_data"
    },
    {
     "data": {
      "text/html": [
       "\n",
       "        <table>\n",
       "            <tr>\n",
       "                <td><a href=\"#\" onclick=\"$('#HRGFtnydQJ').toggle()\">+</a></td>\n",
       "                <td title=\"Variable name\">Name</td>\n",
       "                <td title=\"Value of parameter\">Value</td>\n",
       "                <td title=\"Parabolic error\">Parab Error</td>\n",
       "                <td title=\"Minos lower error\">Minos Error-</td>\n",
       "                <td title=\"Minos upper error\">Minos Error+</td>\n",
       "                <td title=\"Lower limit of the parameter\">Limit-</td>\n",
       "                <td title=\"Upper limit of the parameter\">Limit+</td>\n",
       "                <td title=\"Is the parameter fixed in the fit\">FIXED</td>\n",
       "            </tr>\n",
       "        \n",
       "            <tr>\n",
       "                <td>1</td>\n",
       "                <td>SigXSecOverSM</td>\n",
       "                <td>2</td>\n",
       "                <td>0.0414701</td>\n",
       "                <td>0</td>\n",
       "                <td>0</td>\n",
       "                <td>0.0</td>\n",
       "                <td>3.0</td>\n",
       "                <td></td>\n",
       "            </tr>\n",
       "            \n",
       "            <tr>\n",
       "                <td>2</td>\n",
       "                <td>HistoSystUncertainty</td>\n",
       "                <td>9.5779e-07</td>\n",
       "                <td>0.0584161</td>\n",
       "                <td>0</td>\n",
       "                <td>0</td>\n",
       "                <td>-5.0</td>\n",
       "                <td>5.0</td>\n",
       "                <td></td>\n",
       "            </tr>\n",
       "            \n",
       "            </table>\n",
       "        \n",
       "            <pre id=\"HRGFtnydQJ\" style=\"display:none;\">\n",
       "            <textarea rows=\"10\" cols=\"50\" onclick=\"this.select()\" readonly>\\begin{tabular}{|c|r|r|r|r|r|r|r|c|}\n",
       "\\hline\n",
       " & Name & Value & Para Error & Error+ & Error- & Limit+ & Limit- & FIXED\\\\\n",
       "\\hline\n",
       "1 & SigXSecOverSM & 2.000e+00 & 4.147e-02 &  &  & 0.000e+00 & 3.000e+00 & \\\\\n",
       "\\hline\n",
       "2 & HistoSystUncertainty & 9.578e-07 & 5.842e-02 &  &  & -5.000e+00 & 5.000e+00 & \\\\\n",
       "\\hline\n",
       "\\end{tabular}</textarea>\n",
       "            </pre>\n",
       "            "
      ]
     },
     "metadata": {},
     "output_type": "display_data"
    },
    {
     "data": {
      "text/html": [
       "<hr>"
      ]
     },
     "metadata": {},
     "output_type": "display_data"
    },
    {
     "data": {
      "text/html": [
       "\n",
       "        <table>\n",
       "            <tr>\n",
       "                <td><a href=\"#\" onclick=\"$('#EuVKArNYqm').toggle()\">+</a></td>\n",
       "                <td title=\"Variable name\">Name</td>\n",
       "                <td title=\"Value of parameter\">Value</td>\n",
       "                <td title=\"Parabolic error\">Parab Error</td>\n",
       "                <td title=\"Minos lower error\">Minos Error-</td>\n",
       "                <td title=\"Minos upper error\">Minos Error+</td>\n",
       "                <td title=\"Lower limit of the parameter\">Limit-</td>\n",
       "                <td title=\"Upper limit of the parameter\">Limit+</td>\n",
       "                <td title=\"Is the parameter fixed in the fit\">FIXED</td>\n",
       "            </tr>\n",
       "        \n",
       "            <tr>\n",
       "                <td>1</td>\n",
       "                <td>SigXSecOverSM</td>\n",
       "                <td>2</td>\n",
       "                <td>0.0414703</td>\n",
       "                <td>0</td>\n",
       "                <td>0</td>\n",
       "                <td>0.0</td>\n",
       "                <td>3.0</td>\n",
       "                <td></td>\n",
       "            </tr>\n",
       "            \n",
       "            <tr>\n",
       "                <td>2</td>\n",
       "                <td>HistoSystUncertainty</td>\n",
       "                <td>9.5779e-07</td>\n",
       "                <td>0.0584192</td>\n",
       "                <td>0</td>\n",
       "                <td>0</td>\n",
       "                <td>-5.0</td>\n",
       "                <td>5.0</td>\n",
       "                <td></td>\n",
       "            </tr>\n",
       "            \n",
       "            </table>\n",
       "        \n",
       "            <pre id=\"EuVKArNYqm\" style=\"display:none;\">\n",
       "            <textarea rows=\"10\" cols=\"50\" onclick=\"this.select()\" readonly>\\begin{tabular}{|c|r|r|r|r|r|r|r|c|}\n",
       "\\hline\n",
       " & Name & Value & Para Error & Error+ & Error- & Limit+ & Limit- & FIXED\\\\\n",
       "\\hline\n",
       "1 & SigXSecOverSM & 2.000e+00 & 4.147e-02 &  &  & 0.000e+00 & 3.000e+00 & \\\\\n",
       "\\hline\n",
       "2 & HistoSystUncertainty & 9.578e-07 & 5.842e-02 &  &  & -5.000e+00 & 5.000e+00 & \\\\\n",
       "\\hline\n",
       "\\end{tabular}</textarea>\n",
       "            </pre>\n",
       "            "
      ]
     },
     "metadata": {},
     "output_type": "display_data"
    },
    {
     "data": {
      "text/html": [
       "\n",
       "            <table>\n",
       "                <tr>\n",
       "                    <td><a onclick=\"$('#sjIpxFkqyK').toggle()\" href=\"#\">+</a></td>\n",
       "        \n",
       "            <td>\n",
       "            <div style=\"width:20px;position:relative; width: -moz-fit-content;\">\n",
       "            <div style=\"display:inline-block;-webkit-writing-mode:vertical-rl;-moz-writing-mode: vertical-rl;writing-mode: vertical-rl;\">\n",
       "            SigXSecOverSM\n",
       "            </div>\n",
       "            </div>\n",
       "            </td>\n",
       "            \n",
       "            <td>\n",
       "            <div style=\"width:20px;position:relative; width: -moz-fit-content;\">\n",
       "            <div style=\"display:inline-block;-webkit-writing-mode:vertical-rl;-moz-writing-mode: vertical-rl;writing-mode: vertical-rl;\">\n",
       "            HistoSystUncertainty\n",
       "            </div>\n",
       "            </div>\n",
       "            </td>\n",
       "            \n",
       "                </tr>\n",
       "                \n",
       "            <tr>\n",
       "                <td>SigXSecOverSM</td>\n",
       "            \n",
       "                <td style=\"background-color:rgb(255,117,117)\">\n",
       "                1.00\n",
       "                </td>\n",
       "                \n",
       "                <td style=\"background-color:rgb(200,199,158)\">\n",
       "                -0.40\n",
       "                </td>\n",
       "                \n",
       "            </tr>\n",
       "            \n",
       "            <tr>\n",
       "                <td>HistoSystUncertainty</td>\n",
       "            \n",
       "                <td style=\"background-color:rgb(200,199,158)\">\n",
       "                -0.40\n",
       "                </td>\n",
       "                \n",
       "                <td style=\"background-color:rgb(255,117,117)\">\n",
       "                1.00\n",
       "                </td>\n",
       "                \n",
       "            </tr>\n",
       "            </table>\n",
       "\n",
       "            <pre id=\"sjIpxFkqyK\" style=\"display:none;\">\n",
       "            <textarea rows=\"13\" cols=\"50\" onclick=\"this.select()\" readonly>%\\usepackage[table]{xcolor} % include this for color\n",
       "%\\usepackage{rotating} % include this for rotate header\n",
       "%\\documentclass[xcolor=table]{beamer} % for beamer\n",
       "\\begin{tabular}{|c|c|c|}\n",
       "\\hline\n",
       "\\rotatebox{90}{} & \\rotatebox{90}{SigXSecOverSM} & \\rotatebox{90}{HistoSystUncertainty}\\\\\n",
       "\\hline\n",
       "SigXSecOverSM & \\cellcolor[RGB]{255,117,117} 1.00 & \\cellcolor[RGB]{200,199,158} -0.40\\\\\n",
       "\\hline\n",
       "HistoSystUncertainty & \\cellcolor[RGB]{200,199,158} -0.40 & \\cellcolor[RGB]{255,117,117} 1.00\\\\\n",
       "\\hline\n",
       "\\end{tabular}</textarea>\n",
       "            </pre>\n",
       "            "
      ]
     },
     "metadata": {},
     "output_type": "display_data"
    },
    {
     "data": {
      "text/html": [
       "\n",
       "        <span>Minos status for SigXSecOverSM: <span style=\"background-color:#92CCA6\">VALID</span></span>\n",
       "        <table>\n",
       "            <tr>\n",
       "                <td title=\"lower and upper minos error of the parameter\">Error</td>\n",
       "                <td>-0.0442757271289</td>\n",
       "                <td>0.042804136405</td>\n",
       "            </tr>\n",
       "            <tr>\n",
       "                <td title=\"Validity of minos error\">Valid</td>\n",
       "                <td style=\"background-color:#92CCA6\">True</td>\n",
       "                <td style=\"background-color:#92CCA6\">True</td>\n",
       "            </tr>\n",
       "            <tr>\n",
       "                <td title=\"Did minos error search hit limit of any paramter?\">At Limit</td>\n",
       "                <td style=\"background-color:#92CCA6\">False</td>\n",
       "                <td style=\"background-color:#92CCA6\">False</td>\n",
       "            </tr>\n",
       "            <tr>\n",
       "                <td title=\"I don't really know what this one means... Post it in issue if you know\">Max FCN</td>\n",
       "                <td style=\"background-color:#92CCA6\">False</td>\n",
       "                <td style=\"background-color:#92CCA6\">False</td>\n",
       "            </tr>\n",
       "            <tr>\n",
       "                <td title=\"New minimum found when doing minos scan.\">New Min</td>\n",
       "                <td style=\"background-color:#92CCA6\">False</td>\n",
       "                <td style=\"background-color:#92CCA6\">False</td>\n",
       "            </tr>\n",
       "        </table>\n",
       "        "
      ]
     },
     "metadata": {},
     "output_type": "display_data"
    },
    {
     "data": {
      "text/html": [
       "\n",
       "        <span>Minos status for HistoSystUncertainty: <span style=\"background-color:#92CCA6\">VALID</span></span>\n",
       "        <table>\n",
       "            <tr>\n",
       "                <td title=\"lower and upper minos error of the parameter\">Error</td>\n",
       "                <td>-0.0511789481526</td>\n",
       "                <td>0.0799277503591</td>\n",
       "            </tr>\n",
       "            <tr>\n",
       "                <td title=\"Validity of minos error\">Valid</td>\n",
       "                <td style=\"background-color:#92CCA6\">True</td>\n",
       "                <td style=\"background-color:#92CCA6\">True</td>\n",
       "            </tr>\n",
       "            <tr>\n",
       "                <td title=\"Did minos error search hit limit of any paramter?\">At Limit</td>\n",
       "                <td style=\"background-color:#92CCA6\">False</td>\n",
       "                <td style=\"background-color:#92CCA6\">False</td>\n",
       "            </tr>\n",
       "            <tr>\n",
       "                <td title=\"I don't really know what this one means... Post it in issue if you know\">Max FCN</td>\n",
       "                <td style=\"background-color:#92CCA6\">False</td>\n",
       "                <td style=\"background-color:#92CCA6\">False</td>\n",
       "            </tr>\n",
       "            <tr>\n",
       "                <td title=\"New minimum found when doing minos scan.\">New Min</td>\n",
       "                <td style=\"background-color:#92CCA6\">False</td>\n",
       "                <td style=\"background-color:#92CCA6\">False</td>\n",
       "            </tr>\n",
       "        </table>\n",
       "        "
      ]
     },
     "metadata": {},
     "output_type": "display_data"
    },
    {
     "data": {
      "text/plain": [
       "{'HistoSystUncertainty': {'lower_new_min': False, 'upper': 0.07992775035908727, 'lower': -0.05117894815261005, 'at_lower_limit': False, 'min': 9.577896928902874e-07, 'at_lower_max_fcn': False, 'is_valid': True, 'upper_new_min': False, 'at_upper_limit': False, 'lower_valid': True, 'upper_valid': True, 'at_upper_max_fcn': False, 'nfcn': 24},\n",
       " 'SigXSecOverSM': {'lower_new_min': False, 'upper': 0.042804136405014605, 'lower': -0.04427572712885599, 'at_lower_limit': False, 'min': 2.0000000998353973, 'at_lower_max_fcn': False, 'is_valid': True, 'upper_new_min': False, 'at_upper_limit': False, 'lower_valid': True, 'upper_valid': True, 'at_upper_max_fcn': False, 'nfcn': 26}}"
      ]
     },
     "execution_count": 37,
     "metadata": {},
     "output_type": "execute_result"
    }
   ],
   "source": [
    "minimiser = Minuit(blh, **params)\n",
    "minimiser.migrad()\n",
    "minimiser.hesse()\n",
    "minimiser.minos()"
   ]
  },
  {
   "cell_type": "code",
   "execution_count": 38,
   "metadata": {},
   "outputs": [
    {
     "data": {
      "text/plain": [
       "(array([ 1.91705946,  1.91873503,  1.9204106 ,  1.92208617,  1.92376173,\n",
       "         1.9254373 ,  1.92711287,  1.92878844,  1.93046401,  1.93213958,\n",
       "         1.93381515,  1.93549071,  1.93716628,  1.93884185,  1.94051742,\n",
       "         1.94219299,  1.94386856,  1.94554412,  1.94721969,  1.94889526,\n",
       "         1.95057083,  1.9522464 ,  1.95392197,  1.95559754,  1.9572731 ,\n",
       "         1.95894867,  1.96062424,  1.96229981,  1.96397538,  1.96565095,\n",
       "         1.96732651,  1.96900208,  1.97067765,  1.97235322,  1.97402879,\n",
       "         1.97570436,  1.97737993,  1.97905549,  1.98073106,  1.98240663,\n",
       "         1.9840822 ,  1.98575777,  1.98743334,  1.9891089 ,  1.99078447,\n",
       "         1.99246004,  1.99413561,  1.99581118,  1.99748675,  1.99916232,\n",
       "         2.00083788,  2.00251345,  2.00418902,  2.00586459,  2.00754016,\n",
       "         2.00921573,  2.01089129,  2.01256686,  2.01424243,  2.015918  ,\n",
       "         2.01759357,  2.01926914,  2.02094471,  2.02262027,  2.02429584,\n",
       "         2.02597141,  2.02764698,  2.02932255,  2.03099812,  2.03267368,\n",
       "         2.03434925,  2.03602482,  2.03770039,  2.03937596,  2.04105153,\n",
       "         2.0427271 ,  2.04440266,  2.04607823,  2.0477538 ,  2.04942937,\n",
       "         2.05110494,  2.05278051,  2.05445607,  2.05613164,  2.05780721,\n",
       "         2.05948278,  2.06115835,  2.06283392,  2.06450949,  2.06618505,\n",
       "         2.06786062,  2.06953619,  2.07121176,  2.07288733,  2.0745629 ,\n",
       "         2.07623846,  2.07791403,  2.0795896 ,  2.08126517,  2.08294074]),\n",
       " array([ 358.7260022 ,  358.53017043,  358.33842976,  358.15077616,\n",
       "         357.96720559,  357.78771405,  357.61229752,  357.44095199,\n",
       "         357.27367346,  357.11045794,  356.95130143,  356.79619995,\n",
       "         356.64514953,  356.49814619,  356.35518597,  356.21626491,\n",
       "         356.08137906,  355.95052447,  355.82369719,  355.7008933 ,\n",
       "         355.58210885,  355.46733994,  355.35658264,  355.24983303,\n",
       "         355.14708722,  355.0483413 ,  354.95359138,  354.86283357,\n",
       "         354.77606399,  354.69327876,  354.614474  ,  354.53964586,\n",
       "         354.46879048,  354.40190399,  354.33898256,  354.28002234,\n",
       "         354.22501949,  354.17397018,  354.1268706 ,  354.0837169 ,\n",
       "         354.0445053 ,  354.00923197,  353.97789311,  353.95048493,\n",
       "         353.92700364,  353.90744544,  353.89180657,  353.88008324,\n",
       "         353.87227168,  353.86836814,  353.86836886,  353.87227008,\n",
       "         353.88006806,  353.89175905,  353.90733933,  353.92680515,\n",
       "         353.95015281,  353.97737856,  354.00847872,  354.04344956,\n",
       "         354.08228738,  354.12498848,  354.17154918,  354.22196579,\n",
       "         354.27623463,  354.33435202,  354.39631428,  354.46211777,\n",
       "         354.53175881,  354.60523376,  354.68253895,  354.76367077,\n",
       "         354.84862555,  354.93739967,  355.02998951,  355.12639144,\n",
       "         355.22660184,  355.33061711,  355.43843363,  355.5500478 ,\n",
       "         355.66545604,  355.78465475,  355.90764034,  356.03440923,\n",
       "         356.16495785,  356.29928263,  356.43738001,  356.57924642,\n",
       "         356.72487831,  356.87427213,  357.02742434,  357.1843314 ,\n",
       "         357.34498978,  357.50939594,  357.67754636,  357.84943754,\n",
       "         358.02506594,  358.20442806,  358.38752041,  358.57433948]))"
      ]
     },
     "execution_count": 38,
     "metadata": {},
     "output_type": "execute_result"
    },
    {
     "data": {
      "image/png": "[encoded data removed]",
      "text/plain": [
       "<matplotlib.figure.Figure at 0x10a6c9b50>"
      ]
     },
     "metadata": {},
     "output_type": "display_data"
    }
   ],
   "source": [
    "minimiser.draw_profile('SigXSecOverSM')"
   ]
  },
  {
   "cell_type": "code",
   "execution_count": 39,
   "metadata": {},
   "outputs": [
    {
     "name": "stdout",
     "output_type": "stream",
     "text": [
      "Help on built-in function draw_mncontour:\n",
      "\n",
      "draw_mncontour(...)\n",
      "    Minuit.draw_mncontour(self, x, y, bins=100, nsigma=2, numpoints=20, sigma_res=4)\n",
      "    Draw minos contour.\n",
      "    \n",
      "            **Arguments:**\n",
      "    \n",
      "                - **x**, **y** parameter name\n",
      "    \n",
      "                - **bins** number of bin in contour grid.\n",
      "    \n",
      "                - **nsigma** number of sigma contour to draw\n",
      "    \n",
      "                - **numpoints** number of points to calculate for each contour\n",
      "    \n",
      "                - **sigma_res** number of sigma level to calculate MnContours.\n",
      "                  Default 4.\n",
      "    \n",
      "            **Returns:**\n",
      "    \n",
      "                x, y, gridvalue, contour\n",
      "    \n",
      "                gridvalue is interorlated nsigma\n",
      "\n"
     ]
    },
    {
     "data": {
      "image/png": "[encoded data removed]",
      "text/plain": [
       "<matplotlib.figure.Figure at 0x10a9dd710>"
      ]
     },
     "metadata": {},
     "output_type": "display_data"
    }
   ],
   "source": [
    "minimiser.draw_mncontour('SigXSecOverSM',\"HistoSystUncertainty\", numpoints=60, bins=200)\n",
    "help(minimiser.draw_mncontour)"
   ]
  },
  {
   "cell_type": "markdown",
   "metadata": {},
   "source": [
    "# Testing Combined Pdf"
   ]
  },
  {
   "cell_type": "code",
   "execution_count": 40,
   "metadata": {},
   "outputs": [],
   "source": [
    "from histimator.pdfs import HistiCombPdf"
   ]
  },
  {
   "cell_type": "code",
   "execution_count": 41,
   "metadata": {
    "scrolled": true
   },
   "outputs": [],
   "source": [
    "new_background = HistiSample('background')\n",
    "new_background.SetHisto((np.asarray([50,75]), np.asarray([100,120,150])))\n",
    "new_background.AddNorm(\"BackgroundNorm\",1.,0,100)"
   ]
  },
  {
   "cell_type": "code",
   "execution_count": 42,
   "metadata": {},
   "outputs": [],
   "source": [
    "new_chan = HistiChannel(\"CR\")\n",
    "new_chan.AddSample(new_background)\n",
    "new_chan.SetData([53,72])"
   ]
  },
  {
   "cell_type": "code",
   "execution_count": 43,
   "metadata": {},
   "outputs": [
    {
     "data": {
      "text/plain": [
       "array([100, 120, 150])"
      ]
     },
     "execution_count": 43,
     "metadata": {},
     "output_type": "execute_result"
    }
   ],
   "source": [
    "new_chan.pdf.binedges"
   ]
  },
  {
   "cell_type": "code",
   "execution_count": 44,
   "metadata": {},
   "outputs": [
    {
     "name": "stdout",
     "output_type": "stream",
     "text": [
      "[  102.   104.   106.   108.   110.   112.   114.   116.   118.   120.\n",
      "   122.   124.   126.   128.   130.   132.   134.   136.   138.   140.\n",
      "   142.   144.   146.   148.   150.   152.   154.   156.   158.   160.\n",
      "   162.   164.   166.   168.   170.   172.   174.   176.   178.   180.\n",
      "   182.   184.   186.   188.   190.   192.   194.   196.   198.   200.\n",
      "   202.   204.   206.   208.   210.   212.   214.   216.   218.   220.\n",
      "   222.   224.   226.   228.   230.   232.   234.   236.   238.   240.\n",
      "   242.   244.   246.   248.   250.   252.   254.   256.   258.   260.\n",
      "   262.   264.   266.   268.   270.   272.   274.   276.   278.   280.\n",
      "   282.   284.   286.   288.   290.   292.   294.   296.   298.   300.\n",
      "  1060.  2160.]\n"
     ]
    }
   ],
   "source": [
    "m5 = HistiModel(\"final model\")\n",
    "m5.AddChannel(chan)\n",
    "m5.AddChannel(new_chan)\n",
    "print m5.data"
   ]
  },
  {
   "cell_type": "code",
   "execution_count": 45,
   "metadata": {
    "scrolled": true
   },
   "outputs": [
    {
     "name": "stdout",
     "output_type": "stream",
     "text": [
      "params are  {'BackgroundNorm': 1.0, 'limit_SigXSecOverSM': (0, 3), 'SigXSecOverSM': 1.0, 'limit_HistoSystUncertainty': (-5, 5), 'limit_BackgroundNorm': (0, 100), 'errordef': 1, 'HistoSystUncertainty': 5050.0}\n"
     ]
    }
   ],
   "source": [
    "blh = BinnedLH(m5)\n",
    "params = m5.Parameters()\n",
    "print \"params are \",params"
   ]
  },
  {
   "cell_type": "code",
   "execution_count": 46,
   "metadata": {},
   "outputs": [
    {
     "data": {
      "text/plain": [
       "['SigXSecOverSM', 'HistoSystUncertainty', 'BackgroundNorm']"
      ]
     },
     "execution_count": 46,
     "metadata": {},
     "output_type": "execute_result"
    }
   ],
   "source": [
    "describe(blh)"
   ]
  },
  {
   "cell_type": "code",
   "execution_count": 47,
   "metadata": {},
   "outputs": [
    {
     "data": {
      "text/plain": [
       "['SigXSecOverSM', 'HistoSystUncertainty', 'BackgroundNorm']"
      ]
     },
     "execution_count": 47,
     "metadata": {},
     "output_type": "execute_result"
    }
   ],
   "source": [
    "blh = BinnedLH(m5)\n",
    "describe(blh)"
   ]
  },
  {
   "cell_type": "code",
   "execution_count": 48,
   "metadata": {
    "scrolled": false
   },
   "outputs": [
    {
     "name": "stdout",
     "output_type": "stream",
     "text": [
      "['x', 'SigXSecOverSM', 'HistoSystUncertainty', 'BackgroundNorm']\n"
     ]
    },
    {
     "data": {
      "text/plain": [
       "array([  51. ,   52.5,   54. ,   55.5,   57. ,   58.5,   60. ,   61.5,\n",
       "         63. ,   64.5,   66. ,   67.5,   69. ,   70.5,   72. ,   73.5,\n",
       "         75. ,   76.5,   78. ,   79.5,   81. ,   82.5,   84. ,   85.5,\n",
       "         87. ,   88.5,   90. ,   91.5,   93. ,   94.5,   96. ,   97.5,\n",
       "         99. ,  100.5,  102. ,  103.5,  105. ,  106.5,  108. ,  109.5,\n",
       "        111. ,  112.5,  114. ,  115.5,  117. ,  118.5,  120. ,  121.5,\n",
       "        123. ,  124.5,  126. ,  127.5,  129. ,  130.5,  132. ,  133.5,\n",
       "        135. ,  136.5,  138. ,  139.5,  141. ,  142.5,  144. ,  145.5,\n",
       "        147. ,  148.5,  150. ,  151.5,  153. ,  154.5,  156. ,  157.5,\n",
       "        159. ,  160.5,  162. ,  163.5,  165. ,  166.5,  168. ,  169.5,\n",
       "        171. ,  172.5,  174. ,  175.5,  177. ,  178.5,  180. ,  181.5,\n",
       "        183. ,  184.5,  186. ,  187.5,  189. ,  190.5,  192. ,  193.5,\n",
       "        195. ,  196.5,  198. ,  199.5,   50. ,   75. ])"
      ]
     },
     "execution_count": 48,
     "metadata": {},
     "output_type": "execute_result"
    }
   ],
   "source": [
    "print describe(m5.pdf)\n",
    "m5.pdf.evaluatePdf(1,-1, 1)"
   ]
  },
  {
   "cell_type": "code",
   "execution_count": null,
   "metadata": {},
   "outputs": [],
   "source": []
  }
 ],
 "metadata": {
  "kernelspec": {
   "display_name": "Python 2",
   "language": "python",
   "name": "python2"
  },
  "language_info": {
   "codemirror_mode": {
    "name": "ipython",
    "version": 2
   },
   "file_extension": ".py",
   "mimetype": "text/x-python",
   "name": "python",
   "nbconvert_exporter": "python",
   "pygments_lexer": "ipython2",
   "version": "2.7.13"
  }
 },
 "nbformat": 4,
 "nbformat_minor": 2
}
