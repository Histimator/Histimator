{
 "cells": [
  {
   "cell_type": "code",
   "execution_count": 1,
   "metadata": {},
   "outputs": [],
   "source": [
    "from histimator.models import HistiModel, HistiChannel, HistiSample\n",
    "from histimator.estimator import BinnedLH"
   ]
  },
  {
   "cell_type": "code",
   "execution_count": 2,
   "metadata": {},
   "outputs": [],
   "source": [
    "from iminuit import Minuit, describe\n",
    "import numpy as np\n",
    "%matplotlib inline"
   ]
  },
  {
   "cell_type": "markdown",
   "metadata": {},
   "source": [
    "## Testing multiple Regions"
   ]
  },
  {
   "cell_type": "code",
   "execution_count": 3,
   "metadata": {},
   "outputs": [],
   "source": [
    "hist_1 = np.asarray([1,2,3,4])\n",
    "hist_2 = np.asarray([5,5,5,5])\n",
    "hist_3 = np.asarray([3,4,5,4])\n",
    "bins_1 = np.asarray([0,1,2,3,4])\n",
    "bins_2 = np.asarray([0,1,2])\n",
    "bins_3 = np.asarray([0,1,2,3,4,5,6,7,8])"
   ]
  },
  {
   "cell_type": "code",
   "execution_count": 4,
   "metadata": {},
   "outputs": [],
   "source": [
    "m = HistiModel('model')\n",
    "signal_1 = HistiSample('signal')\n",
    "signal_1.SetHisto((hist_1,bins_1))\n",
    "signal_1.AddNorm(\"SigXSecOverSM\",1.0,0,3)\n",
    "background_1 = HistiSample('background1')\n",
    "background_1.SetHisto((hist_2,bins_1))\n",
    "background_1.AddOverallSys(\"BackgroundNormSyst1\",0.9,1.1)\n",
    "background_2 = HistiSample('background1')\n",
    "background_2.SetHisto((hist_3,bins_1))\n",
    "background_2.AddOverallSys(\"BackgroundNormSyst2\",0.7,1.3)"
   ]
  },
  {
   "cell_type": "code",
   "execution_count": 5,
   "metadata": {},
   "outputs": [],
   "source": [
    "chan1 = HistiChannel(\"SR\")\n",
    "chan1.AddSample(signal_1)\n",
    "chan1.AddSample(background_1)\n",
    "chan1.AddSample(background_2)"
   ]
  },
  {
   "cell_type": "code",
   "execution_count": 6,
   "metadata": {},
   "outputs": [],
   "source": [
    "data1 = hist_1*2 +hist_2 +hist_3\n",
    "\n",
    "chan1.SetData(data1)\n",
    "m.AddChannel(chan1)"
   ]
  },
  {
   "cell_type": "code",
   "execution_count": 7,
   "metadata": {},
   "outputs": [
    {
     "name": "stderr",
     "output_type": "stream",
     "text": [
      "/Users/vince/tensorflow/lib/python2.7/site-packages/ipykernel_launcher.py:3: InitialParamWarning: Parameter SigXSecOverSM is floating but does not have initial step size. Assume 1.\n",
      "  This is separate from the ipykernel package so we can avoid doing imports until\n",
      "/Users/vince/tensorflow/lib/python2.7/site-packages/ipykernel_launcher.py:3: InitialParamWarning: Parameter BackgroundNormSyst1 is floating but does not have initial step size. Assume 1.\n",
      "  This is separate from the ipykernel package so we can avoid doing imports until\n",
      "/Users/vince/tensorflow/lib/python2.7/site-packages/ipykernel_launcher.py:3: InitialParamWarning: Parameter BackgroundNormSyst2 is floating but does not have initial step size. Assume 1.\n",
      "  This is separate from the ipykernel package so we can avoid doing imports until\n"
     ]
    },
    {
     "data": {
      "text/html": [
       "<hr>"
      ]
     },
     "metadata": {},
     "output_type": "display_data"
    },
    {
     "data": {
      "text/html": [
       "\n",
       "        <table>\n",
       "            <tr>\n",
       "                <td title=\"Minimum value of function\">FCN = 7.93730960596</td>\n",
       "                <td title=\"Total number of call to FCN so far\">TOTAL NCALL = 93</td>\n",
       "                <td title=\"Number of call in last migrad\">NCALLS = 93</td>\n",
       "            </tr>\n",
       "            <tr>\n",
       "                <td title=\"Estimated distance to minimum\">EDM = 3.80092399562e-05</td>\n",
       "                <td title=\"Maximum EDM definition of convergence\">GOAL EDM = 1e-05</td>\n",
       "                <td title=\"Error def. Amount of increase in FCN to be defined as 1 standard deviation\">\n",
       "                UP = 1.0</td>\n",
       "            </tr>\n",
       "        </table>\n",
       "        \n",
       "        <table>\n",
       "            <tr>\n",
       "                <td align=\"center\" title=\"Validity of the migrad call\">Valid</td>\n",
       "                <td align=\"center\" title=\"Validity of parameters\">Valid Param</td>\n",
       "                <td align=\"center\" title=\"Is Covariance matrix accurate?\">Accurate Covar</td>\n",
       "                <td align=\"center\" title=\"Positive definiteness of covariance matrix\">PosDef</td>\n",
       "                <td align=\"center\" title=\"Was covariance matrix made posdef by adding diagonal element\">Made PosDef</td>\n",
       "            </tr>\n",
       "            <tr>\n",
       "                <td align=\"center\" style=\"background-color:#92CCA6\">True</td>\n",
       "                <td align=\"center\" style=\"background-color:#92CCA6\">True</td>\n",
       "                <td align=\"center\" style=\"background-color:#92CCA6\">True</td>\n",
       "                <td align=\"center\" style=\"background-color:#92CCA6\">True</td>\n",
       "                <td align=\"center\" style=\"background-color:#92CCA6\">False</td>\n",
       "            </tr>\n",
       "            <tr>\n",
       "                <td align=\"center\" title=\"Was last hesse call fail?\">Hesse Fail</td>\n",
       "                <td align=\"center\" title=\"Validity of covariance\">HasCov</td>\n",
       "                <td align=\"center\" title=\"Is EDM above goal EDM?\">Above EDM</td>\n",
       "                <td align=\"center\"></td>\n",
       "                <td align=\"center\" title=\"Did last migrad call reach max call limit?\">Reach calllim</td>\n",
       "            </tr>\n",
       "            <tr>\n",
       "                <td align=\"center\" style=\"background-color:#92CCA6\">False</td>\n",
       "                <td align=\"center\" style=\"background-color:#92CCA6\">True</td>\n",
       "                <td align=\"center\" style=\"background-color:#92CCA6\">False</td>\n",
       "                <td align=\"center\"></td>\n",
       "                <td align=\"center\" style=\"background-color:#92CCA6\">False</td>\n",
       "            </tr>\n",
       "        </table>\n",
       "        "
      ]
     },
     "metadata": {},
     "output_type": "display_data"
    },
    {
     "data": {
      "text/html": [
       "\n",
       "        <table>\n",
       "            <tr>\n",
       "                <td><a href=\"#\" onclick=\"$('#YRmdALYuBT').toggle()\">+</a></td>\n",
       "                <td title=\"Variable name\">Name</td>\n",
       "                <td title=\"Value of parameter\">Value</td>\n",
       "                <td title=\"Parabolic error\">Parab Error</td>\n",
       "                <td title=\"Minos lower error\">Minos Error-</td>\n",
       "                <td title=\"Minos upper error\">Minos Error+</td>\n",
       "                <td title=\"Lower limit of the parameter\">Limit-</td>\n",
       "                <td title=\"Upper limit of the parameter\">Limit+</td>\n",
       "                <td title=\"Is the parameter fixed in the fit\">FIXED</td>\n",
       "            </tr>\n",
       "        \n",
       "            <tr>\n",
       "                <td>1</td>\n",
       "                <td>SigXSecOverSM</td>\n",
       "                <td>2.00357</td>\n",
       "                <td>2.46754</td>\n",
       "                <td>0</td>\n",
       "                <td>0</td>\n",
       "                <td>0.0</td>\n",
       "                <td>3.0</td>\n",
       "                <td></td>\n",
       "            </tr>\n",
       "            \n",
       "            <tr>\n",
       "                <td>2</td>\n",
       "                <td>BackgroundNormSyst1</td>\n",
       "                <td>-0.0531703</td>\n",
       "                <td>3.82936</td>\n",
       "                <td>0</td>\n",
       "                <td>0</td>\n",
       "                <td>-3.0</td>\n",
       "                <td>3.0</td>\n",
       "                <td></td>\n",
       "            </tr>\n",
       "            \n",
       "            <tr>\n",
       "                <td>3</td>\n",
       "                <td>BackgroundNormSyst2</td>\n",
       "                <td>0.0321934</td>\n",
       "                <td>3.87475</td>\n",
       "                <td>0</td>\n",
       "                <td>0</td>\n",
       "                <td>-3.0</td>\n",
       "                <td>3.0</td>\n",
       "                <td></td>\n",
       "            </tr>\n",
       "            \n",
       "            </table>\n",
       "        \n",
       "            <pre id=\"YRmdALYuBT\" style=\"display:none;\">\n",
       "            <textarea rows=\"12\" cols=\"50\" onclick=\"this.select()\" readonly>\\begin{tabular}{|c|r|r|r|r|r|r|r|c|}\n",
       "\\hline\n",
       " & Name & Value & Para Error & Error+ & Error- & Limit+ & Limit- & FIXED\\\\\n",
       "\\hline\n",
       "1 & SigXSecOverSM & 2.004e+00 & 2.468e+00 &  &  & 0.000e+00 & 3.000e+00 & \\\\\n",
       "\\hline\n",
       "2 & BackgroundNormSyst1 & -5.317e-02 & 3.829e+00 &  &  & -3.000e+00 & 3.000e+00 & \\\\\n",
       "\\hline\n",
       "3 & BackgroundNormSyst2 & 3.219e-02 & 3.875e+00 &  &  & -3.000e+00 & 3.000e+00 & \\\\\n",
       "\\hline\n",
       "\\end{tabular}</textarea>\n",
       "            </pre>\n",
       "            "
      ]
     },
     "metadata": {},
     "output_type": "display_data"
    },
    {
     "data": {
      "text/html": [
       "<hr>"
      ]
     },
     "metadata": {},
     "output_type": "display_data"
    },
    {
     "data": {
      "text/plain": [
       "({'hesse_failed': False, 'has_reached_call_limit': False, 'has_accurate_covar': True, 'has_posdef_covar': True, 'up': 1.0, 'edm': 3.80092399562466e-05, 'is_valid': True, 'is_above_max_edm': False, 'has_covariance': True, 'has_made_posdef_covar': False, 'has_valid_parameters': True, 'fval': 7.937309605956761, 'nfcn': 93},\n",
       " [{'is_const': False, 'name': 'SigXSecOverSM', 'has_limits': True, 'value': 2.003572034798038, 'number': 0, 'has_lower_limit': True, 'upper_limit': 3.0, 'lower_limit': 0.0, 'has_upper_limit': True, 'error': 2.467540843271004, 'is_fixed': False},\n",
       "  {'is_const': False, 'name': 'BackgroundNormSyst1', 'has_limits': True, 'value': -0.05317028751493247, 'number': 1, 'has_lower_limit': True, 'upper_limit': 3.0, 'lower_limit': -3.0, 'has_upper_limit': True, 'error': 3.829364960299342, 'is_fixed': False},\n",
       "  {'is_const': False, 'name': 'BackgroundNormSyst2', 'has_limits': True, 'value': 0.03219343471620917, 'number': 2, 'has_lower_limit': True, 'upper_limit': 3.0, 'lower_limit': -3.0, 'has_upper_limit': True, 'error': 3.874752781799633, 'is_fixed': False}])"
      ]
     },
     "execution_count": 7,
     "metadata": {},
     "output_type": "execute_result"
    }
   ],
   "source": [
    "blh = BinnedLH(m)\n",
    "params = m.Parameters()\n",
    "minimiser = Minuit(blh, **params)\n",
    "minimiser.migrad()"
   ]
  },
  {
   "cell_type": "code",
   "execution_count": 8,
   "metadata": {},
   "outputs": [
    {
     "name": "stderr",
     "output_type": "stream",
     "text": [
      "/Library/Frameworks/Python.framework/Versions/2.7/lib/python2.7/site-packages/iminuit/_plotting.py:51: RuntimeWarning: band and text is requested but the bound is too narrow.\n",
      "  warnings.warn(RuntimeWarning('band and text is requested but'\n"
     ]
    },
    {
     "data": {
      "text/plain": [
       "(array([-2.93150965, -2.83181103, -2.73211241, -2.63241379, -2.53271517,\n",
       "        -2.43301655, -2.33331793, -2.23361931, -2.13392069, -2.03422207,\n",
       "        -1.93452345, -1.83482483, -1.73512621, -1.63542759, -1.53572897,\n",
       "        -1.43603035, -1.33633173, -1.23663311, -1.13693449, -1.03723587,\n",
       "        -0.93753725, -0.83783863, -0.73814001, -0.63844139, -0.53874277,\n",
       "        -0.43904415, -0.33934553, -0.23964691, -0.13994829, -0.04024967,\n",
       "         0.05944895,  0.15914757,  0.25884619,  0.35854481,  0.45824343,\n",
       "         0.55794205,  0.65764067,  0.75733929,  0.85703791,  0.95673653,\n",
       "         1.05643515,  1.15613377,  1.25583239,  1.35553101,  1.45522963,\n",
       "         1.55492825,  1.65462687,  1.75432548,  1.8540241 ,  1.95372272,\n",
       "         2.05342134,  2.15311996,  2.25281858,  2.3525172 ,  2.45221582,\n",
       "         2.55191444,  2.65161306,  2.75131168,  2.8510103 ,  2.95070892,\n",
       "         3.05040754,  3.15010616,  3.24980478,  3.3495034 ,  3.44920202,\n",
       "         3.54890064,  3.64859926,  3.74829788,  3.8479965 ,  3.94769512,\n",
       "         4.04739374,  4.14709236,  4.24679098,  4.3464896 ,  4.44618822,\n",
       "         4.54588684,  4.64558546,  4.74528408,  4.8449827 ,  4.94468132,\n",
       "         5.04437994,  5.14407856,  5.24377718,  5.3434758 ,  5.44317442,\n",
       "         5.54287304,  5.64257166,  5.74227028,  5.8419689 ,  5.94166752,\n",
       "         6.04136614,  6.14106476,  6.24076338,  6.340462  ,  6.44016062,\n",
       "         6.53985924,  6.63955786,  6.73925648,  6.8389551 ,  6.93865372]),\n",
       " array([          nan,           nan,           nan,           nan,\n",
       "                  nan,           nan,           nan,  103.01434924,\n",
       "          69.87990882,   58.46061168,   51.17820775,   45.76995792,\n",
       "          41.45525651,   37.86781456,   34.80464379,   32.14063011,\n",
       "          29.79270934,   27.7026199 ,   25.82773273,   24.13579462,\n",
       "          22.60173104,   21.20560609,   19.93126824,   18.76542084,\n",
       "          17.69696585,   16.71652895,   15.81610853,   14.98881127,\n",
       "          14.2286497 ,   13.53038483,   12.88940218,   12.30161305,\n",
       "          11.76337488,   11.27142647,   10.82283482,   10.41495111,\n",
       "          10.04537392,    9.7119184 ,    9.41259017,    9.14556315,\n",
       "           8.90916052,    8.70183844,    8.52217191,    8.36884254,\n",
       "           8.24062789,    8.13639205,    8.05507752,    7.9956979 ,\n",
       "           7.95733152,    7.93911573,    7.94024183,    7.95995057,\n",
       "           7.99752808,    8.05230225,    8.12363944,    8.21094153,\n",
       "           8.31364327,    8.43120984,    8.56313467,    8.70893741,\n",
       "           8.86816214,    9.04037571,    9.22516619,    9.4221415 ,\n",
       "           9.63092809,    9.85116984,   10.08252687,   10.32467465,\n",
       "          10.577303  ,   10.84011525,   11.1128275 ,   11.39516783,\n",
       "          11.68687562,   11.98770098,   12.29740409,   12.6157547 ,\n",
       "          12.94253162,   13.27752219,   13.62052191,   13.97133397,\n",
       "          14.32976889,   14.69564414,   15.06878382,   15.44901829,\n",
       "          15.83618393,   16.23012281,   16.63068246,   17.03771559,\n",
       "          17.45107985,   17.87063765,   18.2962559 ,   18.72780583,\n",
       "          19.16516283,   19.60820621,   20.05681909,   20.51088822,\n",
       "          20.97030383,   21.43495946,   21.90475188,   22.37958092]))"
      ]
     },
     "execution_count": 8,
     "metadata": {},
     "output_type": "execute_result"
    },
    {
     "data": {
      "image/png": "[encoded data removed]",
      "text/plain": [
       "<matplotlib.figure.Figure at 0x1055fcb90>"
      ]
     },
     "metadata": {},
     "output_type": "display_data"
    }
   ],
   "source": [
    "minimiser.draw_profile('SigXSecOverSM')"
   ]
  },
  {
   "cell_type": "code",
   "execution_count": 9,
   "metadata": {},
   "outputs": [],
   "source": [
    "signal_1 = HistiSample('signal')\n",
    "signal_1.SetHisto((hist_1[:2],bins_2))\n",
    "signal_1.AddNorm(\"SigXSecOverSM\",1.0,0,3)\n",
    "background_1 = HistiSample('background1')\n",
    "background_1.SetHisto((hist_2[:2],bins_2))\n",
    "background_1.AddOverallSys(\"BackgroundNormSyst1\",0.9,1.1)\n",
    "background_2 = HistiSample('background1')\n",
    "background_2.SetHisto((hist_3[:2],bins_2))\n",
    "background_2.AddOverallSys(\"BackgroundNormSyst3\",0.7,1.3)"
   ]
  },
  {
   "cell_type": "code",
   "execution_count": 10,
   "metadata": {},
   "outputs": [],
   "source": [
    "chan2 = HistiChannel(\"CR1\")\n",
    "chan2.AddSample(signal_1)\n",
    "chan2.AddSample(background_1)\n",
    "chan2.AddSample(background_2)"
   ]
  },
  {
   "cell_type": "code",
   "execution_count": 11,
   "metadata": {},
   "outputs": [],
   "source": [
    "data2 = hist_1[:2]*2 +hist_2[:2] +hist_3[:2]\n",
    "\n",
    "chan2.SetData(data2)\n",
    "m.AddChannel(chan2)"
   ]
  },
  {
   "cell_type": "code",
   "execution_count": 12,
   "metadata": {},
   "outputs": [
    {
     "name": "stderr",
     "output_type": "stream",
     "text": [
      "/Users/vince/tensorflow/lib/python2.7/site-packages/ipykernel_launcher.py:3: InitialParamWarning: Parameter SigXSecOverSM is floating but does not have initial step size. Assume 1.\n",
      "  This is separate from the ipykernel package so we can avoid doing imports until\n",
      "/Users/vince/tensorflow/lib/python2.7/site-packages/ipykernel_launcher.py:3: InitialParamWarning: Parameter BackgroundNormSyst1 is floating but does not have initial step size. Assume 1.\n",
      "  This is separate from the ipykernel package so we can avoid doing imports until\n",
      "/Users/vince/tensorflow/lib/python2.7/site-packages/ipykernel_launcher.py:3: InitialParamWarning: Parameter BackgroundNormSyst2 is floating but does not have initial step size. Assume 1.\n",
      "  This is separate from the ipykernel package so we can avoid doing imports until\n",
      "/Users/vince/tensorflow/lib/python2.7/site-packages/ipykernel_launcher.py:3: InitialParamWarning: Parameter BackgroundNormSyst3 is floating but does not have initial step size. Assume 1.\n",
      "  This is separate from the ipykernel package so we can avoid doing imports until\n"
     ]
    }
   ],
   "source": [
    "blh = BinnedLH(m)\n",
    "params = m.Parameters()\n",
    "minimiser = Minuit(blh, **params)"
   ]
  },
  {
   "cell_type": "code",
   "execution_count": 13,
   "metadata": {},
   "outputs": [
    {
     "data": {
      "text/html": [
       "<hr>"
      ]
     },
     "metadata": {},
     "output_type": "display_data"
    },
    {
     "data": {
      "text/html": [
       "\n",
       "        <table>\n",
       "            <tr>\n",
       "                <td title=\"Minimum value of function\">FCN = 12.2250747675</td>\n",
       "                <td title=\"Total number of call to FCN so far\">TOTAL NCALL = 58</td>\n",
       "                <td title=\"Number of call in last migrad\">NCALLS = 58</td>\n",
       "            </tr>\n",
       "            <tr>\n",
       "                <td title=\"Estimated distance to minimum\">EDM = 2.64917386445e-05</td>\n",
       "                <td title=\"Maximum EDM definition of convergence\">GOAL EDM = 1e-05</td>\n",
       "                <td title=\"Error def. Amount of increase in FCN to be defined as 1 standard deviation\">\n",
       "                UP = 1.0</td>\n",
       "            </tr>\n",
       "        </table>\n",
       "        \n",
       "        <table>\n",
       "            <tr>\n",
       "                <td align=\"center\" title=\"Validity of the migrad call\">Valid</td>\n",
       "                <td align=\"center\" title=\"Validity of parameters\">Valid Param</td>\n",
       "                <td align=\"center\" title=\"Is Covariance matrix accurate?\">Accurate Covar</td>\n",
       "                <td align=\"center\" title=\"Positive definiteness of covariance matrix\">PosDef</td>\n",
       "                <td align=\"center\" title=\"Was covariance matrix made posdef by adding diagonal element\">Made PosDef</td>\n",
       "            </tr>\n",
       "            <tr>\n",
       "                <td align=\"center\" style=\"background-color:#FF7878\">False</td>\n",
       "                <td align=\"center\" style=\"background-color:#92CCA6\">True</td>\n",
       "                <td align=\"center\" style=\"background-color:#FF7878\">False</td>\n",
       "                <td align=\"center\" style=\"background-color:#FF7878\">False</td>\n",
       "                <td align=\"center\" style=\"background-color:#92CCA6\">False</td>\n",
       "            </tr>\n",
       "            <tr>\n",
       "                <td align=\"center\" title=\"Was last hesse call fail?\">Hesse Fail</td>\n",
       "                <td align=\"center\" title=\"Validity of covariance\">HasCov</td>\n",
       "                <td align=\"center\" title=\"Is EDM above goal EDM?\">Above EDM</td>\n",
       "                <td align=\"center\"></td>\n",
       "                <td align=\"center\" title=\"Did last migrad call reach max call limit?\">Reach calllim</td>\n",
       "            </tr>\n",
       "            <tr>\n",
       "                <td align=\"center\" style=\"background-color:#FF7878\">True</td>\n",
       "                <td align=\"center\" style=\"background-color:#92CCA6\">True</td>\n",
       "                <td align=\"center\" style=\"background-color:#92CCA6\">False</td>\n",
       "                <td align=\"center\"></td>\n",
       "                <td align=\"center\" style=\"background-color:#92CCA6\">False</td>\n",
       "            </tr>\n",
       "        </table>\n",
       "        "
      ]
     },
     "metadata": {},
     "output_type": "display_data"
    },
    {
     "data": {
      "text/html": [
       "\n",
       "        <table>\n",
       "            <tr>\n",
       "                <td><a href=\"#\" onclick=\"$('#uMmcUhdimJ').toggle()\">+</a></td>\n",
       "                <td title=\"Variable name\">Name</td>\n",
       "                <td title=\"Value of parameter\">Value</td>\n",
       "                <td title=\"Parabolic error\">Parab Error</td>\n",
       "                <td title=\"Minos lower error\">Minos Error-</td>\n",
       "                <td title=\"Minos upper error\">Minos Error+</td>\n",
       "                <td title=\"Lower limit of the parameter\">Limit-</td>\n",
       "                <td title=\"Upper limit of the parameter\">Limit+</td>\n",
       "                <td title=\"Is the parameter fixed in the fit\">FIXED</td>\n",
       "            </tr>\n",
       "        \n",
       "            <tr>\n",
       "                <td>1</td>\n",
       "                <td>SigXSecOverSM</td>\n",
       "                <td>1.90108</td>\n",
       "                <td>0.864303</td>\n",
       "                <td>0</td>\n",
       "                <td>0</td>\n",
       "                <td>0.0</td>\n",
       "                <td>3.0</td>\n",
       "                <td></td>\n",
       "            </tr>\n",
       "            \n",
       "            <tr>\n",
       "                <td>2</td>\n",
       "                <td>BackgroundNormSyst1</td>\n",
       "                <td>-0.925563</td>\n",
       "                <td>3.99084</td>\n",
       "                <td>0</td>\n",
       "                <td>0</td>\n",
       "                <td>-3.0</td>\n",
       "                <td>3.0</td>\n",
       "                <td></td>\n",
       "            </tr>\n",
       "            \n",
       "            <tr>\n",
       "                <td>3</td>\n",
       "                <td>BackgroundNormSyst2</td>\n",
       "                <td>0.613885</td>\n",
       "                <td>1.66054</td>\n",
       "                <td>0</td>\n",
       "                <td>0</td>\n",
       "                <td>-3.0</td>\n",
       "                <td>3.0</td>\n",
       "                <td></td>\n",
       "            </tr>\n",
       "            \n",
       "            <tr>\n",
       "                <td>4</td>\n",
       "                <td>BackgroundNormSyst3</td>\n",
       "                <td>0.6</td>\n",
       "                <td>4.70493</td>\n",
       "                <td>0</td>\n",
       "                <td>0</td>\n",
       "                <td>-3.0</td>\n",
       "                <td>3.0</td>\n",
       "                <td></td>\n",
       "            </tr>\n",
       "            \n",
       "            </table>\n",
       "        \n",
       "            <pre id=\"uMmcUhdimJ\" style=\"display:none;\">\n",
       "            <textarea rows=\"14\" cols=\"50\" onclick=\"this.select()\" readonly>\\begin{tabular}{|c|r|r|r|r|r|r|r|c|}\n",
       "\\hline\n",
       " & Name & Value & Para Error & Error+ & Error- & Limit+ & Limit- & FIXED\\\\\n",
       "\\hline\n",
       "1 & SigXSecOverSM & 1.901e+00 & 8.643e-01 &  &  & 0.000e+00 & 3.000e+00 & \\\\\n",
       "\\hline\n",
       "2 & BackgroundNormSyst1 & -9.256e-01 & 3.991e+00 &  &  & -3.000e+00 & 3.000e+00 & \\\\\n",
       "\\hline\n",
       "3 & BackgroundNormSyst2 & 6.139e-01 & 1.661e+00 &  &  & -3.000e+00 & 3.000e+00 & \\\\\n",
       "\\hline\n",
       "4 & BackgroundNormSyst3 & 6.000e-01 & 4.705e+00 &  &  & -3.000e+00 & 3.000e+00 & \\\\\n",
       "\\hline\n",
       "\\end{tabular}</textarea>\n",
       "            </pre>\n",
       "            "
      ]
     },
     "metadata": {},
     "output_type": "display_data"
    },
    {
     "data": {
      "text/html": [
       "<hr>"
      ]
     },
     "metadata": {},
     "output_type": "display_data"
    },
    {
     "data": {
      "text/plain": [
       "({'hesse_failed': True, 'has_reached_call_limit': False, 'has_accurate_covar': False, 'has_posdef_covar': False, 'up': 1.0, 'edm': 2.6491738644509575e-05, 'is_valid': False, 'is_above_max_edm': False, 'has_covariance': True, 'has_made_posdef_covar': False, 'has_valid_parameters': True, 'fval': 12.22507476751256, 'nfcn': 58},\n",
       " [{'is_const': False, 'name': 'SigXSecOverSM', 'has_limits': True, 'value': 1.9010762750328438, 'number': 0, 'has_lower_limit': True, 'upper_limit': 3.0, 'lower_limit': 0.0, 'has_upper_limit': True, 'error': 0.8643025927438515, 'is_fixed': False},\n",
       "  {'is_const': False, 'name': 'BackgroundNormSyst1', 'has_limits': True, 'value': -0.9255627837233646, 'number': 1, 'has_lower_limit': True, 'upper_limit': 3.0, 'lower_limit': -3.0, 'has_upper_limit': True, 'error': 3.9908378597610876, 'is_fixed': False},\n",
       "  {'is_const': False, 'name': 'BackgroundNormSyst2', 'has_limits': True, 'value': 0.6138847392136957, 'number': 2, 'has_lower_limit': True, 'upper_limit': 3.0, 'lower_limit': -3.0, 'has_upper_limit': True, 'error': 1.6605354359409583, 'is_fixed': False},\n",
       "  {'is_const': False, 'name': 'BackgroundNormSyst3', 'has_limits': True, 'value': 0.5999999999999996, 'number': 3, 'has_lower_limit': True, 'upper_limit': 3.0, 'lower_limit': -3.0, 'has_upper_limit': True, 'error': 4.704930423358224, 'is_fixed': False}])"
      ]
     },
     "execution_count": 13,
     "metadata": {},
     "output_type": "execute_result"
    }
   ],
   "source": [
    "minimiser.migrad()"
   ]
  },
  {
   "cell_type": "code",
   "execution_count": 14,
   "metadata": {},
   "outputs": [
    {
     "data": {
      "text/plain": [
       "(array([ 0.17247109,  0.20739241,  0.24231372,  0.27723504,  0.31215636,\n",
       "         0.34707767,  0.38199899,  0.41692031,  0.45184162,  0.48676294,\n",
       "         0.52168426,  0.55660558,  0.59152689,  0.62644821,  0.66136953,\n",
       "         0.69629084,  0.73121216,  0.76613348,  0.80105479,  0.83597611,\n",
       "         0.87089743,  0.90581874,  0.94074006,  0.97566138,  1.01058269,\n",
       "         1.04550401,  1.08042533,  1.11534665,  1.15026796,  1.18518928,\n",
       "         1.2201106 ,  1.25503191,  1.28995323,  1.32487455,  1.35979586,\n",
       "         1.39471718,  1.4296385 ,  1.46455981,  1.49948113,  1.53440245,\n",
       "         1.56932376,  1.60424508,  1.6391664 ,  1.67408772,  1.70900903,\n",
       "         1.74393035,  1.77885167,  1.81377298,  1.8486943 ,  1.88361562,\n",
       "         1.91853693,  1.95345825,  1.98837957,  2.02330088,  2.0582222 ,\n",
       "         2.09314352,  2.12806483,  2.16298615,  2.19790747,  2.23282879,\n",
       "         2.2677501 ,  2.30267142,  2.33759274,  2.37251405,  2.40743537,\n",
       "         2.44235669,  2.477278  ,  2.51219932,  2.54712064,  2.58204195,\n",
       "         2.61696327,  2.65188459,  2.6868059 ,  2.72172722,  2.75664854,\n",
       "         2.79156986,  2.82649117,  2.86141249,  2.89633381,  2.93125512,\n",
       "         2.96617644,  3.00109776,  3.03601907,  3.07094039,  3.10586171,\n",
       "         3.14078302,  3.17570434,  3.21062566,  3.24554697,  3.28046829,\n",
       "         3.31538961,  3.35031093,  3.38523224,  3.42015356,  3.45507488,\n",
       "         3.48999619,  3.52491751,  3.55983883,  3.59476014,  3.62968146]),\n",
       " array([ 16.77912651,  16.56928251,  16.36587596,  16.16876828,\n",
       "         15.97782566,  15.79291884,  15.61392292,  15.44071715,\n",
       "         15.27318471,  15.11121256,  14.95469127,  14.80351485,\n",
       "         14.6575806 ,  14.51678898,  14.38104345,  14.25025038,\n",
       "         14.1243189 ,  14.00316079,  13.88669041,  13.77482452,\n",
       "         13.66748227,  13.56458506,  13.46605644,  13.37182208,\n",
       "         13.28180962,  13.19594868,  13.1141707 ,  13.03640894,\n",
       "         12.96259838,  12.89267567,  12.82657906,  12.76424837,\n",
       "         12.7056249 ,  12.6506514 ,  12.59927202,  12.55143226,\n",
       "         12.50707893,  12.46616009,  12.42862503,  12.39442421,\n",
       "         12.36350925,  12.33583286,  12.31134882,  12.29001197,\n",
       "         12.27177813,  12.25660412,  12.24444768,  12.23526748,\n",
       "         12.22902308,  12.22567491,  12.22518422,  12.22751308,\n",
       "         12.23262436,  12.24048168,  12.25104942,  12.26429269,\n",
       "         12.28017727,  12.29866966,  12.31973701,  12.34334712,\n",
       "         12.36946842,  12.39806996,  12.42912137,  12.46259288,\n",
       "         12.49845527,  12.53667987,  12.57723857,  12.62010376,\n",
       "         12.66524834,  12.71264572,  12.76226977,  12.81409487,\n",
       "         12.86809583,  12.92424791,  12.98252683,  13.04290871,\n",
       "         13.1053701 ,  13.16988796,  13.23643964,  13.30500289,\n",
       "         13.37555583,  13.44807694,  13.52254508,  13.59893945,\n",
       "         13.67723961,  13.75742544,  13.83947716,  13.9233753 ,\n",
       "         14.00910073,  14.0966346 ,  14.18595838,  14.27705382,\n",
       "         14.36990297,  14.46448817,  14.56079201,  14.65879736,\n",
       "         14.75848738,  14.85984545,  14.96285523,  15.06750062]))"
      ]
     },
     "execution_count": 14,
     "metadata": {},
     "output_type": "execute_result"
    },
    {
     "data": {
      "image/png": "[encoded data removed]",
      "text/plain": [
       "<matplotlib.figure.Figure at 0x10a5b30d0>"
      ]
     },
     "metadata": {},
     "output_type": "display_data"
    }
   ],
   "source": [
    "minimiser.draw_profile('SigXSecOverSM')"
   ]
  },
  {
   "cell_type": "code",
   "execution_count": 15,
   "metadata": {},
   "outputs": [],
   "source": [
    "signal_1 = HistiSample('signal')\n",
    "signal_1.SetHisto((np.hstack([hist_1,np.flip(hist_1,0)]),bins_3))\n",
    "signal_1.AddNorm(\"SigXSecOverSM\",1.0,0,3)\n",
    "background_1 = HistiSample('background1')\n",
    "background_1.SetHisto((np.hstack([hist_2,hist_2]),bins_3))\n",
    "background_1.AddOverallSys(\"BackgroundNormSyst1\",0.9,1.1)\n",
    "background_2 = HistiSample('background1')\n",
    "background_2.SetHisto((np.hstack([hist_3,hist_3]),bins_3))\n",
    "background_2.AddOverallSys(\"BackgroundNormSyst2\",0.7,1.3)"
   ]
  },
  {
   "cell_type": "code",
   "execution_count": 16,
   "metadata": {},
   "outputs": [],
   "source": [
    "chan3 = HistiChannel(\"CR2\")\n",
    "chan3.AddSample(signal_1)\n",
    "chan3.AddSample(background_1)\n",
    "chan3.AddSample(background_2)"
   ]
  },
  {
   "cell_type": "code",
   "execution_count": 17,
   "metadata": {},
   "outputs": [],
   "source": [
    "data3 = np.hstack([hist_1,np.flip(hist_1,0)])*2 + np.hstack([hist_2,hist_2]) + np.hstack([hist_3,hist_3])\n",
    "\n",
    "chan3.SetData(data3)\n",
    "m.AddChannel(chan3)"
   ]
  },
  {
   "cell_type": "code",
   "execution_count": 18,
   "metadata": {},
   "outputs": [
    {
     "name": "stderr",
     "output_type": "stream",
     "text": [
      "/Users/vince/tensorflow/lib/python2.7/site-packages/ipykernel_launcher.py:3: InitialParamWarning: Parameter SigXSecOverSM is floating but does not have initial step size. Assume 1.\n",
      "  This is separate from the ipykernel package so we can avoid doing imports until\n",
      "/Users/vince/tensorflow/lib/python2.7/site-packages/ipykernel_launcher.py:3: InitialParamWarning: Parameter BackgroundNormSyst1 is floating but does not have initial step size. Assume 1.\n",
      "  This is separate from the ipykernel package so we can avoid doing imports until\n",
      "/Users/vince/tensorflow/lib/python2.7/site-packages/ipykernel_launcher.py:3: InitialParamWarning: Parameter BackgroundNormSyst2 is floating but does not have initial step size. Assume 1.\n",
      "  This is separate from the ipykernel package so we can avoid doing imports until\n",
      "/Users/vince/tensorflow/lib/python2.7/site-packages/ipykernel_launcher.py:3: InitialParamWarning: Parameter BackgroundNormSyst3 is floating but does not have initial step size. Assume 1.\n",
      "  This is separate from the ipykernel package so we can avoid doing imports until\n"
     ]
    },
    {
     "data": {
      "text/html": [
       "<hr>"
      ]
     },
     "metadata": {},
     "output_type": "display_data"
    },
    {
     "data": {
      "text/html": [
       "\n",
       "        <table>\n",
       "            <tr>\n",
       "                <td title=\"Minimum value of function\">FCN = 30.1211933907</td>\n",
       "                <td title=\"Total number of call to FCN so far\">TOTAL NCALL = 66</td>\n",
       "                <td title=\"Number of call in last migrad\">NCALLS = 66</td>\n",
       "            </tr>\n",
       "            <tr>\n",
       "                <td title=\"Estimated distance to minimum\">EDM = 2.42569783039e-05</td>\n",
       "                <td title=\"Maximum EDM definition of convergence\">GOAL EDM = 1e-05</td>\n",
       "                <td title=\"Error def. Amount of increase in FCN to be defined as 1 standard deviation\">\n",
       "                UP = 1.0</td>\n",
       "            </tr>\n",
       "        </table>\n",
       "        \n",
       "        <table>\n",
       "            <tr>\n",
       "                <td align=\"center\" title=\"Validity of the migrad call\">Valid</td>\n",
       "                <td align=\"center\" title=\"Validity of parameters\">Valid Param</td>\n",
       "                <td align=\"center\" title=\"Is Covariance matrix accurate?\">Accurate Covar</td>\n",
       "                <td align=\"center\" title=\"Positive definiteness of covariance matrix\">PosDef</td>\n",
       "                <td align=\"center\" title=\"Was covariance matrix made posdef by adding diagonal element\">Made PosDef</td>\n",
       "            </tr>\n",
       "            <tr>\n",
       "                <td align=\"center\" style=\"background-color:#FF7878\">False</td>\n",
       "                <td align=\"center\" style=\"background-color:#92CCA6\">True</td>\n",
       "                <td align=\"center\" style=\"background-color:#FF7878\">False</td>\n",
       "                <td align=\"center\" style=\"background-color:#FF7878\">False</td>\n",
       "                <td align=\"center\" style=\"background-color:#92CCA6\">False</td>\n",
       "            </tr>\n",
       "            <tr>\n",
       "                <td align=\"center\" title=\"Was last hesse call fail?\">Hesse Fail</td>\n",
       "                <td align=\"center\" title=\"Validity of covariance\">HasCov</td>\n",
       "                <td align=\"center\" title=\"Is EDM above goal EDM?\">Above EDM</td>\n",
       "                <td align=\"center\"></td>\n",
       "                <td align=\"center\" title=\"Did last migrad call reach max call limit?\">Reach calllim</td>\n",
       "            </tr>\n",
       "            <tr>\n",
       "                <td align=\"center\" style=\"background-color:#FF7878\">True</td>\n",
       "                <td align=\"center\" style=\"background-color:#92CCA6\">True</td>\n",
       "                <td align=\"center\" style=\"background-color:#92CCA6\">False</td>\n",
       "                <td align=\"center\"></td>\n",
       "                <td align=\"center\" style=\"background-color:#92CCA6\">False</td>\n",
       "            </tr>\n",
       "        </table>\n",
       "        "
      ]
     },
     "metadata": {},
     "output_type": "display_data"
    },
    {
     "data": {
      "text/html": [
       "\n",
       "        <table>\n",
       "            <tr>\n",
       "                <td><a href=\"#\" onclick=\"$('#VfNQhCcSEw').toggle()\">+</a></td>\n",
       "                <td title=\"Variable name\">Name</td>\n",
       "                <td title=\"Value of parameter\">Value</td>\n",
       "                <td title=\"Parabolic error\">Parab Error</td>\n",
       "                <td title=\"Minos lower error\">Minos Error-</td>\n",
       "                <td title=\"Minos upper error\">Minos Error+</td>\n",
       "                <td title=\"Lower limit of the parameter\">Limit-</td>\n",
       "                <td title=\"Upper limit of the parameter\">Limit+</td>\n",
       "                <td title=\"Is the parameter fixed in the fit\">FIXED</td>\n",
       "            </tr>\n",
       "        \n",
       "            <tr>\n",
       "                <td>1</td>\n",
       "                <td>SigXSecOverSM</td>\n",
       "                <td>1.98943</td>\n",
       "                <td>0.552463</td>\n",
       "                <td>0</td>\n",
       "                <td>0</td>\n",
       "                <td>0.0</td>\n",
       "                <td>3.0</td>\n",
       "                <td></td>\n",
       "            </tr>\n",
       "            \n",
       "            <tr>\n",
       "                <td>2</td>\n",
       "                <td>BackgroundNormSyst1</td>\n",
       "                <td>-0.550002</td>\n",
       "                <td>2.37258</td>\n",
       "                <td>0</td>\n",
       "                <td>0</td>\n",
       "                <td>-3.0</td>\n",
       "                <td>3.0</td>\n",
       "                <td></td>\n",
       "            </tr>\n",
       "            \n",
       "            <tr>\n",
       "                <td>3</td>\n",
       "                <td>BackgroundNormSyst2</td>\n",
       "                <td>0.28507</td>\n",
       "                <td>1.20499</td>\n",
       "                <td>0</td>\n",
       "                <td>0</td>\n",
       "                <td>-3.0</td>\n",
       "                <td>3.0</td>\n",
       "                <td></td>\n",
       "            </tr>\n",
       "            \n",
       "            <tr>\n",
       "                <td>4</td>\n",
       "                <td>BackgroundNormSyst3</td>\n",
       "                <td>0.6</td>\n",
       "                <td>4.70493</td>\n",
       "                <td>0</td>\n",
       "                <td>0</td>\n",
       "                <td>-3.0</td>\n",
       "                <td>3.0</td>\n",
       "                <td></td>\n",
       "            </tr>\n",
       "            \n",
       "            </table>\n",
       "        \n",
       "            <pre id=\"VfNQhCcSEw\" style=\"display:none;\">\n",
       "            <textarea rows=\"14\" cols=\"50\" onclick=\"this.select()\" readonly>\\begin{tabular}{|c|r|r|r|r|r|r|r|c|}\n",
       "\\hline\n",
       " & Name & Value & Para Error & Error+ & Error- & Limit+ & Limit- & FIXED\\\\\n",
       "\\hline\n",
       "1 & SigXSecOverSM & 1.989e+00 & 5.525e-01 &  &  & 0.000e+00 & 3.000e+00 & \\\\\n",
       "\\hline\n",
       "2 & BackgroundNormSyst1 & -5.500e-01 & 2.373e+00 &  &  & -3.000e+00 & 3.000e+00 & \\\\\n",
       "\\hline\n",
       "3 & BackgroundNormSyst2 & 2.851e-01 & 1.205e+00 &  &  & -3.000e+00 & 3.000e+00 & \\\\\n",
       "\\hline\n",
       "4 & BackgroundNormSyst3 & 6.000e-01 & 4.705e+00 &  &  & -3.000e+00 & 3.000e+00 & \\\\\n",
       "\\hline\n",
       "\\end{tabular}</textarea>\n",
       "            </pre>\n",
       "            "
      ]
     },
     "metadata": {},
     "output_type": "display_data"
    },
    {
     "data": {
      "text/html": [
       "<hr>"
      ]
     },
     "metadata": {},
     "output_type": "display_data"
    },
    {
     "data": {
      "text/plain": [
       "({'hesse_failed': True, 'has_reached_call_limit': False, 'has_accurate_covar': False, 'has_posdef_covar': False, 'up': 1.0, 'edm': 2.4256978303884984e-05, 'is_valid': False, 'is_above_max_edm': False, 'has_covariance': True, 'has_made_posdef_covar': False, 'has_valid_parameters': True, 'fval': 30.121193390741787, 'nfcn': 66},\n",
       " [{'is_const': False, 'name': 'SigXSecOverSM', 'has_limits': True, 'value': 1.9894317007603035, 'number': 0, 'has_lower_limit': True, 'upper_limit': 3.0, 'lower_limit': 0.0, 'has_upper_limit': True, 'error': 0.5524632838030152, 'is_fixed': False},\n",
       "  {'is_const': False, 'name': 'BackgroundNormSyst1', 'has_limits': True, 'value': -0.5500019383856918, 'number': 1, 'has_lower_limit': True, 'upper_limit': 3.0, 'lower_limit': -3.0, 'has_upper_limit': True, 'error': 2.372584061988221, 'is_fixed': False},\n",
       "  {'is_const': False, 'name': 'BackgroundNormSyst2', 'has_limits': True, 'value': 0.28507028584837935, 'number': 2, 'has_lower_limit': True, 'upper_limit': 3.0, 'lower_limit': -3.0, 'has_upper_limit': True, 'error': 1.2049901387818935, 'is_fixed': False},\n",
       "  {'is_const': False, 'name': 'BackgroundNormSyst3', 'has_limits': True, 'value': 0.5999999999999996, 'number': 3, 'has_lower_limit': True, 'upper_limit': 3.0, 'lower_limit': -3.0, 'has_upper_limit': True, 'error': 4.704930423358224, 'is_fixed': False}])"
      ]
     },
     "execution_count": 18,
     "metadata": {},
     "output_type": "execute_result"
    }
   ],
   "source": [
    "blh = BinnedLH(m)\n",
    "params = m.Parameters()\n",
    "minimiser = Minuit(blh, **params)\n",
    "minimiser.migrad()"
   ]
  },
  {
   "cell_type": "code",
   "execution_count": 19,
   "metadata": {},
   "outputs": [
    {
     "data": {
      "text/plain": [
       "(array([ 0.88450513,  0.90682688,  0.92914863,  0.95147038,  0.97379213,\n",
       "         0.99611388,  1.01843563,  1.04075738,  1.06307912,  1.08540087,\n",
       "         1.10772262,  1.13004437,  1.15236612,  1.17468787,  1.19700962,\n",
       "         1.21933137,  1.24165311,  1.26397486,  1.28629661,  1.30861836,\n",
       "         1.33094011,  1.35326186,  1.37558361,  1.39790536,  1.42022711,\n",
       "         1.44254885,  1.4648706 ,  1.48719235,  1.5095141 ,  1.53183585,\n",
       "         1.5541576 ,  1.57647935,  1.5988011 ,  1.62112284,  1.64344459,\n",
       "         1.66576634,  1.68808809,  1.71040984,  1.73273159,  1.75505334,\n",
       "         1.77737509,  1.79969684,  1.82201858,  1.84434033,  1.86666208,\n",
       "         1.88898383,  1.91130558,  1.93362733,  1.95594908,  1.97827083,\n",
       "         2.00059258,  2.02291432,  2.04523607,  2.06755782,  2.08987957,\n",
       "         2.11220132,  2.13452307,  2.15684482,  2.17916657,  2.20148831,\n",
       "         2.22381006,  2.24613181,  2.26845356,  2.29077531,  2.31309706,\n",
       "         2.33541881,  2.35774056,  2.38006231,  2.40238405,  2.4247058 ,\n",
       "         2.44702755,  2.4693493 ,  2.49167105,  2.5139928 ,  2.53631455,\n",
       "         2.5586363 ,  2.58095805,  2.60327979,  2.62560154,  2.64792329,\n",
       "         2.67024504,  2.69256679,  2.71488854,  2.73721029,  2.75953204,\n",
       "         2.78185378,  2.80417553,  2.82649728,  2.84881903,  2.87114078,\n",
       "         2.89346253,  2.91578428,  2.93810603,  2.96042778,  2.98274952,\n",
       "         3.00507127,  3.02739302,  3.04971477,  3.07203652,  3.09435827]),\n",
       " array([ 34.59620686,  34.40115835,  34.21121637,  34.02632016,\n",
       "         33.84641012,  33.67142775,  33.50131565,  33.33601746,\n",
       "         33.17547786,  33.01964255,  32.86845819,  32.7218724 ,\n",
       "         32.57983374,  32.44229166,  32.30919652,  32.18049953,\n",
       "         32.05615276,  31.93610908,  31.82032219,  31.70874655,\n",
       "         31.60133743,  31.49805079,  31.39884338,  31.30367263,\n",
       "         31.21249668,  31.12527435,  31.04196514,  30.96252919,\n",
       "         30.88692728,  30.81512082,  30.74707183,  30.68274293,\n",
       "         30.62209732,  30.56509877,  30.51171161,  30.46190072,\n",
       "         30.41563153,  30.37286997,  30.3335825 ,  30.29773609,\n",
       "         30.26529817,  30.2362367 ,  30.21052008,  30.18811717,\n",
       "         30.16899732,  30.15313028,  30.14048627,  30.13103593,\n",
       "         30.1247503 ,  30.12160085,  30.12155946,  30.12459838,\n",
       "         30.13069026,  30.13980814,  30.15192542,  30.16701586,\n",
       "         30.1850536 ,  30.20601312,  30.22986924,  30.25659712,\n",
       "         30.28617227,  30.3185705 ,  30.35376796,  30.39174112,\n",
       "         30.43246673,  30.47592187,  30.52208391,  30.57093052,\n",
       "         30.62243964,  30.67658951,  30.73335864,  30.79272581,\n",
       "         30.85467008,  30.91917075,  30.98620741,  31.05575988,\n",
       "         31.12780823,  31.2023328 ,  31.27931415,  31.35873307,\n",
       "         31.44057062,  31.52480805,  31.61142685,  31.70040875,\n",
       "         31.79173567,  31.88538976,  31.98135338,  32.0796091 ,\n",
       "         32.1801397 ,  32.28292813,  32.38795758,  32.49521142,\n",
       "         32.60467319,  32.71632665,  32.83015573,  32.94614455,\n",
       "         33.0642774 ,  33.18453875,  33.30691326,  33.43138575]))"
      ]
     },
     "execution_count": 19,
     "metadata": {},
     "output_type": "execute_result"
    },
    {
     "data": {
      "image/png": "[encoded data removed]",
      "text/plain": [
       "<matplotlib.figure.Figure at 0x10a81c1d0>"
      ]
     },
     "metadata": {},
     "output_type": "display_data"
    }
   ],
   "source": [
    "minimiser.draw_profile('SigXSecOverSM')"
   ]
  },
  {
   "cell_type": "code",
   "execution_count": null,
   "metadata": {},
   "outputs": [],
   "source": []
  }
 ],
 "metadata": {
  "kernelspec": {
   "display_name": "Python 2",
   "language": "python",
   "name": "python2"
  },
  "language_info": {
   "codemirror_mode": {
    "name": "ipython",
    "version": 2
   },
   "file_extension": ".py",
   "mimetype": "text/x-python",
   "name": "python",
   "nbconvert_exporter": "python",
   "pygments_lexer": "ipython2",
   "version": "2.7.13"
  }
 },
 "nbformat": 4,
 "nbformat_minor": 2
}
