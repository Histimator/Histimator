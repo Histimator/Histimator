{
 "cells": [
  {
   "cell_type": "code",
   "execution_count": 1,
   "metadata": {},
   "outputs": [],
   "source": [
    "from histimator.models import HistiModel, HistiChannel, HistiSample\n",
    "from histimator.estimator import BinnedLH"
   ]
  },
  {
   "cell_type": "code",
   "execution_count": 2,
   "metadata": {},
   "outputs": [],
   "source": [
    "from scipy.optimize import minimize\n",
    "import numpy as np\n",
    "%matplotlib inline"
   ]
  },
  {
   "cell_type": "markdown",
   "metadata": {},
   "source": [
    "## Testing multiple Regions"
   ]
  },
  {
   "cell_type": "code",
   "execution_count": 3,
   "metadata": {},
   "outputs": [],
   "source": [
    "hist_1 = np.asarray([1,2,3,4])\n",
    "hist_2 = np.asarray([5,5,5,5])\n",
    "hist_3 = np.asarray([3,4,5,4])\n",
    "bins_1 = np.asarray([0,1,2,3,4])\n",
    "bins_2 = np.asarray([0,1,2])\n",
    "bins_3 = np.asarray([0,1,2,3,4,5,6,7,8])"
   ]
  },
  {
   "cell_type": "code",
   "execution_count": 4,
   "metadata": {},
   "outputs": [],
   "source": [
    "m = HistiModel('model')\n",
    "signal_1 = HistiSample('signal')\n",
    "signal_1.SetHisto((hist_1,bins_1))\n",
    "signal_1.AddNorm(\"SigXSecOverSM\",1.0,0,3)\n",
    "background_1 = HistiSample('background1')\n",
    "background_1.SetHisto((hist_2,bins_1))\n",
    "background_1.AddOverallSys(\"BackgroundNormSyst1\",0.9,1.1)\n",
    "background_2 = HistiSample('background1')\n",
    "background_2.SetHisto((hist_3,bins_1))\n",
    "background_2.AddOverallSys(\"BackgroundNormSyst2\",0.7,1.3)"
   ]
  },
  {
   "cell_type": "code",
   "execution_count": 5,
   "metadata": {},
   "outputs": [],
   "source": [
    "chan1 = HistiChannel(\"SR\")\n",
    "chan1.AddSample(signal_1)\n",
    "chan1.AddSample(background_1)\n",
    "chan1.AddSample(background_2)"
   ]
  },
  {
   "cell_type": "code",
   "execution_count": 6,
   "metadata": {},
   "outputs": [],
   "source": [
    "data1 = hist_1*2 +hist_2 +hist_3\n",
    "\n",
    "chan1.SetData(data1)\n",
    "m.AddChannel(chan1)"
   ]
  },
  {
   "cell_type": "code",
   "execution_count": 7,
   "metadata": {},
   "outputs": [
    {
     "data": {
      "text/plain": [
       "<histimator.pdfs.HistiAddPdf instance at 0x108ec05f0>"
      ]
     },
     "execution_count": 7,
     "metadata": {},
     "output_type": "execute_result"
    }
   ],
   "source": [
    "m.pdf"
   ]
  },
  {
   "cell_type": "code",
   "execution_count": 8,
   "metadata": {},
   "outputs": [
    {
     "name": "stdout",
     "output_type": "stream",
     "text": [
      "[1.0, 0.60000000000000009, 0.20000000000000007]\n",
      "[  1.99999824e+00   3.65847652e-06   1.91385133e-06]\n"
     ]
    }
   ],
   "source": [
    "blh = BinnedLH(m, minimiser='scipy')\n",
    "params = m.Parameters('scipy')\n",
    "print params\n",
    "minimiser = minimize(blh, params, method='bfgs')\n",
    "print minimiser.x"
   ]
  },
  {
   "cell_type": "code",
   "execution_count": 9,
   "metadata": {},
   "outputs": [],
   "source": [
    "signal_1 = HistiSample('signal')\n",
    "signal_1.SetHisto((hist_1[:2],bins_2))\n",
    "signal_1.AddNorm(\"SigXSecOverSM\",1.0,0,3)\n",
    "background_1 = HistiSample('background1')\n",
    "background_1.SetHisto((hist_2[:2],bins_2))\n",
    "background_1.AddOverallSys(\"BackgroundNormSyst1\",0.9,1.1)\n",
    "background_2 = HistiSample('background1')\n",
    "background_2.SetHisto((hist_3[:2],bins_2))\n",
    "background_2.AddOverallSys(\"BackgroundNormSyst3\",0.7,1.3)"
   ]
  },
  {
   "cell_type": "code",
   "execution_count": 10,
   "metadata": {},
   "outputs": [],
   "source": [
    "chan2 = HistiChannel(\"CR1\")\n",
    "chan2.AddSample(signal_1)\n",
    "chan2.AddSample(background_1)\n",
    "chan2.AddSample(background_2)"
   ]
  },
  {
   "cell_type": "code",
   "execution_count": 11,
   "metadata": {},
   "outputs": [],
   "source": [
    "data2 = hist_1[:2]*2 +hist_2[:2] +hist_3[:2]\n",
    "\n",
    "chan2.SetData(data2)\n",
    "m.AddChannel(chan2)"
   ]
  },
  {
   "cell_type": "code",
   "execution_count": 12,
   "metadata": {},
   "outputs": [
    {
     "name": "stdout",
     "output_type": "stream",
     "text": [
      "[1.0, 0.60000000000000009, 0.60000000000000009, 0.20000000000000007]\n",
      "[  2.00002581e+00   2.63602508e-04  -1.32532944e-04   2.00000000e-01]\n"
     ]
    }
   ],
   "source": [
    "blh = BinnedLH(m, minimiser='scipy')\n",
    "params = m.Parameters('scipy')\n",
    "print params\n",
    "minimiser = minimize(blh, params, method='bfgs')\n",
    "print minimiser.x"
   ]
  },
  {
   "cell_type": "code",
   "execution_count": 13,
   "metadata": {},
   "outputs": [],
   "source": [
    "signal_1 = HistiSample('signal')\n",
    "signal_1.SetHisto((np.hstack([hist_1,np.flip(hist_1,0)]),bins_3))\n",
    "signal_1.AddNorm(\"SigXSecOverSM\",1.0,0,3)\n",
    "background_1 = HistiSample('background1')\n",
    "background_1.SetHisto((np.hstack([hist_2,hist_2]),bins_3))\n",
    "background_1.AddOverallSys(\"BackgroundNormSyst1\",0.9,1.1)\n",
    "background_2 = HistiSample('background1')\n",
    "background_2.SetHisto((np.hstack([hist_3,hist_3]),bins_3))\n",
    "background_2.AddOverallSys(\"BackgroundNormSyst2\",0.7,1.3)"
   ]
  },
  {
   "cell_type": "code",
   "execution_count": 14,
   "metadata": {},
   "outputs": [],
   "source": [
    "chan3 = HistiChannel(\"CR2\")\n",
    "chan3.AddSample(signal_1)\n",
    "chan3.AddSample(background_1)\n",
    "chan3.AddSample(background_2)"
   ]
  },
  {
   "cell_type": "code",
   "execution_count": 15,
   "metadata": {},
   "outputs": [],
   "source": [
    "data3 = np.hstack([hist_1,np.flip(hist_1,0)])*2 + np.hstack([hist_2,hist_2]) + np.hstack([hist_3,hist_3])\n",
    "\n",
    "chan3.SetData(data3)\n",
    "m.AddChannel(chan3)"
   ]
  },
  {
   "cell_type": "code",
   "execution_count": 16,
   "metadata": {},
   "outputs": [
    {
     "name": "stdout",
     "output_type": "stream",
     "text": [
      "[1.0, 0.60000000000000009, 0.60000000000000009, 0.20000000000000007]\n",
      "[  2.00000244e+00  -3.62549878e-05   1.57895349e-05   2.00000000e-01]\n"
     ]
    }
   ],
   "source": [
    "blh = BinnedLH(m, minimiser='scipy')\n",
    "params = m.Parameters('scipy')\n",
    "print params\n",
    "minimiser = minimize(blh, params, method='bfgs')\n",
    "print minimiser.x"
   ]
  },
  {
   "cell_type": "markdown",
   "metadata": {},
   "source": [
    "# Testing big models"
   ]
  },
  {
   "cell_type": "code",
   "execution_count": 17,
   "metadata": {},
   "outputs": [],
   "source": [
    "hist_1 = np.linspace(1,100,100)\n",
    "hist_2 = np.ones(100)*50\n",
    "hist_3 = np.ones(100)*25\n",
    "bins_1 = np.linspace(0,100,101)\n",
    "bins_2 = np.linspace(0,50,51)\n",
    "bins_3 = np.asarray([0,1,2,3,4,5,6,7,8])"
   ]
  },
  {
   "cell_type": "code",
   "execution_count": 18,
   "metadata": {},
   "outputs": [],
   "source": [
    "m = HistiModel('model')\n",
    "signal_1 = HistiSample('signal')\n",
    "signal_1.SetHisto((hist_1,bins_1))\n",
    "signal_1.AddNorm(\"SigXSecOverSM\",1.0,0,3)\n",
    "background_1 = HistiSample('background1')\n",
    "background_1.SetHisto((hist_2,bins_1))\n",
    "background_1.AddOverallSys(\"BackgroundNormSyst1\",0.9,1.1)\n",
    "background_2 = HistiSample('background1')\n",
    "background_2.SetHisto((hist_3,bins_1))\n",
    "background_2.AddOverallSys(\"BackgroundNormSyst2\",0.7,1.3)\n",
    "background_3 = HistiSample('background3')\n",
    "background_3.SetHisto((hist_2,bins_1))\n",
    "up = hist_2 + hist_1*0.1\n",
    "down = hist_2 - hist_1*0.1\n",
    "background_3.AddHistoSys(\"BackgroundNormSyst3\",down,up)"
   ]
  },
  {
   "cell_type": "code",
   "execution_count": 19,
   "metadata": {},
   "outputs": [],
   "source": [
    "chan1 = HistiChannel(\"SR\")\n",
    "chan1.AddSample(signal_1)\n",
    "chan1.AddSample(background_1)\n",
    "chan1.AddSample(background_2)\n",
    "chan1.AddSample(background_3)\n",
    "data1 = hist_1*2 +hist_2*2 +hist_3*2\n",
    "\n",
    "chan1.SetData(data1)\n",
    "m.AddChannel(chan1)"
   ]
  },
  {
   "cell_type": "code",
   "execution_count": 20,
   "metadata": {},
   "outputs": [
    {
     "name": "stdout",
     "output_type": "stream",
     "text": [
      "[1.0, 0.60000000000000009, 10.1, 0.20000000000000007]\n",
      "[ 0.55507401  0.55083931  9.19563134  0.15708834]\n"
     ]
    }
   ],
   "source": [
    "blh = BinnedLH(m, minimiser='scipy')\n",
    "params = m.Parameters('scipy')\n",
    "print params\n",
    "minimiser = minimize(blh, params, method='bfgs')\n",
    "print minimiser.x"
   ]
  },
  {
   "cell_type": "code",
   "execution_count": 21,
   "metadata": {},
   "outputs": [],
   "source": [
    "m = HistiModel('model')\n",
    "m.AddChannel(chan1)"
   ]
  },
  {
   "cell_type": "code",
   "execution_count": 22,
   "metadata": {},
   "outputs": [],
   "source": [
    "signal_1 = HistiSample('signal')\n",
    "signal_1.SetHisto((hist_1[:50],bins_2))\n",
    "signal_1.AddNorm(\"SigXSecOverSM\",1.0,0,3)\n",
    "background_1 = HistiSample('background1')\n",
    "background_1.SetHisto((hist_2[:50]*.1,bins_2))\n",
    "background_1.AddOverallSys(\"BackgroundNormSyst1\",0.95,1.05)\n",
    "background_2 = HistiSample('background1')\n",
    "background_2.SetHisto((hist_3[:50],bins_2))\n",
    "background_2.AddOverallSys(\"BackgroundNormSyst2\",0.7,1.3)\n",
    "background_3 = HistiSample('background3')\n",
    "background_3.SetHisto((hist_2[:50],bins_2))\n",
    "up = hist_2[:50] + np.flip(hist_1,0)[:50]*0.1\n",
    "down = hist_2[:50] - np.flip(hist_1,0)[:50]*0.1\n",
    "background_3.AddHistoSys(\"BackgroundHistoSyst4\",down,up)"
   ]
  },
  {
   "cell_type": "code",
   "execution_count": 23,
   "metadata": {},
   "outputs": [],
   "source": [
    "chan2 = HistiChannel(\"CR1\")\n",
    "chan2.AddSample(signal_1)\n",
    "chan2.AddSample(background_1)\n",
    "chan2.AddSample(background_2)\n",
    "#chan2.AddSample(background_3)\n",
    "data2 = hist_1*.2 +hist_2*2 +hist_3*2\n",
    "\n",
    "chan2.SetData(data2[:50])\n",
    "m.AddChannel(chan1)"
   ]
  },
  {
   "cell_type": "code",
   "execution_count": 24,
   "metadata": {},
   "outputs": [
    {
     "name": "stdout",
     "output_type": "stream",
     "text": [
      "[1.0, 0.60000000000000009, 10.1, 0.20000000000000007]\n",
      "[ 0.55507402  0.55083931  9.19563133  0.15708834]\n"
     ]
    }
   ],
   "source": [
    "blh = BinnedLH(m, minimiser='scipy')\n",
    "params = m.Parameters('scipy')\n",
    "print params\n",
    "minimiser = minimize(blh, params, method='bfgs')\n",
    "print minimiser.x"
   ]
  },
  {
   "cell_type": "code",
   "execution_count": null,
   "metadata": {},
   "outputs": [],
   "source": []
  }
 ],
 "metadata": {
  "kernelspec": {
   "display_name": "Python 2",
   "language": "python",
   "name": "python2"
  },
  "language_info": {
   "codemirror_mode": {
    "name": "ipython",
    "version": 2
   },
   "file_extension": ".py",
   "mimetype": "text/x-python",
   "name": "python",
   "nbconvert_exporter": "python",
   "pygments_lexer": "ipython2",
   "version": "2.7.13"
  }
 },
 "nbformat": 4,
 "nbformat_minor": 2
}
